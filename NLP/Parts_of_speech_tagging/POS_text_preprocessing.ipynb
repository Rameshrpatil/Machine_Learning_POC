{
 "cells": [
  {
   "cell_type": "code",
   "execution_count": 4,
   "metadata": {},
   "outputs": [],
   "source": [
    "import spacy"
   ]
  },
  {
   "cell_type": "code",
   "execution_count": 6,
   "metadata": {},
   "outputs": [],
   "source": [
    "nlp = spacy.load(\"en_core_web_sm\")"
   ]
  },
  {
   "cell_type": "code",
   "execution_count": 7,
   "metadata": {},
   "outputs": [],
   "source": [
    "def pos_tagging(text):\n",
    "    doc = nlp(text)\n",
    "    pos_tags = [(token.text, token.pos_, token.tag_) for token in doc]\n",
    "    return pos_tags"
   ]
  },
  {
   "cell_type": "code",
   "execution_count": 10,
   "metadata": {},
   "outputs": [],
   "source": [
    "text = \"Organizations can use NLP to process communications that include email, SMS, audio, video, newsfeeds and social media. NLP is the driving force behind AI in many modern real-world applications. Here are a few examples:\""
   ]
  },
  {
   "cell_type": "code",
   "execution_count": 11,
   "metadata": {},
   "outputs": [
    {
     "name": "stdout",
     "output_type": "stream",
     "text": [
      "Organizations: NOUN (NNS)\n",
      "can: AUX (MD)\n",
      "use: VERB (VB)\n",
      "NLP: NOUN (NN)\n",
      "to: PART (TO)\n",
      "process: VERB (VB)\n",
      "communications: NOUN (NNS)\n",
      "that: PRON (WDT)\n",
      "include: VERB (VBP)\n",
      "email: NOUN (NN)\n",
      ",: PUNCT (,)\n",
      "SMS: PROPN (NNP)\n",
      ",: PUNCT (,)\n",
      "audio: NOUN (NN)\n",
      ",: PUNCT (,)\n",
      "video: NOUN (NN)\n",
      ",: PUNCT (,)\n",
      "newsfeeds: NOUN (NNS)\n",
      "and: CCONJ (CC)\n",
      "social: ADJ (JJ)\n",
      "media: NOUN (NNS)\n",
      ".: PUNCT (.)\n",
      "NLP: PROPN (NNP)\n",
      "is: AUX (VBZ)\n",
      "the: DET (DT)\n",
      "driving: VERB (VBG)\n",
      "force: NOUN (NN)\n",
      "behind: ADP (IN)\n",
      "AI: PROPN (NNP)\n",
      "in: ADP (IN)\n",
      "many: ADJ (JJ)\n",
      "modern: ADJ (JJ)\n",
      "real: ADJ (JJ)\n",
      "-: PUNCT (HYPH)\n",
      "world: NOUN (NN)\n",
      "applications: NOUN (NNS)\n",
      ".: PUNCT (.)\n",
      "Here: ADV (RB)\n",
      "are: AUX (VBP)\n",
      "a: DET (DT)\n",
      "few: ADJ (JJ)\n",
      "examples: NOUN (NNS)\n",
      ":: PUNCT (:)\n"
     ]
    }
   ],
   "source": [
    "pos_tags = pos_tagging(text)\n",
    "for word, pos, tag in pos_tags:\n",
    "    print(f\"{word}: {pos} ({tag})\")"
   ]
  },
  {
   "cell_type": "code",
   "execution_count": null,
   "metadata": {},
   "outputs": [],
   "source": []
  }
 ],
 "metadata": {
  "kernelspec": {
   "display_name": "Python 3",
   "language": "python",
   "name": "python3"
  },
  "language_info": {
   "codemirror_mode": {
    "name": "ipython",
    "version": 3
   },
   "file_extension": ".py",
   "mimetype": "text/x-python",
   "name": "python",
   "nbconvert_exporter": "python",
   "pygments_lexer": "ipython3",
   "version": "3.12.3"
  }
 },
 "nbformat": 4,
 "nbformat_minor": 2
}

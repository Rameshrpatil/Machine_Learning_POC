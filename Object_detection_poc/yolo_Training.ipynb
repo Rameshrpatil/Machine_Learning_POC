{
  "nbformat": 4,
  "nbformat_minor": 0,
  "metadata": {
    "colab": {
      "provenance": [],
      "gpuType": "T4"
    },
    "kernelspec": {
      "name": "python3",
      "display_name": "Python 3"
    },
    "language_info": {
      "name": "python"
    },
    "accelerator": "GPU"
  },
  "cells": [
    {
      "cell_type": "code",
      "execution_count": null,
      "metadata": {
        "colab": {
          "base_uri": "https://localhost:8080/",
          "height": 73
        },
        "id": "vMWcWqpsnTt-",
        "outputId": "cb60c33b-0eb2-435c-8ed1-0c8843265c17"
      },
      "outputs": [
        {
          "output_type": "display_data",
          "data": {
            "text/plain": [
              "<IPython.core.display.HTML object>"
            ],
            "text/html": [
              "\n",
              "     <input type=\"file\" id=\"files-13d8f704-fe0a-46d9-ba4b-ac67fefcd363\" name=\"files[]\" multiple disabled\n",
              "        style=\"border:none\" />\n",
              "     <output id=\"result-13d8f704-fe0a-46d9-ba4b-ac67fefcd363\">\n",
              "      Upload widget is only available when the cell has been executed in the\n",
              "      current browser session. Please rerun this cell to enable.\n",
              "      </output>\n",
              "      <script>// Copyright 2017 Google LLC\n",
              "//\n",
              "// Licensed under the Apache License, Version 2.0 (the \"License\");\n",
              "// you may not use this file except in compliance with the License.\n",
              "// You may obtain a copy of the License at\n",
              "//\n",
              "//      http://www.apache.org/licenses/LICENSE-2.0\n",
              "//\n",
              "// Unless required by applicable law or agreed to in writing, software\n",
              "// distributed under the License is distributed on an \"AS IS\" BASIS,\n",
              "// WITHOUT WARRANTIES OR CONDITIONS OF ANY KIND, either express or implied.\n",
              "// See the License for the specific language governing permissions and\n",
              "// limitations under the License.\n",
              "\n",
              "/**\n",
              " * @fileoverview Helpers for google.colab Python module.\n",
              " */\n",
              "(function(scope) {\n",
              "function span(text, styleAttributes = {}) {\n",
              "  const element = document.createElement('span');\n",
              "  element.textContent = text;\n",
              "  for (const key of Object.keys(styleAttributes)) {\n",
              "    element.style[key] = styleAttributes[key];\n",
              "  }\n",
              "  return element;\n",
              "}\n",
              "\n",
              "// Max number of bytes which will be uploaded at a time.\n",
              "const MAX_PAYLOAD_SIZE = 100 * 1024;\n",
              "\n",
              "function _uploadFiles(inputId, outputId) {\n",
              "  const steps = uploadFilesStep(inputId, outputId);\n",
              "  const outputElement = document.getElementById(outputId);\n",
              "  // Cache steps on the outputElement to make it available for the next call\n",
              "  // to uploadFilesContinue from Python.\n",
              "  outputElement.steps = steps;\n",
              "\n",
              "  return _uploadFilesContinue(outputId);\n",
              "}\n",
              "\n",
              "// This is roughly an async generator (not supported in the browser yet),\n",
              "// where there are multiple asynchronous steps and the Python side is going\n",
              "// to poll for completion of each step.\n",
              "// This uses a Promise to block the python side on completion of each step,\n",
              "// then passes the result of the previous step as the input to the next step.\n",
              "function _uploadFilesContinue(outputId) {\n",
              "  const outputElement = document.getElementById(outputId);\n",
              "  const steps = outputElement.steps;\n",
              "\n",
              "  const next = steps.next(outputElement.lastPromiseValue);\n",
              "  return Promise.resolve(next.value.promise).then((value) => {\n",
              "    // Cache the last promise value to make it available to the next\n",
              "    // step of the generator.\n",
              "    outputElement.lastPromiseValue = value;\n",
              "    return next.value.response;\n",
              "  });\n",
              "}\n",
              "\n",
              "/**\n",
              " * Generator function which is called between each async step of the upload\n",
              " * process.\n",
              " * @param {string} inputId Element ID of the input file picker element.\n",
              " * @param {string} outputId Element ID of the output display.\n",
              " * @return {!Iterable<!Object>} Iterable of next steps.\n",
              " */\n",
              "function* uploadFilesStep(inputId, outputId) {\n",
              "  const inputElement = document.getElementById(inputId);\n",
              "  inputElement.disabled = false;\n",
              "\n",
              "  const outputElement = document.getElementById(outputId);\n",
              "  outputElement.innerHTML = '';\n",
              "\n",
              "  const pickedPromise = new Promise((resolve) => {\n",
              "    inputElement.addEventListener('change', (e) => {\n",
              "      resolve(e.target.files);\n",
              "    });\n",
              "  });\n",
              "\n",
              "  const cancel = document.createElement('button');\n",
              "  inputElement.parentElement.appendChild(cancel);\n",
              "  cancel.textContent = 'Cancel upload';\n",
              "  const cancelPromise = new Promise((resolve) => {\n",
              "    cancel.onclick = () => {\n",
              "      resolve(null);\n",
              "    };\n",
              "  });\n",
              "\n",
              "  // Wait for the user to pick the files.\n",
              "  const files = yield {\n",
              "    promise: Promise.race([pickedPromise, cancelPromise]),\n",
              "    response: {\n",
              "      action: 'starting',\n",
              "    }\n",
              "  };\n",
              "\n",
              "  cancel.remove();\n",
              "\n",
              "  // Disable the input element since further picks are not allowed.\n",
              "  inputElement.disabled = true;\n",
              "\n",
              "  if (!files) {\n",
              "    return {\n",
              "      response: {\n",
              "        action: 'complete',\n",
              "      }\n",
              "    };\n",
              "  }\n",
              "\n",
              "  for (const file of files) {\n",
              "    const li = document.createElement('li');\n",
              "    li.append(span(file.name, {fontWeight: 'bold'}));\n",
              "    li.append(span(\n",
              "        `(${file.type || 'n/a'}) - ${file.size} bytes, ` +\n",
              "        `last modified: ${\n",
              "            file.lastModifiedDate ? file.lastModifiedDate.toLocaleDateString() :\n",
              "                                    'n/a'} - `));\n",
              "    const percent = span('0% done');\n",
              "    li.appendChild(percent);\n",
              "\n",
              "    outputElement.appendChild(li);\n",
              "\n",
              "    const fileDataPromise = new Promise((resolve) => {\n",
              "      const reader = new FileReader();\n",
              "      reader.onload = (e) => {\n",
              "        resolve(e.target.result);\n",
              "      };\n",
              "      reader.readAsArrayBuffer(file);\n",
              "    });\n",
              "    // Wait for the data to be ready.\n",
              "    let fileData = yield {\n",
              "      promise: fileDataPromise,\n",
              "      response: {\n",
              "        action: 'continue',\n",
              "      }\n",
              "    };\n",
              "\n",
              "    // Use a chunked sending to avoid message size limits. See b/62115660.\n",
              "    let position = 0;\n",
              "    do {\n",
              "      const length = Math.min(fileData.byteLength - position, MAX_PAYLOAD_SIZE);\n",
              "      const chunk = new Uint8Array(fileData, position, length);\n",
              "      position += length;\n",
              "\n",
              "      const base64 = btoa(String.fromCharCode.apply(null, chunk));\n",
              "      yield {\n",
              "        response: {\n",
              "          action: 'append',\n",
              "          file: file.name,\n",
              "          data: base64,\n",
              "        },\n",
              "      };\n",
              "\n",
              "      let percentDone = fileData.byteLength === 0 ?\n",
              "          100 :\n",
              "          Math.round((position / fileData.byteLength) * 100);\n",
              "      percent.textContent = `${percentDone}% done`;\n",
              "\n",
              "    } while (position < fileData.byteLength);\n",
              "  }\n",
              "\n",
              "  // All done.\n",
              "  yield {\n",
              "    response: {\n",
              "      action: 'complete',\n",
              "    }\n",
              "  };\n",
              "}\n",
              "\n",
              "scope.google = scope.google || {};\n",
              "scope.google.colab = scope.google.colab || {};\n",
              "scope.google.colab._files = {\n",
              "  _uploadFiles,\n",
              "  _uploadFilesContinue,\n",
              "};\n",
              "})(self);\n",
              "</script> "
            ]
          },
          "metadata": {}
        },
        {
          "output_type": "stream",
          "name": "stdout",
          "text": [
            "Saving Study desk items.v2i.yolov8.zip to Study desk items.v2i.yolov8.zip\n"
          ]
        }
      ],
      "source": [
        "from google.colab import files\n",
        "uploadded = files.upload()"
      ]
    },
    {
      "cell_type": "code",
      "source": [
        "!unzip '/content/Study desk items.v2i.yolov8.zip'"
      ],
      "metadata": {
        "colab": {
          "base_uri": "https://localhost:8080/"
        },
        "id": "5BVj_kCTnilN",
        "outputId": "3a2767ac-8135-4255-920d-3d9593d639c9"
      },
      "execution_count": null,
      "outputs": [
        {
          "output_type": "stream",
          "name": "stdout",
          "text": [
            "Archive:  /content/Study desk items.v2i.yolov8.zip\n",
            " extracting: README.dataset.txt      \n",
            " extracting: README.roboflow.txt     \n",
            " extracting: data.yaml               \n",
            "   creating: test/\n",
            "   creating: test/images/\n",
            " extracting: test/images/IMG_1426_JPG.rf.a522edd21bb2167bfd9f4c2083dc4c68.jpg  \n",
            " extracting: test/images/IMG_1431_JPG.rf.d39c5d20c200c46806c777964bf0bcb6.jpg  \n",
            " extracting: test/images/IMG_1453_JPG.rf.f003b08e989f2a976d582233e2bff215.jpg  \n",
            " extracting: test/images/IMG_1454_JPG.rf.48721fdad33d94da0c778903761377cd.jpg  \n",
            " extracting: test/images/IMG_1506_JPG.rf.17a25fa07758d3cbee827d3155948554.jpg  \n",
            " extracting: test/images/IMG_1511_JPG.rf.2a3ff144c6d19077d410d933db1148d7.jpg  \n",
            " extracting: test/images/IMG_1515_JPG.rf.bf994f912f9a4f7d4b5d3824dd4b437d.jpg  \n",
            " extracting: test/images/IMG_1527_JPG.rf.dd33f15d4f14b6c471a26516d1e5dd0f.jpg  \n",
            " extracting: test/images/IMG_1591_JPG.rf.bb6cb8f2978a6f1e15d93725aaca76c2.jpg  \n",
            " extracting: test/images/IMG_1598_JPG.rf.224884cf5f925f7d68a1fe074fe46bc2.jpg  \n",
            " extracting: test/images/IMG_1614_JPG.rf.344d9cdf3685a58f8f28e2ecadd6d0b6.jpg  \n",
            " extracting: test/images/IMG_1617_JPG.rf.f6abc33bca5617417381f29759be9b88.jpg  \n",
            " extracting: test/images/IMG_1680_JPG.rf.952620b2f78210dd0b718c23fb4dda57.jpg  \n",
            " extracting: test/images/IMG_1688_JPG.rf.dbcf4f67e477b7c11bee88d4b9335aec.jpg  \n",
            " extracting: test/images/IMG_1696_JPG.rf.25f3339e1a1bdc5a77facbb15bf4fa72.jpg  \n",
            " extracting: test/images/IMG_1730_JPG.rf.79c5882273e0c1f30d6777311aad2153.jpg  \n",
            " extracting: test/images/IMG_1732_JPG.rf.1a7d4d20a796888685cd1a2e79fdc2cb.jpg  \n",
            " extracting: test/images/IMG_1775_JPG.rf.a92a39f52f99ca7d52f72971fec6a344.jpg  \n",
            " extracting: test/images/IMG_1782_JPG.rf.ebb92323a5422d3075ecdaa0093dc3ed.jpg  \n",
            " extracting: test/images/IMG_1835_JPG.rf.acbbf5bd17370417b0ba69fa0a742b75.jpg  \n",
            " extracting: test/images/IMG_1847_JPG.rf.f63791bed386ba4644c42d8f42249dcf.jpg  \n",
            " extracting: test/images/IMG_1892_JPG.rf.3d695a267a7274f7974a584ff9588000.jpg  \n",
            " extracting: test/images/IMG_1893_JPG.rf.de791464a66071c34b8b0f3fa6c3a909.jpg  \n",
            " extracting: test/images/IMG_1909_JPG.rf.1349c0474960bb18248a41e07fa53d9e.jpg  \n",
            " extracting: test/images/IMG_1917_JPG.rf.77c6f247dc53d793dca9dca7f4d287d9.jpg  \n",
            " extracting: test/images/IMG_1929_JPG.rf.230e98f02f47f91ed3283bb15bbd14d6.jpg  \n",
            " extracting: test/images/IMG_1978_JPG.rf.eab159f4ec917612743f9087b1a2439b.jpg  \n",
            " extracting: test/images/IMG_1983_JPG.rf.b5a9a1740ec3d10c73281b9731145057.jpg  \n",
            " extracting: test/images/IMG_2021_JPG.rf.26f6b01e0e23c3e2728726f858c198fb.jpg  \n",
            " extracting: test/images/IMG_2028_JPG.rf.7f0d937341833791bead5b096a74a37d.jpg  \n",
            " extracting: test/images/IMG_2084_JPG.rf.2b17d7e7782dcc0b674ad775abde50b0.jpg  \n",
            " extracting: test/images/IMG_2087_JPG.rf.4d8eeccbf1bb2e24854bdd8c759b9e06.jpg  \n",
            " extracting: test/images/IMG_2134_JPG.rf.a0cdace4adad10121362cf1adaa73425.jpg  \n",
            " extracting: test/images/IMG_2192_JPG.rf.1251a8a1f06b249d078dfcf94ae42eb6.jpg  \n",
            " extracting: test/images/IMG_2201_JPG.rf.2738d8445476336576f842a9e4dd58bd.jpg  \n",
            " extracting: test/images/IMG_2211_JPG.rf.c5077df0cc4ce339cf99303f991f324d.jpg  \n",
            " extracting: test/images/IMG_2238_JPG.rf.78dc7639325e29b9d4ef5e9cda701fb6.jpg  \n",
            " extracting: test/images/IMG_2318_JPG.rf.0c56e8d38eeadc48096dfcbedbfb3a60.jpg  \n",
            " extracting: test/images/IMG_2334_JPG.rf.9e2fec368f915ca5ad177a1017099711.jpg  \n",
            " extracting: test/images/IMG_2338_JPG.rf.d16116f9e04653999dc7b3f7ac2a2a67.jpg  \n",
            " extracting: test/images/IMG_2348_JPG.rf.8678ac420b2c22c4bd470151eb27d15c.jpg  \n",
            " extracting: test/images/IMG_2349_JPG.rf.4baa126795a0619a53cffc630bcc1bd1.jpg  \n",
            " extracting: test/images/IMG_2373_JPG.rf.b82f940bda1b342bad51147140ae9adc.jpg  \n",
            " extracting: test/images/IMG_2388_JPG.rf.16c3424a06f209ee2d153ac7b3165cd4.jpg  \n",
            " extracting: test/images/IMG_2418_JPG.rf.a22a14ab4a672ae0c346507a2465469a.jpg  \n",
            " extracting: test/images/IMG_2421_JPG.rf.61c0dccf93022b97375ebd2a20c5c764.jpg  \n",
            " extracting: test/images/IMG_2431_JPG.rf.b35a757fba053fcb1d0f1c4680711f88.jpg  \n",
            " extracting: test/images/IMG_2433_JPG.rf.a5e54b15664dcf8f0fa703f9f6459435.jpg  \n",
            " extracting: test/images/IMG_2454_JPG.rf.16e8c99c7b432a81d93651e4e4ca94aa.jpg  \n",
            " extracting: test/images/IMG_2471_JPG.rf.30096f39b1350d5355ca9da1dd594786.jpg  \n",
            " extracting: test/images/IMG_2472_JPG.rf.ecd32eaca7002b28fcb7e7431b5ed07f.jpg  \n",
            " extracting: test/images/IMG_2521_JPG.rf.591c92c539d03db4fdab21c3e976b7b0.jpg  \n",
            " extracting: test/images/IMG_2528_JPG.rf.dc86f0b6abc465674e43683e82bb0069.jpg  \n",
            " extracting: test/images/IMG_2547_JPG.rf.052a2154db3bf05946d6d462a959af87.jpg  \n",
            " extracting: test/images/IMG_2574_JPG.rf.ae27fdda81c6f742d685dced108056e7.jpg  \n",
            " extracting: test/images/IMG_2612_JPG.rf.c069419417938cea1b9df149ad04f3fb.jpg  \n",
            " extracting: test/images/IMG_2617_JPG.rf.bfdc4a520c83be7a10b04090d043ca49.jpg  \n",
            " extracting: test/images/IMG_2629_JPG.rf.d7b911a55eae6837f89c1faa81544cfe.jpg  \n",
            " extracting: test/images/IMG_2645_JPG.rf.ea5b21d3ab1e21690c22798a4d700128.jpg  \n",
            " extracting: test/images/IMG_2718_JPG.rf.430efe469517fadc3f9f66abd477cda6.jpg  \n",
            "   creating: test/labels/\n",
            " extracting: test/labels/IMG_1426_JPG.rf.a522edd21bb2167bfd9f4c2083dc4c68.txt  \n",
            " extracting: test/labels/IMG_1431_JPG.rf.d39c5d20c200c46806c777964bf0bcb6.txt  \n",
            " extracting: test/labels/IMG_1453_JPG.rf.f003b08e989f2a976d582233e2bff215.txt  \n",
            " extracting: test/labels/IMG_1454_JPG.rf.48721fdad33d94da0c778903761377cd.txt  \n",
            " extracting: test/labels/IMG_1506_JPG.rf.17a25fa07758d3cbee827d3155948554.txt  \n",
            " extracting: test/labels/IMG_1511_JPG.rf.2a3ff144c6d19077d410d933db1148d7.txt  \n",
            " extracting: test/labels/IMG_1515_JPG.rf.bf994f912f9a4f7d4b5d3824dd4b437d.txt  \n",
            " extracting: test/labels/IMG_1527_JPG.rf.dd33f15d4f14b6c471a26516d1e5dd0f.txt  \n",
            " extracting: test/labels/IMG_1591_JPG.rf.bb6cb8f2978a6f1e15d93725aaca76c2.txt  \n",
            " extracting: test/labels/IMG_1598_JPG.rf.224884cf5f925f7d68a1fe074fe46bc2.txt  \n",
            " extracting: test/labels/IMG_1614_JPG.rf.344d9cdf3685a58f8f28e2ecadd6d0b6.txt  \n",
            " extracting: test/labels/IMG_1617_JPG.rf.f6abc33bca5617417381f29759be9b88.txt  \n",
            " extracting: test/labels/IMG_1680_JPG.rf.952620b2f78210dd0b718c23fb4dda57.txt  \n",
            " extracting: test/labels/IMG_1688_JPG.rf.dbcf4f67e477b7c11bee88d4b9335aec.txt  \n",
            " extracting: test/labels/IMG_1696_JPG.rf.25f3339e1a1bdc5a77facbb15bf4fa72.txt  \n",
            " extracting: test/labels/IMG_1730_JPG.rf.79c5882273e0c1f30d6777311aad2153.txt  \n",
            " extracting: test/labels/IMG_1732_JPG.rf.1a7d4d20a796888685cd1a2e79fdc2cb.txt  \n",
            " extracting: test/labels/IMG_1775_JPG.rf.a92a39f52f99ca7d52f72971fec6a344.txt  \n",
            " extracting: test/labels/IMG_1782_JPG.rf.ebb92323a5422d3075ecdaa0093dc3ed.txt  \n",
            " extracting: test/labels/IMG_1835_JPG.rf.acbbf5bd17370417b0ba69fa0a742b75.txt  \n",
            " extracting: test/labels/IMG_1847_JPG.rf.f63791bed386ba4644c42d8f42249dcf.txt  \n",
            " extracting: test/labels/IMG_1892_JPG.rf.3d695a267a7274f7974a584ff9588000.txt  \n",
            " extracting: test/labels/IMG_1893_JPG.rf.de791464a66071c34b8b0f3fa6c3a909.txt  \n",
            " extracting: test/labels/IMG_1909_JPG.rf.1349c0474960bb18248a41e07fa53d9e.txt  \n",
            " extracting: test/labels/IMG_1917_JPG.rf.77c6f247dc53d793dca9dca7f4d287d9.txt  \n",
            " extracting: test/labels/IMG_1929_JPG.rf.230e98f02f47f91ed3283bb15bbd14d6.txt  \n",
            " extracting: test/labels/IMG_1978_JPG.rf.eab159f4ec917612743f9087b1a2439b.txt  \n",
            " extracting: test/labels/IMG_1983_JPG.rf.b5a9a1740ec3d10c73281b9731145057.txt  \n",
            " extracting: test/labels/IMG_2021_JPG.rf.26f6b01e0e23c3e2728726f858c198fb.txt  \n",
            " extracting: test/labels/IMG_2028_JPG.rf.7f0d937341833791bead5b096a74a37d.txt  \n",
            " extracting: test/labels/IMG_2084_JPG.rf.2b17d7e7782dcc0b674ad775abde50b0.txt  \n",
            " extracting: test/labels/IMG_2087_JPG.rf.4d8eeccbf1bb2e24854bdd8c759b9e06.txt  \n",
            " extracting: test/labels/IMG_2134_JPG.rf.a0cdace4adad10121362cf1adaa73425.txt  \n",
            " extracting: test/labels/IMG_2192_JPG.rf.1251a8a1f06b249d078dfcf94ae42eb6.txt  \n",
            " extracting: test/labels/IMG_2201_JPG.rf.2738d8445476336576f842a9e4dd58bd.txt  \n",
            " extracting: test/labels/IMG_2211_JPG.rf.c5077df0cc4ce339cf99303f991f324d.txt  \n",
            " extracting: test/labels/IMG_2238_JPG.rf.78dc7639325e29b9d4ef5e9cda701fb6.txt  \n",
            " extracting: test/labels/IMG_2318_JPG.rf.0c56e8d38eeadc48096dfcbedbfb3a60.txt  \n",
            " extracting: test/labels/IMG_2334_JPG.rf.9e2fec368f915ca5ad177a1017099711.txt  \n",
            " extracting: test/labels/IMG_2338_JPG.rf.d16116f9e04653999dc7b3f7ac2a2a67.txt  \n",
            " extracting: test/labels/IMG_2348_JPG.rf.8678ac420b2c22c4bd470151eb27d15c.txt  \n",
            " extracting: test/labels/IMG_2349_JPG.rf.4baa126795a0619a53cffc630bcc1bd1.txt  \n",
            " extracting: test/labels/IMG_2373_JPG.rf.b82f940bda1b342bad51147140ae9adc.txt  \n",
            " extracting: test/labels/IMG_2388_JPG.rf.16c3424a06f209ee2d153ac7b3165cd4.txt  \n",
            " extracting: test/labels/IMG_2418_JPG.rf.a22a14ab4a672ae0c346507a2465469a.txt  \n",
            " extracting: test/labels/IMG_2421_JPG.rf.61c0dccf93022b97375ebd2a20c5c764.txt  \n",
            " extracting: test/labels/IMG_2431_JPG.rf.b35a757fba053fcb1d0f1c4680711f88.txt  \n",
            " extracting: test/labels/IMG_2433_JPG.rf.a5e54b15664dcf8f0fa703f9f6459435.txt  \n",
            " extracting: test/labels/IMG_2454_JPG.rf.16e8c99c7b432a81d93651e4e4ca94aa.txt  \n",
            " extracting: test/labels/IMG_2471_JPG.rf.30096f39b1350d5355ca9da1dd594786.txt  \n",
            " extracting: test/labels/IMG_2472_JPG.rf.ecd32eaca7002b28fcb7e7431b5ed07f.txt  \n",
            " extracting: test/labels/IMG_2521_JPG.rf.591c92c539d03db4fdab21c3e976b7b0.txt  \n",
            " extracting: test/labels/IMG_2528_JPG.rf.dc86f0b6abc465674e43683e82bb0069.txt  \n",
            " extracting: test/labels/IMG_2547_JPG.rf.052a2154db3bf05946d6d462a959af87.txt  \n",
            " extracting: test/labels/IMG_2574_JPG.rf.ae27fdda81c6f742d685dced108056e7.txt  \n",
            " extracting: test/labels/IMG_2612_JPG.rf.c069419417938cea1b9df149ad04f3fb.txt  \n",
            " extracting: test/labels/IMG_2617_JPG.rf.bfdc4a520c83be7a10b04090d043ca49.txt  \n",
            " extracting: test/labels/IMG_2629_JPG.rf.d7b911a55eae6837f89c1faa81544cfe.txt  \n",
            " extracting: test/labels/IMG_2645_JPG.rf.ea5b21d3ab1e21690c22798a4d700128.txt  \n",
            " extracting: test/labels/IMG_2718_JPG.rf.430efe469517fadc3f9f66abd477cda6.txt  \n",
            "   creating: train/\n",
            "   creating: train/images/\n",
            " extracting: train/images/IMG_1322_JPG.rf.50819a00984e20921bbd8c6f528bcba1.jpg  \n",
            " extracting: train/images/IMG_1323_JPG.rf.e953fece967199b3843b3a5d1638c107.jpg  \n",
            " extracting: train/images/IMG_1324_JPG.rf.f03921bdfde685547d134f4d57421966.jpg  \n",
            " extracting: train/images/IMG_1325_JPG.rf.f1da682d73d61645815096d283c9c790.jpg  \n",
            " extracting: train/images/IMG_1326_JPG.rf.7a5b0e44435af17c697039cdcadf710b.jpg  \n",
            " extracting: train/images/IMG_1328_JPG.rf.574726ea579d9503ba04d752993d1d61.jpg  \n",
            " extracting: train/images/IMG_1330_JPG.rf.36ac55f0b51bec4eb68d5a8a0af691b3.jpg  \n",
            " extracting: train/images/IMG_1331_JPG.rf.01c5545ab52576f4ba288145e3d0a1ff.jpg  \n",
            " extracting: train/images/IMG_1332_JPG.rf.efa6274071cccdc65729fbedf66271bd.jpg  \n",
            " extracting: train/images/IMG_1334_JPG.rf.438b2f98ce4662d43846f281129eaf28.jpg  \n",
            " extracting: train/images/IMG_1335_JPG.rf.5b68afde0fbdd1079039363bf75fda6d.jpg  \n",
            " extracting: train/images/IMG_1336_JPG.rf.799e65e5132be00922e12398039ffab4.jpg  \n",
            " extracting: train/images/IMG_1337_JPG.rf.5cca1ebd69b0190e426c2c621219d4fe.jpg  \n",
            " extracting: train/images/IMG_1338_JPG.rf.897bcd734378999db3921b53b453189f.jpg  \n",
            " extracting: train/images/IMG_1339_JPG.rf.286366dfedc9d01474e74b9bec9938b3.jpg  \n",
            " extracting: train/images/IMG_1340_JPG.rf.4f3c4ed06487e8af48e5e6690f906a88.jpg  \n",
            " extracting: train/images/IMG_1342_JPG.rf.900efe60fad44503b597745410e47403.jpg  \n",
            " extracting: train/images/IMG_1343_JPG.rf.0ce77ba23e28d541df91d21ed274e45c.jpg  \n",
            " extracting: train/images/IMG_1344_JPG.rf.ae2086aa32738b6c81e29b2d9e7674da.jpg  \n",
            " extracting: train/images/IMG_1345_JPG.rf.a21be439c4bbeaac44bdf91485056c2b.jpg  \n",
            " extracting: train/images/IMG_1346_JPG.rf.1410fdae59be1244781face891182493.jpg  \n",
            " extracting: train/images/IMG_1347_JPG.rf.ddf09ab8ae99afb16f193835aa9aa7ef.jpg  \n",
            " extracting: train/images/IMG_1348_JPG.rf.cb84961106d3954b5f1959a4a5d570bd.jpg  \n",
            " extracting: train/images/IMG_1359_JPG.rf.1305031c0b8925029b32c1ce6bce1a47.jpg  \n",
            " extracting: train/images/IMG_1360_JPG.rf.c74a6f341d2ffe7817dd92280868a181.jpg  \n",
            " extracting: train/images/IMG_1361_JPG.rf.f6c5ce2d3f3e9da5a4a204f253489836.jpg  \n",
            " extracting: train/images/IMG_1362_JPG.rf.82517759f1e01dedaf675b8a4f7c77a8.jpg  \n",
            " extracting: train/images/IMG_1363_JPG.rf.48f3abf099a57941a54d2a1e1fa27c9c.jpg  \n",
            " extracting: train/images/IMG_1364_JPG.rf.dd06729c49c014684656670ee33263a1.jpg  \n",
            " extracting: train/images/IMG_1365_JPG.rf.bc83de6dc7b440eb5bc4735d120f1a58.jpg  \n",
            " extracting: train/images/IMG_1391_JPG.rf.e175dd0b7b17aa6678b4837a1c081ac2.jpg  \n",
            " extracting: train/images/IMG_1392_JPG.rf.d09cfd967287c0874e57bd5c275a790a.jpg  \n",
            " extracting: train/images/IMG_1393_JPG.rf.ebeb6953e70ed1e3ec0bd60084181c30.jpg  \n",
            " extracting: train/images/IMG_1395_JPG.rf.fec2fbef6870b9a801c267a182ba16d3.jpg  \n",
            " extracting: train/images/IMG_1396_JPG.rf.dea685d09106cef2007e17373a311637.jpg  \n",
            " extracting: train/images/IMG_1397_JPG.rf.84a87b77ccd890c1283ac40e5b153d90.jpg  \n",
            " extracting: train/images/IMG_1398_JPG.rf.0a7873fc8d68125e3f3a094cfdec6953.jpg  \n",
            " extracting: train/images/IMG_1399_JPG.rf.073c8d70070ce17c39f8e4a5ab0464e6.jpg  \n",
            " extracting: train/images/IMG_1402_JPG.rf.152a6f973b0d13aae8c279351a6c31e2.jpg  \n",
            " extracting: train/images/IMG_1403_JPG.rf.d614a189c1dabcc0e62ab6a670411865.jpg  \n",
            " extracting: train/images/IMG_1406_JPG.rf.484e71c3fa08454c4e78f40251d38af6.jpg  \n",
            " extracting: train/images/IMG_1407_JPG.rf.7145eb3fdda947b51ea2591b6b2bbc3d.jpg  \n",
            " extracting: train/images/IMG_1408_JPG.rf.1273bf57632cf1c70b83b5825ebde2d0.jpg  \n",
            " extracting: train/images/IMG_1409_JPG.rf.40e0a4cccc765638f4552a64ff47eadb.jpg  \n",
            " extracting: train/images/IMG_1411_JPG.rf.c811117ac88455d47225c1df75b649ba.jpg  \n",
            " extracting: train/images/IMG_1412_JPG.rf.e8dd161bc6c471d0690a9f394e9e156c.jpg  \n",
            " extracting: train/images/IMG_1413_JPG.rf.07fbe74b9671450434f39268781f1006.jpg  \n",
            " extracting: train/images/IMG_1415_JPG.rf.bb814ff1b37e879f1975a3bf72a6cc1e.jpg  \n",
            " extracting: train/images/IMG_1416_JPG.rf.e2e4e2e621cba4bbc5e6b13fc2acd0fb.jpg  \n",
            " extracting: train/images/IMG_1417_JPG.rf.fa0846bfd8c674ecaec0f8974a2b7574.jpg  \n",
            " extracting: train/images/IMG_1418_JPG.rf.9d20fdd9e6d9b5902f23fa49541689df.jpg  \n",
            " extracting: train/images/IMG_1421_JPG.rf.4c309b85a087f3ac898767c2e8e0ba87.jpg  \n",
            " extracting: train/images/IMG_1423_JPG.rf.b150e78e7458d96fda158734c9825aee.jpg  \n",
            " extracting: train/images/IMG_1424_JPG.rf.6411375b014a08bec7ef3658b0f3c84b.jpg  \n",
            " extracting: train/images/IMG_1425_JPG.rf.3dd04ab1f29284488d435c9452e2e0d0.jpg  \n",
            " extracting: train/images/IMG_1428_JPG.rf.4df4f6e9380626c711581dbaf4db55c7.jpg  \n",
            " extracting: train/images/IMG_1429_JPG.rf.f1cc1461425615e8e387663a59ed1d49.jpg  \n",
            " extracting: train/images/IMG_1430_JPG.rf.2076274e2e2b85d93160578f5a399e5f.jpg  \n",
            " extracting: train/images/IMG_1432_JPG.rf.8ba213c960fda8fe10d7d57d79c6e345.jpg  \n",
            " extracting: train/images/IMG_1433_JPG.rf.205e326b513a39b9f14a5248cac9db04.jpg  \n",
            " extracting: train/images/IMG_1434_JPG.rf.fe698db0e9eb74f433adc4d9b3922984.jpg  \n",
            " extracting: train/images/IMG_1435_JPG.rf.2420208f2db745ccc7cef6307c2bfe25.jpg  \n",
            " extracting: train/images/IMG_1436_JPG.rf.5e61d1677dea6155c95fa0851416f55f.jpg  \n",
            " extracting: train/images/IMG_1437_JPG.rf.d42584e8710192655afa7c0cb6b8a28b.jpg  \n",
            " extracting: train/images/IMG_1438_JPG.rf.3d7c92050ff4f7617e1d6be8c0cd78fc.jpg  \n",
            " extracting: train/images/IMG_1439_JPG.rf.01e8121b676a5190eb657296406def91.jpg  \n",
            " extracting: train/images/IMG_1440_JPG.rf.5d077466502b9a8797e9d971fdc071fd.jpg  \n",
            " extracting: train/images/IMG_1441_JPG.rf.a256a34a403a59f21cae07ebd8764a65.jpg  \n",
            " extracting: train/images/IMG_1442_JPG.rf.f9a755a9c6ef07ed4bfce48ad54d2837.jpg  \n",
            " extracting: train/images/IMG_1443_JPG.rf.c9ee13f3f4ad0fdd65593d3753eda51d.jpg  \n",
            " extracting: train/images/IMG_1444_JPG.rf.c1ad69cdf2debddb42e731ccc0162e96.jpg  \n",
            " extracting: train/images/IMG_1445_JPG.rf.8eeb0e207f65abede89413c7365ca98f.jpg  \n",
            " extracting: train/images/IMG_1446_JPG.rf.6327a04d7b0008d33e34ddeede5feee8.jpg  \n",
            " extracting: train/images/IMG_1447_JPG.rf.706042196a91318e9f0287de675b0d71.jpg  \n",
            " extracting: train/images/IMG_1448_JPG.rf.89301792cf8c5cb07a418d06e103769e.jpg  \n",
            " extracting: train/images/IMG_1449_JPG.rf.3baaa81d05c850c9985ad3151a41e43e.jpg  \n",
            " extracting: train/images/IMG_1452_JPG.rf.cc995487cd90ab5383898e7fa123193e.jpg  \n",
            " extracting: train/images/IMG_1455_JPG.rf.90c8e74d966351c4bc75aae2ccca88db.jpg  \n",
            " extracting: train/images/IMG_1456_JPG.rf.cfdbcef2b938d4639a247f3a29f0d340.jpg  \n",
            " extracting: train/images/IMG_1457_JPG.rf.2f7d0ce7b44624cf0a3816699d1f2a24.jpg  \n",
            " extracting: train/images/IMG_1458_JPG.rf.a7486e2f6551fae056c71bf60416959f.jpg  \n",
            " extracting: train/images/IMG_1459_JPG.rf.3eec718539c86c8e12feba6d8db7b379.jpg  \n",
            " extracting: train/images/IMG_1460_JPG.rf.7f0142010169a4f39ccb404e54da4879.jpg  \n",
            " extracting: train/images/IMG_1461_JPG.rf.b473fb6d28f8407ef34761fd8f559798.jpg  \n",
            " extracting: train/images/IMG_1463_JPG.rf.5e868cf025813cf20b1793153e07bc3e.jpg  \n",
            " extracting: train/images/IMG_1464_JPG.rf.2551d2320ee08172a58c36de07a75c5f.jpg  \n",
            " extracting: train/images/IMG_1474_JPG.rf.6bda01fc15efc5dad967c3b259bd6bbb.jpg  \n",
            " extracting: train/images/IMG_1475_JPG.rf.4f4973150179c5b20929765b490397ae.jpg  \n",
            " extracting: train/images/IMG_1477_JPG.rf.8189e2d8cb7f4c27326727375c66b45f.jpg  \n",
            " extracting: train/images/IMG_1478_JPG.rf.0e00bdb5269c10652a72830bac17fd39.jpg  \n",
            " extracting: train/images/IMG_1479_JPG.rf.83e07b1450733e1480018855443cad5d.jpg  \n",
            " extracting: train/images/IMG_1481_JPG.rf.52fda0434db78d6e08d0046bc3282d0d.jpg  \n",
            " extracting: train/images/IMG_1483_JPG.rf.ebc2b160838d6419e5a6e16bfb52d860.jpg  \n",
            " extracting: train/images/IMG_1484_JPG.rf.2c73c4ed6a80351aceb024d37206c163.jpg  \n",
            " extracting: train/images/IMG_1485_JPG.rf.1e782ded4c9b43d493e4e5732bfc4702.jpg  \n",
            " extracting: train/images/IMG_1486_JPG.rf.5e8da5152b8d5bd5c59b81d2e6c25861.jpg  \n",
            " extracting: train/images/IMG_1487_JPG.rf.b0ef76a1cf38fdc9281e7cd8a65d78bf.jpg  \n",
            " extracting: train/images/IMG_1489_JPG.rf.be745ac04be9329aaf220f6afb854ca8.jpg  \n",
            " extracting: train/images/IMG_1490_JPG.rf.d461172fa6be1eb751bed7046a171ce5.jpg  \n",
            " extracting: train/images/IMG_1492_JPG.rf.14a3fc842a6c68aff5269b9ed9ec4db5.jpg  \n",
            " extracting: train/images/IMG_1493_JPG.rf.2bc0383ba0bd67ad89e11f899fa86d90.jpg  \n",
            " extracting: train/images/IMG_1494_JPG.rf.6acdabc468c1ba70754dad0af42e3512.jpg  \n",
            " extracting: train/images/IMG_1495_JPG.rf.df4209b584458116ac3ad343f6ba0dc5.jpg  \n",
            " extracting: train/images/IMG_1496_JPG.rf.db2a657af5cf355c473d771403089644.jpg  \n",
            " extracting: train/images/IMG_1497_JPG.rf.d45faa00d9bb6a697e03979499a0ef9d.jpg  \n",
            " extracting: train/images/IMG_1498_JPG.rf.6908ea77b3474ae11d88be874ded6f55.jpg  \n",
            " extracting: train/images/IMG_1499_JPG.rf.a9119a64bcc119ceb1b8e2a45b93ef8b.jpg  \n",
            " extracting: train/images/IMG_1500_JPG.rf.859d50a0e72e26168d18375b5279f0f7.jpg  \n",
            " extracting: train/images/IMG_1501_JPG.rf.ddac23847b6c12c3d1cd6266bdf9a7b4.jpg  \n",
            " extracting: train/images/IMG_1503_JPG.rf.7a9ca1120419dc942b4acf3319ba2d96.jpg  \n",
            " extracting: train/images/IMG_1504_JPG.rf.619d6dcec6e04d460a17eda62c15a583.jpg  \n",
            " extracting: train/images/IMG_1505_JPG.rf.2318d3a84cdaba029a143a463ea6a709.jpg  \n",
            " extracting: train/images/IMG_1508_JPG.rf.02c8b8ee24bf09c8a44b34aa703dd61b.jpg  \n",
            " extracting: train/images/IMG_1509_JPG.rf.3ccc1ebdc1203e9b517b7c42f4116123.jpg  \n",
            " extracting: train/images/IMG_1510_JPG.rf.88e7b53e53c3165bcd00b7dfedc43fa2.jpg  \n",
            " extracting: train/images/IMG_1512_JPG.rf.59a0440e4172e9b0930f1397a42b4137.jpg  \n",
            " extracting: train/images/IMG_1513_JPG.rf.72caf08613a6537451c7debe95237bd4.jpg  \n",
            " extracting: train/images/IMG_1514_JPG.rf.d191bb9bb52ecae9f3deafe4f2637a02.jpg  \n",
            " extracting: train/images/IMG_1516_JPG.rf.a7c12f3c5092d6ff8e4638235330d46c.jpg  \n",
            " extracting: train/images/IMG_1517_JPG.rf.d51a2a2975f16adc4f3ec3d9a43729af.jpg  \n",
            " extracting: train/images/IMG_1518_JPG.rf.90ea35a70d88cd37d81634f99b03706b.jpg  \n",
            " extracting: train/images/IMG_1519_JPG.rf.c21da4dd0b6abb4353359629a6f11948.jpg  \n",
            " extracting: train/images/IMG_1520_JPG.rf.c3fb6dd2473ed193c86000518c2c2e48.jpg  \n",
            " extracting: train/images/IMG_1522_JPG.rf.8b15024890d4dc5fd27c0924dccd30ad.jpg  \n",
            " extracting: train/images/IMG_1524_JPG.rf.2a2743e5a2e6ea5bdc65dd89367fffe2.jpg  \n",
            " extracting: train/images/IMG_1525_JPG.rf.f74b9fcb452321951cd8f40c76241855.jpg  \n",
            " extracting: train/images/IMG_1526_JPG.rf.396b98e77a43453025262e811082742f.jpg  \n",
            " extracting: train/images/IMG_1528_JPG.rf.333ecf63e16e6f534a9b553804124d48.jpg  \n",
            " extracting: train/images/IMG_1529_JPG.rf.8d433ae26a375784f1ce49a614f94f1a.jpg  \n",
            " extracting: train/images/IMG_1530_JPG.rf.5f81d4209f83d29aeaf2e8fe30257afe.jpg  \n",
            " extracting: train/images/IMG_1589_JPG.rf.f13d9c4e2e699c0184b1a4fcd3096727.jpg  \n",
            " extracting: train/images/IMG_1590_JPG.rf.22ceac3ed215c49eb9bc6ad41fa08e31.jpg  \n",
            " extracting: train/images/IMG_1593_JPG.rf.fdb3daa3333c26109c8d81aeffb9605c.jpg  \n",
            " extracting: train/images/IMG_1594_JPG.rf.cee1a8203a0fae62683e9c01aaa03784.jpg  \n",
            " extracting: train/images/IMG_1595_JPG.rf.741a7979f2ac28e923f78a3265477c5e.jpg  \n",
            " extracting: train/images/IMG_1596_JPG.rf.c4106f7dc8a27b8c97758c988844164f.jpg  \n",
            " extracting: train/images/IMG_1597_JPG.rf.1a9f1c840c911f328d3966d6116fed01.jpg  \n",
            " extracting: train/images/IMG_1599_JPG.rf.9f6a4275e284ac27958d16e4eb3567f2.jpg  \n",
            " extracting: train/images/IMG_1600_JPG.rf.01b539c23409e60d635c8a750694be72.jpg  \n",
            " extracting: train/images/IMG_1601_JPG.rf.1d530ced69f9e6e0a3f2feecbcc150f9.jpg  \n",
            " extracting: train/images/IMG_1602_JPG.rf.fd8feaa38f285aae8f96488693190294.jpg  \n",
            " extracting: train/images/IMG_1604_JPG.rf.54e83ee24a74177adead30350f2f7785.jpg  \n",
            " extracting: train/images/IMG_1605_JPG.rf.12410a1cdb8c34537b25abf623e35554.jpg  \n",
            " extracting: train/images/IMG_1606_JPG.rf.a8288079033434ced05cff5d0e26d6d5.jpg  \n",
            " extracting: train/images/IMG_1607_JPG.rf.b9823fd29bec94421062a961983d3523.jpg  \n",
            " extracting: train/images/IMG_1608_JPG.rf.34af2dc853f8fd1e38ceaa1018f88d54.jpg  \n",
            " extracting: train/images/IMG_1609_JPG.rf.bf377540a75287af9b0edc9366363dc1.jpg  \n",
            " extracting: train/images/IMG_1611_JPG.rf.384f7d3b7789c656d4e612b0fdc48788.jpg  \n",
            " extracting: train/images/IMG_1612_JPG.rf.2c46b7dae7933c641f34958d71a90b55.jpg  \n",
            " extracting: train/images/IMG_1613_JPG.rf.108383c000e16e12874b3adaabe7912b.jpg  \n",
            " extracting: train/images/IMG_1615_JPG.rf.430a655ae1c25bf022177f8e7151deab.jpg  \n",
            " extracting: train/images/IMG_1618_JPG.rf.6527470a4a95627c5e8db61983ce5375.jpg  \n",
            " extracting: train/images/IMG_1619_JPG.rf.f1c3023875e55436100697ea56c563cc.jpg  \n",
            " extracting: train/images/IMG_1620_JPG.rf.23212f9db14cf611080deff2d1a9087b.jpg  \n",
            " extracting: train/images/IMG_1621_JPG.rf.ee81fffaedfa780f6d6674c358ae1eb2.jpg  \n",
            " extracting: train/images/IMG_1623_JPG.rf.df7968f86dba74c5c33f8584fbeb10cb.jpg  \n",
            " extracting: train/images/IMG_1624_JPG.rf.46d38651f2d1a1986dcdc92ce34864c3.jpg  \n",
            " extracting: train/images/IMG_1625_JPG.rf.641b44f51e3a6a637d361aadb67f506b.jpg  \n",
            " extracting: train/images/IMG_1626_JPG.rf.ae87a0d2835173d90b743d5ef753194a.jpg  \n",
            " extracting: train/images/IMG_1627_JPG.rf.1dd20902404985b7a638ee10760117b3.jpg  \n",
            " extracting: train/images/IMG_1628_JPG.rf.7a349b6fa047d211423fcc573cb3cf78.jpg  \n",
            " extracting: train/images/IMG_1629_JPG.rf.49b9a9b001e06cee65275f315f45092f.jpg  \n",
            " extracting: train/images/IMG_1630_JPG.rf.8a47635098d15afd90d34812f132f6de.jpg  \n",
            " extracting: train/images/IMG_1631_JPG.rf.d7832e488a42fb26e6fb418827ae1597.jpg  \n",
            " extracting: train/images/IMG_1632_JPG.rf.9cef0d5c94309225f0207f7f2f2e31c7.jpg  \n",
            " extracting: train/images/IMG_1633_JPG.rf.a4544c68f902fd7fc072cd5677a6628b.jpg  \n",
            " extracting: train/images/IMG_1634_JPG.rf.856069fed1f8ddcbd1ec45c7f6155528.jpg  \n",
            " extracting: train/images/IMG_1635_JPG.rf.074d237ba6adbb97035c0463a27c8700.jpg  \n",
            " extracting: train/images/IMG_1636_JPG.rf.a6743cb024b804a6136d0d764607cd3a.jpg  \n",
            " extracting: train/images/IMG_1637_JPG.rf.29c25bc94b2abacf8edb717801b0eaec.jpg  \n",
            " extracting: train/images/IMG_1638_JPG.rf.2714ee5fcfe89fef5e37873ce7ec7b3f.jpg  \n",
            " extracting: train/images/IMG_1639_JPG.rf.bb69cabb2e323956ec127764b2d00ee8.jpg  \n",
            " extracting: train/images/IMG_1641_JPG.rf.5d3a28eecd117da9bb54377ab9d8d64c.jpg  \n",
            " extracting: train/images/IMG_1642_JPG.rf.92feb885121492f314812bf667abcc91.jpg  \n",
            " extracting: train/images/IMG_1643_JPG.rf.e28ab69998612857c0d953a4f9a8716f.jpg  \n",
            " extracting: train/images/IMG_1644_JPG.rf.4cdad0b3876a8465b9a967130c3b4e26.jpg  \n",
            " extracting: train/images/IMG_1645_JPG.rf.bb48f0af1d5bf0b4ee6ea55504fb0868.jpg  \n",
            " extracting: train/images/IMG_1646_JPG.rf.8e2283a64ff019a6892548a0cfd4ff00.jpg  \n",
            " extracting: train/images/IMG_1647_JPG.rf.817186a3c5cfb718b3e93b77af3945ca.jpg  \n",
            " extracting: train/images/IMG_1648_JPG.rf.5ea8330905e3e83156e9495c0096ee32.jpg  \n",
            " extracting: train/images/IMG_1649_JPG.rf.7349847afbbac98d7f5e96ce8aecc082.jpg  \n",
            " extracting: train/images/IMG_1650_JPG.rf.7aaec83f14492c4d552a39f03ac00a2b.jpg  \n",
            " extracting: train/images/IMG_1651_JPG.rf.4fbd91b43296d4ebfac41e2cce44c391.jpg  \n",
            " extracting: train/images/IMG_1652_JPG.rf.156cbe2359523061b630a37ac8cbf244.jpg  \n",
            " extracting: train/images/IMG_1653_JPG.rf.d38fc7b11ab9553337f885af0ae59962.jpg  \n",
            " extracting: train/images/IMG_1654_JPG.rf.3329eebbb7c46698bd2917caca0b933d.jpg  \n",
            " extracting: train/images/IMG_1655_JPG.rf.ea0966bcee6ee42c065048e1cd00e210.jpg  \n",
            " extracting: train/images/IMG_1656_JPG.rf.f95b27e9eaa468ad97f5f694e1933893.jpg  \n",
            " extracting: train/images/IMG_1657_JPG.rf.86032e66bfd3e4b62268a832295d85a6.jpg  \n",
            " extracting: train/images/IMG_1658_JPG.rf.a8d26fda7d250d53c239bf6246b5e552.jpg  \n",
            " extracting: train/images/IMG_1659_JPG.rf.ab458e0a2b6ef82c3466bf9ed90016d2.jpg  \n",
            " extracting: train/images/IMG_1660_JPG.rf.5861ccd8c380bfe82f45778963863f02.jpg  \n",
            " extracting: train/images/IMG_1661_JPG.rf.f8c8635c45ab938a451ff19e745b89f4.jpg  \n",
            " extracting: train/images/IMG_1662_JPG.rf.b413a9833d8d7255aa550f9493a1055d.jpg  \n",
            " extracting: train/images/IMG_1663_JPG.rf.dd7acd3a536ca5f0b9c2c361a6e55886.jpg  \n",
            " extracting: train/images/IMG_1664_JPG.rf.5cff2e124198bea40a9bb9569fb3e4b2.jpg  \n",
            " extracting: train/images/IMG_1665_JPG.rf.ba39e2f7f72b091d110b349a9140b901.jpg  \n",
            " extracting: train/images/IMG_1666_JPG.rf.aaa4407889c7743ca091ac43b4f62bfc.jpg  \n",
            " extracting: train/images/IMG_1667_JPG.rf.1759e5fcafe28c0856c3d20cd29ea51c.jpg  \n",
            " extracting: train/images/IMG_1668_JPG.rf.f6efc54e30bbe87ae17c8973c3287d44.jpg  \n",
            " extracting: train/images/IMG_1669_JPG.rf.746d469d7e67d64b0b7448f68b9d20a8.jpg  \n",
            " extracting: train/images/IMG_1671_JPG.rf.89bfd6540ebdbd74a76b80c9aaba81bd.jpg  \n",
            " extracting: train/images/IMG_1672_JPG.rf.6658873ee77ffc2f7cd85d05fceb90a5.jpg  \n",
            " extracting: train/images/IMG_1674_JPG.rf.4a1a6b00919419d31e93ec34bf41117b.jpg  \n",
            " extracting: train/images/IMG_1675_JPG.rf.3edbe4523a8ed76f4d912d6c600df6fc.jpg  \n",
            " extracting: train/images/IMG_1676_JPG.rf.8869de4444d3a48853aa561c5d37dc92.jpg  \n",
            " extracting: train/images/IMG_1677_JPG.rf.96338dd8d6f5a259173f736f0e3cf7e7.jpg  \n",
            " extracting: train/images/IMG_1678_JPG.rf.c9b988068f8a989b79c162bbebb2e269.jpg  \n",
            " extracting: train/images/IMG_1679_JPG.rf.0437117f2cc681d85f23b8ad3cdbf092.jpg  \n",
            " extracting: train/images/IMG_1681_JPG.rf.24b0777ff1440cb4a390413b73ee517e.jpg  \n",
            " extracting: train/images/IMG_1682_JPG.rf.2bfd69a89e251de180bebe1992e36a0a.jpg  \n",
            " extracting: train/images/IMG_1683_JPG.rf.b09dc97c7296b7d012ff4b76ff47a29c.jpg  \n",
            " extracting: train/images/IMG_1684_JPG.rf.64d764dce6988497c82f54bd282d0fbf.jpg  \n",
            " extracting: train/images/IMG_1685_JPG.rf.26d5f6e89fbfdf7ad23c6e5d9ef36e6e.jpg  \n",
            " extracting: train/images/IMG_1686_JPG.rf.fdf0040899f56acada9a024058a7f488.jpg  \n",
            " extracting: train/images/IMG_1687_JPG.rf.10079ee5a3f931f447f443aa4df32d46.jpg  \n",
            " extracting: train/images/IMG_1689_JPG.rf.7ef27e22c30856c35ef3d7aab369c60a.jpg  \n",
            " extracting: train/images/IMG_1690_JPG.rf.fc4ab0ebf9e7dda888dee4d3fec2b29e.jpg  \n",
            " extracting: train/images/IMG_1691_JPG.rf.de50845b317f44fe7d23cb08c5c88e52.jpg  \n",
            " extracting: train/images/IMG_1692_JPG.rf.a3d78bbbd25cb0987694a15583d86a70.jpg  \n",
            " extracting: train/images/IMG_1694_JPG.rf.de17dfb8b05cf608798a47e33d09a91c.jpg  \n",
            " extracting: train/images/IMG_1695_JPG.rf.98e137bcdf290a63f90b106bf5224ddd.jpg  \n",
            " extracting: train/images/IMG_1697_JPG.rf.16eb41bfaa5ab8e810efb6f0b81bec5e.jpg  \n",
            " extracting: train/images/IMG_1698_JPG.rf.b6bfdf4012e86701a474be989897cc71.jpg  \n",
            " extracting: train/images/IMG_1699_JPG.rf.d5c8086a5c6c215bede26e00b55bbcdb.jpg  \n",
            " extracting: train/images/IMG_1700_JPG.rf.894bce3e89b3f07db9a6a1e379ad22c7.jpg  \n",
            " extracting: train/images/IMG_1701_JPG.rf.5f9bb62024116cdd9ecaef5a5e9a5fd7.jpg  \n",
            " extracting: train/images/IMG_1702_JPG.rf.1949cb347aeca383aa58a0d500901fcc.jpg  \n",
            " extracting: train/images/IMG_1704_JPG.rf.1aff98d8876ccc324a1110a2b9127b72.jpg  \n",
            " extracting: train/images/IMG_1706_JPG.rf.77cc8c02f09df804f9f209a873b9906e.jpg  \n",
            " extracting: train/images/IMG_1707_JPG.rf.2b8c1139fad5e0a13fbf6b24c08b0b8f.jpg  \n",
            " extracting: train/images/IMG_1708_JPG.rf.bfa0fafb9eb5e4e422ea25cdb3fa00df.jpg  \n",
            " extracting: train/images/IMG_1709_JPG.rf.4b1c216dad1c71750965a57be114fee0.jpg  \n",
            " extracting: train/images/IMG_1710_JPG.rf.560375799ffbbac105fe3fbd0b9bcc02.jpg  \n",
            " extracting: train/images/IMG_1711_JPG.rf.55751f3b6589869f814d869220859400.jpg  \n",
            " extracting: train/images/IMG_1712_JPG.rf.f67cfc2adef84dd6b939c05ab80ee8b6.jpg  \n",
            " extracting: train/images/IMG_1713_JPG.rf.ad946914908f896469d84bcdab60589e.jpg  \n",
            " extracting: train/images/IMG_1715_JPG.rf.4737cd8edb917d3cf419d5b669afb636.jpg  \n",
            " extracting: train/images/IMG_1716_JPG.rf.fa0805d29ddbeae33c23ea7611837556.jpg  \n",
            " extracting: train/images/IMG_1717_JPG.rf.97308de20ce731fd1c500ef144fdb4b0.jpg  \n",
            " extracting: train/images/IMG_1718_JPG.rf.d5cb8092eed8f9e200034671031933c9.jpg  \n",
            " extracting: train/images/IMG_1719_JPG.rf.2173a72fb23f843a237a4f0478bb593d.jpg  \n",
            " extracting: train/images/IMG_1720_JPG.rf.3a8d4b4a79afa824b36da96fce5c5232.jpg  \n",
            " extracting: train/images/IMG_1721_JPG.rf.8df657f73defb3f08e939d065d5837c7.jpg  \n",
            " extracting: train/images/IMG_1722_JPG.rf.79f3764b5527a32f58fbe16b0fdff78f.jpg  \n",
            " extracting: train/images/IMG_1723_JPG.rf.1338843f5fb7bae61a5c05ea900ff816.jpg  \n",
            " extracting: train/images/IMG_1724_JPG.rf.921bd2ff351e3976daad0ff1d4212cba.jpg  \n",
            " extracting: train/images/IMG_1725_JPG.rf.41175d722691afdf95d8c602ca6b06ad.jpg  \n",
            " extracting: train/images/IMG_1726_JPG.rf.8971a88335d42e2d79f2f231da179fd2.jpg  \n",
            " extracting: train/images/IMG_1727_JPG.rf.37790661bc66897b6a4212dfa6add116.jpg  \n",
            " extracting: train/images/IMG_1728_JPG.rf.d4487bb193529b1d0a1b48969357aee9.jpg  \n",
            " extracting: train/images/IMG_1731_JPG.rf.e4f1ae0127142f406c1b88d1bf9d3a5a.jpg  \n",
            " extracting: train/images/IMG_1734_JPG.rf.54e1f5ac49ea2398c62b0d0287de14d7.jpg  \n",
            " extracting: train/images/IMG_1735_JPG.rf.111d681c1917a15220b9e11676a6d4c7.jpg  \n",
            " extracting: train/images/IMG_1736_JPG.rf.03fd44285dbcc902b76eb71f8320def3.jpg  \n",
            " extracting: train/images/IMG_1737_JPG.rf.c478c4dad26d702806b59139cfec5fd9.jpg  \n",
            " extracting: train/images/IMG_1739_JPG.rf.051704faed00c3a6be6e472b8b32e062.jpg  \n",
            " extracting: train/images/IMG_1740_JPG.rf.aee386b8387dc0b07bc2a3b89daf83ec.jpg  \n",
            " extracting: train/images/IMG_1741_JPG.rf.e2b40e683a0e115b10cc3a97e2163f65.jpg  \n",
            " extracting: train/images/IMG_1742_JPG.rf.27598a41373abe733c32f7903c390c37.jpg  \n",
            " extracting: train/images/IMG_1743_JPG.rf.6042c17e20dafd6d8e0a0df7afbd9e62.jpg  \n",
            " extracting: train/images/IMG_1744_JPG.rf.30e992a3e1ac5cb2b9de45d5a6ba22a8.jpg  \n",
            " extracting: train/images/IMG_1745_JPG.rf.2c253b43f49906fc78785157a9e28726.jpg  \n",
            " extracting: train/images/IMG_1746_JPG.rf.efe6393f9f28310ce83bee462566798c.jpg  \n",
            " extracting: train/images/IMG_1747_JPG.rf.df6f9b1adc7757582849ae3767b99149.jpg  \n",
            " extracting: train/images/IMG_1748_JPG.rf.c7a18950c8d88e4211b71ba5f1c06dac.jpg  \n",
            " extracting: train/images/IMG_1749_JPG.rf.2405a5942ec8f66bb50dec7e5e7c54fc.jpg  \n",
            " extracting: train/images/IMG_1751_JPG.rf.4330715d88fdb3a0ff0a11c6b19adeaf.jpg  \n",
            " extracting: train/images/IMG_1752_JPG.rf.a07c2c99fac2ac6a79b1b498fca545a7.jpg  \n",
            " extracting: train/images/IMG_1753_JPG.rf.f01e905e75866a191066bec93e9cdc51.jpg  \n",
            " extracting: train/images/IMG_1754_JPG.rf.9e827d88cfea50a665134bd287bc4048.jpg  \n",
            " extracting: train/images/IMG_1755_JPG.rf.395249a74e9de2e6287132d3e4876f27.jpg  \n",
            " extracting: train/images/IMG_1756_JPG.rf.313ea9324b782a4426324f04b4a55d2b.jpg  \n",
            " extracting: train/images/IMG_1757_JPG.rf.a0b3342938b5dce3b3a32a2fabf38b53.jpg  \n",
            " extracting: train/images/IMG_1758_JPG.rf.a0fde8e5eb79a3b05fa69882cdb0ad35.jpg  \n",
            " extracting: train/images/IMG_1759_JPG.rf.f5e8bb0e89a82cf60134402ba95b0823.jpg  \n",
            " extracting: train/images/IMG_1760_JPG.rf.326f95f18085b9cb6de03fa598a65644.jpg  \n",
            " extracting: train/images/IMG_1761_JPG.rf.c60fd91c22d6a5a28c8241da61ab4a72.jpg  \n",
            " extracting: train/images/IMG_1762_JPG.rf.85cab2e47cee124e614028b3b47cd0a5.jpg  \n",
            " extracting: train/images/IMG_1763_JPG.rf.3195e0e2f77618ac883d9b6df9b46e25.jpg  \n",
            " extracting: train/images/IMG_1764_JPG.rf.c17ead2799ae8b285bfefd8b1a0c2e71.jpg  \n",
            " extracting: train/images/IMG_1765_JPG.rf.d5c489acd4b722eaec7776e824eb6a30.jpg  \n",
            " extracting: train/images/IMG_1766_JPG.rf.fb770f55205bba9a951886196770ffff.jpg  \n",
            " extracting: train/images/IMG_1768_JPG.rf.fc345c20234895e8f24b06b3d6574e8b.jpg  \n",
            " extracting: train/images/IMG_1769_JPG.rf.1e530280d38c95280d186e1365f2d2e1.jpg  \n",
            " extracting: train/images/IMG_1770_JPG.rf.9ff06f9a2a3e4e57c3162e72854e6158.jpg  \n",
            " extracting: train/images/IMG_1772_JPG.rf.7699340a1a32f0d0deaf7cd19029dda8.jpg  \n",
            " extracting: train/images/IMG_1774_JPG.rf.08d331b345795aeb7ef53c422c2c7f1b.jpg  \n",
            " extracting: train/images/IMG_1776_JPG.rf.0087f9849d495df4320b5d507fa20c7f.jpg  \n",
            " extracting: train/images/IMG_1777_JPG.rf.a11f2b6aea9a4bae02ad9c8fa2dca725.jpg  \n",
            " extracting: train/images/IMG_1778_JPG.rf.ff5458ca171555641ab36455e7c4204b.jpg  \n",
            " extracting: train/images/IMG_1779_JPG.rf.21c565d30222854c4251908832e57799.jpg  \n",
            " extracting: train/images/IMG_1780_JPG.rf.63dc6a0f17d55008aeb21d10748259c4.jpg  \n",
            " extracting: train/images/IMG_1783_JPG.rf.e40ec7341695979064b5ef0e8a950ffd.jpg  \n",
            " extracting: train/images/IMG_1784_JPG.rf.6f2cfb3d1d18c47c1ca3552f4575e273.jpg  \n",
            " extracting: train/images/IMG_1785_JPG.rf.c70d88cae74effc75e9af9206f4c9d59.jpg  \n",
            " extracting: train/images/IMG_1786_JPG.rf.4453bafd420dbbbe277f46181b20abd7.jpg  \n",
            " extracting: train/images/IMG_1787_JPG.rf.e9f6fa67c629a6eb90115ba0d5b9762c.jpg  \n",
            " extracting: train/images/IMG_1788_JPG.rf.8bf810a51ee09fb6158343f38075696a.jpg  \n",
            " extracting: train/images/IMG_1789_JPG.rf.5cf2f95184b60124c2bd1ec093d8a7d2.jpg  \n",
            " extracting: train/images/IMG_1790_JPG.rf.d5e37e8845d59eda823b54a28a11556d.jpg  \n",
            " extracting: train/images/IMG_1791_JPG.rf.4c52c069a8933977cd0b4646f98355a1.jpg  \n",
            " extracting: train/images/IMG_1794_JPG.rf.862a9d7baf1692899c0babf0a2771ec5.jpg  \n",
            " extracting: train/images/IMG_1796_JPG.rf.39129dc145b00a80d6d9972f8e3c3826.jpg  \n",
            " extracting: train/images/IMG_1797_JPG.rf.3fd2fd0df90f04fc288e233da72ae010.jpg  \n",
            " extracting: train/images/IMG_1798_JPG.rf.e00c3fb7dddae9534ac76d84e8c72f09.jpg  \n",
            " extracting: train/images/IMG_1799_JPG.rf.754f80df09c8c6ee03539e2faf19b183.jpg  \n",
            " extracting: train/images/IMG_1800_JPG.rf.d50e5ac3523cada3075fee8bea07a298.jpg  \n",
            " extracting: train/images/IMG_1801_JPG.rf.1accc52fe9c0b45dd37bd213638f3797.jpg  \n",
            " extracting: train/images/IMG_1802_JPG.rf.a2795825c282e37b613c0e717955c474.jpg  \n",
            " extracting: train/images/IMG_1804_JPG.rf.0c8bf4c3ff6cb05eb7480ec99c10aa38.jpg  \n",
            " extracting: train/images/IMG_1805_JPG.rf.bb6a0fcd802f841298119f823f9897fa.jpg  \n",
            " extracting: train/images/IMG_1806_JPG.rf.93c6904a4c6f9d5a848156b3ff53f088.jpg  \n",
            " extracting: train/images/IMG_1807_JPG.rf.fb9cdc27b06db8719222380de4359b0e.jpg  \n",
            " extracting: train/images/IMG_1808_JPG.rf.155250412986200604326bd943b20c9c.jpg  \n",
            " extracting: train/images/IMG_1809_JPG.rf.c94ca1a2297c67e37580ce4bf74a0253.jpg  \n",
            " extracting: train/images/IMG_1810_JPG.rf.7088f13ef96655de0556f0b8d8337c6d.jpg  \n",
            " extracting: train/images/IMG_1811_JPG.rf.e5dc06f96d1f2c6b6de62be22cac80d3.jpg  \n",
            " extracting: train/images/IMG_1812_JPG.rf.eb09c7efb20e190e42239324de47981b.jpg  \n",
            " extracting: train/images/IMG_1813_JPG.rf.5bff7641009fa96d500672db81511580.jpg  \n",
            " extracting: train/images/IMG_1814_JPG.rf.de965d86e0aa9f6a7c4b07bfa57dc47d.jpg  \n",
            " extracting: train/images/IMG_1815_JPG.rf.5bf770fedc157c2f2fdca68716016baa.jpg  \n",
            " extracting: train/images/IMG_1816_JPG.rf.5f6ec103caf93611cb6b5ab205c9d08c.jpg  \n",
            " extracting: train/images/IMG_1817_JPG.rf.cd30bb1cffecff24047ad132f2429167.jpg  \n",
            " extracting: train/images/IMG_1818_JPG.rf.8c164776ba01608929ff4e863feca70b.jpg  \n",
            " extracting: train/images/IMG_1819_JPG.rf.bb931699032236833ef693d86a851fae.jpg  \n",
            " extracting: train/images/IMG_1822_JPG.rf.c2139fc4300adf6ecf454fce6ba7669b.jpg  \n",
            " extracting: train/images/IMG_1824_JPG.rf.4943282fab8daa71768ffdc7177260f1.jpg  \n",
            " extracting: train/images/IMG_1825_JPG.rf.6891fc7f0407e758aebca8a84c778543.jpg  \n",
            " extracting: train/images/IMG_1826_JPG.rf.2d6b3d19ff3c3182a3d66ff66eb1d43c.jpg  \n",
            " extracting: train/images/IMG_1828_JPG.rf.4ac079c0d93e66444e4aaba1707c8f30.jpg  \n",
            " extracting: train/images/IMG_1829_JPG.rf.1d70a8d98e8bb72bdaa57bdb1cf9790e.jpg  \n",
            " extracting: train/images/IMG_1830_JPG.rf.53fd5c6a9ea9474e8d8b45f1842c7ed2.jpg  \n",
            " extracting: train/images/IMG_1831_JPG.rf.3c9a76a4beae593d29ae076e83746c53.jpg  \n",
            " extracting: train/images/IMG_1833_JPG.rf.ec884d0fce471339df99c14bdf641762.jpg  \n",
            " extracting: train/images/IMG_1834_JPG.rf.b94ada6bfd39d0898da04befb9649c4b.jpg  \n",
            " extracting: train/images/IMG_1837_JPG.rf.572c70ccd12f2c6e2bb6d804d455e998.jpg  \n",
            " extracting: train/images/IMG_1838_JPG.rf.19b6792abdc5c023d608789b55e95046.jpg  \n",
            " extracting: train/images/IMG_1839_JPG.rf.d0763c24b8c5677a9ee09d75903e580f.jpg  \n",
            " extracting: train/images/IMG_1840_JPG.rf.f9baf32c4a3ed429dc66cf52c5ec66d5.jpg  \n",
            " extracting: train/images/IMG_1841_JPG.rf.344fcc4d3bd59859c0c404d2b1f991b7.jpg  \n",
            " extracting: train/images/IMG_1842_JPG.rf.3e3ce2dd745af00e4a9085f1fadd464a.jpg  \n",
            " extracting: train/images/IMG_1843_JPG.rf.da9c407ea7edccc148646628d98c2ebf.jpg  \n",
            " extracting: train/images/IMG_1844_JPG.rf.2619515f281d45b933cffd1188daf3e9.jpg  \n",
            " extracting: train/images/IMG_1845_JPG.rf.aef408d875e0bf3379c3c888ac952069.jpg  \n",
            " extracting: train/images/IMG_1846_JPG.rf.3593546c80293672f8bf9458c6403564.jpg  \n",
            " extracting: train/images/IMG_1848_JPG.rf.0f40e83088f1188f681a066fb55618e4.jpg  \n",
            " extracting: train/images/IMG_1849_JPG.rf.49a019660c2345353e6b8980ede0db68.jpg  \n",
            " extracting: train/images/IMG_1851_JPG.rf.6f1dae7c27ed43403af877bec451a20a.jpg  \n",
            " extracting: train/images/IMG_1852_JPG.rf.3fd7509f95902caea1274139ce00401a.jpg  \n",
            " extracting: train/images/IMG_1853_JPG.rf.c66dabebe424f54c5ded25cf82de7159.jpg  \n",
            " extracting: train/images/IMG_1855_JPG.rf.593d9f59b67f6240ca31f7d2e7303ea9.jpg  \n",
            " extracting: train/images/IMG_1856_JPG.rf.22091ef83d1d3e4a8f5a751f9da90b09.jpg  \n",
            " extracting: train/images/IMG_1857_JPG.rf.c816a5485a4f9cbda748f106a7ca9f7f.jpg  \n",
            " extracting: train/images/IMG_1859_JPG.rf.a889329239f5994d2b5bb7541e66b196.jpg  \n",
            " extracting: train/images/IMG_1860_JPG.rf.5ff8cd6339fbdd93e80ffedc976cdb6c.jpg  \n",
            " extracting: train/images/IMG_1861_JPG.rf.4b84820dea3553f6c753d50825c9bb88.jpg  \n",
            " extracting: train/images/IMG_1862_JPG.rf.e4d75d123c85cf4c5951723337acc78a.jpg  \n",
            " extracting: train/images/IMG_1863_JPG.rf.2c80d2f10cde46cbdb54589575baab56.jpg  \n",
            " extracting: train/images/IMG_1864_JPG.rf.441336d3f2d874806a3fb5f55d9f320c.jpg  \n",
            " extracting: train/images/IMG_1865_JPG.rf.acfcea079c1213f0174ca0d0d8507012.jpg  \n",
            " extracting: train/images/IMG_1866_JPG.rf.dc0d285992ad5ad3f86b4e43fe56c322.jpg  \n",
            " extracting: train/images/IMG_1867_JPG.rf.33dc825af6388848f9a0d0d2042014ad.jpg  \n",
            " extracting: train/images/IMG_1868_JPG.rf.dc839063788667d90ff1d72ba2589f2d.jpg  \n",
            " extracting: train/images/IMG_1869_JPG.rf.5137c94d1dfaa3e1b5a95d7462369136.jpg  \n",
            " extracting: train/images/IMG_1870_JPG.rf.9be77ab145ac47f648a5f5fa2d012817.jpg  \n",
            " extracting: train/images/IMG_1872_JPG.rf.6c7b28381defb1f07693f2a2206fcf0b.jpg  \n",
            " extracting: train/images/IMG_1875_JPG.rf.8d4bc56dff102af793056ca2d5ff1cf7.jpg  \n",
            " extracting: train/images/IMG_1876_JPG.rf.7829391ef6619b7de686b437e7c75ce4.jpg  \n",
            " extracting: train/images/IMG_1877_JPG.rf.45b8bcef7a308ee7d3c6279aee237484.jpg  \n",
            " extracting: train/images/IMG_1878_JPG.rf.689e2f14b49e53978cd25e31f0a06566.jpg  \n",
            " extracting: train/images/IMG_1879_JPG.rf.b21a0f22475b771ba89bf49aa6009275.jpg  \n",
            " extracting: train/images/IMG_1880_JPG.rf.bc408bf813e78c8bccc37c539bfa1203.jpg  \n",
            " extracting: train/images/IMG_1881_JPG.rf.afa5bd2a23d908cbc812ef9000af02ef.jpg  \n",
            " extracting: train/images/IMG_1882_JPG.rf.e8dc657766e21499dbef0f0cd013a7b4.jpg  \n",
            " extracting: train/images/IMG_1883_JPG.rf.a67952ef2fb1f8c25d8d62f830ea1456.jpg  \n",
            " extracting: train/images/IMG_1884_JPG.rf.819457011fb62ca277971e5f02b592f1.jpg  \n",
            " extracting: train/images/IMG_1885_JPG.rf.66519b9dfbcd1c2a07972945842fe3dd.jpg  \n",
            " extracting: train/images/IMG_1886_JPG.rf.273f72a827a6f73c2c40386fcef0daef.jpg  \n",
            " extracting: train/images/IMG_1887_JPG.rf.2b90aed54d226e726c78523da2e02ba0.jpg  \n",
            " extracting: train/images/IMG_1888_JPG.rf.ff452a0109a4b03a4a0d30c1b701893c.jpg  \n",
            " extracting: train/images/IMG_1889_JPG.rf.32bebfbdd17971cc7ecc2ee5d5f3edc1.jpg  \n",
            " extracting: train/images/IMG_1890_JPG.rf.e7417a03aff162d65d88cc259d294c64.jpg  \n",
            " extracting: train/images/IMG_1891_JPG.rf.5b239bb78e63418533251d19c0c357bc.jpg  \n",
            " extracting: train/images/IMG_1894_JPG.rf.a35c65f42470b700275caa66ead8dbdd.jpg  \n",
            " extracting: train/images/IMG_1895_JPG.rf.9807359f25e8f75e4d6680d289c51f9f.jpg  \n",
            " extracting: train/images/IMG_1896_JPG.rf.ddf67f0376aeb06c178378575718ea7c.jpg  \n",
            " extracting: train/images/IMG_1897_JPG.rf.0157dd1f6f7c4f3c0299f23b5e41b3d5.jpg  \n",
            " extracting: train/images/IMG_1899_JPG.rf.e3c14841b0a9189ba777e908fa3ae1bf.jpg  \n",
            " extracting: train/images/IMG_1900_JPG.rf.5a86a0d1c395e78e16acec224797a132.jpg  \n",
            " extracting: train/images/IMG_1901_JPG.rf.e261aca167539d2fe2fe3493316bb025.jpg  \n",
            " extracting: train/images/IMG_1904_JPG.rf.d0ee69daa1df11c987909e8446410a0c.jpg  \n",
            " extracting: train/images/IMG_1905_JPG.rf.ec5704315ace9c2de5b22afcf80b2633.jpg  \n",
            " extracting: train/images/IMG_1906_JPG.rf.37e0aae344e94cba85d5544f12f0e6ce.jpg  \n",
            " extracting: train/images/IMG_1907_JPG.rf.3f94042d2f676ec3504dae0dbe239863.jpg  \n",
            " extracting: train/images/IMG_1910_JPG.rf.36ac2dbcc2c115fd19a54d3c43355378.jpg  \n",
            " extracting: train/images/IMG_1911_JPG.rf.349f612dff2795abe9093a293e6c99ef.jpg  \n",
            " extracting: train/images/IMG_1912_JPG.rf.51ea6895bae1e4441959b421a85c5b97.jpg  \n",
            " extracting: train/images/IMG_1914_JPG.rf.aa492f9f35179bade6c93ac19a1278ab.jpg  \n",
            " extracting: train/images/IMG_1915_JPG.rf.db2fe2369c2108d17d4d04e5608aab10.jpg  \n",
            " extracting: train/images/IMG_1916_JPG.rf.ce18fd185eb9bda3633d605c158582ad.jpg  \n",
            " extracting: train/images/IMG_1918_JPG.rf.2d1fe5f75d42b161cdca9cd36ed15a21.jpg  \n",
            " extracting: train/images/IMG_1919_JPG.rf.643d463ec331f7c17cc250b778b115d6.jpg  \n",
            " extracting: train/images/IMG_1920_JPG.rf.5f749d33bb6ba3d3bf72e1ea0c5f5473.jpg  \n",
            " extracting: train/images/IMG_1921_JPG.rf.e8c91798b067c19da8b6176d65033e71.jpg  \n",
            " extracting: train/images/IMG_1922_JPG.rf.f04fde58241757e5a4111506fb8f4a7d.jpg  \n",
            " extracting: train/images/IMG_1923_JPG.rf.5288472205c571cc5e463568749da52c.jpg  \n",
            " extracting: train/images/IMG_1924_JPG.rf.1d34bc6c198444ffe2ed6f1b1138c58a.jpg  \n",
            " extracting: train/images/IMG_1925_JPG.rf.a95bb7c912bc907f9ddde5699420580a.jpg  \n",
            " extracting: train/images/IMG_1927_JPG.rf.d2cfaba83b5337dd932dd56b20cf1a24.jpg  \n",
            " extracting: train/images/IMG_1928_JPG.rf.2417a42f45d2b16d23ce31bcd8c13533.jpg  \n",
            " extracting: train/images/IMG_1930_JPG.rf.f101f6240b0a06a2503bf912610284d2.jpg  \n",
            " extracting: train/images/IMG_1931_JPG.rf.5b185f0c218a226837f42f0054dd2ea3.jpg  \n",
            " extracting: train/images/IMG_1932_JPG.rf.1c05dc7c27928baf5cea7ac751fbddc5.jpg  \n",
            " extracting: train/images/IMG_1933_JPG.rf.16b039f0bfc0a94730fefb843f429e1a.jpg  \n",
            " extracting: train/images/IMG_1934_JPG.rf.307fc63f0b4fece707439f1e2550985d.jpg  \n",
            " extracting: train/images/IMG_1936_JPG.rf.567a085a74873331159d1c9af6635107.jpg  \n",
            " extracting: train/images/IMG_1937_JPG.rf.8cde5eca7e275a0f4b4e11d2c83c76f5.jpg  \n",
            " extracting: train/images/IMG_1939_JPG.rf.5174da9a721b62d14ae25865a26df1f7.jpg  \n",
            " extracting: train/images/IMG_1940_JPG.rf.f68cee505cd95014ae93ebb7c146d575.jpg  \n",
            " extracting: train/images/IMG_1941_JPG.rf.87a2d9a1a87369b7b57079db44d81605.jpg  \n",
            " extracting: train/images/IMG_1942_JPG.rf.801cd0c62e0b0462d374e033113696ba.jpg  \n",
            " extracting: train/images/IMG_1943_JPG.rf.9859bebe0f656af24e947bf7926c903b.jpg  \n",
            " extracting: train/images/IMG_1944_JPG.rf.e0200d0d9dff568c2d413068b51ebad1.jpg  \n",
            " extracting: train/images/IMG_1945_JPG.rf.8449fcd883fdf7b862eb2799e7bf5343.jpg  \n",
            " extracting: train/images/IMG_1947_JPG.rf.1fcdd9d1df568246a5dcdf673c2dcb78.jpg  \n",
            " extracting: train/images/IMG_1948_JPG.rf.91e35c1eab3ead46e2fdec2282a0838e.jpg  \n",
            " extracting: train/images/IMG_1949_JPG.rf.b00a4197d749e1d9558b089d0436f5fb.jpg  \n",
            " extracting: train/images/IMG_1951_JPG.rf.4529726846577aef1bfe4dacc7b5184a.jpg  \n",
            " extracting: train/images/IMG_1952_JPG.rf.f5c2c654d28f426fc2ef64eba0d945a4.jpg  \n",
            " extracting: train/images/IMG_1953_JPG.rf.99da55cd4697e23dad902b538b1a8833.jpg  \n",
            " extracting: train/images/IMG_1954_JPG.rf.900496122d73a0a255a8fddaff882bb4.jpg  \n",
            " extracting: train/images/IMG_1955_JPG.rf.92bb3764f8e480f5716d7bb95e3714b5.jpg  \n",
            " extracting: train/images/IMG_1956_JPG.rf.f9bc57763b02277f6d5582e60476bdcb.jpg  \n",
            " extracting: train/images/IMG_1959_JPG.rf.da14d2079886fe475862ea84c5b2e399.jpg  \n",
            " extracting: train/images/IMG_1960_JPG.rf.e2c5651143c87fce2e4f8f3e67fcb49d.jpg  \n",
            " extracting: train/images/IMG_1961_JPG.rf.c801bac645b8ba0097945289aefcc569.jpg  \n",
            " extracting: train/images/IMG_1963_JPG.rf.84cf2cdf809eb708217cc30d4361dff0.jpg  \n",
            " extracting: train/images/IMG_1964_JPG.rf.aac8f19a17b79392ab64966b76cb0d3e.jpg  \n",
            " extracting: train/images/IMG_1965_JPG.rf.ff6fa3ac55049a5a78f0319be3eac2af.jpg  \n",
            " extracting: train/images/IMG_1966_JPG.rf.a423fd52b6e079738ac603fbf4a3efcc.jpg  \n",
            " extracting: train/images/IMG_1967_JPG.rf.451c6ae2fd93e3bd7f6a79f7d48919e1.jpg  \n",
            " extracting: train/images/IMG_1970_JPG.rf.845268946d528211c72a37e798847b4a.jpg  \n",
            " extracting: train/images/IMG_1971_JPG.rf.4003bbf813cb94ce2c03fdd4e5469a11.jpg  \n",
            " extracting: train/images/IMG_1972_JPG.rf.9daed44ccd9d8e9037b9bccf64e0470f.jpg  \n",
            " extracting: train/images/IMG_1973_JPG.rf.309766c2fc40ba0af2690d8dedcde94c.jpg  \n",
            " extracting: train/images/IMG_1974_JPG.rf.2603c09c7b66f684357a5a2a2d659b8d.jpg  \n",
            " extracting: train/images/IMG_1975_JPG.rf.b652b0644cdde30b58b57ce3943c3abe.jpg  \n",
            " extracting: train/images/IMG_1976_JPG.rf.ab74eb2d9ec9880d64a252de338cf018.jpg  \n",
            " extracting: train/images/IMG_1977_JPG.rf.8444e4b99f1fa57fbe3b93c0dc917699.jpg  \n",
            " extracting: train/images/IMG_1979_JPG.rf.a0114016745a23cac31ee894361123e3.jpg  \n",
            " extracting: train/images/IMG_1980_JPG.rf.ce4cd102215c913e67472a3d3c30c114.jpg  \n",
            " extracting: train/images/IMG_1982_JPG.rf.6e77f17eeee6e3b4e1cfbd90f34e6902.jpg  \n",
            " extracting: train/images/IMG_1984_JPG.rf.4e44920e878fe075ec0a70654fdf9eb6.jpg  \n",
            " extracting: train/images/IMG_1986_JPG.rf.696f8c1fbbf962b669ec5013f1f9fa72.jpg  \n",
            " extracting: train/images/IMG_1987_JPG.rf.50c77f4c42df7d3c38a48d7d15e8f619.jpg  \n",
            " extracting: train/images/IMG_1988_JPG.rf.49a59dc98c066acd0c37d933b11fbc9f.jpg  \n",
            " extracting: train/images/IMG_1989_JPG.rf.819b0bf78f759fbff5c0986690bc96e5.jpg  \n",
            " extracting: train/images/IMG_1990_JPG.rf.5819d48bfcde121be855daf2db8dac16.jpg  \n",
            " extracting: train/images/IMG_1991_JPG.rf.0e827157e774df18e4341f0079d08496.jpg  \n",
            " extracting: train/images/IMG_1993_JPG.rf.3fe7b71f8174d52c581ec7b3d3de5964.jpg  \n",
            " extracting: train/images/IMG_1994_JPG.rf.ee6dbdafed7a6e24e3688f96dd20d18c.jpg  \n",
            " extracting: train/images/IMG_1995_JPG.rf.a3a4cd9f7cf0946128419cf0394031f6.jpg  \n",
            " extracting: train/images/IMG_1996_JPG.rf.6472af783b7a15a862efa770d54516fd.jpg  \n",
            " extracting: train/images/IMG_1997_JPG.rf.ac667b823360bf61151b03136d4eff62.jpg  \n",
            " extracting: train/images/IMG_1999_JPG.rf.69d41ab46a587f6647d10c4382d0ea14.jpg  \n",
            " extracting: train/images/IMG_2001_JPG.rf.d4cb3805605e8ffafbe50e52599d216a.jpg  \n",
            " extracting: train/images/IMG_2002_JPG.rf.623a6ab23a62cec0bbd30e85772423a2.jpg  \n",
            " extracting: train/images/IMG_2003_JPG.rf.e5755c5fb2316fd188b4cce75fba2c7e.jpg  \n",
            " extracting: train/images/IMG_2004_JPG.rf.a6f39bdda355f2107fbe1aa9252e0c2a.jpg  \n",
            " extracting: train/images/IMG_2005_JPG.rf.1baed52a799876043d7ac56416994bbc.jpg  \n",
            " extracting: train/images/IMG_2006_JPG.rf.3c4f5d7492f0e205d7999866a9434233.jpg  \n",
            " extracting: train/images/IMG_2007_JPG.rf.142227308add65a237e97ab4fc83b185.jpg  \n",
            " extracting: train/images/IMG_2008_JPG.rf.0fe9421659dea7e944a322ed84fcdce4.jpg  \n",
            " extracting: train/images/IMG_2009_JPG.rf.260e1e92807ecdc990319ac11db09f4c.jpg  \n",
            " extracting: train/images/IMG_2010_JPG.rf.4142400235cba334a23328614624b98c.jpg  \n",
            " extracting: train/images/IMG_2011_JPG.rf.63ea74616a53edae592f70a67d7d067e.jpg  \n",
            " extracting: train/images/IMG_2013_JPG.rf.6b7633a82c09fb6f32581fb9a222d741.jpg  \n",
            " extracting: train/images/IMG_2014_JPG.rf.5c8db3ad489d531afa3fed9bf697f4b6.jpg  \n",
            " extracting: train/images/IMG_2015_JPG.rf.eb5fc88c8ed4f966318a4aed33db7487.jpg  \n",
            " extracting: train/images/IMG_2016_JPG.rf.76085d9e7841a06ea0b4a2729b67bfe2.jpg  \n",
            " extracting: train/images/IMG_2017_JPG.rf.f28a8bcb36ce40f10a7dfb6fb537825d.jpg  \n",
            " extracting: train/images/IMG_2018_JPG.rf.a44b230ef506c83652a9ed5bc477bab3.jpg  \n",
            " extracting: train/images/IMG_2019_JPG.rf.3fc5d1e8be16afd18537e81fdb4cdd5f.jpg  \n",
            " extracting: train/images/IMG_2020_JPG.rf.e4773ab5b2f8989de96d922db74c670a.jpg  \n",
            " extracting: train/images/IMG_2022_JPG.rf.49c1a9cfef8bbbdd6f4cf886b6f43757.jpg  \n",
            " extracting: train/images/IMG_2023_JPG.rf.7dcf76dfdf34f5cbdfcaaa36bb2ca695.jpg  \n",
            " extracting: train/images/IMG_2024_JPG.rf.7687a37b03357b591720521bf4e61a0a.jpg  \n",
            " extracting: train/images/IMG_2025_JPG.rf.1041ba5d18e6ea1fa9c4d6489899401a.jpg  \n",
            " extracting: train/images/IMG_2027_JPG.rf.fa01be48c9b42a7e9721f1f737ec63c2.jpg  \n",
            " extracting: train/images/IMG_2029_JPG.rf.962093856fb465d7f63be4ac7cd0b676.jpg  \n",
            " extracting: train/images/IMG_2030_JPG.rf.88b673dd4d155111fbad5fd79943c3bc.jpg  \n",
            " extracting: train/images/IMG_2032_JPG.rf.9383130d577944dc7daef99c5d5421b9.jpg  \n",
            " extracting: train/images/IMG_2033_JPG.rf.bb1f386a9b1248a5f6a72283b71572a4.jpg  \n",
            " extracting: train/images/IMG_2035_JPG.rf.bdc04c81f7d98fbdc38fbdafa6cdda64.jpg  \n",
            " extracting: train/images/IMG_2036_JPG.rf.d9a85598daa5c2d2a298211e07e056b5.jpg  \n",
            " extracting: train/images/IMG_2037_JPG.rf.0bcdac00f03ad76fadac82f7ae6aacb1.jpg  \n",
            " extracting: train/images/IMG_2038_JPG.rf.5efc8d79a27a267ea62acb5f7f24d7d6.jpg  \n",
            " extracting: train/images/IMG_2039_JPG.rf.ac897f3f6937f8550eb837444646aea5.jpg  \n",
            " extracting: train/images/IMG_2040_JPG.rf.99d59f8fef05649bc3116f3228285f2f.jpg  \n",
            " extracting: train/images/IMG_2042_JPG.rf.ad518e7cf17b9bfa6ac4605b5eeae4e7.jpg  \n",
            " extracting: train/images/IMG_2043_JPG.rf.a95a8e35c6a3f274c5c54a04119f69b9.jpg  \n",
            " extracting: train/images/IMG_2066_JPG.rf.ed5187bc45e2164feac121a3d7c3646d.jpg  \n",
            " extracting: train/images/IMG_2067_JPG.rf.5c4f40d2b634ec2065aefc6413a37845.jpg  \n",
            " extracting: train/images/IMG_2068_JPG.rf.bc62b1d5c3869f4f9b750faeb0e146e3.jpg  \n",
            " extracting: train/images/IMG_2072_JPG.rf.26610df5ce69c81fb9a2be9ed6696469.jpg  \n",
            " extracting: train/images/IMG_2074_JPG.rf.f88f2985fbd46d162ed6215612a758d8.jpg  \n",
            " extracting: train/images/IMG_2076_JPG.rf.ff270ae145524d0e702f572947c0c3d8.jpg  \n",
            " extracting: train/images/IMG_2077_JPG.rf.5d109d84b074c10b57a03d7bcc6dec3b.jpg  \n",
            " extracting: train/images/IMG_2078_JPG.rf.2ccff66196c3cd8a98eceda63c5dd4d9.jpg  \n",
            " extracting: train/images/IMG_2080_JPG.rf.ef32d88d2cb65231c8b31ed192cdd69a.jpg  \n",
            " extracting: train/images/IMG_2081_JPG.rf.0d39db8f5f4446c554841ea559f935d3.jpg  \n",
            " extracting: train/images/IMG_2082_JPG.rf.d60dc7a2c71f407991a6a8e23a916149.jpg  \n",
            " extracting: train/images/IMG_2083_JPG.rf.effaa069e7e329ddfc90567e23fd7bc1.jpg  \n",
            " extracting: train/images/IMG_2085_JPG.rf.992b6c9e4e0866661dc8a0415dc77706.jpg  \n",
            " extracting: train/images/IMG_2088_JPG.rf.8d0b312a63ab90ac2e77c3ae4c262d31.jpg  \n",
            " extracting: train/images/IMG_2089_JPG.rf.02da0364d8d275c40961c383bd783a36.jpg  \n",
            " extracting: train/images/IMG_2090_JPG.rf.d1797218e7b7ba72d7f05ae4a3d78340.jpg  \n",
            " extracting: train/images/IMG_2091_JPG.rf.e2c230ce700f4dd485a855fd818a1495.jpg  \n",
            " extracting: train/images/IMG_2092_JPG.rf.2f9a363ecb31548fd9044e44a785ed17.jpg  \n",
            " extracting: train/images/IMG_2093_JPG.rf.51643cc3cdd9a5f0818d93a923e6e40e.jpg  \n",
            " extracting: train/images/IMG_2094_JPG.rf.adbb271a52e821fc43e01920b3cfee01.jpg  \n",
            " extracting: train/images/IMG_2097_JPG.rf.e0aaa46f052b7a62bf5777405bf79a7a.jpg  \n",
            " extracting: train/images/IMG_2098_JPG.rf.e70a54a0eff01b62aea733a1550072c8.jpg  \n",
            " extracting: train/images/IMG_2100_JPG.rf.41b57fe8fc5dbaf5a14113ee1b12e75c.jpg  \n",
            " extracting: train/images/IMG_2102_JPG.rf.78a7879530cb2783b5def28a318a6cc0.jpg  \n",
            " extracting: train/images/IMG_2103_JPG.rf.07e35ea7a3c1ec713894ad67019c6f05.jpg  \n",
            " extracting: train/images/IMG_2104_JPG.rf.1b7ea2b6e3ec88bacbab44a3236232f1.jpg  \n",
            " extracting: train/images/IMG_2105_JPG.rf.2a03fe2a1ffd0ee2591b896d69983049.jpg  \n",
            " extracting: train/images/IMG_2107_JPG.rf.388e6f61700751717492c067f9280fd3.jpg  \n",
            " extracting: train/images/IMG_2108_JPG.rf.c717fbaf3547790a9956737fdaea1c3b.jpg  \n",
            " extracting: train/images/IMG_2109_JPG.rf.46d60fd9ff401de4c686d49d3618477e.jpg  \n",
            " extracting: train/images/IMG_2110_JPG.rf.b4ccb163fd21f18da63bfd25a6f3c362.jpg  \n",
            " extracting: train/images/IMG_2111_JPG.rf.7ced272f43b7eb1cd7795a8f2b7f3a12.jpg  \n",
            " extracting: train/images/IMG_2112_JPG.rf.9bb98792a4a34595b2642c1e85e45c97.jpg  \n",
            " extracting: train/images/IMG_2113_JPG.rf.b26594d7bb0b9245fb174efc82b6c885.jpg  \n",
            " extracting: train/images/IMG_2115_JPG.rf.c27c53f3489986d586b907fad9a6a671.jpg  \n",
            " extracting: train/images/IMG_2116_JPG.rf.ab5010068cf31c970f5516b22e5dc6cd.jpg  \n",
            " extracting: train/images/IMG_2117_JPG.rf.c1b27cc4e62fcbe4c74def62850c2b9c.jpg  \n",
            " extracting: train/images/IMG_2118_JPG.rf.a1813cc8d2a12027d00b90a15d333221.jpg  \n",
            " extracting: train/images/IMG_2119_JPG.rf.6d45bd358f34a36f66ec4e55c6dadd89.jpg  \n",
            " extracting: train/images/IMG_2121_JPG.rf.36edbf97186aef4c966d7f0a1d15af84.jpg  \n",
            " extracting: train/images/IMG_2122_JPG.rf.ad2a692a3d279c276310bb33ce176826.jpg  \n",
            " extracting: train/images/IMG_2123_JPG.rf.5f903f76bf36ae9cfb21e7c0ad826e42.jpg  \n",
            " extracting: train/images/IMG_2124_JPG.rf.9285525a0e602e173f277cca3bfae91c.jpg  \n",
            " extracting: train/images/IMG_2125_JPG.rf.c9c7fcf37eff725970742c023b5afc7b.jpg  \n",
            " extracting: train/images/IMG_2127_JPG.rf.f2e33e42e4b9b951bbdf858517844abf.jpg  \n",
            " extracting: train/images/IMG_2128_JPG.rf.a211ea7b2fbfac47992d5027d27f9c07.jpg  \n",
            " extracting: train/images/IMG_2130_JPG.rf.33fc5583925b2afa836da612bbed973b.jpg  \n",
            " extracting: train/images/IMG_2131_JPG.rf.c313bb7c9b4c6bcd6a8aac9405ff5823.jpg  \n",
            " extracting: train/images/IMG_2133_JPG.rf.7e2e8e44021649c16c8298342073810b.jpg  \n",
            " extracting: train/images/IMG_2135_JPG.rf.a0d6aafa8d4502337632568194813563.jpg  \n",
            " extracting: train/images/IMG_2136_JPG.rf.9691f370dc35c3fa1d2eeb35fc1d36a2.jpg  \n",
            " extracting: train/images/IMG_2137_JPG.rf.db1583a12a98fbfc57e082c7bf614feb.jpg  \n",
            " extracting: train/images/IMG_2138_JPG.rf.c0be3128ea461f150c3861edd3ab67f4.jpg  \n",
            " extracting: train/images/IMG_2139_JPG.rf.060a0f5aa72b8a18116a065f6469c912.jpg  \n",
            " extracting: train/images/IMG_2141_JPG.rf.1cd8765516aaab4652d5eaf7ae9a5481.jpg  \n",
            " extracting: train/images/IMG_2142_JPG.rf.54e3d166ed36b759cd27e3cc501f5dc5.jpg  \n",
            " extracting: train/images/IMG_2143_JPG.rf.1f81a33cd6c88260dca9b5f996af4b9d.jpg  \n",
            " extracting: train/images/IMG_2144_JPG.rf.a3da2e8deb5ca95f40eae05f768d7aa9.jpg  \n",
            " extracting: train/images/IMG_2145_JPG.rf.452c3ab4e082f7dea89e154f52f392a9.jpg  \n",
            " extracting: train/images/IMG_2183_JPG.rf.21c5a4475939746747c97608e779e318.jpg  \n",
            " extracting: train/images/IMG_2184_JPG.rf.39bc889c27f9cae59061c3a0b90f8fe4.jpg  \n",
            " extracting: train/images/IMG_2185_JPG.rf.e1e48f451c753687761533c5c8ac251a.jpg  \n",
            " extracting: train/images/IMG_2186_JPG.rf.acdc20a94e5f64084859277128e0b85c.jpg  \n",
            " extracting: train/images/IMG_2187_JPG.rf.5314716ff3664f48a5e2549ebe90b7d3.jpg  \n",
            " extracting: train/images/IMG_2188_JPG.rf.a8a48c0fb96ed6a5ee63a21fcb2c3f43.jpg  \n",
            " extracting: train/images/IMG_2189_JPG.rf.ab70ace8e4bff8cb368bb2a81b211316.jpg  \n",
            " extracting: train/images/IMG_2190_JPG.rf.8ca7b1ce59198c1bf6b8d3bc59963cf9.jpg  \n",
            " extracting: train/images/IMG_2191_JPG.rf.d5c2b9c297323c0b9b475703af54ea81.jpg  \n",
            " extracting: train/images/IMG_2193_JPG.rf.f16092225468d90764fc1e3f5540e0d1.jpg  \n",
            " extracting: train/images/IMG_2194_JPG.rf.eb0bc16e43bf1f4e44a09c8a5a896c29.jpg  \n",
            " extracting: train/images/IMG_2195_JPG.rf.9e9ccb0a156c9374f34822b3d45be81d.jpg  \n",
            " extracting: train/images/IMG_2196_JPG.rf.aa60d44ad1c52b4979e7ac087c963828.jpg  \n",
            " extracting: train/images/IMG_2197_JPG.rf.f66010a9db93628d2d5fd1fe71f8a8f6.jpg  \n",
            " extracting: train/images/IMG_2199_JPG.rf.92b06666eb36b3aad854e3cf5507bd07.jpg  \n",
            " extracting: train/images/IMG_2200_JPG.rf.93c8d7d317bdb0fe22f02e0593945a19.jpg  \n",
            " extracting: train/images/IMG_2202_JPG.rf.8cd096ebb3e813eb93de70dc03b2acb7.jpg  \n",
            " extracting: train/images/IMG_2203_JPG.rf.2c01b9316d96476390a2a9a09bd51f62.jpg  \n",
            " extracting: train/images/IMG_2204_JPG.rf.a1e187b5eab4872f9f80c46fc970e880.jpg  \n",
            " extracting: train/images/IMG_2205_JPG.rf.7eb99d2795d205cdad5b33366f610668.jpg  \n",
            " extracting: train/images/IMG_2207_JPG.rf.1f6a63a5d10374b9781483f8fdcac7aa.jpg  \n",
            " extracting: train/images/IMG_2209_JPG.rf.fd07586ac31c93ff0b7fe7d2ac219066.jpg  \n",
            " extracting: train/images/IMG_2210_JPG.rf.bb69941a6ea60911f731541600172392.jpg  \n",
            " extracting: train/images/IMG_2212_JPG.rf.58ab83d48ea427fb94fe902276acbd83.jpg  \n",
            " extracting: train/images/IMG_2213_JPG.rf.0898f286e0fde42987e4835a41824cd3.jpg  \n",
            " extracting: train/images/IMG_2215_JPG.rf.0542ca9ffa541c57cf7900853d0c30c4.jpg  \n",
            " extracting: train/images/IMG_2216_JPG.rf.c360ce9b67c8c87ec1826f908283411e.jpg  \n",
            " extracting: train/images/IMG_2217_JPG.rf.d8450be748c98b3dd1cf120f24f37703.jpg  \n",
            " extracting: train/images/IMG_2218_JPG.rf.e114d6055f02048ff4d4c000d0db00a1.jpg  \n",
            " extracting: train/images/IMG_2219_JPG.rf.5bf800d7d0979bf2d933be82f0a69d9b.jpg  \n",
            " extracting: train/images/IMG_2220_JPG.rf.c664e3eb615ffe598d590ebda357fd9f.jpg  \n",
            " extracting: train/images/IMG_2221_JPG.rf.a1f7803ced9b1a046fc5490bee7e48ef.jpg  \n",
            " extracting: train/images/IMG_2222_JPG.rf.06f66901ab6aad5d3fda9ef96cca66fa.jpg  \n",
            " extracting: train/images/IMG_2223_JPG.rf.0c2b00440c168187448737ba1a642bf9.jpg  \n",
            " extracting: train/images/IMG_2225_JPG.rf.9af7070c94377e338e4f3ee1e55918aa.jpg  \n",
            " extracting: train/images/IMG_2226_JPG.rf.ee4160127e023827e66edab2d1352c3d.jpg  \n",
            " extracting: train/images/IMG_2227_JPG.rf.d3ef2e8762c0cc35980f4c7156d4d67e.jpg  \n",
            " extracting: train/images/IMG_2228_JPG.rf.6f9eb13dbaa472680a99543db5714206.jpg  \n",
            " extracting: train/images/IMG_2230_JPG.rf.754b27da60f0353d19e853dad58a794a.jpg  \n",
            " extracting: train/images/IMG_2232_JPG.rf.e4285a0b085f3cc8033616493c4d512b.jpg  \n",
            " extracting: train/images/IMG_2233_JPG.rf.74bc2ad50b313dcc8529a3c57a2647ac.jpg  \n",
            " extracting: train/images/IMG_2234_JPG.rf.6117ec6c6ca2d313655c86c3d337651a.jpg  \n",
            " extracting: train/images/IMG_2235_JPG.rf.35ccdf2686e191805b852354c04ad6f1.jpg  \n",
            " extracting: train/images/IMG_2236_JPG.rf.7546f54cd45df1a425c6d5cc23ef19f1.jpg  \n",
            " extracting: train/images/IMG_2237_JPG.rf.e8b4c8024d39e2970addf791f407c7b7.jpg  \n",
            " extracting: train/images/IMG_2239_JPG.rf.2df497b00d4d4568e814734e57f92729.jpg  \n",
            " extracting: train/images/IMG_2240_JPG.rf.33099621b10f2cf88525e71beef5c375.jpg  \n",
            " extracting: train/images/IMG_2241_JPG.rf.8e7bb198bb453bfa981e28d5e78bfcff.jpg  \n",
            " extracting: train/images/IMG_2242_JPG.rf.a75427f4e6bb278fc977f5cf8a920588.jpg  \n",
            " extracting: train/images/IMG_2243_JPG.rf.f35060a176a7b132e185831150864d55.jpg  \n",
            " extracting: train/images/IMG_2244_JPG.rf.39389d3dc276cf185671a4d7809e8517.jpg  \n",
            " extracting: train/images/IMG_2245_JPG.rf.1c333f223a47644e4ee24c2fd9a186d9.jpg  \n",
            " extracting: train/images/IMG_2246_JPG.rf.6d2171ac8986013687aed88bfb794134.jpg  \n",
            " extracting: train/images/IMG_2247_JPG.rf.3de57a1affeb2450cdd016229b1ca0f9.jpg  \n",
            " extracting: train/images/IMG_2248_JPG.rf.e63a5ad3e0b67a5e61828bbb13dd97c2.jpg  \n",
            " extracting: train/images/IMG_2249_JPG.rf.737960cd295a7d1c343b7432d363428d.jpg  \n",
            " extracting: train/images/IMG_2250_JPG.rf.22c0d10bedbd0f2a63302453e7bddd4a.jpg  \n",
            " extracting: train/images/IMG_2251_JPG.rf.3b5e5dba12e8646940a06fdaea6570cf.jpg  \n",
            " extracting: train/images/IMG_2252_JPG.rf.445b5d77c3f8a224e2a6c4ad7ced7153.jpg  \n",
            " extracting: train/images/IMG_2254_JPG.rf.69cc29140bb8e08e0b0333d8ba8336f3.jpg  \n",
            " extracting: train/images/IMG_2255_JPG.rf.69e471dca98c1f0d21ebfad67e3f0c83.jpg  \n",
            " extracting: train/images/IMG_2256_JPG.rf.5a8632ce595c9a6174bc394bad786f6c.jpg  \n",
            " extracting: train/images/IMG_2257_JPG.rf.69065fbdfb42fef3a12dbf9527133567.jpg  \n",
            " extracting: train/images/IMG_2259_JPG.rf.a8d0f0ecff603c3de71e5534b9b4556a.jpg  \n",
            " extracting: train/images/IMG_2260_JPG.rf.945273231b6ea773d684b2832569dd9d.jpg  \n",
            " extracting: train/images/IMG_2261_JPG.rf.ad75749986e4d52ab33e638e2160ef01.jpg  \n",
            " extracting: train/images/IMG_2262_JPG.rf.f0369fa64fded267fd98f2f16a487fd1.jpg  \n",
            " extracting: train/images/IMG_2263_JPG.rf.1fd850488f9de142da8388180a15f51e.jpg  \n",
            " extracting: train/images/IMG_2265_JPG.rf.b01f6314ff3237e2e09990f962ba5d20.jpg  \n",
            " extracting: train/images/IMG_2266_JPG.rf.f6395cccbc918a44cadb0014e39e2716.jpg  \n",
            " extracting: train/images/IMG_2267_JPG.rf.2f966ac27e52b538db9d810319a899a7.jpg  \n",
            " extracting: train/images/IMG_2268_JPG.rf.77faa9a26f9b9c381842800e1002285c.jpg  \n",
            " extracting: train/images/IMG_2269_JPG.rf.48bddaed2b26f36f22f3255f4c05395a.jpg  \n",
            " extracting: train/images/IMG_2271_JPG.rf.398924a0cf617de225ad0b60e5cd6155.jpg  \n",
            " extracting: train/images/IMG_2273_JPG.rf.be1272038366551a4c0e71e622c911a2.jpg  \n",
            " extracting: train/images/IMG_2274_JPG.rf.94c59f080289d838cf4508d9fe49cbb2.jpg  \n",
            " extracting: train/images/IMG_2275_JPG.rf.35068fb50eeea0c524c4698d6edb46bb.jpg  \n",
            " extracting: train/images/IMG_2277_JPG.rf.55ed390abca3ad34a4cbe0f7ca0ee16c.jpg  \n",
            " extracting: train/images/IMG_2279_JPG.rf.d9fa6ae6e8afd34d00f6bd77d04a76fb.jpg  \n",
            " extracting: train/images/IMG_2280_JPG.rf.428816f2e195b446d8a68ddae8bf7cc8.jpg  \n",
            " extracting: train/images/IMG_2281_JPG.rf.2695e2122b6eb782c91bea8ad213af02.jpg  \n",
            " extracting: train/images/IMG_2282_JPG.rf.299c7984efcf66b8aeb5cf912f7e43f0.jpg  \n",
            " extracting: train/images/IMG_2283_JPG.rf.49966ed3141d2120b8197d9ce8a592e3.jpg  \n",
            " extracting: train/images/IMG_2284_JPG.rf.c532fb60c5d2a690da474cc8d515f774.jpg  \n",
            " extracting: train/images/IMG_2285_JPG.rf.5e127d113605259670c1dd68aa0ef69b.jpg  \n",
            " extracting: train/images/IMG_2286_JPG.rf.b8008770ddeed99142d2f68cfb07851a.jpg  \n",
            " extracting: train/images/IMG_2287_JPG.rf.a1527694e4b9275c3ca3499ff162b488.jpg  \n",
            " extracting: train/images/IMG_2288_JPG.rf.ae0c96ab0deea93e4e2e40fc7547d6db.jpg  \n",
            " extracting: train/images/IMG_2289_JPG.rf.e993400e14f5b193910d9ffdf81d55a2.jpg  \n",
            " extracting: train/images/IMG_2290_JPG.rf.e47cc1004c265d9d1572313dbf6460ff.jpg  \n",
            " extracting: train/images/IMG_2291_JPG.rf.e0dbf22c6dd418d62299a298cc0e80fe.jpg  \n",
            " extracting: train/images/IMG_2292_JPG.rf.340338bdc1e52b6542dcfc83e31ab2d3.jpg  \n",
            " extracting: train/images/IMG_2293_JPG.rf.c22faa660cd4ca59895bad2bb5037a09.jpg  \n",
            " extracting: train/images/IMG_2295_JPG.rf.cd9bf832dcf30a30861946c13b162d78.jpg  \n",
            " extracting: train/images/IMG_2296_JPG.rf.2e360a69d2f74deb75872b5a4321af99.jpg  \n",
            " extracting: train/images/IMG_2297_JPG.rf.5315d62d6009f6d35e40360bba466bfb.jpg  \n",
            " extracting: train/images/IMG_2298_JPG.rf.56fe74c354895a450b1ffb1fa62c93e2.jpg  \n",
            " extracting: train/images/IMG_2299_JPG.rf.dd32cc2847f434ae1a5c2638ad3d5f69.jpg  \n",
            " extracting: train/images/IMG_2300_JPG.rf.df30c763c185799604e5300c64d13444.jpg  \n",
            " extracting: train/images/IMG_2301_JPG.rf.e109baa8d8fbb5c93ac420ae507971c8.jpg  \n",
            " extracting: train/images/IMG_2302_JPG.rf.4938e97be7acb2b1e654f9607ed3bf15.jpg  \n",
            " extracting: train/images/IMG_2306_JPG.rf.c85f5d42c5c635e5c21de747b0b1387b.jpg  \n",
            " extracting: train/images/IMG_2307_JPG.rf.dc5313f61d4e6782a0033e2ba452c6dc.jpg  \n",
            " extracting: train/images/IMG_2308_JPG.rf.7359bb9103ca3ec9bf034fc0b7351c4f.jpg  \n",
            " extracting: train/images/IMG_2310_JPG.rf.d350e139ae94584cc642f4776e57c0ff.jpg  \n",
            " extracting: train/images/IMG_2311_JPG.rf.375885c211ce54133d45bd3f6386f966.jpg  \n",
            " extracting: train/images/IMG_2312_JPG.rf.80a71931ee67ce12abeb9f445c30ab61.jpg  \n",
            " extracting: train/images/IMG_2313_JPG.rf.7d74ea3e39924c00f9b04f74e469f07b.jpg  \n",
            " extracting: train/images/IMG_2314_JPG.rf.45a0eb47cb5dad55f21139c4767db4dd.jpg  \n",
            " extracting: train/images/IMG_2315_JPG.rf.e551171247602c035be1dc34e687704e.jpg  \n",
            " extracting: train/images/IMG_2316_JPG.rf.f04a4c32916e13d9b6d3383904153b44.jpg  \n",
            " extracting: train/images/IMG_2319_JPG.rf.78f0186243958180b61878b52fa53d22.jpg  \n",
            " extracting: train/images/IMG_2320_JPG.rf.6b2de3a73dff77083f749089db0ae7b8.jpg  \n",
            " extracting: train/images/IMG_2321_JPG.rf.c84795e37e8c334d264df932d0ccbca0.jpg  \n",
            " extracting: train/images/IMG_2322_JPG.rf.078278521821b1ffa171a7c8b186f83e.jpg  \n",
            " extracting: train/images/IMG_2325_JPG.rf.856a13c54494ce9f17a0f0495500b57e.jpg  \n",
            " extracting: train/images/IMG_2327_JPG.rf.13c3b08340c48d0316c98d2c9e64212a.jpg  \n",
            " extracting: train/images/IMG_2330_JPG.rf.8865db325d3764a4373710557576b806.jpg  \n",
            " extracting: train/images/IMG_2331_JPG.rf.3e7f78a100117a2781da15063fb621b0.jpg  \n",
            " extracting: train/images/IMG_2332_JPG.rf.4c7f8e3b7bab2c212473987bc018ae29.jpg  \n",
            " extracting: train/images/IMG_2333_JPG.rf.55526b7a909c7ea206216edcfc8d4209.jpg  \n",
            " extracting: train/images/IMG_2336_JPG.rf.cd41ee7e87672db184197dd32bd50508.jpg  \n",
            " extracting: train/images/IMG_2337_JPG.rf.459ba74672785a4becf2530cf43b2516.jpg  \n",
            " extracting: train/images/IMG_2340_JPG.rf.487cb589048ef43ab4cb990de3ff5823.jpg  \n",
            " extracting: train/images/IMG_2341_JPG.rf.4dd382033befb680b9fe7f1c598bc593.jpg  \n",
            " extracting: train/images/IMG_2342_JPG.rf.b1f5d1d54810970cf8c7e3e251bba069.jpg  \n",
            " extracting: train/images/IMG_2343_JPG.rf.1761dda73873dd9f20a205e05668a2d4.jpg  \n",
            " extracting: train/images/IMG_2344_JPG.rf.2ba9a16b221d407d8bb0ca9420a37632.jpg  \n",
            " extracting: train/images/IMG_2345_JPG.rf.3bd21744861625352f19269ca396540d.jpg  \n",
            " extracting: train/images/IMG_2346_JPG.rf.f86226998f18fd8a1304509e0b8b8939.jpg  \n",
            " extracting: train/images/IMG_2347_JPG.rf.c93946846e6906275167f292e7593eba.jpg  \n",
            " extracting: train/images/IMG_2350_JPG.rf.4d30b016b09eef7781669ac986a5124b.jpg  \n",
            " extracting: train/images/IMG_2351_JPG.rf.8bf03eb48e66e0393509248713936aac.jpg  \n",
            " extracting: train/images/IMG_2352_JPG.rf.960f1f66c12d41874697a0c9df9bf4b0.jpg  \n",
            " extracting: train/images/IMG_2353_JPG.rf.b6ad2cf556656236f62fd0e8713ffd21.jpg  \n",
            " extracting: train/images/IMG_2354_JPG.rf.c541be3655c2ccd3fa6206164c447cfa.jpg  \n",
            " extracting: train/images/IMG_2355_JPG.rf.5cf56fa5e880acd3f365559be4e0088e.jpg  \n",
            " extracting: train/images/IMG_2357_JPG.rf.636d30d1c18f42edf2e9f290a348140e.jpg  \n",
            " extracting: train/images/IMG_2358_JPG.rf.d1a95af2442deea6dc9ee2e373238dbc.jpg  \n",
            " extracting: train/images/IMG_2359_JPG.rf.de044216e4d26a827e5f4016b787bd99.jpg  \n",
            " extracting: train/images/IMG_2360_JPG.rf.bdfb42286d8f51c1244d7bd346696920.jpg  \n",
            " extracting: train/images/IMG_2362_JPG.rf.32147f5c1bfb183e1c627b5390581fac.jpg  \n",
            " extracting: train/images/IMG_2363_JPG.rf.61c2127350d6d759f81ed2710506f925.jpg  \n",
            " extracting: train/images/IMG_2364_JPG.rf.566130c92a653a13bffba626dc962d72.jpg  \n",
            " extracting: train/images/IMG_2365_JPG.rf.ef3dd9d5839433769c1f446d51707030.jpg  \n",
            " extracting: train/images/IMG_2366_JPG.rf.1a4725bb2397292d790a36511f691f53.jpg  \n",
            " extracting: train/images/IMG_2367_JPG.rf.4de5cdd5d48ae9e4f48e319bfe71f880.jpg  \n",
            " extracting: train/images/IMG_2368_JPG.rf.1e2c9bff7e6ae162dff60160b19179bb.jpg  \n",
            " extracting: train/images/IMG_2369_JPG.rf.07279cbb1fd85168185095e4ef5284f4.jpg  \n",
            " extracting: train/images/IMG_2370_JPG.rf.b0605e85c75283b479936f40a1903ba0.jpg  \n",
            " extracting: train/images/IMG_2371_JPG.rf.5280665d92f843f9f9e30287ede5ac6b.jpg  \n",
            " extracting: train/images/IMG_2372_JPG.rf.83a66e123f923a5787dedd8fad5fe913.jpg  \n",
            " extracting: train/images/IMG_2374_JPG.rf.fb61672db598665daa8f1c97db1dd17e.jpg  \n",
            " extracting: train/images/IMG_2375_JPG.rf.8c08a44d9537abd98a3633dc02708a0b.jpg  \n",
            " extracting: train/images/IMG_2376_JPG.rf.bdb95a2851109dab04bd7d723dc1526f.jpg  \n",
            " extracting: train/images/IMG_2377_JPG.rf.6a0d70c497977d398ffafe41260dbffc.jpg  \n",
            " extracting: train/images/IMG_2378_JPG.rf.4a3b1dc4f3a3d6788c702734a5309dee.jpg  \n",
            " extracting: train/images/IMG_2380_JPG.rf.95498cfecb02e2535c0226c163bfc60e.jpg  \n",
            " extracting: train/images/IMG_2381_JPG.rf.86be7d43cf501149a60a5e1e84193d1d.jpg  \n",
            " extracting: train/images/IMG_2383_JPG.rf.0f84c22d98bdb4b47ea897261101be48.jpg  \n",
            " extracting: train/images/IMG_2384_JPG.rf.7070e3cf8179a69ac3b5a405175bb081.jpg  \n",
            " extracting: train/images/IMG_2385_JPG.rf.8dd8ae1f3732cdd614ac1002c1b20745.jpg  \n",
            " extracting: train/images/IMG_2386_JPG.rf.5086cf1d3c8bbf04d2a41f41e35ef9d8.jpg  \n",
            " extracting: train/images/IMG_2387_JPG.rf.aba8dd57125185e4211574db46ac5f21.jpg  \n",
            " extracting: train/images/IMG_2399_JPG.rf.1916380806bdd1ffd95f2c97a45fede4.jpg  \n",
            " extracting: train/images/IMG_2400_JPG.rf.fa9ea52e0bd6dd09d40cc9ecd81f5c33.jpg  \n",
            " extracting: train/images/IMG_2401_JPG.rf.29bd9fed6696bbcecdf20860782be444.jpg  \n",
            " extracting: train/images/IMG_2402_JPG.rf.21a28a7753d89052435b3cb085f4b3d4.jpg  \n",
            " extracting: train/images/IMG_2403_JPG.rf.223d89caf37777a51a4006fcffe2b653.jpg  \n",
            " extracting: train/images/IMG_2404_JPG.rf.a044ad17e397c31fd5853e6820fddaa2.jpg  \n",
            " extracting: train/images/IMG_2405_JPG.rf.e6b5f02150df9c9455a05925e8b78ea3.jpg  \n",
            " extracting: train/images/IMG_2406_JPG.rf.3fdf82780adcb9264ce83a9bd2931fc8.jpg  \n",
            " extracting: train/images/IMG_2407_JPG.rf.facaa01435e28ecb14f8742791beaa19.jpg  \n",
            " extracting: train/images/IMG_2408_JPG.rf.5672460e59b4b823e5dd5284a5e7e80f.jpg  \n",
            " extracting: train/images/IMG_2409_JPG.rf.e18e9a904967dcb0a20db17ddd5e2fc8.jpg  \n",
            " extracting: train/images/IMG_2410_JPG.rf.0d0bdff849b1a67b97aa722641378f11.jpg  \n",
            " extracting: train/images/IMG_2411_JPG.rf.268e53fe92a06fa03b3297c307b76977.jpg  \n",
            " extracting: train/images/IMG_2412_JPG.rf.a4750eb81e6378625f156ef542b24690.jpg  \n",
            " extracting: train/images/IMG_2413_JPG.rf.b1fbee4b1adcd578ca9666c544d5fc05.jpg  \n",
            " extracting: train/images/IMG_2414_JPG.rf.1d0a8c9f05a82125bf02ff78c17aea5b.jpg  \n",
            " extracting: train/images/IMG_2415_JPG.rf.d0b6d5a64a152cae43b690d3d85e0a4d.jpg  \n",
            " extracting: train/images/IMG_2417_JPG.rf.4f9836ce05613c3a6098e2902ca79598.jpg  \n",
            " extracting: train/images/IMG_2420_JPG.rf.4ecb9333b960a9b3f4691142bf632486.jpg  \n",
            " extracting: train/images/IMG_2422_JPG.rf.64c80219f8ac9022182a8c401594bf0a.jpg  \n",
            " extracting: train/images/IMG_2424_JPG.rf.db40db981ccb0abc5fb2c8d0c2cda6eb.jpg  \n",
            " extracting: train/images/IMG_2425_JPG.rf.50736b43d70b278e972ea168c00849bf.jpg  \n",
            " extracting: train/images/IMG_2426_JPG.rf.395ae4dfb40dd222f627999e5de8d6b5.jpg  \n",
            " extracting: train/images/IMG_2427_JPG.rf.9f93d95b2563b0a2e5d232836e76137c.jpg  \n",
            " extracting: train/images/IMG_2428_JPG.rf.a290efec6c63b81c9400b0e7fec8b53f.jpg  \n",
            " extracting: train/images/IMG_2430_JPG.rf.ce1d571b324432481f6bac7825b194fd.jpg  \n",
            " extracting: train/images/IMG_2432_JPG.rf.57767e34fceac8ec9fd7e1420524ebc4.jpg  \n",
            " extracting: train/images/IMG_2434_JPG.rf.f40e130f97e13fa8a5eabe72250302e1.jpg  \n",
            " extracting: train/images/IMG_2435_JPG.rf.069f989256b356b94fd1e51d20fcbcc0.jpg  \n",
            " extracting: train/images/IMG_2436_JPG.rf.88eb4384df8a0482899d268e7f570a65.jpg  \n",
            " extracting: train/images/IMG_2437_JPG.rf.68d0f2972d085086759e053bd3d3b51c.jpg  \n",
            " extracting: train/images/IMG_2438_JPG.rf.8b160a0cfa27cd593e93d0ac6c552c89.jpg  \n",
            " extracting: train/images/IMG_2439_JPG.rf.664ea58ef8f221bdd18466c9d78aec74.jpg  \n",
            " extracting: train/images/IMG_2440_JPG.rf.739156632282d9670ee32387d376753c.jpg  \n",
            " extracting: train/images/IMG_2441_JPG.rf.6961226f38fda248969298fb39862ced.jpg  \n",
            " extracting: train/images/IMG_2442_JPG.rf.6c308720276ffb22ecef2538ca894acd.jpg  \n",
            " extracting: train/images/IMG_2443_JPG.rf.5924b4b8bfcbcdcc17e32269b6ca3036.jpg  \n",
            " extracting: train/images/IMG_2444_JPG.rf.032ef15abff463adb491fa54413e8c1f.jpg  \n",
            " extracting: train/images/IMG_2445_JPG.rf.5738ab6cd3b3fe54bc81ab702f86ef49.jpg  \n",
            " extracting: train/images/IMG_2446_JPG.rf.0d3acff52076907093e91dccd2a8addf.jpg  \n",
            " extracting: train/images/IMG_2448_JPG.rf.2a6c56bf88f1eb28b7b78348699687e6.jpg  \n",
            " extracting: train/images/IMG_2449_JPG.rf.5469388e5cc571aead2f9e145c759ecf.jpg  \n",
            " extracting: train/images/IMG_2450_JPG.rf.25ca41a4cf8cc528b445ae16f5cc2062.jpg  \n",
            " extracting: train/images/IMG_2451_JPG.rf.7f48f6e34f7c6e0a5729bc6233f68cd5.jpg  \n",
            " extracting: train/images/IMG_2452_JPG.rf.f70c2eb0f4460c8f2976ae37cc660734.jpg  \n",
            " extracting: train/images/IMG_2453_JPG.rf.6839d32dd01bb8ce6ede11e1208e0830.jpg  \n",
            " extracting: train/images/IMG_2455_JPG.rf.fc45bdccae63026caab9090909e2be30.jpg  \n",
            " extracting: train/images/IMG_2456_JPG.rf.dc855c764965059add86b11aaf846abf.jpg  \n",
            " extracting: train/images/IMG_2457_JPG.rf.34f001a6d1b04933bd45f7f0de9c929b.jpg  \n",
            " extracting: train/images/IMG_2458_JPG.rf.377c99c7164b23020cdd9e47c5d3c4f8.jpg  \n",
            " extracting: train/images/IMG_2459_JPG.rf.711c9e40a47b17162236c4c69b4a9e49.jpg  \n",
            " extracting: train/images/IMG_2460_JPG.rf.739b36a49bb7a5baa708443c6cb75c1c.jpg  \n",
            " extracting: train/images/IMG_2461_JPG.rf.1606670fc39dbd78b05a85430b3a4cd8.jpg  \n",
            " extracting: train/images/IMG_2462_JPG.rf.6992e0fd66052226c7eaa8bb45ce710b.jpg  \n",
            " extracting: train/images/IMG_2463_JPG.rf.3c71cd9e39e73cb794232a22f13bda12.jpg  \n",
            " extracting: train/images/IMG_2464_JPG.rf.efe082601fbff90156f4ec284ee3839f.jpg  \n",
            " extracting: train/images/IMG_2465_JPG.rf.199872c474fa6c1306e9f65510e30b66.jpg  \n",
            " extracting: train/images/IMG_2466_JPG.rf.6dd75c7c071ab32ee1214756b934675b.jpg  \n",
            " extracting: train/images/IMG_2467_JPG.rf.a005368239525be3929d4072537d9092.jpg  \n",
            " extracting: train/images/IMG_2468_JPG.rf.e74116000751a105d747bccb884f1aec.jpg  \n",
            " extracting: train/images/IMG_2469_JPG.rf.c7d5bb9f6c1e46c43810477a7a0f7b07.jpg  \n",
            " extracting: train/images/IMG_2470_JPG.rf.29bfa90932ee77c6e476b0aebd58145e.jpg  \n",
            " extracting: train/images/IMG_2473_JPG.rf.3432a0559ee7043e70d2d128ec28b206.jpg  \n",
            " extracting: train/images/IMG_2474_JPG.rf.a7752f21c57eb69d3cf6f3bf40fd4968.jpg  \n",
            " extracting: train/images/IMG_2475_JPG.rf.b9081a220bf104c982214bd618cd4c77.jpg  \n",
            " extracting: train/images/IMG_2476_JPG.rf.86a0ec72f7f5fd74e714e56794d2bb54.jpg  \n",
            " extracting: train/images/IMG_2477_JPG.rf.7c0cf071f8fb5d88a6c47a8094d33bc1.jpg  \n",
            " extracting: train/images/IMG_2478_JPG.rf.f0f93ebb11f0962604aaa58c8425f15c.jpg  \n",
            " extracting: train/images/IMG_2479_JPG.rf.2bb7116eaf3eff9b808ad8e20394d43d.jpg  \n",
            " extracting: train/images/IMG_2480_JPG.rf.2aed078755d309ab2980f59d922a7201.jpg  \n",
            " extracting: train/images/IMG_2481_JPG.rf.a7ede2aa1c51cb8b379f964a5ee559a3.jpg  \n",
            " extracting: train/images/IMG_2483_JPG.rf.fb05ac390e824c674813292b3c910221.jpg  \n",
            " extracting: train/images/IMG_2485_JPG.rf.e93128f500e1ea14ae07549983384306.jpg  \n",
            " extracting: train/images/IMG_2486_JPG.rf.dee472bfdb0e7dc275c6b4bee55c950f.jpg  \n",
            " extracting: train/images/IMG_2487_JPG.rf.2dbfccb38860d7bdc56b1823b7bdcfee.jpg  \n",
            " extracting: train/images/IMG_2488_JPG.rf.d799577fe5fb2144cccbab7b8af94132.jpg  \n",
            " extracting: train/images/IMG_2489_JPG.rf.65bd0b32885d8afa85d9543443cbc8cc.jpg  \n",
            " extracting: train/images/IMG_2492_JPG.rf.181ac9c475743289f8f03d2b3f5b1f10.jpg  \n",
            " extracting: train/images/IMG_2493_JPG.rf.516f1b754f02dc581a008502e681945d.jpg  \n",
            " extracting: train/images/IMG_2494_JPG.rf.4a0df8f95fb2fc4f909c2fa160921842.jpg  \n",
            " extracting: train/images/IMG_2495_JPG.rf.c05ad8704e6cfae16e9fd5cfd6bf1135.jpg  \n",
            " extracting: train/images/IMG_2496_JPG.rf.6b98838df3bb6432bfdeddbecbf5f72d.jpg  \n",
            " extracting: train/images/IMG_2497_JPG.rf.d6b7db7003a0a1da5be29983cfc97652.jpg  \n",
            " extracting: train/images/IMG_2498_JPG.rf.3584963ac9956435e2e7e0b1e0aa940e.jpg  \n",
            " extracting: train/images/IMG_2499_JPG.rf.6b06e32e91bee5e5c5ad33b34bcb0a34.jpg  \n",
            " extracting: train/images/IMG_2501_JPG.rf.3ce9c4d5e5e887c88209e4c3957cdbd6.jpg  \n",
            " extracting: train/images/IMG_2502_JPG.rf.6d1e85b9b89ed47ab00a567c2d998410.jpg  \n",
            " extracting: train/images/IMG_2504_JPG.rf.818cc2a9de87669872b95ade382d641b.jpg  \n",
            " extracting: train/images/IMG_2505_JPG.rf.b2f0664c742971c925c3e71f5c736191.jpg  \n",
            " extracting: train/images/IMG_2506_JPG.rf.60dc0e585101b6ef7089421b49e9ae62.jpg  \n",
            " extracting: train/images/IMG_2507_JPG.rf.42cbe7a5409c35562acc9e4a6e6fcf0a.jpg  \n",
            " extracting: train/images/IMG_2508_JPG.rf.1105473ca66020aca4437e25fa5a343d.jpg  \n",
            " extracting: train/images/IMG_2509_JPG.rf.6b314a20cf1598659c94e9e0aea0c331.jpg  \n",
            " extracting: train/images/IMG_2510_JPG.rf.bf1ad43667750d89dfa07337b76b1e16.jpg  \n",
            " extracting: train/images/IMG_2511_JPG.rf.d6547a57bbc5b3cc9274486bf57db2fc.jpg  \n",
            " extracting: train/images/IMG_2512_JPG.rf.5cf6737785d6ec59a884d663c05d42a2.jpg  \n",
            " extracting: train/images/IMG_2513_JPG.rf.eb6ad3d09d8304063cf4e1ffbfea7353.jpg  \n",
            " extracting: train/images/IMG_2515_JPG.rf.6ca66f3e8a19e2c09dcf36a5f89e53a5.jpg  \n",
            " extracting: train/images/IMG_2516_JPG.rf.adc5d3176ab0e7c33c1683f7f999e23a.jpg  \n",
            " extracting: train/images/IMG_2517_JPG.rf.b055d8f3abb2f72cec4b79d2802ad623.jpg  \n",
            " extracting: train/images/IMG_2518_JPG.rf.2aeeebbd9620a06fdeb6f790a76e381b.jpg  \n",
            " extracting: train/images/IMG_2519_JPG.rf.e5547ee8d2668754d5b041206e801b0a.jpg  \n",
            " extracting: train/images/IMG_2520_JPG.rf.b356cde891946dbf9a647e16d4e83184.jpg  \n",
            " extracting: train/images/IMG_2522_JPG.rf.ef394fefdc827fa8c166f1de3bca3b4c.jpg  \n",
            " extracting: train/images/IMG_2523_JPG.rf.a10cd159f4eb07d85444dac67d7800d5.jpg  \n",
            " extracting: train/images/IMG_2524_JPG.rf.04ab5c5244e37f299085ffee685c6caa.jpg  \n",
            " extracting: train/images/IMG_2525_JPG.rf.64d84d683fcd87d96f3102c7133a66b5.jpg  \n",
            " extracting: train/images/IMG_2526_JPG.rf.3154906437d03fd094b8e74f238914ad.jpg  \n",
            " extracting: train/images/IMG_2527_JPG.rf.0d91ddf156df2d3a517ce44a31f823fa.jpg  \n",
            " extracting: train/images/IMG_2529_JPG.rf.a9f1b2354a9107f69d5982a8f471ec38.jpg  \n",
            " extracting: train/images/IMG_2530_JPG.rf.c8f6355d1a85dd90c5c75806cb53e074.jpg  \n",
            " extracting: train/images/IMG_2531_JPG.rf.aca129be141543458ef95bd0edb08e6b.jpg  \n",
            " extracting: train/images/IMG_2532_JPG.rf.4f6198e302e2c178cee7a011887d8847.jpg  \n",
            " extracting: train/images/IMG_2533_JPG.rf.1acb38e4b51b711e719a606bfff7b8a7.jpg  \n",
            " extracting: train/images/IMG_2534_JPG.rf.146516186052cafc58a76652b568afa8.jpg  \n",
            " extracting: train/images/IMG_2535_JPG.rf.7e68cb49325843c377653d1bf3e72e06.jpg  \n",
            " extracting: train/images/IMG_2536_JPG.rf.1914506d1618d30a0b05cfa30bdb22ed.jpg  \n",
            " extracting: train/images/IMG_2538_JPG.rf.1ebb60d0d49852539ea747c0003dae24.jpg  \n",
            " extracting: train/images/IMG_2539_JPG.rf.741b38c7fbed8e52a2b638952bda20ab.jpg  \n",
            " extracting: train/images/IMG_2540_JPG.rf.c4d74f28268c5defa61fb2d9748262f0.jpg  \n",
            " extracting: train/images/IMG_2541_JPG.rf.6d7bb7fc553d8e05d7c838c713c1c49b.jpg  \n",
            " extracting: train/images/IMG_2542_JPG.rf.4508b87ffbb7f796f452f0ba24c315ac.jpg  \n",
            " extracting: train/images/IMG_2543_JPG.rf.cd9d41a7b7fb51765b689e0160054032.jpg  \n",
            " extracting: train/images/IMG_2544_JPG.rf.0b47e78415f0efb60969abe989eb809c.jpg  \n",
            " extracting: train/images/IMG_2545_JPG.rf.83547b7523d8b6aeb9b30f9077a9773a.jpg  \n",
            " extracting: train/images/IMG_2546_JPG.rf.3a1b751ae721a533eb71fa85a0f0d0f2.jpg  \n",
            " extracting: train/images/IMG_2548_JPG.rf.ce95e205089a935832597fe0be18ac7a.jpg  \n",
            " extracting: train/images/IMG_2549_JPG.rf.1a47f695bdf15578fb7e99b788182e29.jpg  \n",
            " extracting: train/images/IMG_2550_JPG.rf.f5b6270236bb6f326d7422347ca9ae34.jpg  \n",
            " extracting: train/images/IMG_2552_JPG.rf.23cbb5279a8b3ac0820e2fda19d61fc2.jpg  \n",
            " extracting: train/images/IMG_2553_JPG.rf.073e495f12c5c40e5c6b61a3cd1c6494.jpg  \n",
            " extracting: train/images/IMG_2554_JPG.rf.63a0d367697c42f0447f169a7804f6bf.jpg  \n",
            " extracting: train/images/IMG_2555_JPG.rf.ecb266c597013f4f94090bf2add60191.jpg  \n",
            " extracting: train/images/IMG_2557_JPG.rf.4ac05daf680a4ac7569f66d9d681e03b.jpg  \n",
            " extracting: train/images/IMG_2558_JPG.rf.01895fc8ac8ea2481863f0a3c5d07fad.jpg  \n",
            " extracting: train/images/IMG_2560_JPG.rf.c6fc182f69ffedac6bb3bb0295e42bf9.jpg  \n",
            " extracting: train/images/IMG_2561_JPG.rf.7d11bf650f295c95486f4199d5a7967f.jpg  \n",
            " extracting: train/images/IMG_2562_JPG.rf.ca4e026bfe43371f0af756cbd133a162.jpg  \n",
            " extracting: train/images/IMG_2563_JPG.rf.0afe4f092f28ed2620e010352376b292.jpg  \n",
            " extracting: train/images/IMG_2564_JPG.rf.f71689db4b1b26197239c695f89af57d.jpg  \n",
            " extracting: train/images/IMG_2565_JPG.rf.e3b0aea47dbdc577750ee63cce99376a.jpg  \n",
            " extracting: train/images/IMG_2566_JPG.rf.7efdfe92e0d13b4f2c016aa00ebb683a.jpg  \n",
            " extracting: train/images/IMG_2569_JPG.rf.d87a5ed3504a34f25f58ee01b4b0a07b.jpg  \n",
            " extracting: train/images/IMG_2570_JPG.rf.84951229e0492c9ace8a1eb5e7d9d641.jpg  \n",
            " extracting: train/images/IMG_2572_JPG.rf.942cad9b2c6c1f32438b94898995ac27.jpg  \n",
            " extracting: train/images/IMG_2573_JPG.rf.36b319e8c81b2d8531f59c8ca12d07e8.jpg  \n",
            " extracting: train/images/IMG_2575_JPG.rf.c1ed8c8aa1fedc22c55615bbbb5adb27.jpg  \n",
            " extracting: train/images/IMG_2576_JPG.rf.ab14f617dd1af249133bea950b21801c.jpg  \n",
            " extracting: train/images/IMG_2577_JPG.rf.8cb177a05958b0a96f61abf3615b2aee.jpg  \n",
            " extracting: train/images/IMG_2579_JPG.rf.3457aa19d47f4f2cc8348a11b4cd4442.jpg  \n",
            " extracting: train/images/IMG_2580_JPG.rf.662aaa02942ab8bcc9de3740e63ad068.jpg  \n",
            " extracting: train/images/IMG_2581_JPG.rf.9753daadcd24858c79cfc370e72d3bf6.jpg  \n",
            " extracting: train/images/IMG_2582_JPG.rf.a49f02193bbe040cbe04f3a193eab1b7.jpg  \n",
            " extracting: train/images/IMG_2583_JPG.rf.69b60195c55d5ad05ac7b3edf396f4aa.jpg  \n",
            " extracting: train/images/IMG_2584_JPG.rf.012a425900ea19a5df4a2a41f04c7686.jpg  \n",
            " extracting: train/images/IMG_2585_JPG.rf.881fb331598f6481fbbdeac7ce995cbe.jpg  \n",
            " extracting: train/images/IMG_2586_JPG.rf.223a78cb4523bd2f5ef1b8b3cb460d0d.jpg  \n",
            " extracting: train/images/IMG_2587_JPG.rf.5ff130b73295c8c8d01b26952dfad6f5.jpg  \n",
            " extracting: train/images/IMG_2588_JPG.rf.70cd343c7391b5b2359b3ee3d6144f9a.jpg  \n",
            " extracting: train/images/IMG_2589_JPG.rf.5212a7d13fe088875b5e9390fd2e603e.jpg  \n",
            " extracting: train/images/IMG_2590_JPG.rf.57f929621ec86449f37ccfc64d5c118b.jpg  \n",
            " extracting: train/images/IMG_2591_JPG.rf.12e1bcf0dd2b8e146716a1da65f5f5a7.jpg  \n",
            " extracting: train/images/IMG_2592_JPG.rf.3ff234747a61bf081346a7aea438ccef.jpg  \n",
            " extracting: train/images/IMG_2593_JPG.rf.b2f6179affdbafff2ac8f3c780619a19.jpg  \n",
            " extracting: train/images/IMG_2594_JPG.rf.e557b85f4d5eeaa1676de6e3876b5d0b.jpg  \n",
            " extracting: train/images/IMG_2595_JPG.rf.15312af4e0180828d5047cfd3831f938.jpg  \n",
            " extracting: train/images/IMG_2596_JPG.rf.ee0c175cf69b6295fb67fba14940e161.jpg  \n",
            " extracting: train/images/IMG_2598_JPG.rf.daf5acc4f3662f8dd6e8548fa3a4b7ef.jpg  \n",
            " extracting: train/images/IMG_2599_JPG.rf.62cc68ef7f7e8936cbae71bdd9b4096a.jpg  \n",
            " extracting: train/images/IMG_2600_JPG.rf.c1de1957aeba9fd49dbb8fdca96774b1.jpg  \n",
            " extracting: train/images/IMG_2601_JPG.rf.b3065f8d9dba92042c14fea509513ccc.jpg  \n",
            " extracting: train/images/IMG_2602_JPG.rf.5c043ce7139955ee7bc7115effa21300.jpg  \n",
            " extracting: train/images/IMG_2603_JPG.rf.7726e53d17517159d21f9ddd74257777.jpg  \n",
            " extracting: train/images/IMG_2604_JPG.rf.5340ec2f533af61447571f5657a8458b.jpg  \n",
            " extracting: train/images/IMG_2605_JPG.rf.69d32503c24b2d27c76f2b72edf5f565.jpg  \n",
            " extracting: train/images/IMG_2606_JPG.rf.92bb8f01d1a3c2e5f80938997a2ae4fa.jpg  \n",
            " extracting: train/images/IMG_2607_JPG.rf.ced69442e6f4b7fd38a808392326f684.jpg  \n",
            " extracting: train/images/IMG_2608_JPG.rf.f5820c9de83d1882d81e8428c68acd9a.jpg  \n",
            " extracting: train/images/IMG_2609_JPG.rf.1050675f45d5ea1b3c9e7fdd45c734e8.jpg  \n",
            " extracting: train/images/IMG_2610_JPG.rf.da34af234b5e41f43467870fc2713efe.jpg  \n",
            " extracting: train/images/IMG_2611_JPG.rf.280f04f7399be54d4b670883e669f991.jpg  \n",
            " extracting: train/images/IMG_2613_JPG.rf.85633a3ccdc23d4c726b54c4f51131a5.jpg  \n",
            " extracting: train/images/IMG_2614_JPG.rf.b50dca8a26d4e39ce835f2f4e8ece518.jpg  \n",
            " extracting: train/images/IMG_2616_JPG.rf.4a33c9e093587f498a29e73c4eb1a295.jpg  \n",
            " extracting: train/images/IMG_2618_JPG.rf.73cd1fb02ccb2127f6ddf4db16c09f0a.jpg  \n",
            " extracting: train/images/IMG_2619_JPG.rf.54ba663b0ae2215abedebe28c1ce3014.jpg  \n",
            " extracting: train/images/IMG_2620_JPG.rf.d4079c597e5c39f5f30de9a3e769c41c.jpg  \n",
            " extracting: train/images/IMG_2621_JPG.rf.58eed3fc274b330c9935493bbb4247dd.jpg  \n",
            " extracting: train/images/IMG_2622_JPG.rf.e7b706f3418b96f5a33199f59f85aa7b.jpg  \n",
            " extracting: train/images/IMG_2623_JPG.rf.5f42c535e4dc8629606585a2da77380c.jpg  \n",
            " extracting: train/images/IMG_2624_JPG.rf.e0741fed61506f7f9c7d80bd35f43c5e.jpg  \n",
            " extracting: train/images/IMG_2625_JPG.rf.8ad69f5fa5ddd433137a9a94c8710f7d.jpg  \n",
            " extracting: train/images/IMG_2628_JPG.rf.412b451efd8e405387928b9d0aaf684f.jpg  \n",
            " extracting: train/images/IMG_2630_JPG.rf.c9c63bce626ce694947a0677c62ad1f0.jpg  \n",
            " extracting: train/images/IMG_2631_JPG.rf.ea0e53bf2069cec57f5821fa6f1bd32c.jpg  \n",
            " extracting: train/images/IMG_2632_JPG.rf.7de10193820da4f15b06085512e439b3.jpg  \n",
            " extracting: train/images/IMG_2633_JPG.rf.ebca1926cf84be8e67896b952b78182d.jpg  \n",
            " extracting: train/images/IMG_2634_JPG.rf.f33e16634f8934f3dafa194429be08e3.jpg  \n",
            " extracting: train/images/IMG_2635_JPG.rf.41590bead4e97d842e8d432542ec22ba.jpg  \n",
            " extracting: train/images/IMG_2636_JPG.rf.68a88b5b12af611a6864c47b2e171643.jpg  \n",
            " extracting: train/images/IMG_2637_JPG.rf.bcaa60a8a2c3e7a04f7774db09962c72.jpg  \n",
            " extracting: train/images/IMG_2638_JPG.rf.0a0264d5a28c0269227e0e8bc35cd8da.jpg  \n",
            " extracting: train/images/IMG_2639_JPG.rf.f05da4b85bc1cd23eac7b382904b9a09.jpg  \n",
            " extracting: train/images/IMG_2640_JPG.rf.b75ee1174cfd7725e65be6f386cd0c36.jpg  \n",
            " extracting: train/images/IMG_2641_JPG.rf.6a1a9ce3d07bf90a0968ad6d059737ff.jpg  \n",
            " extracting: train/images/IMG_2642_JPG.rf.2557338d42bdc8686d2baa22de16fda6.jpg  \n",
            " extracting: train/images/IMG_2643_JPG.rf.2bb85848b47a02dd748ddc0306276314.jpg  \n",
            " extracting: train/images/IMG_2644_JPG.rf.113ccc30e182e51ef381d9f733a76f15.jpg  \n",
            " extracting: train/images/IMG_2646_JPG.rf.9f9d709b5de042cac36ba33cd94aa48e.jpg  \n",
            " extracting: train/images/IMG_2647_JPG.rf.9c920457f3c8698b10be8ab5d8894b3a.jpg  \n",
            " extracting: train/images/IMG_2648_JPG.rf.7d5acdd179d170106253a6890ca75146.jpg  \n",
            " extracting: train/images/IMG_2650_JPG.rf.6b4389025db1bcc23b7f8ad012f7328b.jpg  \n",
            " extracting: train/images/IMG_2651_JPG.rf.42110e7bef56618b4aa5fd900b699c92.jpg  \n",
            " extracting: train/images/IMG_2652_JPG.rf.291a3d748b37fcdca4b344d77f83d1ca.jpg  \n",
            " extracting: train/images/IMG_2653_JPG.rf.783866eff01039bf49271adda29c5bc6.jpg  \n",
            " extracting: train/images/IMG_2654_JPG.rf.c49ed9d808e6532e6f6f5aab08a37250.jpg  \n",
            " extracting: train/images/IMG_2655_JPG.rf.7e6515f11c5c51e7f8d72360b467751d.jpg  \n",
            " extracting: train/images/IMG_2658_JPG.rf.a7f9bf81e5592ee6f4a5a65fac825f00.jpg  \n",
            " extracting: train/images/IMG_2659_JPG.rf.ad04f50c51c24d6159bb5def30b981fc.jpg  \n",
            " extracting: train/images/IMG_2660_JPG.rf.d4b3228de13e237286feb5b34c696a11.jpg  \n",
            " extracting: train/images/IMG_2661_JPG.rf.58789c043e86a2948b10c332ea35b820.jpg  \n",
            " extracting: train/images/IMG_2662_JPG.rf.aee8fc62168f217a1e9d0219861b2c95.jpg  \n",
            " extracting: train/images/IMG_2663_JPG.rf.c4d0fcb501561630c6471b2ede3a80f1.jpg  \n",
            " extracting: train/images/IMG_2664_JPG.rf.bbbc59a9b0bc69cd4cbd67eb9756142c.jpg  \n",
            " extracting: train/images/IMG_2665_JPG.rf.387eb6ecd774ca10dded82a55d11d625.jpg  \n",
            " extracting: train/images/IMG_2666_JPG.rf.5550367a5faa4d82759791bcede71125.jpg  \n",
            " extracting: train/images/IMG_2667_JPG.rf.666dbad824d067792db00820415fe71b.jpg  \n",
            " extracting: train/images/IMG_2668_JPG.rf.8324433d636051478e5005cc1a594bee.jpg  \n",
            " extracting: train/images/IMG_2669_JPG.rf.3978b0f124df493671b2686e623c58fe.jpg  \n",
            " extracting: train/images/IMG_2670_JPG.rf.e2f7a14baa0ec54234d4b880712881cb.jpg  \n",
            " extracting: train/images/IMG_2671_JPG.rf.f0734b4136814ef47643e37a45be7060.jpg  \n",
            " extracting: train/images/IMG_2672_JPG.rf.907a284fd849b082e00af182da73d560.jpg  \n",
            " extracting: train/images/IMG_2674_JPG.rf.4e9dfc931940b512e4189a4a50651ed7.jpg  \n",
            " extracting: train/images/IMG_2675_JPG.rf.cb08e1a82447f6cdd21cb78e21ae41fc.jpg  \n",
            " extracting: train/images/IMG_2676_JPG.rf.631984927208b6c1dede276cb01d5c7e.jpg  \n",
            " extracting: train/images/IMG_2677_JPG.rf.6fef1393c656978ee7eb853b7e7df658.jpg  \n",
            " extracting: train/images/IMG_2678_JPG.rf.637daedd1d2d7403c00390895a2ea8ad.jpg  \n",
            " extracting: train/images/IMG_2679_JPG.rf.662a7132c52d0955f204dd352f2521ab.jpg  \n",
            " extracting: train/images/IMG_2680_JPG.rf.8db7f7985d8065155f674e52922d84e8.jpg  \n",
            " extracting: train/images/IMG_2682_JPG.rf.388955617745ba07ec8b9c86180be898.jpg  \n",
            " extracting: train/images/IMG_2683_JPG.rf.8d5a19b6685847c587d87d9a7dd88c4a.jpg  \n",
            " extracting: train/images/IMG_2685_JPG.rf.b86c8e9807c8f82725219f99c0309fa1.jpg  \n",
            " extracting: train/images/IMG_2686_JPG.rf.44d73b767750142043109b8bc374e941.jpg  \n",
            " extracting: train/images/IMG_2687_JPG.rf.e118239f4fe6997572e1fe3bd5b40df2.jpg  \n",
            " extracting: train/images/IMG_2688_JPG.rf.98f8273ef30b408df6090d3bb5f2c713.jpg  \n",
            " extracting: train/images/IMG_2689_JPG.rf.5807281d4e42ebd027fe13cbed0704b9.jpg  \n",
            " extracting: train/images/IMG_2690_JPG.rf.d373a95f3b7b015039537b5f38fe9a7e.jpg  \n",
            " extracting: train/images/IMG_2691_JPG.rf.cf27c4e0d66bd75b2d7ec81e83311cdd.jpg  \n",
            " extracting: train/images/IMG_2692_JPG.rf.c59536dc8752ead756bbd65d7a58c6dd.jpg  \n",
            " extracting: train/images/IMG_2693_JPG.rf.2ece4fcc8deff5535193b533a472b03f.jpg  \n",
            " extracting: train/images/IMG_2694_JPG.rf.2af05c253bfd9a27d7831e9051a75da4.jpg  \n",
            " extracting: train/images/IMG_2699_JPG.rf.4df6168f6856c2e77d9d1ebd41fa6aac.jpg  \n",
            " extracting: train/images/IMG_2701_JPG.rf.65976d50d2c33cde85aaed0965bc6ed4.jpg  \n",
            " extracting: train/images/IMG_2702_JPG.rf.8e17a31ff96458bb08c529ac29e93110.jpg  \n",
            " extracting: train/images/IMG_2704_JPG.rf.2c59eaae4623c570fdf0afafb05c7fdb.jpg  \n",
            " extracting: train/images/IMG_2705_JPG.rf.4e1f9664e7470c5993457db784a78883.jpg  \n",
            " extracting: train/images/IMG_2706_JPG.rf.d2c893355a852824e6f29b9910fdffd4.jpg  \n",
            " extracting: train/images/IMG_2707_JPG.rf.16359832e301494c666f5d9a1b9e88d5.jpg  \n",
            " extracting: train/images/IMG_2708_JPG.rf.ae6dce771428ee41f6e010a7e31da268.jpg  \n",
            " extracting: train/images/IMG_2709_JPG.rf.593761c0096b4017f4b4f445c997b226.jpg  \n",
            " extracting: train/images/IMG_2711_JPG.rf.b6bd63e04f26808baa64514f2de790cc.jpg  \n",
            " extracting: train/images/IMG_2712_JPG.rf.cb53984eb6f7be9eb21bff3028725639.jpg  \n",
            " extracting: train/images/IMG_2713_JPG.rf.5d61d518b44ec1b7c576d0a9d75db76d.jpg  \n",
            " extracting: train/images/IMG_2714_JPG.rf.585e964c6e08758445ba764463833ae3.jpg  \n",
            " extracting: train/images/IMG_2715_JPG.rf.ff6979a97206a2b39ce3afa182877d52.jpg  \n",
            " extracting: train/images/IMG_2716_JPG.rf.65384a16bdf8989b52eec6ec63ef1977.jpg  \n",
            " extracting: train/images/IMG_2717_JPG.rf.7159a4eb76a119f926e88504b4faf62c.jpg  \n",
            " extracting: train/images/IMG_2720_JPG.rf.ac4c443fd2981c5021d94c0ab82a97cf.jpg  \n",
            " extracting: train/images/IMG_2721_JPG.rf.72efd82630064de711dfdf234cfc725b.jpg  \n",
            " extracting: train/images/IMG_2722_JPG.rf.61829ed85d8c8880b29803f3082acaa1.jpg  \n",
            " extracting: train/images/IMG_E1320_JPG.rf.4a009f8f77011831e8f0debcdf89c0d7.jpg  \n",
            " extracting: train/images/IMG_E1445_JPG.rf.1423b4f8961395aa62666aff0ad3932a.jpg  \n",
            " extracting: train/images/IMG_E1446_JPG.rf.40d1f3db2345dbdca9eca28e98baf36c.jpg  \n",
            " extracting: train/images/IMG_E1448_JPG.rf.910e31e890f90f0d83d75a804f878938.jpg  \n",
            " extracting: train/images/IMG_E1452_JPG.rf.21c7b629954f771b1b5dc042e68e3077.jpg  \n",
            " extracting: train/images/IMG_E1455_JPG.rf.55b28efe40fc2b013e14f02a303ed941.jpg  \n",
            " extracting: train/images/IMG_E1456_JPG.rf.0c8a835c0a4ac10e445c51bc193fd217.jpg  \n",
            " extracting: train/images/IMG_E1458_JPG.rf.312665b32caea5e07c6bc34ea284798e.jpg  \n",
            " extracting: train/images/IMG_E1461_JPG.rf.cf8eae6a4b3b3e604478f62b2b5e9c6f.jpg  \n",
            " extracting: train/images/IMG_E1462_JPG.rf.bae22e123ba0b860a9e707e59fa35e83.jpg  \n",
            " extracting: train/images/IMG_E1465_JPG.rf.4c66d7da7072043f38fe83e468cc9faa.jpg  \n",
            " extracting: train/images/IMG_E1992_JPG.rf.85a3a2d035993052214325dd3c85eb18.jpg  \n",
            " extracting: train/images/IMG_E2012_JPG.rf.0d79832afea981faf452f5f6f9dea4ed.jpg  \n",
            " extracting: train/images/IMG_E2026_JPG.rf.4a435a023c28a46c70d2ce84fdc4b9c6.jpg  \n",
            " extracting: train/images/IMG_E2086_JPG.rf.0f8b3c61cf7a3c01ca38c0d2c1f998b9.jpg  \n",
            " extracting: train/images/IMG_E2129_JPG.rf.899adf2a55eae0ae0e43e38c4bd612ff.jpg  \n",
            " extracting: train/images/IMG_E2182_JPG.rf.70f23585a307b27b3101d3e8bc3c6b46.jpg  \n",
            " extracting: train/images/IMG_E2198_JPG.rf.5d8109989ee8cd6a8fd4ce82ba9172ba.jpg  \n",
            " extracting: train/images/IMG_E2206_JPG.rf.ec735d8052ec7743ec230a453b4fbf36.jpg  \n",
            " extracting: train/images/IMG_E2208_JPG.rf.b568ca581ebde973d59df2be202ee3b2.jpg  \n",
            " extracting: train/images/IMG_E2224_JPG.rf.2f247d985460c68eda1d1b9c630bbb54.jpg  \n",
            " extracting: train/images/IMG_E2253_JPG.rf.6c0684f424b01b08a6032477c611e235.jpg  \n",
            " extracting: train/images/IMG_E2258_JPG.rf.bbab855e4126743d996cac299df7fff6.jpg  \n",
            " extracting: train/images/IMG_E2264_JPG.rf.d2633a203041826147ce683f9586d283.jpg  \n",
            " extracting: train/images/IMG_E2270_JPG.rf.d376e03f3e0c20c3b061a6c97311700b.jpg  \n",
            " extracting: train/images/IMG_E2278_JPG.rf.216fd0c03284dc55daebc46de1ba675c.jpg  \n",
            " extracting: train/images/IMG_E2294_JPG.rf.90012668ba1e6d4d5d51ae033e237738.jpg  \n",
            " extracting: train/images/IMG_E2309_JPG.rf.7addef75a269d9ed788a616e29815f61.jpg  \n",
            " extracting: train/images/IMG_E2326_JPG.rf.59244ac43fa6020091b0c310baf80ff2.jpg  \n",
            " extracting: train/images/IMG_E2356_JPG.rf.6a0686ca5ce5b8a411dcec0621ad6bcb.jpg  \n",
            " extracting: train/images/IMG_E2361_JPG.rf.a342570406ef9e0b118ddbc400901699.jpg  \n",
            "   creating: train/labels/\n",
            " extracting: train/labels/IMG_1322_JPG.rf.50819a00984e20921bbd8c6f528bcba1.txt  \n",
            " extracting: train/labels/IMG_1323_JPG.rf.e953fece967199b3843b3a5d1638c107.txt  \n",
            " extracting: train/labels/IMG_1324_JPG.rf.f03921bdfde685547d134f4d57421966.txt  \n",
            " extracting: train/labels/IMG_1325_JPG.rf.f1da682d73d61645815096d283c9c790.txt  \n",
            " extracting: train/labels/IMG_1326_JPG.rf.7a5b0e44435af17c697039cdcadf710b.txt  \n",
            " extracting: train/labels/IMG_1328_JPG.rf.574726ea579d9503ba04d752993d1d61.txt  \n",
            " extracting: train/labels/IMG_1330_JPG.rf.36ac55f0b51bec4eb68d5a8a0af691b3.txt  \n",
            " extracting: train/labels/IMG_1331_JPG.rf.01c5545ab52576f4ba288145e3d0a1ff.txt  \n",
            " extracting: train/labels/IMG_1332_JPG.rf.efa6274071cccdc65729fbedf66271bd.txt  \n",
            " extracting: train/labels/IMG_1334_JPG.rf.438b2f98ce4662d43846f281129eaf28.txt  \n",
            " extracting: train/labels/IMG_1335_JPG.rf.5b68afde0fbdd1079039363bf75fda6d.txt  \n",
            " extracting: train/labels/IMG_1336_JPG.rf.799e65e5132be00922e12398039ffab4.txt  \n",
            " extracting: train/labels/IMG_1337_JPG.rf.5cca1ebd69b0190e426c2c621219d4fe.txt  \n",
            " extracting: train/labels/IMG_1338_JPG.rf.897bcd734378999db3921b53b453189f.txt  \n",
            " extracting: train/labels/IMG_1339_JPG.rf.286366dfedc9d01474e74b9bec9938b3.txt  \n",
            " extracting: train/labels/IMG_1340_JPG.rf.4f3c4ed06487e8af48e5e6690f906a88.txt  \n",
            " extracting: train/labels/IMG_1342_JPG.rf.900efe60fad44503b597745410e47403.txt  \n",
            " extracting: train/labels/IMG_1343_JPG.rf.0ce77ba23e28d541df91d21ed274e45c.txt  \n",
            " extracting: train/labels/IMG_1344_JPG.rf.ae2086aa32738b6c81e29b2d9e7674da.txt  \n",
            " extracting: train/labels/IMG_1345_JPG.rf.a21be439c4bbeaac44bdf91485056c2b.txt  \n",
            " extracting: train/labels/IMG_1346_JPG.rf.1410fdae59be1244781face891182493.txt  \n",
            " extracting: train/labels/IMG_1347_JPG.rf.ddf09ab8ae99afb16f193835aa9aa7ef.txt  \n",
            " extracting: train/labels/IMG_1348_JPG.rf.cb84961106d3954b5f1959a4a5d570bd.txt  \n",
            " extracting: train/labels/IMG_1359_JPG.rf.1305031c0b8925029b32c1ce6bce1a47.txt  \n",
            " extracting: train/labels/IMG_1360_JPG.rf.c74a6f341d2ffe7817dd92280868a181.txt  \n",
            " extracting: train/labels/IMG_1361_JPG.rf.f6c5ce2d3f3e9da5a4a204f253489836.txt  \n",
            " extracting: train/labels/IMG_1362_JPG.rf.82517759f1e01dedaf675b8a4f7c77a8.txt  \n",
            " extracting: train/labels/IMG_1363_JPG.rf.48f3abf099a57941a54d2a1e1fa27c9c.txt  \n",
            " extracting: train/labels/IMG_1364_JPG.rf.dd06729c49c014684656670ee33263a1.txt  \n",
            " extracting: train/labels/IMG_1365_JPG.rf.bc83de6dc7b440eb5bc4735d120f1a58.txt  \n",
            " extracting: train/labels/IMG_1391_JPG.rf.e175dd0b7b17aa6678b4837a1c081ac2.txt  \n",
            " extracting: train/labels/IMG_1392_JPG.rf.d09cfd967287c0874e57bd5c275a790a.txt  \n",
            " extracting: train/labels/IMG_1393_JPG.rf.ebeb6953e70ed1e3ec0bd60084181c30.txt  \n",
            " extracting: train/labels/IMG_1395_JPG.rf.fec2fbef6870b9a801c267a182ba16d3.txt  \n",
            " extracting: train/labels/IMG_1396_JPG.rf.dea685d09106cef2007e17373a311637.txt  \n",
            " extracting: train/labels/IMG_1397_JPG.rf.84a87b77ccd890c1283ac40e5b153d90.txt  \n",
            " extracting: train/labels/IMG_1398_JPG.rf.0a7873fc8d68125e3f3a094cfdec6953.txt  \n",
            " extracting: train/labels/IMG_1399_JPG.rf.073c8d70070ce17c39f8e4a5ab0464e6.txt  \n",
            " extracting: train/labels/IMG_1402_JPG.rf.152a6f973b0d13aae8c279351a6c31e2.txt  \n",
            " extracting: train/labels/IMG_1403_JPG.rf.d614a189c1dabcc0e62ab6a670411865.txt  \n",
            " extracting: train/labels/IMG_1406_JPG.rf.484e71c3fa08454c4e78f40251d38af6.txt  \n",
            " extracting: train/labels/IMG_1407_JPG.rf.7145eb3fdda947b51ea2591b6b2bbc3d.txt  \n",
            " extracting: train/labels/IMG_1408_JPG.rf.1273bf57632cf1c70b83b5825ebde2d0.txt  \n",
            " extracting: train/labels/IMG_1409_JPG.rf.40e0a4cccc765638f4552a64ff47eadb.txt  \n",
            " extracting: train/labels/IMG_1411_JPG.rf.c811117ac88455d47225c1df75b649ba.txt  \n",
            " extracting: train/labels/IMG_1412_JPG.rf.e8dd161bc6c471d0690a9f394e9e156c.txt  \n",
            " extracting: train/labels/IMG_1413_JPG.rf.07fbe74b9671450434f39268781f1006.txt  \n",
            " extracting: train/labels/IMG_1415_JPG.rf.bb814ff1b37e879f1975a3bf72a6cc1e.txt  \n",
            " extracting: train/labels/IMG_1416_JPG.rf.e2e4e2e621cba4bbc5e6b13fc2acd0fb.txt  \n",
            " extracting: train/labels/IMG_1417_JPG.rf.fa0846bfd8c674ecaec0f8974a2b7574.txt  \n",
            " extracting: train/labels/IMG_1418_JPG.rf.9d20fdd9e6d9b5902f23fa49541689df.txt  \n",
            " extracting: train/labels/IMG_1421_JPG.rf.4c309b85a087f3ac898767c2e8e0ba87.txt  \n",
            " extracting: train/labels/IMG_1423_JPG.rf.b150e78e7458d96fda158734c9825aee.txt  \n",
            " extracting: train/labels/IMG_1424_JPG.rf.6411375b014a08bec7ef3658b0f3c84b.txt  \n",
            " extracting: train/labels/IMG_1425_JPG.rf.3dd04ab1f29284488d435c9452e2e0d0.txt  \n",
            " extracting: train/labels/IMG_1428_JPG.rf.4df4f6e9380626c711581dbaf4db55c7.txt  \n",
            " extracting: train/labels/IMG_1429_JPG.rf.f1cc1461425615e8e387663a59ed1d49.txt  \n",
            " extracting: train/labels/IMG_1430_JPG.rf.2076274e2e2b85d93160578f5a399e5f.txt  \n",
            " extracting: train/labels/IMG_1432_JPG.rf.8ba213c960fda8fe10d7d57d79c6e345.txt  \n",
            " extracting: train/labels/IMG_1433_JPG.rf.205e326b513a39b9f14a5248cac9db04.txt  \n",
            " extracting: train/labels/IMG_1434_JPG.rf.fe698db0e9eb74f433adc4d9b3922984.txt  \n",
            " extracting: train/labels/IMG_1435_JPG.rf.2420208f2db745ccc7cef6307c2bfe25.txt  \n",
            " extracting: train/labels/IMG_1436_JPG.rf.5e61d1677dea6155c95fa0851416f55f.txt  \n",
            " extracting: train/labels/IMG_1437_JPG.rf.d42584e8710192655afa7c0cb6b8a28b.txt  \n",
            " extracting: train/labels/IMG_1438_JPG.rf.3d7c92050ff4f7617e1d6be8c0cd78fc.txt  \n",
            " extracting: train/labels/IMG_1439_JPG.rf.01e8121b676a5190eb657296406def91.txt  \n",
            " extracting: train/labels/IMG_1440_JPG.rf.5d077466502b9a8797e9d971fdc071fd.txt  \n",
            " extracting: train/labels/IMG_1441_JPG.rf.a256a34a403a59f21cae07ebd8764a65.txt  \n",
            " extracting: train/labels/IMG_1442_JPG.rf.f9a755a9c6ef07ed4bfce48ad54d2837.txt  \n",
            " extracting: train/labels/IMG_1443_JPG.rf.c9ee13f3f4ad0fdd65593d3753eda51d.txt  \n",
            " extracting: train/labels/IMG_1444_JPG.rf.c1ad69cdf2debddb42e731ccc0162e96.txt  \n",
            " extracting: train/labels/IMG_1445_JPG.rf.8eeb0e207f65abede89413c7365ca98f.txt  \n",
            " extracting: train/labels/IMG_1446_JPG.rf.6327a04d7b0008d33e34ddeede5feee8.txt  \n",
            " extracting: train/labels/IMG_1447_JPG.rf.706042196a91318e9f0287de675b0d71.txt  \n",
            " extracting: train/labels/IMG_1448_JPG.rf.89301792cf8c5cb07a418d06e103769e.txt  \n",
            " extracting: train/labels/IMG_1449_JPG.rf.3baaa81d05c850c9985ad3151a41e43e.txt  \n",
            " extracting: train/labels/IMG_1452_JPG.rf.cc995487cd90ab5383898e7fa123193e.txt  \n",
            " extracting: train/labels/IMG_1455_JPG.rf.90c8e74d966351c4bc75aae2ccca88db.txt  \n",
            " extracting: train/labels/IMG_1456_JPG.rf.cfdbcef2b938d4639a247f3a29f0d340.txt  \n",
            " extracting: train/labels/IMG_1457_JPG.rf.2f7d0ce7b44624cf0a3816699d1f2a24.txt  \n",
            " extracting: train/labels/IMG_1458_JPG.rf.a7486e2f6551fae056c71bf60416959f.txt  \n",
            " extracting: train/labels/IMG_1459_JPG.rf.3eec718539c86c8e12feba6d8db7b379.txt  \n",
            " extracting: train/labels/IMG_1460_JPG.rf.7f0142010169a4f39ccb404e54da4879.txt  \n",
            " extracting: train/labels/IMG_1461_JPG.rf.b473fb6d28f8407ef34761fd8f559798.txt  \n",
            " extracting: train/labels/IMG_1463_JPG.rf.5e868cf025813cf20b1793153e07bc3e.txt  \n",
            " extracting: train/labels/IMG_1464_JPG.rf.2551d2320ee08172a58c36de07a75c5f.txt  \n",
            " extracting: train/labels/IMG_1474_JPG.rf.6bda01fc15efc5dad967c3b259bd6bbb.txt  \n",
            " extracting: train/labels/IMG_1475_JPG.rf.4f4973150179c5b20929765b490397ae.txt  \n",
            " extracting: train/labels/IMG_1477_JPG.rf.8189e2d8cb7f4c27326727375c66b45f.txt  \n",
            " extracting: train/labels/IMG_1478_JPG.rf.0e00bdb5269c10652a72830bac17fd39.txt  \n",
            " extracting: train/labels/IMG_1479_JPG.rf.83e07b1450733e1480018855443cad5d.txt  \n",
            " extracting: train/labels/IMG_1481_JPG.rf.52fda0434db78d6e08d0046bc3282d0d.txt  \n",
            " extracting: train/labels/IMG_1483_JPG.rf.ebc2b160838d6419e5a6e16bfb52d860.txt  \n",
            " extracting: train/labels/IMG_1484_JPG.rf.2c73c4ed6a80351aceb024d37206c163.txt  \n",
            " extracting: train/labels/IMG_1485_JPG.rf.1e782ded4c9b43d493e4e5732bfc4702.txt  \n",
            " extracting: train/labels/IMG_1486_JPG.rf.5e8da5152b8d5bd5c59b81d2e6c25861.txt  \n",
            " extracting: train/labels/IMG_1487_JPG.rf.b0ef76a1cf38fdc9281e7cd8a65d78bf.txt  \n",
            " extracting: train/labels/IMG_1489_JPG.rf.be745ac04be9329aaf220f6afb854ca8.txt  \n",
            " extracting: train/labels/IMG_1490_JPG.rf.d461172fa6be1eb751bed7046a171ce5.txt  \n",
            " extracting: train/labels/IMG_1492_JPG.rf.14a3fc842a6c68aff5269b9ed9ec4db5.txt  \n",
            " extracting: train/labels/IMG_1493_JPG.rf.2bc0383ba0bd67ad89e11f899fa86d90.txt  \n",
            " extracting: train/labels/IMG_1494_JPG.rf.6acdabc468c1ba70754dad0af42e3512.txt  \n",
            " extracting: train/labels/IMG_1495_JPG.rf.df4209b584458116ac3ad343f6ba0dc5.txt  \n",
            " extracting: train/labels/IMG_1496_JPG.rf.db2a657af5cf355c473d771403089644.txt  \n",
            " extracting: train/labels/IMG_1497_JPG.rf.d45faa00d9bb6a697e03979499a0ef9d.txt  \n",
            " extracting: train/labels/IMG_1498_JPG.rf.6908ea77b3474ae11d88be874ded6f55.txt  \n",
            " extracting: train/labels/IMG_1499_JPG.rf.a9119a64bcc119ceb1b8e2a45b93ef8b.txt  \n",
            " extracting: train/labels/IMG_1500_JPG.rf.859d50a0e72e26168d18375b5279f0f7.txt  \n",
            " extracting: train/labels/IMG_1501_JPG.rf.ddac23847b6c12c3d1cd6266bdf9a7b4.txt  \n",
            " extracting: train/labels/IMG_1503_JPG.rf.7a9ca1120419dc942b4acf3319ba2d96.txt  \n",
            " extracting: train/labels/IMG_1504_JPG.rf.619d6dcec6e04d460a17eda62c15a583.txt  \n",
            " extracting: train/labels/IMG_1505_JPG.rf.2318d3a84cdaba029a143a463ea6a709.txt  \n",
            " extracting: train/labels/IMG_1508_JPG.rf.02c8b8ee24bf09c8a44b34aa703dd61b.txt  \n",
            " extracting: train/labels/IMG_1509_JPG.rf.3ccc1ebdc1203e9b517b7c42f4116123.txt  \n",
            " extracting: train/labels/IMG_1510_JPG.rf.88e7b53e53c3165bcd00b7dfedc43fa2.txt  \n",
            " extracting: train/labels/IMG_1512_JPG.rf.59a0440e4172e9b0930f1397a42b4137.txt  \n",
            " extracting: train/labels/IMG_1513_JPG.rf.72caf08613a6537451c7debe95237bd4.txt  \n",
            " extracting: train/labels/IMG_1514_JPG.rf.d191bb9bb52ecae9f3deafe4f2637a02.txt  \n",
            " extracting: train/labels/IMG_1516_JPG.rf.a7c12f3c5092d6ff8e4638235330d46c.txt  \n",
            " extracting: train/labels/IMG_1517_JPG.rf.d51a2a2975f16adc4f3ec3d9a43729af.txt  \n",
            " extracting: train/labels/IMG_1518_JPG.rf.90ea35a70d88cd37d81634f99b03706b.txt  \n",
            " extracting: train/labels/IMG_1519_JPG.rf.c21da4dd0b6abb4353359629a6f11948.txt  \n",
            " extracting: train/labels/IMG_1520_JPG.rf.c3fb6dd2473ed193c86000518c2c2e48.txt  \n",
            " extracting: train/labels/IMG_1522_JPG.rf.8b15024890d4dc5fd27c0924dccd30ad.txt  \n",
            " extracting: train/labels/IMG_1524_JPG.rf.2a2743e5a2e6ea5bdc65dd89367fffe2.txt  \n",
            " extracting: train/labels/IMG_1525_JPG.rf.f74b9fcb452321951cd8f40c76241855.txt  \n",
            " extracting: train/labels/IMG_1526_JPG.rf.396b98e77a43453025262e811082742f.txt  \n",
            " extracting: train/labels/IMG_1528_JPG.rf.333ecf63e16e6f534a9b553804124d48.txt  \n",
            " extracting: train/labels/IMG_1529_JPG.rf.8d433ae26a375784f1ce49a614f94f1a.txt  \n",
            " extracting: train/labels/IMG_1530_JPG.rf.5f81d4209f83d29aeaf2e8fe30257afe.txt  \n",
            " extracting: train/labels/IMG_1589_JPG.rf.f13d9c4e2e699c0184b1a4fcd3096727.txt  \n",
            " extracting: train/labels/IMG_1590_JPG.rf.22ceac3ed215c49eb9bc6ad41fa08e31.txt  \n",
            " extracting: train/labels/IMG_1593_JPG.rf.fdb3daa3333c26109c8d81aeffb9605c.txt  \n",
            " extracting: train/labels/IMG_1594_JPG.rf.cee1a8203a0fae62683e9c01aaa03784.txt  \n",
            " extracting: train/labels/IMG_1595_JPG.rf.741a7979f2ac28e923f78a3265477c5e.txt  \n",
            " extracting: train/labels/IMG_1596_JPG.rf.c4106f7dc8a27b8c97758c988844164f.txt  \n",
            " extracting: train/labels/IMG_1597_JPG.rf.1a9f1c840c911f328d3966d6116fed01.txt  \n",
            " extracting: train/labels/IMG_1599_JPG.rf.9f6a4275e284ac27958d16e4eb3567f2.txt  \n",
            " extracting: train/labels/IMG_1600_JPG.rf.01b539c23409e60d635c8a750694be72.txt  \n",
            " extracting: train/labels/IMG_1601_JPG.rf.1d530ced69f9e6e0a3f2feecbcc150f9.txt  \n",
            " extracting: train/labels/IMG_1602_JPG.rf.fd8feaa38f285aae8f96488693190294.txt  \n",
            " extracting: train/labels/IMG_1604_JPG.rf.54e83ee24a74177adead30350f2f7785.txt  \n",
            " extracting: train/labels/IMG_1605_JPG.rf.12410a1cdb8c34537b25abf623e35554.txt  \n",
            " extracting: train/labels/IMG_1606_JPG.rf.a8288079033434ced05cff5d0e26d6d5.txt  \n",
            " extracting: train/labels/IMG_1607_JPG.rf.b9823fd29bec94421062a961983d3523.txt  \n",
            " extracting: train/labels/IMG_1608_JPG.rf.34af2dc853f8fd1e38ceaa1018f88d54.txt  \n",
            " extracting: train/labels/IMG_1609_JPG.rf.bf377540a75287af9b0edc9366363dc1.txt  \n",
            " extracting: train/labels/IMG_1611_JPG.rf.384f7d3b7789c656d4e612b0fdc48788.txt  \n",
            " extracting: train/labels/IMG_1612_JPG.rf.2c46b7dae7933c641f34958d71a90b55.txt  \n",
            " extracting: train/labels/IMG_1613_JPG.rf.108383c000e16e12874b3adaabe7912b.txt  \n",
            " extracting: train/labels/IMG_1615_JPG.rf.430a655ae1c25bf022177f8e7151deab.txt  \n",
            " extracting: train/labels/IMG_1618_JPG.rf.6527470a4a95627c5e8db61983ce5375.txt  \n",
            " extracting: train/labels/IMG_1619_JPG.rf.f1c3023875e55436100697ea56c563cc.txt  \n",
            " extracting: train/labels/IMG_1620_JPG.rf.23212f9db14cf611080deff2d1a9087b.txt  \n",
            " extracting: train/labels/IMG_1621_JPG.rf.ee81fffaedfa780f6d6674c358ae1eb2.txt  \n",
            " extracting: train/labels/IMG_1623_JPG.rf.df7968f86dba74c5c33f8584fbeb10cb.txt  \n",
            " extracting: train/labels/IMG_1624_JPG.rf.46d38651f2d1a1986dcdc92ce34864c3.txt  \n",
            " extracting: train/labels/IMG_1625_JPG.rf.641b44f51e3a6a637d361aadb67f506b.txt  \n",
            " extracting: train/labels/IMG_1626_JPG.rf.ae87a0d2835173d90b743d5ef753194a.txt  \n",
            " extracting: train/labels/IMG_1627_JPG.rf.1dd20902404985b7a638ee10760117b3.txt  \n",
            " extracting: train/labels/IMG_1628_JPG.rf.7a349b6fa047d211423fcc573cb3cf78.txt  \n",
            " extracting: train/labels/IMG_1629_JPG.rf.49b9a9b001e06cee65275f315f45092f.txt  \n",
            " extracting: train/labels/IMG_1630_JPG.rf.8a47635098d15afd90d34812f132f6de.txt  \n",
            " extracting: train/labels/IMG_1631_JPG.rf.d7832e488a42fb26e6fb418827ae1597.txt  \n",
            " extracting: train/labels/IMG_1632_JPG.rf.9cef0d5c94309225f0207f7f2f2e31c7.txt  \n",
            " extracting: train/labels/IMG_1633_JPG.rf.a4544c68f902fd7fc072cd5677a6628b.txt  \n",
            " extracting: train/labels/IMG_1634_JPG.rf.856069fed1f8ddcbd1ec45c7f6155528.txt  \n",
            " extracting: train/labels/IMG_1635_JPG.rf.074d237ba6adbb97035c0463a27c8700.txt  \n",
            " extracting: train/labels/IMG_1636_JPG.rf.a6743cb024b804a6136d0d764607cd3a.txt  \n",
            " extracting: train/labels/IMG_1637_JPG.rf.29c25bc94b2abacf8edb717801b0eaec.txt  \n",
            " extracting: train/labels/IMG_1638_JPG.rf.2714ee5fcfe89fef5e37873ce7ec7b3f.txt  \n",
            " extracting: train/labels/IMG_1639_JPG.rf.bb69cabb2e323956ec127764b2d00ee8.txt  \n",
            " extracting: train/labels/IMG_1641_JPG.rf.5d3a28eecd117da9bb54377ab9d8d64c.txt  \n",
            " extracting: train/labels/IMG_1642_JPG.rf.92feb885121492f314812bf667abcc91.txt  \n",
            " extracting: train/labels/IMG_1643_JPG.rf.e28ab69998612857c0d953a4f9a8716f.txt  \n",
            " extracting: train/labels/IMG_1644_JPG.rf.4cdad0b3876a8465b9a967130c3b4e26.txt  \n",
            " extracting: train/labels/IMG_1645_JPG.rf.bb48f0af1d5bf0b4ee6ea55504fb0868.txt  \n",
            " extracting: train/labels/IMG_1646_JPG.rf.8e2283a64ff019a6892548a0cfd4ff00.txt  \n",
            " extracting: train/labels/IMG_1647_JPG.rf.817186a3c5cfb718b3e93b77af3945ca.txt  \n",
            " extracting: train/labels/IMG_1648_JPG.rf.5ea8330905e3e83156e9495c0096ee32.txt  \n",
            " extracting: train/labels/IMG_1649_JPG.rf.7349847afbbac98d7f5e96ce8aecc082.txt  \n",
            " extracting: train/labels/IMG_1650_JPG.rf.7aaec83f14492c4d552a39f03ac00a2b.txt  \n",
            " extracting: train/labels/IMG_1651_JPG.rf.4fbd91b43296d4ebfac41e2cce44c391.txt  \n",
            " extracting: train/labels/IMG_1652_JPG.rf.156cbe2359523061b630a37ac8cbf244.txt  \n",
            " extracting: train/labels/IMG_1653_JPG.rf.d38fc7b11ab9553337f885af0ae59962.txt  \n",
            " extracting: train/labels/IMG_1654_JPG.rf.3329eebbb7c46698bd2917caca0b933d.txt  \n",
            " extracting: train/labels/IMG_1655_JPG.rf.ea0966bcee6ee42c065048e1cd00e210.txt  \n",
            " extracting: train/labels/IMG_1656_JPG.rf.f95b27e9eaa468ad97f5f694e1933893.txt  \n",
            " extracting: train/labels/IMG_1657_JPG.rf.86032e66bfd3e4b62268a832295d85a6.txt  \n",
            " extracting: train/labels/IMG_1658_JPG.rf.a8d26fda7d250d53c239bf6246b5e552.txt  \n",
            " extracting: train/labels/IMG_1659_JPG.rf.ab458e0a2b6ef82c3466bf9ed90016d2.txt  \n",
            " extracting: train/labels/IMG_1660_JPG.rf.5861ccd8c380bfe82f45778963863f02.txt  \n",
            " extracting: train/labels/IMG_1661_JPG.rf.f8c8635c45ab938a451ff19e745b89f4.txt  \n",
            " extracting: train/labels/IMG_1662_JPG.rf.b413a9833d8d7255aa550f9493a1055d.txt  \n",
            " extracting: train/labels/IMG_1663_JPG.rf.dd7acd3a536ca5f0b9c2c361a6e55886.txt  \n",
            " extracting: train/labels/IMG_1664_JPG.rf.5cff2e124198bea40a9bb9569fb3e4b2.txt  \n",
            " extracting: train/labels/IMG_1665_JPG.rf.ba39e2f7f72b091d110b349a9140b901.txt  \n",
            " extracting: train/labels/IMG_1666_JPG.rf.aaa4407889c7743ca091ac43b4f62bfc.txt  \n",
            " extracting: train/labels/IMG_1667_JPG.rf.1759e5fcafe28c0856c3d20cd29ea51c.txt  \n",
            " extracting: train/labels/IMG_1668_JPG.rf.f6efc54e30bbe87ae17c8973c3287d44.txt  \n",
            " extracting: train/labels/IMG_1669_JPG.rf.746d469d7e67d64b0b7448f68b9d20a8.txt  \n",
            " extracting: train/labels/IMG_1671_JPG.rf.89bfd6540ebdbd74a76b80c9aaba81bd.txt  \n",
            " extracting: train/labels/IMG_1672_JPG.rf.6658873ee77ffc2f7cd85d05fceb90a5.txt  \n",
            " extracting: train/labels/IMG_1674_JPG.rf.4a1a6b00919419d31e93ec34bf41117b.txt  \n",
            " extracting: train/labels/IMG_1675_JPG.rf.3edbe4523a8ed76f4d912d6c600df6fc.txt  \n",
            " extracting: train/labels/IMG_1676_JPG.rf.8869de4444d3a48853aa561c5d37dc92.txt  \n",
            " extracting: train/labels/IMG_1677_JPG.rf.96338dd8d6f5a259173f736f0e3cf7e7.txt  \n",
            " extracting: train/labels/IMG_1678_JPG.rf.c9b988068f8a989b79c162bbebb2e269.txt  \n",
            " extracting: train/labels/IMG_1679_JPG.rf.0437117f2cc681d85f23b8ad3cdbf092.txt  \n",
            " extracting: train/labels/IMG_1681_JPG.rf.24b0777ff1440cb4a390413b73ee517e.txt  \n",
            " extracting: train/labels/IMG_1682_JPG.rf.2bfd69a89e251de180bebe1992e36a0a.txt  \n",
            " extracting: train/labels/IMG_1683_JPG.rf.b09dc97c7296b7d012ff4b76ff47a29c.txt  \n",
            " extracting: train/labels/IMG_1684_JPG.rf.64d764dce6988497c82f54bd282d0fbf.txt  \n",
            " extracting: train/labels/IMG_1685_JPG.rf.26d5f6e89fbfdf7ad23c6e5d9ef36e6e.txt  \n",
            " extracting: train/labels/IMG_1686_JPG.rf.fdf0040899f56acada9a024058a7f488.txt  \n",
            " extracting: train/labels/IMG_1687_JPG.rf.10079ee5a3f931f447f443aa4df32d46.txt  \n",
            " extracting: train/labels/IMG_1689_JPG.rf.7ef27e22c30856c35ef3d7aab369c60a.txt  \n",
            " extracting: train/labels/IMG_1690_JPG.rf.fc4ab0ebf9e7dda888dee4d3fec2b29e.txt  \n",
            " extracting: train/labels/IMG_1691_JPG.rf.de50845b317f44fe7d23cb08c5c88e52.txt  \n",
            " extracting: train/labels/IMG_1692_JPG.rf.a3d78bbbd25cb0987694a15583d86a70.txt  \n",
            " extracting: train/labels/IMG_1694_JPG.rf.de17dfb8b05cf608798a47e33d09a91c.txt  \n",
            " extracting: train/labels/IMG_1695_JPG.rf.98e137bcdf290a63f90b106bf5224ddd.txt  \n",
            " extracting: train/labels/IMG_1697_JPG.rf.16eb41bfaa5ab8e810efb6f0b81bec5e.txt  \n",
            " extracting: train/labels/IMG_1698_JPG.rf.b6bfdf4012e86701a474be989897cc71.txt  \n",
            " extracting: train/labels/IMG_1699_JPG.rf.d5c8086a5c6c215bede26e00b55bbcdb.txt  \n",
            " extracting: train/labels/IMG_1700_JPG.rf.894bce3e89b3f07db9a6a1e379ad22c7.txt  \n",
            " extracting: train/labels/IMG_1701_JPG.rf.5f9bb62024116cdd9ecaef5a5e9a5fd7.txt  \n",
            " extracting: train/labels/IMG_1702_JPG.rf.1949cb347aeca383aa58a0d500901fcc.txt  \n",
            " extracting: train/labels/IMG_1704_JPG.rf.1aff98d8876ccc324a1110a2b9127b72.txt  \n",
            " extracting: train/labels/IMG_1706_JPG.rf.77cc8c02f09df804f9f209a873b9906e.txt  \n",
            " extracting: train/labels/IMG_1707_JPG.rf.2b8c1139fad5e0a13fbf6b24c08b0b8f.txt  \n",
            " extracting: train/labels/IMG_1708_JPG.rf.bfa0fafb9eb5e4e422ea25cdb3fa00df.txt  \n",
            " extracting: train/labels/IMG_1709_JPG.rf.4b1c216dad1c71750965a57be114fee0.txt  \n",
            " extracting: train/labels/IMG_1710_JPG.rf.560375799ffbbac105fe3fbd0b9bcc02.txt  \n",
            " extracting: train/labels/IMG_1711_JPG.rf.55751f3b6589869f814d869220859400.txt  \n",
            " extracting: train/labels/IMG_1712_JPG.rf.f67cfc2adef84dd6b939c05ab80ee8b6.txt  \n",
            " extracting: train/labels/IMG_1713_JPG.rf.ad946914908f896469d84bcdab60589e.txt  \n",
            " extracting: train/labels/IMG_1715_JPG.rf.4737cd8edb917d3cf419d5b669afb636.txt  \n",
            " extracting: train/labels/IMG_1716_JPG.rf.fa0805d29ddbeae33c23ea7611837556.txt  \n",
            " extracting: train/labels/IMG_1717_JPG.rf.97308de20ce731fd1c500ef144fdb4b0.txt  \n",
            " extracting: train/labels/IMG_1718_JPG.rf.d5cb8092eed8f9e200034671031933c9.txt  \n",
            " extracting: train/labels/IMG_1719_JPG.rf.2173a72fb23f843a237a4f0478bb593d.txt  \n",
            " extracting: train/labels/IMG_1720_JPG.rf.3a8d4b4a79afa824b36da96fce5c5232.txt  \n",
            " extracting: train/labels/IMG_1721_JPG.rf.8df657f73defb3f08e939d065d5837c7.txt  \n",
            " extracting: train/labels/IMG_1722_JPG.rf.79f3764b5527a32f58fbe16b0fdff78f.txt  \n",
            " extracting: train/labels/IMG_1723_JPG.rf.1338843f5fb7bae61a5c05ea900ff816.txt  \n",
            " extracting: train/labels/IMG_1724_JPG.rf.921bd2ff351e3976daad0ff1d4212cba.txt  \n",
            " extracting: train/labels/IMG_1725_JPG.rf.41175d722691afdf95d8c602ca6b06ad.txt  \n",
            " extracting: train/labels/IMG_1726_JPG.rf.8971a88335d42e2d79f2f231da179fd2.txt  \n",
            " extracting: train/labels/IMG_1727_JPG.rf.37790661bc66897b6a4212dfa6add116.txt  \n",
            " extracting: train/labels/IMG_1728_JPG.rf.d4487bb193529b1d0a1b48969357aee9.txt  \n",
            " extracting: train/labels/IMG_1731_JPG.rf.e4f1ae0127142f406c1b88d1bf9d3a5a.txt  \n",
            " extracting: train/labels/IMG_1734_JPG.rf.54e1f5ac49ea2398c62b0d0287de14d7.txt  \n",
            " extracting: train/labels/IMG_1735_JPG.rf.111d681c1917a15220b9e11676a6d4c7.txt  \n",
            " extracting: train/labels/IMG_1736_JPG.rf.03fd44285dbcc902b76eb71f8320def3.txt  \n",
            " extracting: train/labels/IMG_1737_JPG.rf.c478c4dad26d702806b59139cfec5fd9.txt  \n",
            " extracting: train/labels/IMG_1739_JPG.rf.051704faed00c3a6be6e472b8b32e062.txt  \n",
            " extracting: train/labels/IMG_1740_JPG.rf.aee386b8387dc0b07bc2a3b89daf83ec.txt  \n",
            " extracting: train/labels/IMG_1741_JPG.rf.e2b40e683a0e115b10cc3a97e2163f65.txt  \n",
            " extracting: train/labels/IMG_1742_JPG.rf.27598a41373abe733c32f7903c390c37.txt  \n",
            " extracting: train/labels/IMG_1743_JPG.rf.6042c17e20dafd6d8e0a0df7afbd9e62.txt  \n",
            " extracting: train/labels/IMG_1744_JPG.rf.30e992a3e1ac5cb2b9de45d5a6ba22a8.txt  \n",
            " extracting: train/labels/IMG_1745_JPG.rf.2c253b43f49906fc78785157a9e28726.txt  \n",
            " extracting: train/labels/IMG_1746_JPG.rf.efe6393f9f28310ce83bee462566798c.txt  \n",
            " extracting: train/labels/IMG_1747_JPG.rf.df6f9b1adc7757582849ae3767b99149.txt  \n",
            " extracting: train/labels/IMG_1748_JPG.rf.c7a18950c8d88e4211b71ba5f1c06dac.txt  \n",
            " extracting: train/labels/IMG_1749_JPG.rf.2405a5942ec8f66bb50dec7e5e7c54fc.txt  \n",
            " extracting: train/labels/IMG_1751_JPG.rf.4330715d88fdb3a0ff0a11c6b19adeaf.txt  \n",
            " extracting: train/labels/IMG_1752_JPG.rf.a07c2c99fac2ac6a79b1b498fca545a7.txt  \n",
            " extracting: train/labels/IMG_1753_JPG.rf.f01e905e75866a191066bec93e9cdc51.txt  \n",
            " extracting: train/labels/IMG_1754_JPG.rf.9e827d88cfea50a665134bd287bc4048.txt  \n",
            " extracting: train/labels/IMG_1755_JPG.rf.395249a74e9de2e6287132d3e4876f27.txt  \n",
            " extracting: train/labels/IMG_1756_JPG.rf.313ea9324b782a4426324f04b4a55d2b.txt  \n",
            " extracting: train/labels/IMG_1757_JPG.rf.a0b3342938b5dce3b3a32a2fabf38b53.txt  \n",
            " extracting: train/labels/IMG_1758_JPG.rf.a0fde8e5eb79a3b05fa69882cdb0ad35.txt  \n",
            " extracting: train/labels/IMG_1759_JPG.rf.f5e8bb0e89a82cf60134402ba95b0823.txt  \n",
            " extracting: train/labels/IMG_1760_JPG.rf.326f95f18085b9cb6de03fa598a65644.txt  \n",
            " extracting: train/labels/IMG_1761_JPG.rf.c60fd91c22d6a5a28c8241da61ab4a72.txt  \n",
            " extracting: train/labels/IMG_1762_JPG.rf.85cab2e47cee124e614028b3b47cd0a5.txt  \n",
            " extracting: train/labels/IMG_1763_JPG.rf.3195e0e2f77618ac883d9b6df9b46e25.txt  \n",
            " extracting: train/labels/IMG_1764_JPG.rf.c17ead2799ae8b285bfefd8b1a0c2e71.txt  \n",
            " extracting: train/labels/IMG_1765_JPG.rf.d5c489acd4b722eaec7776e824eb6a30.txt  \n",
            " extracting: train/labels/IMG_1766_JPG.rf.fb770f55205bba9a951886196770ffff.txt  \n",
            " extracting: train/labels/IMG_1768_JPG.rf.fc345c20234895e8f24b06b3d6574e8b.txt  \n",
            " extracting: train/labels/IMG_1769_JPG.rf.1e530280d38c95280d186e1365f2d2e1.txt  \n",
            " extracting: train/labels/IMG_1770_JPG.rf.9ff06f9a2a3e4e57c3162e72854e6158.txt  \n",
            " extracting: train/labels/IMG_1772_JPG.rf.7699340a1a32f0d0deaf7cd19029dda8.txt  \n",
            " extracting: train/labels/IMG_1774_JPG.rf.08d331b345795aeb7ef53c422c2c7f1b.txt  \n",
            " extracting: train/labels/IMG_1776_JPG.rf.0087f9849d495df4320b5d507fa20c7f.txt  \n",
            " extracting: train/labels/IMG_1777_JPG.rf.a11f2b6aea9a4bae02ad9c8fa2dca725.txt  \n",
            " extracting: train/labels/IMG_1778_JPG.rf.ff5458ca171555641ab36455e7c4204b.txt  \n",
            " extracting: train/labels/IMG_1779_JPG.rf.21c565d30222854c4251908832e57799.txt  \n",
            " extracting: train/labels/IMG_1780_JPG.rf.63dc6a0f17d55008aeb21d10748259c4.txt  \n",
            " extracting: train/labels/IMG_1783_JPG.rf.e40ec7341695979064b5ef0e8a950ffd.txt  \n",
            " extracting: train/labels/IMG_1784_JPG.rf.6f2cfb3d1d18c47c1ca3552f4575e273.txt  \n",
            " extracting: train/labels/IMG_1785_JPG.rf.c70d88cae74effc75e9af9206f4c9d59.txt  \n",
            " extracting: train/labels/IMG_1786_JPG.rf.4453bafd420dbbbe277f46181b20abd7.txt  \n",
            " extracting: train/labels/IMG_1787_JPG.rf.e9f6fa67c629a6eb90115ba0d5b9762c.txt  \n",
            " extracting: train/labels/IMG_1788_JPG.rf.8bf810a51ee09fb6158343f38075696a.txt  \n",
            " extracting: train/labels/IMG_1789_JPG.rf.5cf2f95184b60124c2bd1ec093d8a7d2.txt  \n",
            " extracting: train/labels/IMG_1790_JPG.rf.d5e37e8845d59eda823b54a28a11556d.txt  \n",
            " extracting: train/labels/IMG_1791_JPG.rf.4c52c069a8933977cd0b4646f98355a1.txt  \n",
            " extracting: train/labels/IMG_1794_JPG.rf.862a9d7baf1692899c0babf0a2771ec5.txt  \n",
            " extracting: train/labels/IMG_1796_JPG.rf.39129dc145b00a80d6d9972f8e3c3826.txt  \n",
            " extracting: train/labels/IMG_1797_JPG.rf.3fd2fd0df90f04fc288e233da72ae010.txt  \n",
            " extracting: train/labels/IMG_1798_JPG.rf.e00c3fb7dddae9534ac76d84e8c72f09.txt  \n",
            " extracting: train/labels/IMG_1799_JPG.rf.754f80df09c8c6ee03539e2faf19b183.txt  \n",
            " extracting: train/labels/IMG_1800_JPG.rf.d50e5ac3523cada3075fee8bea07a298.txt  \n",
            " extracting: train/labels/IMG_1801_JPG.rf.1accc52fe9c0b45dd37bd213638f3797.txt  \n",
            " extracting: train/labels/IMG_1802_JPG.rf.a2795825c282e37b613c0e717955c474.txt  \n",
            " extracting: train/labels/IMG_1804_JPG.rf.0c8bf4c3ff6cb05eb7480ec99c10aa38.txt  \n",
            " extracting: train/labels/IMG_1805_JPG.rf.bb6a0fcd802f841298119f823f9897fa.txt  \n",
            " extracting: train/labels/IMG_1806_JPG.rf.93c6904a4c6f9d5a848156b3ff53f088.txt  \n",
            " extracting: train/labels/IMG_1807_JPG.rf.fb9cdc27b06db8719222380de4359b0e.txt  \n",
            " extracting: train/labels/IMG_1808_JPG.rf.155250412986200604326bd943b20c9c.txt  \n",
            " extracting: train/labels/IMG_1809_JPG.rf.c94ca1a2297c67e37580ce4bf74a0253.txt  \n",
            " extracting: train/labels/IMG_1810_JPG.rf.7088f13ef96655de0556f0b8d8337c6d.txt  \n",
            " extracting: train/labels/IMG_1811_JPG.rf.e5dc06f96d1f2c6b6de62be22cac80d3.txt  \n",
            " extracting: train/labels/IMG_1812_JPG.rf.eb09c7efb20e190e42239324de47981b.txt  \n",
            " extracting: train/labels/IMG_1813_JPG.rf.5bff7641009fa96d500672db81511580.txt  \n",
            " extracting: train/labels/IMG_1814_JPG.rf.de965d86e0aa9f6a7c4b07bfa57dc47d.txt  \n",
            " extracting: train/labels/IMG_1815_JPG.rf.5bf770fedc157c2f2fdca68716016baa.txt  \n",
            " extracting: train/labels/IMG_1816_JPG.rf.5f6ec103caf93611cb6b5ab205c9d08c.txt  \n",
            " extracting: train/labels/IMG_1817_JPG.rf.cd30bb1cffecff24047ad132f2429167.txt  \n",
            " extracting: train/labels/IMG_1818_JPG.rf.8c164776ba01608929ff4e863feca70b.txt  \n",
            " extracting: train/labels/IMG_1819_JPG.rf.bb931699032236833ef693d86a851fae.txt  \n",
            " extracting: train/labels/IMG_1822_JPG.rf.c2139fc4300adf6ecf454fce6ba7669b.txt  \n",
            " extracting: train/labels/IMG_1824_JPG.rf.4943282fab8daa71768ffdc7177260f1.txt  \n",
            " extracting: train/labels/IMG_1825_JPG.rf.6891fc7f0407e758aebca8a84c778543.txt  \n",
            " extracting: train/labels/IMG_1826_JPG.rf.2d6b3d19ff3c3182a3d66ff66eb1d43c.txt  \n",
            " extracting: train/labels/IMG_1828_JPG.rf.4ac079c0d93e66444e4aaba1707c8f30.txt  \n",
            " extracting: train/labels/IMG_1829_JPG.rf.1d70a8d98e8bb72bdaa57bdb1cf9790e.txt  \n",
            " extracting: train/labels/IMG_1830_JPG.rf.53fd5c6a9ea9474e8d8b45f1842c7ed2.txt  \n",
            " extracting: train/labels/IMG_1831_JPG.rf.3c9a76a4beae593d29ae076e83746c53.txt  \n",
            " extracting: train/labels/IMG_1833_JPG.rf.ec884d0fce471339df99c14bdf641762.txt  \n",
            " extracting: train/labels/IMG_1834_JPG.rf.b94ada6bfd39d0898da04befb9649c4b.txt  \n",
            " extracting: train/labels/IMG_1837_JPG.rf.572c70ccd12f2c6e2bb6d804d455e998.txt  \n",
            " extracting: train/labels/IMG_1838_JPG.rf.19b6792abdc5c023d608789b55e95046.txt  \n",
            " extracting: train/labels/IMG_1839_JPG.rf.d0763c24b8c5677a9ee09d75903e580f.txt  \n",
            " extracting: train/labels/IMG_1840_JPG.rf.f9baf32c4a3ed429dc66cf52c5ec66d5.txt  \n",
            " extracting: train/labels/IMG_1841_JPG.rf.344fcc4d3bd59859c0c404d2b1f991b7.txt  \n",
            " extracting: train/labels/IMG_1842_JPG.rf.3e3ce2dd745af00e4a9085f1fadd464a.txt  \n",
            " extracting: train/labels/IMG_1843_JPG.rf.da9c407ea7edccc148646628d98c2ebf.txt  \n",
            " extracting: train/labels/IMG_1844_JPG.rf.2619515f281d45b933cffd1188daf3e9.txt  \n",
            " extracting: train/labels/IMG_1845_JPG.rf.aef408d875e0bf3379c3c888ac952069.txt  \n",
            " extracting: train/labels/IMG_1846_JPG.rf.3593546c80293672f8bf9458c6403564.txt  \n",
            " extracting: train/labels/IMG_1848_JPG.rf.0f40e83088f1188f681a066fb55618e4.txt  \n",
            " extracting: train/labels/IMG_1849_JPG.rf.49a019660c2345353e6b8980ede0db68.txt  \n",
            " extracting: train/labels/IMG_1851_JPG.rf.6f1dae7c27ed43403af877bec451a20a.txt  \n",
            " extracting: train/labels/IMG_1852_JPG.rf.3fd7509f95902caea1274139ce00401a.txt  \n",
            " extracting: train/labels/IMG_1853_JPG.rf.c66dabebe424f54c5ded25cf82de7159.txt  \n",
            " extracting: train/labels/IMG_1855_JPG.rf.593d9f59b67f6240ca31f7d2e7303ea9.txt  \n",
            " extracting: train/labels/IMG_1856_JPG.rf.22091ef83d1d3e4a8f5a751f9da90b09.txt  \n",
            " extracting: train/labels/IMG_1857_JPG.rf.c816a5485a4f9cbda748f106a7ca9f7f.txt  \n",
            " extracting: train/labels/IMG_1859_JPG.rf.a889329239f5994d2b5bb7541e66b196.txt  \n",
            " extracting: train/labels/IMG_1860_JPG.rf.5ff8cd6339fbdd93e80ffedc976cdb6c.txt  \n",
            " extracting: train/labels/IMG_1861_JPG.rf.4b84820dea3553f6c753d50825c9bb88.txt  \n",
            " extracting: train/labels/IMG_1862_JPG.rf.e4d75d123c85cf4c5951723337acc78a.txt  \n",
            " extracting: train/labels/IMG_1863_JPG.rf.2c80d2f10cde46cbdb54589575baab56.txt  \n",
            " extracting: train/labels/IMG_1864_JPG.rf.441336d3f2d874806a3fb5f55d9f320c.txt  \n",
            " extracting: train/labels/IMG_1865_JPG.rf.acfcea079c1213f0174ca0d0d8507012.txt  \n",
            " extracting: train/labels/IMG_1866_JPG.rf.dc0d285992ad5ad3f86b4e43fe56c322.txt  \n",
            " extracting: train/labels/IMG_1867_JPG.rf.33dc825af6388848f9a0d0d2042014ad.txt  \n",
            " extracting: train/labels/IMG_1868_JPG.rf.dc839063788667d90ff1d72ba2589f2d.txt  \n",
            " extracting: train/labels/IMG_1869_JPG.rf.5137c94d1dfaa3e1b5a95d7462369136.txt  \n",
            " extracting: train/labels/IMG_1870_JPG.rf.9be77ab145ac47f648a5f5fa2d012817.txt  \n",
            " extracting: train/labels/IMG_1872_JPG.rf.6c7b28381defb1f07693f2a2206fcf0b.txt  \n",
            " extracting: train/labels/IMG_1875_JPG.rf.8d4bc56dff102af793056ca2d5ff1cf7.txt  \n",
            " extracting: train/labels/IMG_1876_JPG.rf.7829391ef6619b7de686b437e7c75ce4.txt  \n",
            " extracting: train/labels/IMG_1877_JPG.rf.45b8bcef7a308ee7d3c6279aee237484.txt  \n",
            " extracting: train/labels/IMG_1878_JPG.rf.689e2f14b49e53978cd25e31f0a06566.txt  \n",
            " extracting: train/labels/IMG_1879_JPG.rf.b21a0f22475b771ba89bf49aa6009275.txt  \n",
            " extracting: train/labels/IMG_1880_JPG.rf.bc408bf813e78c8bccc37c539bfa1203.txt  \n",
            " extracting: train/labels/IMG_1881_JPG.rf.afa5bd2a23d908cbc812ef9000af02ef.txt  \n",
            " extracting: train/labels/IMG_1882_JPG.rf.e8dc657766e21499dbef0f0cd013a7b4.txt  \n",
            " extracting: train/labels/IMG_1883_JPG.rf.a67952ef2fb1f8c25d8d62f830ea1456.txt  \n",
            " extracting: train/labels/IMG_1884_JPG.rf.819457011fb62ca277971e5f02b592f1.txt  \n",
            " extracting: train/labels/IMG_1885_JPG.rf.66519b9dfbcd1c2a07972945842fe3dd.txt  \n",
            " extracting: train/labels/IMG_1886_JPG.rf.273f72a827a6f73c2c40386fcef0daef.txt  \n",
            " extracting: train/labels/IMG_1887_JPG.rf.2b90aed54d226e726c78523da2e02ba0.txt  \n",
            " extracting: train/labels/IMG_1888_JPG.rf.ff452a0109a4b03a4a0d30c1b701893c.txt  \n",
            " extracting: train/labels/IMG_1889_JPG.rf.32bebfbdd17971cc7ecc2ee5d5f3edc1.txt  \n",
            " extracting: train/labels/IMG_1890_JPG.rf.e7417a03aff162d65d88cc259d294c64.txt  \n",
            " extracting: train/labels/IMG_1891_JPG.rf.5b239bb78e63418533251d19c0c357bc.txt  \n",
            " extracting: train/labels/IMG_1894_JPG.rf.a35c65f42470b700275caa66ead8dbdd.txt  \n",
            " extracting: train/labels/IMG_1895_JPG.rf.9807359f25e8f75e4d6680d289c51f9f.txt  \n",
            " extracting: train/labels/IMG_1896_JPG.rf.ddf67f0376aeb06c178378575718ea7c.txt  \n",
            " extracting: train/labels/IMG_1897_JPG.rf.0157dd1f6f7c4f3c0299f23b5e41b3d5.txt  \n",
            " extracting: train/labels/IMG_1899_JPG.rf.e3c14841b0a9189ba777e908fa3ae1bf.txt  \n",
            " extracting: train/labels/IMG_1900_JPG.rf.5a86a0d1c395e78e16acec224797a132.txt  \n",
            " extracting: train/labels/IMG_1901_JPG.rf.e261aca167539d2fe2fe3493316bb025.txt  \n",
            " extracting: train/labels/IMG_1904_JPG.rf.d0ee69daa1df11c987909e8446410a0c.txt  \n",
            " extracting: train/labels/IMG_1905_JPG.rf.ec5704315ace9c2de5b22afcf80b2633.txt  \n",
            " extracting: train/labels/IMG_1906_JPG.rf.37e0aae344e94cba85d5544f12f0e6ce.txt  \n",
            " extracting: train/labels/IMG_1907_JPG.rf.3f94042d2f676ec3504dae0dbe239863.txt  \n",
            " extracting: train/labels/IMG_1910_JPG.rf.36ac2dbcc2c115fd19a54d3c43355378.txt  \n",
            " extracting: train/labels/IMG_1911_JPG.rf.349f612dff2795abe9093a293e6c99ef.txt  \n",
            " extracting: train/labels/IMG_1912_JPG.rf.51ea6895bae1e4441959b421a85c5b97.txt  \n",
            " extracting: train/labels/IMG_1914_JPG.rf.aa492f9f35179bade6c93ac19a1278ab.txt  \n",
            " extracting: train/labels/IMG_1915_JPG.rf.db2fe2369c2108d17d4d04e5608aab10.txt  \n",
            " extracting: train/labels/IMG_1916_JPG.rf.ce18fd185eb9bda3633d605c158582ad.txt  \n",
            " extracting: train/labels/IMG_1918_JPG.rf.2d1fe5f75d42b161cdca9cd36ed15a21.txt  \n",
            " extracting: train/labels/IMG_1919_JPG.rf.643d463ec331f7c17cc250b778b115d6.txt  \n",
            " extracting: train/labels/IMG_1920_JPG.rf.5f749d33bb6ba3d3bf72e1ea0c5f5473.txt  \n",
            " extracting: train/labels/IMG_1921_JPG.rf.e8c91798b067c19da8b6176d65033e71.txt  \n",
            " extracting: train/labels/IMG_1922_JPG.rf.f04fde58241757e5a4111506fb8f4a7d.txt  \n",
            " extracting: train/labels/IMG_1923_JPG.rf.5288472205c571cc5e463568749da52c.txt  \n",
            " extracting: train/labels/IMG_1924_JPG.rf.1d34bc6c198444ffe2ed6f1b1138c58a.txt  \n",
            " extracting: train/labels/IMG_1925_JPG.rf.a95bb7c912bc907f9ddde5699420580a.txt  \n",
            " extracting: train/labels/IMG_1927_JPG.rf.d2cfaba83b5337dd932dd56b20cf1a24.txt  \n",
            " extracting: train/labels/IMG_1928_JPG.rf.2417a42f45d2b16d23ce31bcd8c13533.txt  \n",
            " extracting: train/labels/IMG_1930_JPG.rf.f101f6240b0a06a2503bf912610284d2.txt  \n",
            " extracting: train/labels/IMG_1931_JPG.rf.5b185f0c218a226837f42f0054dd2ea3.txt  \n",
            " extracting: train/labels/IMG_1932_JPG.rf.1c05dc7c27928baf5cea7ac751fbddc5.txt  \n",
            " extracting: train/labels/IMG_1933_JPG.rf.16b039f0bfc0a94730fefb843f429e1a.txt  \n",
            " extracting: train/labels/IMG_1934_JPG.rf.307fc63f0b4fece707439f1e2550985d.txt  \n",
            " extracting: train/labels/IMG_1936_JPG.rf.567a085a74873331159d1c9af6635107.txt  \n",
            " extracting: train/labels/IMG_1937_JPG.rf.8cde5eca7e275a0f4b4e11d2c83c76f5.txt  \n",
            " extracting: train/labels/IMG_1939_JPG.rf.5174da9a721b62d14ae25865a26df1f7.txt  \n",
            " extracting: train/labels/IMG_1940_JPG.rf.f68cee505cd95014ae93ebb7c146d575.txt  \n",
            " extracting: train/labels/IMG_1941_JPG.rf.87a2d9a1a87369b7b57079db44d81605.txt  \n",
            " extracting: train/labels/IMG_1942_JPG.rf.801cd0c62e0b0462d374e033113696ba.txt  \n",
            " extracting: train/labels/IMG_1943_JPG.rf.9859bebe0f656af24e947bf7926c903b.txt  \n",
            " extracting: train/labels/IMG_1944_JPG.rf.e0200d0d9dff568c2d413068b51ebad1.txt  \n",
            " extracting: train/labels/IMG_1945_JPG.rf.8449fcd883fdf7b862eb2799e7bf5343.txt  \n",
            " extracting: train/labels/IMG_1947_JPG.rf.1fcdd9d1df568246a5dcdf673c2dcb78.txt  \n",
            " extracting: train/labels/IMG_1948_JPG.rf.91e35c1eab3ead46e2fdec2282a0838e.txt  \n",
            " extracting: train/labels/IMG_1949_JPG.rf.b00a4197d749e1d9558b089d0436f5fb.txt  \n",
            " extracting: train/labels/IMG_1951_JPG.rf.4529726846577aef1bfe4dacc7b5184a.txt  \n",
            " extracting: train/labels/IMG_1952_JPG.rf.f5c2c654d28f426fc2ef64eba0d945a4.txt  \n",
            " extracting: train/labels/IMG_1953_JPG.rf.99da55cd4697e23dad902b538b1a8833.txt  \n",
            " extracting: train/labels/IMG_1954_JPG.rf.900496122d73a0a255a8fddaff882bb4.txt  \n",
            " extracting: train/labels/IMG_1955_JPG.rf.92bb3764f8e480f5716d7bb95e3714b5.txt  \n",
            " extracting: train/labels/IMG_1956_JPG.rf.f9bc57763b02277f6d5582e60476bdcb.txt  \n",
            " extracting: train/labels/IMG_1959_JPG.rf.da14d2079886fe475862ea84c5b2e399.txt  \n",
            " extracting: train/labels/IMG_1960_JPG.rf.e2c5651143c87fce2e4f8f3e67fcb49d.txt  \n",
            " extracting: train/labels/IMG_1961_JPG.rf.c801bac645b8ba0097945289aefcc569.txt  \n",
            " extracting: train/labels/IMG_1963_JPG.rf.84cf2cdf809eb708217cc30d4361dff0.txt  \n",
            " extracting: train/labels/IMG_1964_JPG.rf.aac8f19a17b79392ab64966b76cb0d3e.txt  \n",
            " extracting: train/labels/IMG_1965_JPG.rf.ff6fa3ac55049a5a78f0319be3eac2af.txt  \n",
            " extracting: train/labels/IMG_1966_JPG.rf.a423fd52b6e079738ac603fbf4a3efcc.txt  \n",
            " extracting: train/labels/IMG_1967_JPG.rf.451c6ae2fd93e3bd7f6a79f7d48919e1.txt  \n",
            " extracting: train/labels/IMG_1970_JPG.rf.845268946d528211c72a37e798847b4a.txt  \n",
            " extracting: train/labels/IMG_1971_JPG.rf.4003bbf813cb94ce2c03fdd4e5469a11.txt  \n",
            " extracting: train/labels/IMG_1972_JPG.rf.9daed44ccd9d8e9037b9bccf64e0470f.txt  \n",
            " extracting: train/labels/IMG_1973_JPG.rf.309766c2fc40ba0af2690d8dedcde94c.txt  \n",
            " extracting: train/labels/IMG_1974_JPG.rf.2603c09c7b66f684357a5a2a2d659b8d.txt  \n",
            " extracting: train/labels/IMG_1975_JPG.rf.b652b0644cdde30b58b57ce3943c3abe.txt  \n",
            " extracting: train/labels/IMG_1976_JPG.rf.ab74eb2d9ec9880d64a252de338cf018.txt  \n",
            " extracting: train/labels/IMG_1977_JPG.rf.8444e4b99f1fa57fbe3b93c0dc917699.txt  \n",
            " extracting: train/labels/IMG_1979_JPG.rf.a0114016745a23cac31ee894361123e3.txt  \n",
            " extracting: train/labels/IMG_1980_JPG.rf.ce4cd102215c913e67472a3d3c30c114.txt  \n",
            " extracting: train/labels/IMG_1982_JPG.rf.6e77f17eeee6e3b4e1cfbd90f34e6902.txt  \n",
            " extracting: train/labels/IMG_1984_JPG.rf.4e44920e878fe075ec0a70654fdf9eb6.txt  \n",
            " extracting: train/labels/IMG_1986_JPG.rf.696f8c1fbbf962b669ec5013f1f9fa72.txt  \n",
            " extracting: train/labels/IMG_1987_JPG.rf.50c77f4c42df7d3c38a48d7d15e8f619.txt  \n",
            " extracting: train/labels/IMG_1988_JPG.rf.49a59dc98c066acd0c37d933b11fbc9f.txt  \n",
            " extracting: train/labels/IMG_1989_JPG.rf.819b0bf78f759fbff5c0986690bc96e5.txt  \n",
            " extracting: train/labels/IMG_1990_JPG.rf.5819d48bfcde121be855daf2db8dac16.txt  \n",
            " extracting: train/labels/IMG_1991_JPG.rf.0e827157e774df18e4341f0079d08496.txt  \n",
            " extracting: train/labels/IMG_1993_JPG.rf.3fe7b71f8174d52c581ec7b3d3de5964.txt  \n",
            " extracting: train/labels/IMG_1994_JPG.rf.ee6dbdafed7a6e24e3688f96dd20d18c.txt  \n",
            " extracting: train/labels/IMG_1995_JPG.rf.a3a4cd9f7cf0946128419cf0394031f6.txt  \n",
            " extracting: train/labels/IMG_1996_JPG.rf.6472af783b7a15a862efa770d54516fd.txt  \n",
            " extracting: train/labels/IMG_1997_JPG.rf.ac667b823360bf61151b03136d4eff62.txt  \n",
            " extracting: train/labels/IMG_1999_JPG.rf.69d41ab46a587f6647d10c4382d0ea14.txt  \n",
            " extracting: train/labels/IMG_2001_JPG.rf.d4cb3805605e8ffafbe50e52599d216a.txt  \n",
            " extracting: train/labels/IMG_2002_JPG.rf.623a6ab23a62cec0bbd30e85772423a2.txt  \n",
            " extracting: train/labels/IMG_2003_JPG.rf.e5755c5fb2316fd188b4cce75fba2c7e.txt  \n",
            " extracting: train/labels/IMG_2004_JPG.rf.a6f39bdda355f2107fbe1aa9252e0c2a.txt  \n",
            " extracting: train/labels/IMG_2005_JPG.rf.1baed52a799876043d7ac56416994bbc.txt  \n",
            " extracting: train/labels/IMG_2006_JPG.rf.3c4f5d7492f0e205d7999866a9434233.txt  \n",
            " extracting: train/labels/IMG_2007_JPG.rf.142227308add65a237e97ab4fc83b185.txt  \n",
            " extracting: train/labels/IMG_2008_JPG.rf.0fe9421659dea7e944a322ed84fcdce4.txt  \n",
            " extracting: train/labels/IMG_2009_JPG.rf.260e1e92807ecdc990319ac11db09f4c.txt  \n",
            " extracting: train/labels/IMG_2010_JPG.rf.4142400235cba334a23328614624b98c.txt  \n",
            " extracting: train/labels/IMG_2011_JPG.rf.63ea74616a53edae592f70a67d7d067e.txt  \n",
            " extracting: train/labels/IMG_2013_JPG.rf.6b7633a82c09fb6f32581fb9a222d741.txt  \n",
            " extracting: train/labels/IMG_2014_JPG.rf.5c8db3ad489d531afa3fed9bf697f4b6.txt  \n",
            " extracting: train/labels/IMG_2015_JPG.rf.eb5fc88c8ed4f966318a4aed33db7487.txt  \n",
            " extracting: train/labels/IMG_2016_JPG.rf.76085d9e7841a06ea0b4a2729b67bfe2.txt  \n",
            " extracting: train/labels/IMG_2017_JPG.rf.f28a8bcb36ce40f10a7dfb6fb537825d.txt  \n",
            " extracting: train/labels/IMG_2018_JPG.rf.a44b230ef506c83652a9ed5bc477bab3.txt  \n",
            " extracting: train/labels/IMG_2019_JPG.rf.3fc5d1e8be16afd18537e81fdb4cdd5f.txt  \n",
            " extracting: train/labels/IMG_2020_JPG.rf.e4773ab5b2f8989de96d922db74c670a.txt  \n",
            " extracting: train/labels/IMG_2022_JPG.rf.49c1a9cfef8bbbdd6f4cf886b6f43757.txt  \n",
            " extracting: train/labels/IMG_2023_JPG.rf.7dcf76dfdf34f5cbdfcaaa36bb2ca695.txt  \n",
            " extracting: train/labels/IMG_2024_JPG.rf.7687a37b03357b591720521bf4e61a0a.txt  \n",
            " extracting: train/labels/IMG_2025_JPG.rf.1041ba5d18e6ea1fa9c4d6489899401a.txt  \n",
            " extracting: train/labels/IMG_2027_JPG.rf.fa01be48c9b42a7e9721f1f737ec63c2.txt  \n",
            " extracting: train/labels/IMG_2029_JPG.rf.962093856fb465d7f63be4ac7cd0b676.txt  \n",
            " extracting: train/labels/IMG_2030_JPG.rf.88b673dd4d155111fbad5fd79943c3bc.txt  \n",
            " extracting: train/labels/IMG_2032_JPG.rf.9383130d577944dc7daef99c5d5421b9.txt  \n",
            " extracting: train/labels/IMG_2033_JPG.rf.bb1f386a9b1248a5f6a72283b71572a4.txt  \n",
            " extracting: train/labels/IMG_2035_JPG.rf.bdc04c81f7d98fbdc38fbdafa6cdda64.txt  \n",
            " extracting: train/labels/IMG_2036_JPG.rf.d9a85598daa5c2d2a298211e07e056b5.txt  \n",
            " extracting: train/labels/IMG_2037_JPG.rf.0bcdac00f03ad76fadac82f7ae6aacb1.txt  \n",
            " extracting: train/labels/IMG_2038_JPG.rf.5efc8d79a27a267ea62acb5f7f24d7d6.txt  \n",
            " extracting: train/labels/IMG_2039_JPG.rf.ac897f3f6937f8550eb837444646aea5.txt  \n",
            " extracting: train/labels/IMG_2040_JPG.rf.99d59f8fef05649bc3116f3228285f2f.txt  \n",
            " extracting: train/labels/IMG_2042_JPG.rf.ad518e7cf17b9bfa6ac4605b5eeae4e7.txt  \n",
            " extracting: train/labels/IMG_2043_JPG.rf.a95a8e35c6a3f274c5c54a04119f69b9.txt  \n",
            " extracting: train/labels/IMG_2066_JPG.rf.ed5187bc45e2164feac121a3d7c3646d.txt  \n",
            " extracting: train/labels/IMG_2067_JPG.rf.5c4f40d2b634ec2065aefc6413a37845.txt  \n",
            " extracting: train/labels/IMG_2068_JPG.rf.bc62b1d5c3869f4f9b750faeb0e146e3.txt  \n",
            " extracting: train/labels/IMG_2072_JPG.rf.26610df5ce69c81fb9a2be9ed6696469.txt  \n",
            " extracting: train/labels/IMG_2074_JPG.rf.f88f2985fbd46d162ed6215612a758d8.txt  \n",
            " extracting: train/labels/IMG_2076_JPG.rf.ff270ae145524d0e702f572947c0c3d8.txt  \n",
            " extracting: train/labels/IMG_2077_JPG.rf.5d109d84b074c10b57a03d7bcc6dec3b.txt  \n",
            " extracting: train/labels/IMG_2078_JPG.rf.2ccff66196c3cd8a98eceda63c5dd4d9.txt  \n",
            " extracting: train/labels/IMG_2080_JPG.rf.ef32d88d2cb65231c8b31ed192cdd69a.txt  \n",
            " extracting: train/labels/IMG_2081_JPG.rf.0d39db8f5f4446c554841ea559f935d3.txt  \n",
            " extracting: train/labels/IMG_2082_JPG.rf.d60dc7a2c71f407991a6a8e23a916149.txt  \n",
            " extracting: train/labels/IMG_2083_JPG.rf.effaa069e7e329ddfc90567e23fd7bc1.txt  \n",
            " extracting: train/labels/IMG_2085_JPG.rf.992b6c9e4e0866661dc8a0415dc77706.txt  \n",
            " extracting: train/labels/IMG_2088_JPG.rf.8d0b312a63ab90ac2e77c3ae4c262d31.txt  \n",
            " extracting: train/labels/IMG_2089_JPG.rf.02da0364d8d275c40961c383bd783a36.txt  \n",
            " extracting: train/labels/IMG_2090_JPG.rf.d1797218e7b7ba72d7f05ae4a3d78340.txt  \n",
            " extracting: train/labels/IMG_2091_JPG.rf.e2c230ce700f4dd485a855fd818a1495.txt  \n",
            " extracting: train/labels/IMG_2092_JPG.rf.2f9a363ecb31548fd9044e44a785ed17.txt  \n",
            " extracting: train/labels/IMG_2093_JPG.rf.51643cc3cdd9a5f0818d93a923e6e40e.txt  \n",
            " extracting: train/labels/IMG_2094_JPG.rf.adbb271a52e821fc43e01920b3cfee01.txt  \n",
            " extracting: train/labels/IMG_2097_JPG.rf.e0aaa46f052b7a62bf5777405bf79a7a.txt  \n",
            " extracting: train/labels/IMG_2098_JPG.rf.e70a54a0eff01b62aea733a1550072c8.txt  \n",
            " extracting: train/labels/IMG_2100_JPG.rf.41b57fe8fc5dbaf5a14113ee1b12e75c.txt  \n",
            " extracting: train/labels/IMG_2102_JPG.rf.78a7879530cb2783b5def28a318a6cc0.txt  \n",
            " extracting: train/labels/IMG_2103_JPG.rf.07e35ea7a3c1ec713894ad67019c6f05.txt  \n",
            " extracting: train/labels/IMG_2104_JPG.rf.1b7ea2b6e3ec88bacbab44a3236232f1.txt  \n",
            " extracting: train/labels/IMG_2105_JPG.rf.2a03fe2a1ffd0ee2591b896d69983049.txt  \n",
            " extracting: train/labels/IMG_2107_JPG.rf.388e6f61700751717492c067f9280fd3.txt  \n",
            " extracting: train/labels/IMG_2108_JPG.rf.c717fbaf3547790a9956737fdaea1c3b.txt  \n",
            " extracting: train/labels/IMG_2109_JPG.rf.46d60fd9ff401de4c686d49d3618477e.txt  \n",
            " extracting: train/labels/IMG_2110_JPG.rf.b4ccb163fd21f18da63bfd25a6f3c362.txt  \n",
            " extracting: train/labels/IMG_2111_JPG.rf.7ced272f43b7eb1cd7795a8f2b7f3a12.txt  \n",
            " extracting: train/labels/IMG_2112_JPG.rf.9bb98792a4a34595b2642c1e85e45c97.txt  \n",
            " extracting: train/labels/IMG_2113_JPG.rf.b26594d7bb0b9245fb174efc82b6c885.txt  \n",
            " extracting: train/labels/IMG_2115_JPG.rf.c27c53f3489986d586b907fad9a6a671.txt  \n",
            " extracting: train/labels/IMG_2116_JPG.rf.ab5010068cf31c970f5516b22e5dc6cd.txt  \n",
            " extracting: train/labels/IMG_2117_JPG.rf.c1b27cc4e62fcbe4c74def62850c2b9c.txt  \n",
            " extracting: train/labels/IMG_2118_JPG.rf.a1813cc8d2a12027d00b90a15d333221.txt  \n",
            " extracting: train/labels/IMG_2119_JPG.rf.6d45bd358f34a36f66ec4e55c6dadd89.txt  \n",
            " extracting: train/labels/IMG_2121_JPG.rf.36edbf97186aef4c966d7f0a1d15af84.txt  \n",
            " extracting: train/labels/IMG_2122_JPG.rf.ad2a692a3d279c276310bb33ce176826.txt  \n",
            " extracting: train/labels/IMG_2123_JPG.rf.5f903f76bf36ae9cfb21e7c0ad826e42.txt  \n",
            " extracting: train/labels/IMG_2124_JPG.rf.9285525a0e602e173f277cca3bfae91c.txt  \n",
            " extracting: train/labels/IMG_2125_JPG.rf.c9c7fcf37eff725970742c023b5afc7b.txt  \n",
            " extracting: train/labels/IMG_2127_JPG.rf.f2e33e42e4b9b951bbdf858517844abf.txt  \n",
            " extracting: train/labels/IMG_2128_JPG.rf.a211ea7b2fbfac47992d5027d27f9c07.txt  \n",
            " extracting: train/labels/IMG_2130_JPG.rf.33fc5583925b2afa836da612bbed973b.txt  \n",
            " extracting: train/labels/IMG_2131_JPG.rf.c313bb7c9b4c6bcd6a8aac9405ff5823.txt  \n",
            " extracting: train/labels/IMG_2133_JPG.rf.7e2e8e44021649c16c8298342073810b.txt  \n",
            " extracting: train/labels/IMG_2135_JPG.rf.a0d6aafa8d4502337632568194813563.txt  \n",
            " extracting: train/labels/IMG_2136_JPG.rf.9691f370dc35c3fa1d2eeb35fc1d36a2.txt  \n",
            " extracting: train/labels/IMG_2137_JPG.rf.db1583a12a98fbfc57e082c7bf614feb.txt  \n",
            " extracting: train/labels/IMG_2138_JPG.rf.c0be3128ea461f150c3861edd3ab67f4.txt  \n",
            " extracting: train/labels/IMG_2139_JPG.rf.060a0f5aa72b8a18116a065f6469c912.txt  \n",
            " extracting: train/labels/IMG_2141_JPG.rf.1cd8765516aaab4652d5eaf7ae9a5481.txt  \n",
            " extracting: train/labels/IMG_2142_JPG.rf.54e3d166ed36b759cd27e3cc501f5dc5.txt  \n",
            " extracting: train/labels/IMG_2143_JPG.rf.1f81a33cd6c88260dca9b5f996af4b9d.txt  \n",
            " extracting: train/labels/IMG_2144_JPG.rf.a3da2e8deb5ca95f40eae05f768d7aa9.txt  \n",
            " extracting: train/labels/IMG_2145_JPG.rf.452c3ab4e082f7dea89e154f52f392a9.txt  \n",
            " extracting: train/labels/IMG_2183_JPG.rf.21c5a4475939746747c97608e779e318.txt  \n",
            " extracting: train/labels/IMG_2184_JPG.rf.39bc889c27f9cae59061c3a0b90f8fe4.txt  \n",
            " extracting: train/labels/IMG_2185_JPG.rf.e1e48f451c753687761533c5c8ac251a.txt  \n",
            " extracting: train/labels/IMG_2186_JPG.rf.acdc20a94e5f64084859277128e0b85c.txt  \n",
            " extracting: train/labels/IMG_2187_JPG.rf.5314716ff3664f48a5e2549ebe90b7d3.txt  \n",
            " extracting: train/labels/IMG_2188_JPG.rf.a8a48c0fb96ed6a5ee63a21fcb2c3f43.txt  \n",
            " extracting: train/labels/IMG_2189_JPG.rf.ab70ace8e4bff8cb368bb2a81b211316.txt  \n",
            " extracting: train/labels/IMG_2190_JPG.rf.8ca7b1ce59198c1bf6b8d3bc59963cf9.txt  \n",
            " extracting: train/labels/IMG_2191_JPG.rf.d5c2b9c297323c0b9b475703af54ea81.txt  \n",
            " extracting: train/labels/IMG_2193_JPG.rf.f16092225468d90764fc1e3f5540e0d1.txt  \n",
            " extracting: train/labels/IMG_2194_JPG.rf.eb0bc16e43bf1f4e44a09c8a5a896c29.txt  \n",
            " extracting: train/labels/IMG_2195_JPG.rf.9e9ccb0a156c9374f34822b3d45be81d.txt  \n",
            " extracting: train/labels/IMG_2196_JPG.rf.aa60d44ad1c52b4979e7ac087c963828.txt  \n",
            " extracting: train/labels/IMG_2197_JPG.rf.f66010a9db93628d2d5fd1fe71f8a8f6.txt  \n",
            " extracting: train/labels/IMG_2199_JPG.rf.92b06666eb36b3aad854e3cf5507bd07.txt  \n",
            " extracting: train/labels/IMG_2200_JPG.rf.93c8d7d317bdb0fe22f02e0593945a19.txt  \n",
            " extracting: train/labels/IMG_2202_JPG.rf.8cd096ebb3e813eb93de70dc03b2acb7.txt  \n",
            " extracting: train/labels/IMG_2203_JPG.rf.2c01b9316d96476390a2a9a09bd51f62.txt  \n",
            " extracting: train/labels/IMG_2204_JPG.rf.a1e187b5eab4872f9f80c46fc970e880.txt  \n",
            " extracting: train/labels/IMG_2205_JPG.rf.7eb99d2795d205cdad5b33366f610668.txt  \n",
            " extracting: train/labels/IMG_2207_JPG.rf.1f6a63a5d10374b9781483f8fdcac7aa.txt  \n",
            " extracting: train/labels/IMG_2209_JPG.rf.fd07586ac31c93ff0b7fe7d2ac219066.txt  \n",
            " extracting: train/labels/IMG_2210_JPG.rf.bb69941a6ea60911f731541600172392.txt  \n",
            " extracting: train/labels/IMG_2212_JPG.rf.58ab83d48ea427fb94fe902276acbd83.txt  \n",
            " extracting: train/labels/IMG_2213_JPG.rf.0898f286e0fde42987e4835a41824cd3.txt  \n",
            " extracting: train/labels/IMG_2215_JPG.rf.0542ca9ffa541c57cf7900853d0c30c4.txt  \n",
            " extracting: train/labels/IMG_2216_JPG.rf.c360ce9b67c8c87ec1826f908283411e.txt  \n",
            " extracting: train/labels/IMG_2217_JPG.rf.d8450be748c98b3dd1cf120f24f37703.txt  \n",
            " extracting: train/labels/IMG_2218_JPG.rf.e114d6055f02048ff4d4c000d0db00a1.txt  \n",
            " extracting: train/labels/IMG_2219_JPG.rf.5bf800d7d0979bf2d933be82f0a69d9b.txt  \n",
            " extracting: train/labels/IMG_2220_JPG.rf.c664e3eb615ffe598d590ebda357fd9f.txt  \n",
            " extracting: train/labels/IMG_2221_JPG.rf.a1f7803ced9b1a046fc5490bee7e48ef.txt  \n",
            " extracting: train/labels/IMG_2222_JPG.rf.06f66901ab6aad5d3fda9ef96cca66fa.txt  \n",
            " extracting: train/labels/IMG_2223_JPG.rf.0c2b00440c168187448737ba1a642bf9.txt  \n",
            " extracting: train/labels/IMG_2225_JPG.rf.9af7070c94377e338e4f3ee1e55918aa.txt  \n",
            " extracting: train/labels/IMG_2226_JPG.rf.ee4160127e023827e66edab2d1352c3d.txt  \n",
            " extracting: train/labels/IMG_2227_JPG.rf.d3ef2e8762c0cc35980f4c7156d4d67e.txt  \n",
            " extracting: train/labels/IMG_2228_JPG.rf.6f9eb13dbaa472680a99543db5714206.txt  \n",
            " extracting: train/labels/IMG_2230_JPG.rf.754b27da60f0353d19e853dad58a794a.txt  \n",
            " extracting: train/labels/IMG_2232_JPG.rf.e4285a0b085f3cc8033616493c4d512b.txt  \n",
            " extracting: train/labels/IMG_2233_JPG.rf.74bc2ad50b313dcc8529a3c57a2647ac.txt  \n",
            " extracting: train/labels/IMG_2234_JPG.rf.6117ec6c6ca2d313655c86c3d337651a.txt  \n",
            " extracting: train/labels/IMG_2235_JPG.rf.35ccdf2686e191805b852354c04ad6f1.txt  \n",
            " extracting: train/labels/IMG_2236_JPG.rf.7546f54cd45df1a425c6d5cc23ef19f1.txt  \n",
            " extracting: train/labels/IMG_2237_JPG.rf.e8b4c8024d39e2970addf791f407c7b7.txt  \n",
            " extracting: train/labels/IMG_2239_JPG.rf.2df497b00d4d4568e814734e57f92729.txt  \n",
            " extracting: train/labels/IMG_2240_JPG.rf.33099621b10f2cf88525e71beef5c375.txt  \n",
            " extracting: train/labels/IMG_2241_JPG.rf.8e7bb198bb453bfa981e28d5e78bfcff.txt  \n",
            " extracting: train/labels/IMG_2242_JPG.rf.a75427f4e6bb278fc977f5cf8a920588.txt  \n",
            " extracting: train/labels/IMG_2243_JPG.rf.f35060a176a7b132e185831150864d55.txt  \n",
            " extracting: train/labels/IMG_2244_JPG.rf.39389d3dc276cf185671a4d7809e8517.txt  \n",
            " extracting: train/labels/IMG_2245_JPG.rf.1c333f223a47644e4ee24c2fd9a186d9.txt  \n",
            " extracting: train/labels/IMG_2246_JPG.rf.6d2171ac8986013687aed88bfb794134.txt  \n",
            " extracting: train/labels/IMG_2247_JPG.rf.3de57a1affeb2450cdd016229b1ca0f9.txt  \n",
            " extracting: train/labels/IMG_2248_JPG.rf.e63a5ad3e0b67a5e61828bbb13dd97c2.txt  \n",
            " extracting: train/labels/IMG_2249_JPG.rf.737960cd295a7d1c343b7432d363428d.txt  \n",
            " extracting: train/labels/IMG_2250_JPG.rf.22c0d10bedbd0f2a63302453e7bddd4a.txt  \n",
            " extracting: train/labels/IMG_2251_JPG.rf.3b5e5dba12e8646940a06fdaea6570cf.txt  \n",
            " extracting: train/labels/IMG_2252_JPG.rf.445b5d77c3f8a224e2a6c4ad7ced7153.txt  \n",
            " extracting: train/labels/IMG_2254_JPG.rf.69cc29140bb8e08e0b0333d8ba8336f3.txt  \n",
            " extracting: train/labels/IMG_2255_JPG.rf.69e471dca98c1f0d21ebfad67e3f0c83.txt  \n",
            " extracting: train/labels/IMG_2256_JPG.rf.5a8632ce595c9a6174bc394bad786f6c.txt  \n",
            " extracting: train/labels/IMG_2257_JPG.rf.69065fbdfb42fef3a12dbf9527133567.txt  \n",
            " extracting: train/labels/IMG_2259_JPG.rf.a8d0f0ecff603c3de71e5534b9b4556a.txt  \n",
            " extracting: train/labels/IMG_2260_JPG.rf.945273231b6ea773d684b2832569dd9d.txt  \n",
            " extracting: train/labels/IMG_2261_JPG.rf.ad75749986e4d52ab33e638e2160ef01.txt  \n",
            " extracting: train/labels/IMG_2262_JPG.rf.f0369fa64fded267fd98f2f16a487fd1.txt  \n",
            " extracting: train/labels/IMG_2263_JPG.rf.1fd850488f9de142da8388180a15f51e.txt  \n",
            " extracting: train/labels/IMG_2265_JPG.rf.b01f6314ff3237e2e09990f962ba5d20.txt  \n",
            " extracting: train/labels/IMG_2266_JPG.rf.f6395cccbc918a44cadb0014e39e2716.txt  \n",
            " extracting: train/labels/IMG_2267_JPG.rf.2f966ac27e52b538db9d810319a899a7.txt  \n",
            " extracting: train/labels/IMG_2268_JPG.rf.77faa9a26f9b9c381842800e1002285c.txt  \n",
            " extracting: train/labels/IMG_2269_JPG.rf.48bddaed2b26f36f22f3255f4c05395a.txt  \n",
            " extracting: train/labels/IMG_2271_JPG.rf.398924a0cf617de225ad0b60e5cd6155.txt  \n",
            " extracting: train/labels/IMG_2273_JPG.rf.be1272038366551a4c0e71e622c911a2.txt  \n",
            " extracting: train/labels/IMG_2274_JPG.rf.94c59f080289d838cf4508d9fe49cbb2.txt  \n",
            " extracting: train/labels/IMG_2275_JPG.rf.35068fb50eeea0c524c4698d6edb46bb.txt  \n",
            " extracting: train/labels/IMG_2277_JPG.rf.55ed390abca3ad34a4cbe0f7ca0ee16c.txt  \n",
            " extracting: train/labels/IMG_2279_JPG.rf.d9fa6ae6e8afd34d00f6bd77d04a76fb.txt  \n",
            " extracting: train/labels/IMG_2280_JPG.rf.428816f2e195b446d8a68ddae8bf7cc8.txt  \n",
            " extracting: train/labels/IMG_2281_JPG.rf.2695e2122b6eb782c91bea8ad213af02.txt  \n",
            " extracting: train/labels/IMG_2282_JPG.rf.299c7984efcf66b8aeb5cf912f7e43f0.txt  \n",
            " extracting: train/labels/IMG_2283_JPG.rf.49966ed3141d2120b8197d9ce8a592e3.txt  \n",
            " extracting: train/labels/IMG_2284_JPG.rf.c532fb60c5d2a690da474cc8d515f774.txt  \n",
            " extracting: train/labels/IMG_2285_JPG.rf.5e127d113605259670c1dd68aa0ef69b.txt  \n",
            " extracting: train/labels/IMG_2286_JPG.rf.b8008770ddeed99142d2f68cfb07851a.txt  \n",
            " extracting: train/labels/IMG_2287_JPG.rf.a1527694e4b9275c3ca3499ff162b488.txt  \n",
            " extracting: train/labels/IMG_2288_JPG.rf.ae0c96ab0deea93e4e2e40fc7547d6db.txt  \n",
            " extracting: train/labels/IMG_2289_JPG.rf.e993400e14f5b193910d9ffdf81d55a2.txt  \n",
            " extracting: train/labels/IMG_2290_JPG.rf.e47cc1004c265d9d1572313dbf6460ff.txt  \n",
            " extracting: train/labels/IMG_2291_JPG.rf.e0dbf22c6dd418d62299a298cc0e80fe.txt  \n",
            " extracting: train/labels/IMG_2292_JPG.rf.340338bdc1e52b6542dcfc83e31ab2d3.txt  \n",
            " extracting: train/labels/IMG_2293_JPG.rf.c22faa660cd4ca59895bad2bb5037a09.txt  \n",
            " extracting: train/labels/IMG_2295_JPG.rf.cd9bf832dcf30a30861946c13b162d78.txt  \n",
            " extracting: train/labels/IMG_2296_JPG.rf.2e360a69d2f74deb75872b5a4321af99.txt  \n",
            " extracting: train/labels/IMG_2297_JPG.rf.5315d62d6009f6d35e40360bba466bfb.txt  \n",
            " extracting: train/labels/IMG_2298_JPG.rf.56fe74c354895a450b1ffb1fa62c93e2.txt  \n",
            " extracting: train/labels/IMG_2299_JPG.rf.dd32cc2847f434ae1a5c2638ad3d5f69.txt  \n",
            " extracting: train/labels/IMG_2300_JPG.rf.df30c763c185799604e5300c64d13444.txt  \n",
            " extracting: train/labels/IMG_2301_JPG.rf.e109baa8d8fbb5c93ac420ae507971c8.txt  \n",
            " extracting: train/labels/IMG_2302_JPG.rf.4938e97be7acb2b1e654f9607ed3bf15.txt  \n",
            " extracting: train/labels/IMG_2306_JPG.rf.c85f5d42c5c635e5c21de747b0b1387b.txt  \n",
            " extracting: train/labels/IMG_2307_JPG.rf.dc5313f61d4e6782a0033e2ba452c6dc.txt  \n",
            " extracting: train/labels/IMG_2308_JPG.rf.7359bb9103ca3ec9bf034fc0b7351c4f.txt  \n",
            " extracting: train/labels/IMG_2310_JPG.rf.d350e139ae94584cc642f4776e57c0ff.txt  \n",
            " extracting: train/labels/IMG_2311_JPG.rf.375885c211ce54133d45bd3f6386f966.txt  \n",
            " extracting: train/labels/IMG_2312_JPG.rf.80a71931ee67ce12abeb9f445c30ab61.txt  \n",
            " extracting: train/labels/IMG_2313_JPG.rf.7d74ea3e39924c00f9b04f74e469f07b.txt  \n",
            " extracting: train/labels/IMG_2314_JPG.rf.45a0eb47cb5dad55f21139c4767db4dd.txt  \n",
            " extracting: train/labels/IMG_2315_JPG.rf.e551171247602c035be1dc34e687704e.txt  \n",
            " extracting: train/labels/IMG_2316_JPG.rf.f04a4c32916e13d9b6d3383904153b44.txt  \n",
            " extracting: train/labels/IMG_2319_JPG.rf.78f0186243958180b61878b52fa53d22.txt  \n",
            " extracting: train/labels/IMG_2320_JPG.rf.6b2de3a73dff77083f749089db0ae7b8.txt  \n",
            " extracting: train/labels/IMG_2321_JPG.rf.c84795e37e8c334d264df932d0ccbca0.txt  \n",
            " extracting: train/labels/IMG_2322_JPG.rf.078278521821b1ffa171a7c8b186f83e.txt  \n",
            " extracting: train/labels/IMG_2325_JPG.rf.856a13c54494ce9f17a0f0495500b57e.txt  \n",
            " extracting: train/labels/IMG_2327_JPG.rf.13c3b08340c48d0316c98d2c9e64212a.txt  \n",
            " extracting: train/labels/IMG_2330_JPG.rf.8865db325d3764a4373710557576b806.txt  \n",
            " extracting: train/labels/IMG_2331_JPG.rf.3e7f78a100117a2781da15063fb621b0.txt  \n",
            " extracting: train/labels/IMG_2332_JPG.rf.4c7f8e3b7bab2c212473987bc018ae29.txt  \n",
            " extracting: train/labels/IMG_2333_JPG.rf.55526b7a909c7ea206216edcfc8d4209.txt  \n",
            " extracting: train/labels/IMG_2336_JPG.rf.cd41ee7e87672db184197dd32bd50508.txt  \n",
            " extracting: train/labels/IMG_2337_JPG.rf.459ba74672785a4becf2530cf43b2516.txt  \n",
            " extracting: train/labels/IMG_2340_JPG.rf.487cb589048ef43ab4cb990de3ff5823.txt  \n",
            " extracting: train/labels/IMG_2341_JPG.rf.4dd382033befb680b9fe7f1c598bc593.txt  \n",
            " extracting: train/labels/IMG_2342_JPG.rf.b1f5d1d54810970cf8c7e3e251bba069.txt  \n",
            " extracting: train/labels/IMG_2343_JPG.rf.1761dda73873dd9f20a205e05668a2d4.txt  \n",
            " extracting: train/labels/IMG_2344_JPG.rf.2ba9a16b221d407d8bb0ca9420a37632.txt  \n",
            " extracting: train/labels/IMG_2345_JPG.rf.3bd21744861625352f19269ca396540d.txt  \n",
            " extracting: train/labels/IMG_2346_JPG.rf.f86226998f18fd8a1304509e0b8b8939.txt  \n",
            " extracting: train/labels/IMG_2347_JPG.rf.c93946846e6906275167f292e7593eba.txt  \n",
            " extracting: train/labels/IMG_2350_JPG.rf.4d30b016b09eef7781669ac986a5124b.txt  \n",
            " extracting: train/labels/IMG_2351_JPG.rf.8bf03eb48e66e0393509248713936aac.txt  \n",
            " extracting: train/labels/IMG_2352_JPG.rf.960f1f66c12d41874697a0c9df9bf4b0.txt  \n",
            " extracting: train/labels/IMG_2353_JPG.rf.b6ad2cf556656236f62fd0e8713ffd21.txt  \n",
            " extracting: train/labels/IMG_2354_JPG.rf.c541be3655c2ccd3fa6206164c447cfa.txt  \n",
            " extracting: train/labels/IMG_2355_JPG.rf.5cf56fa5e880acd3f365559be4e0088e.txt  \n",
            " extracting: train/labels/IMG_2357_JPG.rf.636d30d1c18f42edf2e9f290a348140e.txt  \n",
            " extracting: train/labels/IMG_2358_JPG.rf.d1a95af2442deea6dc9ee2e373238dbc.txt  \n",
            " extracting: train/labels/IMG_2359_JPG.rf.de044216e4d26a827e5f4016b787bd99.txt  \n",
            " extracting: train/labels/IMG_2360_JPG.rf.bdfb42286d8f51c1244d7bd346696920.txt  \n",
            " extracting: train/labels/IMG_2362_JPG.rf.32147f5c1bfb183e1c627b5390581fac.txt  \n",
            " extracting: train/labels/IMG_2363_JPG.rf.61c2127350d6d759f81ed2710506f925.txt  \n",
            " extracting: train/labels/IMG_2364_JPG.rf.566130c92a653a13bffba626dc962d72.txt  \n",
            " extracting: train/labels/IMG_2365_JPG.rf.ef3dd9d5839433769c1f446d51707030.txt  \n",
            " extracting: train/labels/IMG_2366_JPG.rf.1a4725bb2397292d790a36511f691f53.txt  \n",
            " extracting: train/labels/IMG_2367_JPG.rf.4de5cdd5d48ae9e4f48e319bfe71f880.txt  \n",
            " extracting: train/labels/IMG_2368_JPG.rf.1e2c9bff7e6ae162dff60160b19179bb.txt  \n",
            " extracting: train/labels/IMG_2369_JPG.rf.07279cbb1fd85168185095e4ef5284f4.txt  \n",
            " extracting: train/labels/IMG_2370_JPG.rf.b0605e85c75283b479936f40a1903ba0.txt  \n",
            " extracting: train/labels/IMG_2371_JPG.rf.5280665d92f843f9f9e30287ede5ac6b.txt  \n",
            " extracting: train/labels/IMG_2372_JPG.rf.83a66e123f923a5787dedd8fad5fe913.txt  \n",
            " extracting: train/labels/IMG_2374_JPG.rf.fb61672db598665daa8f1c97db1dd17e.txt  \n",
            " extracting: train/labels/IMG_2375_JPG.rf.8c08a44d9537abd98a3633dc02708a0b.txt  \n",
            " extracting: train/labels/IMG_2376_JPG.rf.bdb95a2851109dab04bd7d723dc1526f.txt  \n",
            " extracting: train/labels/IMG_2377_JPG.rf.6a0d70c497977d398ffafe41260dbffc.txt  \n",
            " extracting: train/labels/IMG_2378_JPG.rf.4a3b1dc4f3a3d6788c702734a5309dee.txt  \n",
            " extracting: train/labels/IMG_2380_JPG.rf.95498cfecb02e2535c0226c163bfc60e.txt  \n",
            " extracting: train/labels/IMG_2381_JPG.rf.86be7d43cf501149a60a5e1e84193d1d.txt  \n",
            " extracting: train/labels/IMG_2383_JPG.rf.0f84c22d98bdb4b47ea897261101be48.txt  \n",
            " extracting: train/labels/IMG_2384_JPG.rf.7070e3cf8179a69ac3b5a405175bb081.txt  \n",
            " extracting: train/labels/IMG_2385_JPG.rf.8dd8ae1f3732cdd614ac1002c1b20745.txt  \n",
            " extracting: train/labels/IMG_2386_JPG.rf.5086cf1d3c8bbf04d2a41f41e35ef9d8.txt  \n",
            " extracting: train/labels/IMG_2387_JPG.rf.aba8dd57125185e4211574db46ac5f21.txt  \n",
            " extracting: train/labels/IMG_2399_JPG.rf.1916380806bdd1ffd95f2c97a45fede4.txt  \n",
            " extracting: train/labels/IMG_2400_JPG.rf.fa9ea52e0bd6dd09d40cc9ecd81f5c33.txt  \n",
            " extracting: train/labels/IMG_2401_JPG.rf.29bd9fed6696bbcecdf20860782be444.txt  \n",
            " extracting: train/labels/IMG_2402_JPG.rf.21a28a7753d89052435b3cb085f4b3d4.txt  \n",
            " extracting: train/labels/IMG_2403_JPG.rf.223d89caf37777a51a4006fcffe2b653.txt  \n",
            " extracting: train/labels/IMG_2404_JPG.rf.a044ad17e397c31fd5853e6820fddaa2.txt  \n",
            " extracting: train/labels/IMG_2405_JPG.rf.e6b5f02150df9c9455a05925e8b78ea3.txt  \n",
            " extracting: train/labels/IMG_2406_JPG.rf.3fdf82780adcb9264ce83a9bd2931fc8.txt  \n",
            " extracting: train/labels/IMG_2407_JPG.rf.facaa01435e28ecb14f8742791beaa19.txt  \n",
            " extracting: train/labels/IMG_2408_JPG.rf.5672460e59b4b823e5dd5284a5e7e80f.txt  \n",
            " extracting: train/labels/IMG_2409_JPG.rf.e18e9a904967dcb0a20db17ddd5e2fc8.txt  \n",
            " extracting: train/labels/IMG_2410_JPG.rf.0d0bdff849b1a67b97aa722641378f11.txt  \n",
            " extracting: train/labels/IMG_2411_JPG.rf.268e53fe92a06fa03b3297c307b76977.txt  \n",
            " extracting: train/labels/IMG_2412_JPG.rf.a4750eb81e6378625f156ef542b24690.txt  \n",
            " extracting: train/labels/IMG_2413_JPG.rf.b1fbee4b1adcd578ca9666c544d5fc05.txt  \n",
            " extracting: train/labels/IMG_2414_JPG.rf.1d0a8c9f05a82125bf02ff78c17aea5b.txt  \n",
            " extracting: train/labels/IMG_2415_JPG.rf.d0b6d5a64a152cae43b690d3d85e0a4d.txt  \n",
            " extracting: train/labels/IMG_2417_JPG.rf.4f9836ce05613c3a6098e2902ca79598.txt  \n",
            " extracting: train/labels/IMG_2420_JPG.rf.4ecb9333b960a9b3f4691142bf632486.txt  \n",
            " extracting: train/labels/IMG_2422_JPG.rf.64c80219f8ac9022182a8c401594bf0a.txt  \n",
            " extracting: train/labels/IMG_2424_JPG.rf.db40db981ccb0abc5fb2c8d0c2cda6eb.txt  \n",
            " extracting: train/labels/IMG_2425_JPG.rf.50736b43d70b278e972ea168c00849bf.txt  \n",
            " extracting: train/labels/IMG_2426_JPG.rf.395ae4dfb40dd222f627999e5de8d6b5.txt  \n",
            " extracting: train/labels/IMG_2427_JPG.rf.9f93d95b2563b0a2e5d232836e76137c.txt  \n",
            " extracting: train/labels/IMG_2428_JPG.rf.a290efec6c63b81c9400b0e7fec8b53f.txt  \n",
            " extracting: train/labels/IMG_2430_JPG.rf.ce1d571b324432481f6bac7825b194fd.txt  \n",
            " extracting: train/labels/IMG_2432_JPG.rf.57767e34fceac8ec9fd7e1420524ebc4.txt  \n",
            " extracting: train/labels/IMG_2434_JPG.rf.f40e130f97e13fa8a5eabe72250302e1.txt  \n",
            " extracting: train/labels/IMG_2435_JPG.rf.069f989256b356b94fd1e51d20fcbcc0.txt  \n",
            " extracting: train/labels/IMG_2436_JPG.rf.88eb4384df8a0482899d268e7f570a65.txt  \n",
            " extracting: train/labels/IMG_2437_JPG.rf.68d0f2972d085086759e053bd3d3b51c.txt  \n",
            " extracting: train/labels/IMG_2438_JPG.rf.8b160a0cfa27cd593e93d0ac6c552c89.txt  \n",
            " extracting: train/labels/IMG_2439_JPG.rf.664ea58ef8f221bdd18466c9d78aec74.txt  \n",
            " extracting: train/labels/IMG_2440_JPG.rf.739156632282d9670ee32387d376753c.txt  \n",
            " extracting: train/labels/IMG_2441_JPG.rf.6961226f38fda248969298fb39862ced.txt  \n",
            " extracting: train/labels/IMG_2442_JPG.rf.6c308720276ffb22ecef2538ca894acd.txt  \n",
            " extracting: train/labels/IMG_2443_JPG.rf.5924b4b8bfcbcdcc17e32269b6ca3036.txt  \n",
            " extracting: train/labels/IMG_2444_JPG.rf.032ef15abff463adb491fa54413e8c1f.txt  \n",
            " extracting: train/labels/IMG_2445_JPG.rf.5738ab6cd3b3fe54bc81ab702f86ef49.txt  \n",
            " extracting: train/labels/IMG_2446_JPG.rf.0d3acff52076907093e91dccd2a8addf.txt  \n",
            " extracting: train/labels/IMG_2448_JPG.rf.2a6c56bf88f1eb28b7b78348699687e6.txt  \n",
            " extracting: train/labels/IMG_2449_JPG.rf.5469388e5cc571aead2f9e145c759ecf.txt  \n",
            " extracting: train/labels/IMG_2450_JPG.rf.25ca41a4cf8cc528b445ae16f5cc2062.txt  \n",
            " extracting: train/labels/IMG_2451_JPG.rf.7f48f6e34f7c6e0a5729bc6233f68cd5.txt  \n",
            " extracting: train/labels/IMG_2452_JPG.rf.f70c2eb0f4460c8f2976ae37cc660734.txt  \n",
            " extracting: train/labels/IMG_2453_JPG.rf.6839d32dd01bb8ce6ede11e1208e0830.txt  \n",
            " extracting: train/labels/IMG_2455_JPG.rf.fc45bdccae63026caab9090909e2be30.txt  \n",
            " extracting: train/labels/IMG_2456_JPG.rf.dc855c764965059add86b11aaf846abf.txt  \n",
            " extracting: train/labels/IMG_2457_JPG.rf.34f001a6d1b04933bd45f7f0de9c929b.txt  \n",
            " extracting: train/labels/IMG_2458_JPG.rf.377c99c7164b23020cdd9e47c5d3c4f8.txt  \n",
            " extracting: train/labels/IMG_2459_JPG.rf.711c9e40a47b17162236c4c69b4a9e49.txt  \n",
            " extracting: train/labels/IMG_2460_JPG.rf.739b36a49bb7a5baa708443c6cb75c1c.txt  \n",
            " extracting: train/labels/IMG_2461_JPG.rf.1606670fc39dbd78b05a85430b3a4cd8.txt  \n",
            " extracting: train/labels/IMG_2462_JPG.rf.6992e0fd66052226c7eaa8bb45ce710b.txt  \n",
            " extracting: train/labels/IMG_2463_JPG.rf.3c71cd9e39e73cb794232a22f13bda12.txt  \n",
            " extracting: train/labels/IMG_2464_JPG.rf.efe082601fbff90156f4ec284ee3839f.txt  \n",
            " extracting: train/labels/IMG_2465_JPG.rf.199872c474fa6c1306e9f65510e30b66.txt  \n",
            " extracting: train/labels/IMG_2466_JPG.rf.6dd75c7c071ab32ee1214756b934675b.txt  \n",
            " extracting: train/labels/IMG_2467_JPG.rf.a005368239525be3929d4072537d9092.txt  \n",
            " extracting: train/labels/IMG_2468_JPG.rf.e74116000751a105d747bccb884f1aec.txt  \n",
            " extracting: train/labels/IMG_2469_JPG.rf.c7d5bb9f6c1e46c43810477a7a0f7b07.txt  \n",
            " extracting: train/labels/IMG_2470_JPG.rf.29bfa90932ee77c6e476b0aebd58145e.txt  \n",
            " extracting: train/labels/IMG_2473_JPG.rf.3432a0559ee7043e70d2d128ec28b206.txt  \n",
            " extracting: train/labels/IMG_2474_JPG.rf.a7752f21c57eb69d3cf6f3bf40fd4968.txt  \n",
            " extracting: train/labels/IMG_2475_JPG.rf.b9081a220bf104c982214bd618cd4c77.txt  \n",
            " extracting: train/labels/IMG_2476_JPG.rf.86a0ec72f7f5fd74e714e56794d2bb54.txt  \n",
            " extracting: train/labels/IMG_2477_JPG.rf.7c0cf071f8fb5d88a6c47a8094d33bc1.txt  \n",
            " extracting: train/labels/IMG_2478_JPG.rf.f0f93ebb11f0962604aaa58c8425f15c.txt  \n",
            " extracting: train/labels/IMG_2479_JPG.rf.2bb7116eaf3eff9b808ad8e20394d43d.txt  \n",
            " extracting: train/labels/IMG_2480_JPG.rf.2aed078755d309ab2980f59d922a7201.txt  \n",
            " extracting: train/labels/IMG_2481_JPG.rf.a7ede2aa1c51cb8b379f964a5ee559a3.txt  \n",
            " extracting: train/labels/IMG_2483_JPG.rf.fb05ac390e824c674813292b3c910221.txt  \n",
            " extracting: train/labels/IMG_2485_JPG.rf.e93128f500e1ea14ae07549983384306.txt  \n",
            " extracting: train/labels/IMG_2486_JPG.rf.dee472bfdb0e7dc275c6b4bee55c950f.txt  \n",
            " extracting: train/labels/IMG_2487_JPG.rf.2dbfccb38860d7bdc56b1823b7bdcfee.txt  \n",
            " extracting: train/labels/IMG_2488_JPG.rf.d799577fe5fb2144cccbab7b8af94132.txt  \n",
            " extracting: train/labels/IMG_2489_JPG.rf.65bd0b32885d8afa85d9543443cbc8cc.txt  \n",
            " extracting: train/labels/IMG_2492_JPG.rf.181ac9c475743289f8f03d2b3f5b1f10.txt  \n",
            " extracting: train/labels/IMG_2493_JPG.rf.516f1b754f02dc581a008502e681945d.txt  \n",
            " extracting: train/labels/IMG_2494_JPG.rf.4a0df8f95fb2fc4f909c2fa160921842.txt  \n",
            " extracting: train/labels/IMG_2495_JPG.rf.c05ad8704e6cfae16e9fd5cfd6bf1135.txt  \n",
            " extracting: train/labels/IMG_2496_JPG.rf.6b98838df3bb6432bfdeddbecbf5f72d.txt  \n",
            " extracting: train/labels/IMG_2497_JPG.rf.d6b7db7003a0a1da5be29983cfc97652.txt  \n",
            " extracting: train/labels/IMG_2498_JPG.rf.3584963ac9956435e2e7e0b1e0aa940e.txt  \n",
            " extracting: train/labels/IMG_2499_JPG.rf.6b06e32e91bee5e5c5ad33b34bcb0a34.txt  \n",
            " extracting: train/labels/IMG_2501_JPG.rf.3ce9c4d5e5e887c88209e4c3957cdbd6.txt  \n",
            " extracting: train/labels/IMG_2502_JPG.rf.6d1e85b9b89ed47ab00a567c2d998410.txt  \n",
            " extracting: train/labels/IMG_2504_JPG.rf.818cc2a9de87669872b95ade382d641b.txt  \n",
            " extracting: train/labels/IMG_2505_JPG.rf.b2f0664c742971c925c3e71f5c736191.txt  \n",
            " extracting: train/labels/IMG_2506_JPG.rf.60dc0e585101b6ef7089421b49e9ae62.txt  \n",
            " extracting: train/labels/IMG_2507_JPG.rf.42cbe7a5409c35562acc9e4a6e6fcf0a.txt  \n",
            " extracting: train/labels/IMG_2508_JPG.rf.1105473ca66020aca4437e25fa5a343d.txt  \n",
            " extracting: train/labels/IMG_2509_JPG.rf.6b314a20cf1598659c94e9e0aea0c331.txt  \n",
            " extracting: train/labels/IMG_2510_JPG.rf.bf1ad43667750d89dfa07337b76b1e16.txt  \n",
            " extracting: train/labels/IMG_2511_JPG.rf.d6547a57bbc5b3cc9274486bf57db2fc.txt  \n",
            " extracting: train/labels/IMG_2512_JPG.rf.5cf6737785d6ec59a884d663c05d42a2.txt  \n",
            " extracting: train/labels/IMG_2513_JPG.rf.eb6ad3d09d8304063cf4e1ffbfea7353.txt  \n",
            " extracting: train/labels/IMG_2515_JPG.rf.6ca66f3e8a19e2c09dcf36a5f89e53a5.txt  \n",
            " extracting: train/labels/IMG_2516_JPG.rf.adc5d3176ab0e7c33c1683f7f999e23a.txt  \n",
            " extracting: train/labels/IMG_2517_JPG.rf.b055d8f3abb2f72cec4b79d2802ad623.txt  \n",
            " extracting: train/labels/IMG_2518_JPG.rf.2aeeebbd9620a06fdeb6f790a76e381b.txt  \n",
            " extracting: train/labels/IMG_2519_JPG.rf.e5547ee8d2668754d5b041206e801b0a.txt  \n",
            " extracting: train/labels/IMG_2520_JPG.rf.b356cde891946dbf9a647e16d4e83184.txt  \n",
            " extracting: train/labels/IMG_2522_JPG.rf.ef394fefdc827fa8c166f1de3bca3b4c.txt  \n",
            " extracting: train/labels/IMG_2523_JPG.rf.a10cd159f4eb07d85444dac67d7800d5.txt  \n",
            " extracting: train/labels/IMG_2524_JPG.rf.04ab5c5244e37f299085ffee685c6caa.txt  \n",
            " extracting: train/labels/IMG_2525_JPG.rf.64d84d683fcd87d96f3102c7133a66b5.txt  \n",
            " extracting: train/labels/IMG_2526_JPG.rf.3154906437d03fd094b8e74f238914ad.txt  \n",
            " extracting: train/labels/IMG_2527_JPG.rf.0d91ddf156df2d3a517ce44a31f823fa.txt  \n",
            " extracting: train/labels/IMG_2529_JPG.rf.a9f1b2354a9107f69d5982a8f471ec38.txt  \n",
            " extracting: train/labels/IMG_2530_JPG.rf.c8f6355d1a85dd90c5c75806cb53e074.txt  \n",
            " extracting: train/labels/IMG_2531_JPG.rf.aca129be141543458ef95bd0edb08e6b.txt  \n",
            " extracting: train/labels/IMG_2532_JPG.rf.4f6198e302e2c178cee7a011887d8847.txt  \n",
            " extracting: train/labels/IMG_2533_JPG.rf.1acb38e4b51b711e719a606bfff7b8a7.txt  \n",
            " extracting: train/labels/IMG_2534_JPG.rf.146516186052cafc58a76652b568afa8.txt  \n",
            " extracting: train/labels/IMG_2535_JPG.rf.7e68cb49325843c377653d1bf3e72e06.txt  \n",
            " extracting: train/labels/IMG_2536_JPG.rf.1914506d1618d30a0b05cfa30bdb22ed.txt  \n",
            " extracting: train/labels/IMG_2538_JPG.rf.1ebb60d0d49852539ea747c0003dae24.txt  \n",
            " extracting: train/labels/IMG_2539_JPG.rf.741b38c7fbed8e52a2b638952bda20ab.txt  \n",
            " extracting: train/labels/IMG_2540_JPG.rf.c4d74f28268c5defa61fb2d9748262f0.txt  \n",
            " extracting: train/labels/IMG_2541_JPG.rf.6d7bb7fc553d8e05d7c838c713c1c49b.txt  \n",
            " extracting: train/labels/IMG_2542_JPG.rf.4508b87ffbb7f796f452f0ba24c315ac.txt  \n",
            " extracting: train/labels/IMG_2543_JPG.rf.cd9d41a7b7fb51765b689e0160054032.txt  \n",
            " extracting: train/labels/IMG_2544_JPG.rf.0b47e78415f0efb60969abe989eb809c.txt  \n",
            " extracting: train/labels/IMG_2545_JPG.rf.83547b7523d8b6aeb9b30f9077a9773a.txt  \n",
            " extracting: train/labels/IMG_2546_JPG.rf.3a1b751ae721a533eb71fa85a0f0d0f2.txt  \n",
            " extracting: train/labels/IMG_2548_JPG.rf.ce95e205089a935832597fe0be18ac7a.txt  \n",
            " extracting: train/labels/IMG_2549_JPG.rf.1a47f695bdf15578fb7e99b788182e29.txt  \n",
            " extracting: train/labels/IMG_2550_JPG.rf.f5b6270236bb6f326d7422347ca9ae34.txt  \n",
            " extracting: train/labels/IMG_2552_JPG.rf.23cbb5279a8b3ac0820e2fda19d61fc2.txt  \n",
            " extracting: train/labels/IMG_2553_JPG.rf.073e495f12c5c40e5c6b61a3cd1c6494.txt  \n",
            " extracting: train/labels/IMG_2554_JPG.rf.63a0d367697c42f0447f169a7804f6bf.txt  \n",
            " extracting: train/labels/IMG_2555_JPG.rf.ecb266c597013f4f94090bf2add60191.txt  \n",
            " extracting: train/labels/IMG_2557_JPG.rf.4ac05daf680a4ac7569f66d9d681e03b.txt  \n",
            " extracting: train/labels/IMG_2558_JPG.rf.01895fc8ac8ea2481863f0a3c5d07fad.txt  \n",
            " extracting: train/labels/IMG_2560_JPG.rf.c6fc182f69ffedac6bb3bb0295e42bf9.txt  \n",
            " extracting: train/labels/IMG_2561_JPG.rf.7d11bf650f295c95486f4199d5a7967f.txt  \n",
            " extracting: train/labels/IMG_2562_JPG.rf.ca4e026bfe43371f0af756cbd133a162.txt  \n",
            " extracting: train/labels/IMG_2563_JPG.rf.0afe4f092f28ed2620e010352376b292.txt  \n",
            " extracting: train/labels/IMG_2564_JPG.rf.f71689db4b1b26197239c695f89af57d.txt  \n",
            " extracting: train/labels/IMG_2565_JPG.rf.e3b0aea47dbdc577750ee63cce99376a.txt  \n",
            " extracting: train/labels/IMG_2566_JPG.rf.7efdfe92e0d13b4f2c016aa00ebb683a.txt  \n",
            " extracting: train/labels/IMG_2569_JPG.rf.d87a5ed3504a34f25f58ee01b4b0a07b.txt  \n",
            " extracting: train/labels/IMG_2570_JPG.rf.84951229e0492c9ace8a1eb5e7d9d641.txt  \n",
            " extracting: train/labels/IMG_2572_JPG.rf.942cad9b2c6c1f32438b94898995ac27.txt  \n",
            " extracting: train/labels/IMG_2573_JPG.rf.36b319e8c81b2d8531f59c8ca12d07e8.txt  \n",
            " extracting: train/labels/IMG_2575_JPG.rf.c1ed8c8aa1fedc22c55615bbbb5adb27.txt  \n",
            " extracting: train/labels/IMG_2576_JPG.rf.ab14f617dd1af249133bea950b21801c.txt  \n",
            " extracting: train/labels/IMG_2577_JPG.rf.8cb177a05958b0a96f61abf3615b2aee.txt  \n",
            " extracting: train/labels/IMG_2579_JPG.rf.3457aa19d47f4f2cc8348a11b4cd4442.txt  \n",
            " extracting: train/labels/IMG_2580_JPG.rf.662aaa02942ab8bcc9de3740e63ad068.txt  \n",
            " extracting: train/labels/IMG_2581_JPG.rf.9753daadcd24858c79cfc370e72d3bf6.txt  \n",
            " extracting: train/labels/IMG_2582_JPG.rf.a49f02193bbe040cbe04f3a193eab1b7.txt  \n",
            " extracting: train/labels/IMG_2583_JPG.rf.69b60195c55d5ad05ac7b3edf396f4aa.txt  \n",
            " extracting: train/labels/IMG_2584_JPG.rf.012a425900ea19a5df4a2a41f04c7686.txt  \n",
            " extracting: train/labels/IMG_2585_JPG.rf.881fb331598f6481fbbdeac7ce995cbe.txt  \n",
            " extracting: train/labels/IMG_2586_JPG.rf.223a78cb4523bd2f5ef1b8b3cb460d0d.txt  \n",
            " extracting: train/labels/IMG_2587_JPG.rf.5ff130b73295c8c8d01b26952dfad6f5.txt  \n",
            " extracting: train/labels/IMG_2588_JPG.rf.70cd343c7391b5b2359b3ee3d6144f9a.txt  \n",
            " extracting: train/labels/IMG_2589_JPG.rf.5212a7d13fe088875b5e9390fd2e603e.txt  \n",
            " extracting: train/labels/IMG_2590_JPG.rf.57f929621ec86449f37ccfc64d5c118b.txt  \n",
            " extracting: train/labels/IMG_2591_JPG.rf.12e1bcf0dd2b8e146716a1da65f5f5a7.txt  \n",
            " extracting: train/labels/IMG_2592_JPG.rf.3ff234747a61bf081346a7aea438ccef.txt  \n",
            " extracting: train/labels/IMG_2593_JPG.rf.b2f6179affdbafff2ac8f3c780619a19.txt  \n",
            " extracting: train/labels/IMG_2594_JPG.rf.e557b85f4d5eeaa1676de6e3876b5d0b.txt  \n",
            " extracting: train/labels/IMG_2595_JPG.rf.15312af4e0180828d5047cfd3831f938.txt  \n",
            " extracting: train/labels/IMG_2596_JPG.rf.ee0c175cf69b6295fb67fba14940e161.txt  \n",
            " extracting: train/labels/IMG_2598_JPG.rf.daf5acc4f3662f8dd6e8548fa3a4b7ef.txt  \n",
            " extracting: train/labels/IMG_2599_JPG.rf.62cc68ef7f7e8936cbae71bdd9b4096a.txt  \n",
            " extracting: train/labels/IMG_2600_JPG.rf.c1de1957aeba9fd49dbb8fdca96774b1.txt  \n",
            " extracting: train/labels/IMG_2601_JPG.rf.b3065f8d9dba92042c14fea509513ccc.txt  \n",
            " extracting: train/labels/IMG_2602_JPG.rf.5c043ce7139955ee7bc7115effa21300.txt  \n",
            " extracting: train/labels/IMG_2603_JPG.rf.7726e53d17517159d21f9ddd74257777.txt  \n",
            " extracting: train/labels/IMG_2604_JPG.rf.5340ec2f533af61447571f5657a8458b.txt  \n",
            " extracting: train/labels/IMG_2605_JPG.rf.69d32503c24b2d27c76f2b72edf5f565.txt  \n",
            " extracting: train/labels/IMG_2606_JPG.rf.92bb8f01d1a3c2e5f80938997a2ae4fa.txt  \n",
            " extracting: train/labels/IMG_2607_JPG.rf.ced69442e6f4b7fd38a808392326f684.txt  \n",
            " extracting: train/labels/IMG_2608_JPG.rf.f5820c9de83d1882d81e8428c68acd9a.txt  \n",
            " extracting: train/labels/IMG_2609_JPG.rf.1050675f45d5ea1b3c9e7fdd45c734e8.txt  \n",
            " extracting: train/labels/IMG_2610_JPG.rf.da34af234b5e41f43467870fc2713efe.txt  \n",
            " extracting: train/labels/IMG_2611_JPG.rf.280f04f7399be54d4b670883e669f991.txt  \n",
            " extracting: train/labels/IMG_2613_JPG.rf.85633a3ccdc23d4c726b54c4f51131a5.txt  \n",
            " extracting: train/labels/IMG_2614_JPG.rf.b50dca8a26d4e39ce835f2f4e8ece518.txt  \n",
            " extracting: train/labels/IMG_2616_JPG.rf.4a33c9e093587f498a29e73c4eb1a295.txt  \n",
            " extracting: train/labels/IMG_2618_JPG.rf.73cd1fb02ccb2127f6ddf4db16c09f0a.txt  \n",
            " extracting: train/labels/IMG_2619_JPG.rf.54ba663b0ae2215abedebe28c1ce3014.txt  \n",
            " extracting: train/labels/IMG_2620_JPG.rf.d4079c597e5c39f5f30de9a3e769c41c.txt  \n",
            " extracting: train/labels/IMG_2621_JPG.rf.58eed3fc274b330c9935493bbb4247dd.txt  \n",
            " extracting: train/labels/IMG_2622_JPG.rf.e7b706f3418b96f5a33199f59f85aa7b.txt  \n",
            " extracting: train/labels/IMG_2623_JPG.rf.5f42c535e4dc8629606585a2da77380c.txt  \n",
            " extracting: train/labels/IMG_2624_JPG.rf.e0741fed61506f7f9c7d80bd35f43c5e.txt  \n",
            " extracting: train/labels/IMG_2625_JPG.rf.8ad69f5fa5ddd433137a9a94c8710f7d.txt  \n",
            " extracting: train/labels/IMG_2628_JPG.rf.412b451efd8e405387928b9d0aaf684f.txt  \n",
            " extracting: train/labels/IMG_2630_JPG.rf.c9c63bce626ce694947a0677c62ad1f0.txt  \n",
            " extracting: train/labels/IMG_2631_JPG.rf.ea0e53bf2069cec57f5821fa6f1bd32c.txt  \n",
            " extracting: train/labels/IMG_2632_JPG.rf.7de10193820da4f15b06085512e439b3.txt  \n",
            " extracting: train/labels/IMG_2633_JPG.rf.ebca1926cf84be8e67896b952b78182d.txt  \n",
            " extracting: train/labels/IMG_2634_JPG.rf.f33e16634f8934f3dafa194429be08e3.txt  \n",
            " extracting: train/labels/IMG_2635_JPG.rf.41590bead4e97d842e8d432542ec22ba.txt  \n",
            " extracting: train/labels/IMG_2636_JPG.rf.68a88b5b12af611a6864c47b2e171643.txt  \n",
            " extracting: train/labels/IMG_2637_JPG.rf.bcaa60a8a2c3e7a04f7774db09962c72.txt  \n",
            " extracting: train/labels/IMG_2638_JPG.rf.0a0264d5a28c0269227e0e8bc35cd8da.txt  \n",
            " extracting: train/labels/IMG_2639_JPG.rf.f05da4b85bc1cd23eac7b382904b9a09.txt  \n",
            " extracting: train/labels/IMG_2640_JPG.rf.b75ee1174cfd7725e65be6f386cd0c36.txt  \n",
            " extracting: train/labels/IMG_2641_JPG.rf.6a1a9ce3d07bf90a0968ad6d059737ff.txt  \n",
            " extracting: train/labels/IMG_2642_JPG.rf.2557338d42bdc8686d2baa22de16fda6.txt  \n",
            " extracting: train/labels/IMG_2643_JPG.rf.2bb85848b47a02dd748ddc0306276314.txt  \n",
            " extracting: train/labels/IMG_2644_JPG.rf.113ccc30e182e51ef381d9f733a76f15.txt  \n",
            " extracting: train/labels/IMG_2646_JPG.rf.9f9d709b5de042cac36ba33cd94aa48e.txt  \n",
            " extracting: train/labels/IMG_2647_JPG.rf.9c920457f3c8698b10be8ab5d8894b3a.txt  \n",
            " extracting: train/labels/IMG_2648_JPG.rf.7d5acdd179d170106253a6890ca75146.txt  \n",
            " extracting: train/labels/IMG_2650_JPG.rf.6b4389025db1bcc23b7f8ad012f7328b.txt  \n",
            " extracting: train/labels/IMG_2651_JPG.rf.42110e7bef56618b4aa5fd900b699c92.txt  \n",
            " extracting: train/labels/IMG_2652_JPG.rf.291a3d748b37fcdca4b344d77f83d1ca.txt  \n",
            " extracting: train/labels/IMG_2653_JPG.rf.783866eff01039bf49271adda29c5bc6.txt  \n",
            " extracting: train/labels/IMG_2654_JPG.rf.c49ed9d808e6532e6f6f5aab08a37250.txt  \n",
            " extracting: train/labels/IMG_2655_JPG.rf.7e6515f11c5c51e7f8d72360b467751d.txt  \n",
            " extracting: train/labels/IMG_2658_JPG.rf.a7f9bf81e5592ee6f4a5a65fac825f00.txt  \n",
            " extracting: train/labels/IMG_2659_JPG.rf.ad04f50c51c24d6159bb5def30b981fc.txt  \n",
            " extracting: train/labels/IMG_2660_JPG.rf.d4b3228de13e237286feb5b34c696a11.txt  \n",
            " extracting: train/labels/IMG_2661_JPG.rf.58789c043e86a2948b10c332ea35b820.txt  \n",
            " extracting: train/labels/IMG_2662_JPG.rf.aee8fc62168f217a1e9d0219861b2c95.txt  \n",
            " extracting: train/labels/IMG_2663_JPG.rf.c4d0fcb501561630c6471b2ede3a80f1.txt  \n",
            " extracting: train/labels/IMG_2664_JPG.rf.bbbc59a9b0bc69cd4cbd67eb9756142c.txt  \n",
            " extracting: train/labels/IMG_2665_JPG.rf.387eb6ecd774ca10dded82a55d11d625.txt  \n",
            " extracting: train/labels/IMG_2666_JPG.rf.5550367a5faa4d82759791bcede71125.txt  \n",
            " extracting: train/labels/IMG_2667_JPG.rf.666dbad824d067792db00820415fe71b.txt  \n",
            " extracting: train/labels/IMG_2668_JPG.rf.8324433d636051478e5005cc1a594bee.txt  \n",
            " extracting: train/labels/IMG_2669_JPG.rf.3978b0f124df493671b2686e623c58fe.txt  \n",
            " extracting: train/labels/IMG_2670_JPG.rf.e2f7a14baa0ec54234d4b880712881cb.txt  \n",
            " extracting: train/labels/IMG_2671_JPG.rf.f0734b4136814ef47643e37a45be7060.txt  \n",
            " extracting: train/labels/IMG_2672_JPG.rf.907a284fd849b082e00af182da73d560.txt  \n",
            " extracting: train/labels/IMG_2674_JPG.rf.4e9dfc931940b512e4189a4a50651ed7.txt  \n",
            " extracting: train/labels/IMG_2675_JPG.rf.cb08e1a82447f6cdd21cb78e21ae41fc.txt  \n",
            " extracting: train/labels/IMG_2676_JPG.rf.631984927208b6c1dede276cb01d5c7e.txt  \n",
            " extracting: train/labels/IMG_2677_JPG.rf.6fef1393c656978ee7eb853b7e7df658.txt  \n",
            " extracting: train/labels/IMG_2678_JPG.rf.637daedd1d2d7403c00390895a2ea8ad.txt  \n",
            " extracting: train/labels/IMG_2679_JPG.rf.662a7132c52d0955f204dd352f2521ab.txt  \n",
            " extracting: train/labels/IMG_2680_JPG.rf.8db7f7985d8065155f674e52922d84e8.txt  \n",
            " extracting: train/labels/IMG_2682_JPG.rf.388955617745ba07ec8b9c86180be898.txt  \n",
            " extracting: train/labels/IMG_2683_JPG.rf.8d5a19b6685847c587d87d9a7dd88c4a.txt  \n",
            " extracting: train/labels/IMG_2685_JPG.rf.b86c8e9807c8f82725219f99c0309fa1.txt  \n",
            " extracting: train/labels/IMG_2686_JPG.rf.44d73b767750142043109b8bc374e941.txt  \n",
            " extracting: train/labels/IMG_2687_JPG.rf.e118239f4fe6997572e1fe3bd5b40df2.txt  \n",
            " extracting: train/labels/IMG_2688_JPG.rf.98f8273ef30b408df6090d3bb5f2c713.txt  \n",
            " extracting: train/labels/IMG_2689_JPG.rf.5807281d4e42ebd027fe13cbed0704b9.txt  \n",
            " extracting: train/labels/IMG_2690_JPG.rf.d373a95f3b7b015039537b5f38fe9a7e.txt  \n",
            " extracting: train/labels/IMG_2691_JPG.rf.cf27c4e0d66bd75b2d7ec81e83311cdd.txt  \n",
            " extracting: train/labels/IMG_2692_JPG.rf.c59536dc8752ead756bbd65d7a58c6dd.txt  \n",
            " extracting: train/labels/IMG_2693_JPG.rf.2ece4fcc8deff5535193b533a472b03f.txt  \n",
            " extracting: train/labels/IMG_2694_JPG.rf.2af05c253bfd9a27d7831e9051a75da4.txt  \n",
            " extracting: train/labels/IMG_2699_JPG.rf.4df6168f6856c2e77d9d1ebd41fa6aac.txt  \n",
            " extracting: train/labels/IMG_2701_JPG.rf.65976d50d2c33cde85aaed0965bc6ed4.txt  \n",
            " extracting: train/labels/IMG_2702_JPG.rf.8e17a31ff96458bb08c529ac29e93110.txt  \n",
            " extracting: train/labels/IMG_2704_JPG.rf.2c59eaae4623c570fdf0afafb05c7fdb.txt  \n",
            " extracting: train/labels/IMG_2705_JPG.rf.4e1f9664e7470c5993457db784a78883.txt  \n",
            " extracting: train/labels/IMG_2706_JPG.rf.d2c893355a852824e6f29b9910fdffd4.txt  \n",
            " extracting: train/labels/IMG_2707_JPG.rf.16359832e301494c666f5d9a1b9e88d5.txt  \n",
            " extracting: train/labels/IMG_2708_JPG.rf.ae6dce771428ee41f6e010a7e31da268.txt  \n",
            " extracting: train/labels/IMG_2709_JPG.rf.593761c0096b4017f4b4f445c997b226.txt  \n",
            " extracting: train/labels/IMG_2711_JPG.rf.b6bd63e04f26808baa64514f2de790cc.txt  \n",
            " extracting: train/labels/IMG_2712_JPG.rf.cb53984eb6f7be9eb21bff3028725639.txt  \n",
            " extracting: train/labels/IMG_2713_JPG.rf.5d61d518b44ec1b7c576d0a9d75db76d.txt  \n",
            " extracting: train/labels/IMG_2714_JPG.rf.585e964c6e08758445ba764463833ae3.txt  \n",
            " extracting: train/labels/IMG_2715_JPG.rf.ff6979a97206a2b39ce3afa182877d52.txt  \n",
            " extracting: train/labels/IMG_2716_JPG.rf.65384a16bdf8989b52eec6ec63ef1977.txt  \n",
            " extracting: train/labels/IMG_2717_JPG.rf.7159a4eb76a119f926e88504b4faf62c.txt  \n",
            " extracting: train/labels/IMG_2720_JPG.rf.ac4c443fd2981c5021d94c0ab82a97cf.txt  \n",
            " extracting: train/labels/IMG_2721_JPG.rf.72efd82630064de711dfdf234cfc725b.txt  \n",
            " extracting: train/labels/IMG_2722_JPG.rf.61829ed85d8c8880b29803f3082acaa1.txt  \n",
            " extracting: train/labels/IMG_E1320_JPG.rf.4a009f8f77011831e8f0debcdf89c0d7.txt  \n",
            " extracting: train/labels/IMG_E1445_JPG.rf.1423b4f8961395aa62666aff0ad3932a.txt  \n",
            " extracting: train/labels/IMG_E1446_JPG.rf.40d1f3db2345dbdca9eca28e98baf36c.txt  \n",
            " extracting: train/labels/IMG_E1448_JPG.rf.910e31e890f90f0d83d75a804f878938.txt  \n",
            " extracting: train/labels/IMG_E1452_JPG.rf.21c7b629954f771b1b5dc042e68e3077.txt  \n",
            " extracting: train/labels/IMG_E1455_JPG.rf.55b28efe40fc2b013e14f02a303ed941.txt  \n",
            " extracting: train/labels/IMG_E1456_JPG.rf.0c8a835c0a4ac10e445c51bc193fd217.txt  \n",
            " extracting: train/labels/IMG_E1458_JPG.rf.312665b32caea5e07c6bc34ea284798e.txt  \n",
            " extracting: train/labels/IMG_E1461_JPG.rf.cf8eae6a4b3b3e604478f62b2b5e9c6f.txt  \n",
            " extracting: train/labels/IMG_E1462_JPG.rf.bae22e123ba0b860a9e707e59fa35e83.txt  \n",
            " extracting: train/labels/IMG_E1465_JPG.rf.4c66d7da7072043f38fe83e468cc9faa.txt  \n",
            " extracting: train/labels/IMG_E1992_JPG.rf.85a3a2d035993052214325dd3c85eb18.txt  \n",
            " extracting: train/labels/IMG_E2012_JPG.rf.0d79832afea981faf452f5f6f9dea4ed.txt  \n",
            " extracting: train/labels/IMG_E2026_JPG.rf.4a435a023c28a46c70d2ce84fdc4b9c6.txt  \n",
            " extracting: train/labels/IMG_E2086_JPG.rf.0f8b3c61cf7a3c01ca38c0d2c1f998b9.txt  \n",
            " extracting: train/labels/IMG_E2129_JPG.rf.899adf2a55eae0ae0e43e38c4bd612ff.txt  \n",
            " extracting: train/labels/IMG_E2182_JPG.rf.70f23585a307b27b3101d3e8bc3c6b46.txt  \n",
            " extracting: train/labels/IMG_E2198_JPG.rf.5d8109989ee8cd6a8fd4ce82ba9172ba.txt  \n",
            " extracting: train/labels/IMG_E2206_JPG.rf.ec735d8052ec7743ec230a453b4fbf36.txt  \n",
            " extracting: train/labels/IMG_E2208_JPG.rf.b568ca581ebde973d59df2be202ee3b2.txt  \n",
            " extracting: train/labels/IMG_E2224_JPG.rf.2f247d985460c68eda1d1b9c630bbb54.txt  \n",
            " extracting: train/labels/IMG_E2253_JPG.rf.6c0684f424b01b08a6032477c611e235.txt  \n",
            " extracting: train/labels/IMG_E2258_JPG.rf.bbab855e4126743d996cac299df7fff6.txt  \n",
            " extracting: train/labels/IMG_E2264_JPG.rf.d2633a203041826147ce683f9586d283.txt  \n",
            " extracting: train/labels/IMG_E2270_JPG.rf.d376e03f3e0c20c3b061a6c97311700b.txt  \n",
            " extracting: train/labels/IMG_E2278_JPG.rf.216fd0c03284dc55daebc46de1ba675c.txt  \n",
            " extracting: train/labels/IMG_E2294_JPG.rf.90012668ba1e6d4d5d51ae033e237738.txt  \n",
            " extracting: train/labels/IMG_E2309_JPG.rf.7addef75a269d9ed788a616e29815f61.txt  \n",
            " extracting: train/labels/IMG_E2326_JPG.rf.59244ac43fa6020091b0c310baf80ff2.txt  \n",
            " extracting: train/labels/IMG_E2356_JPG.rf.6a0686ca5ce5b8a411dcec0621ad6bcb.txt  \n",
            " extracting: train/labels/IMG_E2361_JPG.rf.a342570406ef9e0b118ddbc400901699.txt  \n",
            "   creating: valid/\n",
            "   creating: valid/images/\n",
            " extracting: valid/images/IMG_1321_JPG.rf.b03dc0914cee4cabe6f75804fdedab84.jpg  \n",
            " extracting: valid/images/IMG_1327_JPG.rf.a299b8dbbaae787c7becb95724d0bc79.jpg  \n",
            " extracting: valid/images/IMG_1329_JPG.rf.e64b337098a21d83224718d61d972d9d.jpg  \n",
            " extracting: valid/images/IMG_1333_JPG.rf.db4c9cb6e97868521aed464eb1bc5327.jpg  \n",
            " extracting: valid/images/IMG_1341_JPG.rf.86bbba914f0230c9b654c671291f35f8.jpg  \n",
            " extracting: valid/images/IMG_1394_JPG.rf.0e527a7f2191d1c21a51bae580b72413.jpg  \n",
            " extracting: valid/images/IMG_1400_JPG.rf.753f3a98e009dab6110dc32a1c36f371.jpg  \n",
            " extracting: valid/images/IMG_1401_JPG.rf.bca73941bd597fc462d5be1200ca38f4.jpg  \n",
            " extracting: valid/images/IMG_1414_JPG.rf.ad4b61db1273e0aa2e0afee8eacd63c1.jpg  \n",
            " extracting: valid/images/IMG_1451_JPG.rf.189f60a383fa26def14a53a76fa330d6.jpg  \n",
            " extracting: valid/images/IMG_1462_JPG.rf.cccc8d47693e08354c390bc10e191fa5.jpg  \n",
            " extracting: valid/images/IMG_1476_JPG.rf.53bbc1ea196068e34e0b230a703056e2.jpg  \n",
            " extracting: valid/images/IMG_1480_JPG.rf.a9b69bf4ec8445af9fa9622adedbba80.jpg  \n",
            " extracting: valid/images/IMG_1491_JPG.rf.1df30bc713d9ad6b11d28053106edacc.jpg  \n",
            " extracting: valid/images/IMG_1502_JPG.rf.08f28e4b784aaf68300b2df74c37b741.jpg  \n",
            " extracting: valid/images/IMG_1507_JPG.rf.617a50a1237f2dff9123947c3acb8109.jpg  \n",
            " extracting: valid/images/IMG_1521_JPG.rf.4e051faad49846935736c17b432970f4.jpg  \n",
            " extracting: valid/images/IMG_1523_JPG.rf.479e36af93a30e98a0197c096eb731cd.jpg  \n",
            " extracting: valid/images/IMG_1592_JPG.rf.0de748eee183e5b7b486e454a1667da9.jpg  \n",
            " extracting: valid/images/IMG_1603_JPG.rf.b216c7552bfd489b31b6c240f53c8508.jpg  \n",
            " extracting: valid/images/IMG_1610_JPG.rf.dd9a53f270aece8b608767fa3775d35f.jpg  \n",
            " extracting: valid/images/IMG_1616_JPG.rf.1b86967292b0a6edf0233bbae31a2ac2.jpg  \n",
            " extracting: valid/images/IMG_1622_JPG.rf.d1245d2cd1381e30895c9beabd23daa8.jpg  \n",
            " extracting: valid/images/IMG_1640_JPG.rf.11904658cfc99f6decbc2269d5fd1dca.jpg  \n",
            " extracting: valid/images/IMG_1670_JPG.rf.05fcd9a1def4c99c9dd123374c370480.jpg  \n",
            " extracting: valid/images/IMG_1673_JPG.rf.83bbfc514e2fa25c3a92e1f6592bfe5b.jpg  \n",
            " extracting: valid/images/IMG_1693_JPG.rf.2abd048e457a958b90686cae7624c364.jpg  \n",
            " extracting: valid/images/IMG_1703_JPG.rf.6bca377dae9f53ae3ffbf284a089667f.jpg  \n",
            " extracting: valid/images/IMG_1705_JPG.rf.ba80f3f7ceb9e6d4e6d55642fba50fdf.jpg  \n",
            " extracting: valid/images/IMG_1714_JPG.rf.6bd046dd8ef00df25f9bc0403a620852.jpg  \n",
            " extracting: valid/images/IMG_1729_JPG.rf.ff35401f449d5cbd16b9025c498ee895.jpg  \n",
            " extracting: valid/images/IMG_1733_JPG.rf.88e2d9175f7d4838e6e235205bbae965.jpg  \n",
            " extracting: valid/images/IMG_1738_JPG.rf.26c1e20db8e26e6fa5c865a6ba4d983f.jpg  \n",
            " extracting: valid/images/IMG_1750_JPG.rf.7fa43d5295dfc9d92c13307332979774.jpg  \n",
            " extracting: valid/images/IMG_1767_JPG.rf.ae8317b5a5fcd2a466753cace65627e5.jpg  \n",
            " extracting: valid/images/IMG_1771_JPG.rf.e5701e3a8d4cc5d16aa051ea72552866.jpg  \n",
            " extracting: valid/images/IMG_1773_JPG.rf.3adac17086e73accbe2119dd0ccfa1f7.jpg  \n",
            " extracting: valid/images/IMG_1781_JPG.rf.5494ab628dc34990b3a47949cbd7cf0f.jpg  \n",
            " extracting: valid/images/IMG_1792_JPG.rf.9f9acb9a6e1a42bb41659a57aad61fdf.jpg  \n",
            " extracting: valid/images/IMG_1795_JPG.rf.64eb89321b475779cffc42998ed86fcd.jpg  \n",
            " extracting: valid/images/IMG_1803_JPG.rf.aa86a2caea50cabc900eba761097affa.jpg  \n",
            " extracting: valid/images/IMG_1823_JPG.rf.eb3b635835ff324e2dfdefdeabb59770.jpg  \n",
            " extracting: valid/images/IMG_1827_JPG.rf.5046d5dd2eef80f80d3ee054332ddeb0.jpg  \n",
            " extracting: valid/images/IMG_1832_JPG.rf.8887e498257d7db3fe18963854266b71.jpg  \n",
            " extracting: valid/images/IMG_1836_JPG.rf.2edf5ab4d949a81a937fdb4703532fd9.jpg  \n",
            " extracting: valid/images/IMG_1850_JPG.rf.0039ee4fde6305aebbed04ef431760cf.jpg  \n",
            " extracting: valid/images/IMG_1854_JPG.rf.039bf47d9e2b03f30581b0a7282ae6f9.jpg  \n",
            " extracting: valid/images/IMG_1858_JPG.rf.0452bb8a5fff3c9db342d00a86b38b04.jpg  \n",
            " extracting: valid/images/IMG_1871_JPG.rf.0af7b40cc757340c94c472312ba6b67b.jpg  \n",
            " extracting: valid/images/IMG_1873_JPG.rf.3dd8b71c0645eb8476dd8212aa175801.jpg  \n",
            " extracting: valid/images/IMG_1874_JPG.rf.ecddbcb8e9c53ec63913c484b48426e4.jpg  \n",
            " extracting: valid/images/IMG_1902_JPG.rf.ca550fcd9a91b62c653437a937912698.jpg  \n",
            " extracting: valid/images/IMG_1903_JPG.rf.76ff1381a28f56bc87ab3485df735e15.jpg  \n",
            " extracting: valid/images/IMG_1908_JPG.rf.96befdd0e7df88f83b78bba23d38d70b.jpg  \n",
            " extracting: valid/images/IMG_1913_JPG.rf.19f735fd525efe3df8f9417f3d86c071.jpg  \n",
            " extracting: valid/images/IMG_1926_JPG.rf.b2f73bb9961b79c6ad7c7a25ce8b9868.jpg  \n",
            " extracting: valid/images/IMG_1938_JPG.rf.108329df485931f5c41af0c317f63cdf.jpg  \n",
            " extracting: valid/images/IMG_1946_JPG.rf.b6a849b2ae249ecda02c4eca0ce3221a.jpg  \n",
            " extracting: valid/images/IMG_1950_JPG.rf.c7938967780ba27a49662de3fa1e5e90.jpg  \n",
            " extracting: valid/images/IMG_1957_JPG.rf.18ce6f6fdba9136055a1e62957df8928.jpg  \n",
            " extracting: valid/images/IMG_1958_JPG.rf.d94314f222a3c78a0be6e172b1276142.jpg  \n",
            " extracting: valid/images/IMG_1962_JPG.rf.f7d354e71736b8ccc7428c237dac6027.jpg  \n",
            " extracting: valid/images/IMG_1968_JPG.rf.328024a5881fb1901c68b4c9e3ec0c61.jpg  \n",
            " extracting: valid/images/IMG_1969_JPG.rf.3292c6c7404343bccf8f6487c02a5f01.jpg  \n",
            " extracting: valid/images/IMG_1985_JPG.rf.f7ba9099f506c394e16edde1f0c7b754.jpg  \n",
            " extracting: valid/images/IMG_1998_JPG.rf.39b1b44ebfaafc7f8d33aeb2024fd3f0.jpg  \n",
            " extracting: valid/images/IMG_2031_JPG.rf.732303b4d69ca666b642dfe901cc4c5f.jpg  \n",
            " extracting: valid/images/IMG_2034_JPG.rf.9c0732528fbb54c84f7455333b6f400b.jpg  \n",
            " extracting: valid/images/IMG_2079_JPG.rf.40502de824a52d5f8e569c897dbf88bb.jpg  \n",
            " extracting: valid/images/IMG_2096_JPG.rf.1d6e01aefe76d864dac596dbd4749a67.jpg  \n",
            " extracting: valid/images/IMG_2099_JPG.rf.b1ddd43220ae73b7f92c8c850af8d379.jpg  \n",
            " extracting: valid/images/IMG_2101_JPG.rf.2058170ff9d41f94116ae0620eb28dcb.jpg  \n",
            " extracting: valid/images/IMG_2106_JPG.rf.bf9743808f77ac8473edd8682302953e.jpg  \n",
            " extracting: valid/images/IMG_2120_JPG.rf.8aa3ab9c5394fb351ca16c3bb59e36c3.jpg  \n",
            " extracting: valid/images/IMG_2126_JPG.rf.2452fd296ce6f0c58e546562e763de43.jpg  \n",
            " extracting: valid/images/IMG_2132_JPG.rf.92b02771024f0292bbda6e610b051502.jpg  \n",
            " extracting: valid/images/IMG_2140_JPG.rf.b3054254d9fa5558a53f947779a865f3.jpg  \n",
            " extracting: valid/images/IMG_2214_JPG.rf.8ad5678547fa1489b853a3e53ec33bf0.jpg  \n",
            " extracting: valid/images/IMG_2229_JPG.rf.b89980f810ec57f31aa805b83c1ccd03.jpg  \n",
            " extracting: valid/images/IMG_2231_JPG.rf.1c22a7b0bce58488d32039c298c36486.jpg  \n",
            " extracting: valid/images/IMG_2272_JPG.rf.9d04583adeaef849eece9dc31aa1c31a.jpg  \n",
            " extracting: valid/images/IMG_2276_JPG.rf.6fa6f9819fbc0719e0a309cb58a5a9fe.jpg  \n",
            " extracting: valid/images/IMG_2317_JPG.rf.428ad35e0ecbdbd458053225637edaaa.jpg  \n",
            " extracting: valid/images/IMG_2323_JPG.rf.38361580d48f33e01f19fbc0a98b5ec5.jpg  \n",
            " extracting: valid/images/IMG_2328_JPG.rf.b3caf840720e48c424d613d7fe6fd1a4.jpg  \n",
            " extracting: valid/images/IMG_2329_JPG.rf.fd0c0f4687dc4c39d79385abaac33ef3.jpg  \n",
            " extracting: valid/images/IMG_2335_JPG.rf.42fad15c6d841d9ddc42476e1ccbb1f2.jpg  \n",
            " extracting: valid/images/IMG_2379_JPG.rf.75e06a475d7a88360e1b8324912b1dec.jpg  \n",
            " extracting: valid/images/IMG_2382_JPG.rf.194c65433376f0f0acfef1c884018fc0.jpg  \n",
            " extracting: valid/images/IMG_2416_JPG.rf.a1a2860be01a31700a4ccfe210536f5b.jpg  \n",
            " extracting: valid/images/IMG_2419_JPG.rf.ac136982a2df0324d990830c12a5fc3d.jpg  \n",
            " extracting: valid/images/IMG_2423_JPG.rf.788ed7a98e03986bcc6947f629b9b21e.jpg  \n",
            " extracting: valid/images/IMG_2429_JPG.rf.4fcfa49cfa0a4016eeaec591b5a3ba0f.jpg  \n",
            " extracting: valid/images/IMG_2447_JPG.rf.773f89821f47868dbb74658ef6743252.jpg  \n",
            " extracting: valid/images/IMG_2482_JPG.rf.18eac76e640586c1252585970c04d880.jpg  \n",
            " extracting: valid/images/IMG_2484_JPG.rf.4ef9eb1f716ab3668374d9b2f77c3070.jpg  \n",
            " extracting: valid/images/IMG_2490_JPG.rf.495a64ff95bfcee1ba3424d4ea1cbe27.jpg  \n",
            " extracting: valid/images/IMG_2491_JPG.rf.2ea0a925c1c79f8e551860beb88b5069.jpg  \n",
            " extracting: valid/images/IMG_2500_JPG.rf.e43ff60a2368bd70103ad94e58e173dd.jpg  \n",
            " extracting: valid/images/IMG_2503_JPG.rf.3bee5c9ad4557a6d5b1a52671f6570cf.jpg  \n",
            " extracting: valid/images/IMG_2514_JPG.rf.708b29b7808514854b4b09a6aef95e61.jpg  \n",
            " extracting: valid/images/IMG_2537_JPG.rf.871d47da3b8c84aed93a3814d6bc0fd6.jpg  \n",
            " extracting: valid/images/IMG_2551_JPG.rf.859ca2dc68992548d7e2160d1b6d7a60.jpg  \n",
            " extracting: valid/images/IMG_2556_JPG.rf.f5f3e0e1e93952f8b4eb6d4990aa4b67.jpg  \n",
            " extracting: valid/images/IMG_2559_JPG.rf.080174796b9ab05c70eb78e5a0abcc51.jpg  \n",
            " extracting: valid/images/IMG_2567_JPG.rf.a4b33cba8c2ccf23024fb46494b0c3d1.jpg  \n",
            " extracting: valid/images/IMG_2568_JPG.rf.9b34f51197663961c0236aa4efc0c80f.jpg  \n",
            " extracting: valid/images/IMG_2571_JPG.rf.6f0549a7f2d2ab798d033ef99c7c04d4.jpg  \n",
            " extracting: valid/images/IMG_2578_JPG.rf.9c00afafd73c6bbd676e0c7f426d98d9.jpg  \n",
            " extracting: valid/images/IMG_2597_JPG.rf.e5adbd28a60073437793921a3031917e.jpg  \n",
            " extracting: valid/images/IMG_2615_JPG.rf.e5dcadf50d3c5d1775b7ecf6d9e75f94.jpg  \n",
            " extracting: valid/images/IMG_2626_JPG.rf.bdbd70931cacab7e47573194ddfdcf5f.jpg  \n",
            " extracting: valid/images/IMG_2627_JPG.rf.3e3aec51dc246524b99d7754f154983d.jpg  \n",
            " extracting: valid/images/IMG_2649_JPG.rf.72d87a6bb49eb1c7b701ab522e5ec723.jpg  \n",
            " extracting: valid/images/IMG_2656_JPG.rf.aa9acc8169d8ee7f7ed24728cbdf9607.jpg  \n",
            " extracting: valid/images/IMG_2657_JPG.rf.93ee5a93a847465ed2e2a466f7c43315.jpg  \n",
            " extracting: valid/images/IMG_2673_JPG.rf.e96baa97779c11a26abf68e403f55874.jpg  \n",
            " extracting: valid/images/IMG_2681_JPG.rf.4374a8f0112fb961ac4420da2b56ebe9.jpg  \n",
            " extracting: valid/images/IMG_2684_JPG.rf.cfcc38ed19b062f8035bc6241e41c5cf.jpg  \n",
            " extracting: valid/images/IMG_2703_JPG.rf.a4e1eddd917798486f10d2f275eb2574.jpg  \n",
            " extracting: valid/images/IMG_2710_JPG.rf.41d2129230e5fba14b2d51bdfe1ecdb6.jpg  \n",
            " extracting: valid/images/IMG_E2041_JPG.rf.b2bde189ee522a76b6407f0ee46185a9.jpg  \n",
            "   creating: valid/labels/\n",
            " extracting: valid/labels/IMG_1321_JPG.rf.b03dc0914cee4cabe6f75804fdedab84.txt  \n",
            " extracting: valid/labels/IMG_1327_JPG.rf.a299b8dbbaae787c7becb95724d0bc79.txt  \n",
            " extracting: valid/labels/IMG_1329_JPG.rf.e64b337098a21d83224718d61d972d9d.txt  \n",
            " extracting: valid/labels/IMG_1333_JPG.rf.db4c9cb6e97868521aed464eb1bc5327.txt  \n",
            " extracting: valid/labels/IMG_1341_JPG.rf.86bbba914f0230c9b654c671291f35f8.txt  \n",
            " extracting: valid/labels/IMG_1394_JPG.rf.0e527a7f2191d1c21a51bae580b72413.txt  \n",
            " extracting: valid/labels/IMG_1400_JPG.rf.753f3a98e009dab6110dc32a1c36f371.txt  \n",
            " extracting: valid/labels/IMG_1401_JPG.rf.bca73941bd597fc462d5be1200ca38f4.txt  \n",
            " extracting: valid/labels/IMG_1414_JPG.rf.ad4b61db1273e0aa2e0afee8eacd63c1.txt  \n",
            " extracting: valid/labels/IMG_1451_JPG.rf.189f60a383fa26def14a53a76fa330d6.txt  \n",
            " extracting: valid/labels/IMG_1462_JPG.rf.cccc8d47693e08354c390bc10e191fa5.txt  \n",
            " extracting: valid/labels/IMG_1476_JPG.rf.53bbc1ea196068e34e0b230a703056e2.txt  \n",
            " extracting: valid/labels/IMG_1480_JPG.rf.a9b69bf4ec8445af9fa9622adedbba80.txt  \n",
            " extracting: valid/labels/IMG_1491_JPG.rf.1df30bc713d9ad6b11d28053106edacc.txt  \n",
            " extracting: valid/labels/IMG_1502_JPG.rf.08f28e4b784aaf68300b2df74c37b741.txt  \n",
            " extracting: valid/labels/IMG_1507_JPG.rf.617a50a1237f2dff9123947c3acb8109.txt  \n",
            " extracting: valid/labels/IMG_1521_JPG.rf.4e051faad49846935736c17b432970f4.txt  \n",
            " extracting: valid/labels/IMG_1523_JPG.rf.479e36af93a30e98a0197c096eb731cd.txt  \n",
            " extracting: valid/labels/IMG_1592_JPG.rf.0de748eee183e5b7b486e454a1667da9.txt  \n",
            " extracting: valid/labels/IMG_1603_JPG.rf.b216c7552bfd489b31b6c240f53c8508.txt  \n",
            " extracting: valid/labels/IMG_1610_JPG.rf.dd9a53f270aece8b608767fa3775d35f.txt  \n",
            " extracting: valid/labels/IMG_1616_JPG.rf.1b86967292b0a6edf0233bbae31a2ac2.txt  \n",
            " extracting: valid/labels/IMG_1622_JPG.rf.d1245d2cd1381e30895c9beabd23daa8.txt  \n",
            " extracting: valid/labels/IMG_1640_JPG.rf.11904658cfc99f6decbc2269d5fd1dca.txt  \n",
            " extracting: valid/labels/IMG_1670_JPG.rf.05fcd9a1def4c99c9dd123374c370480.txt  \n",
            " extracting: valid/labels/IMG_1673_JPG.rf.83bbfc514e2fa25c3a92e1f6592bfe5b.txt  \n",
            " extracting: valid/labels/IMG_1693_JPG.rf.2abd048e457a958b90686cae7624c364.txt  \n",
            " extracting: valid/labels/IMG_1703_JPG.rf.6bca377dae9f53ae3ffbf284a089667f.txt  \n",
            " extracting: valid/labels/IMG_1705_JPG.rf.ba80f3f7ceb9e6d4e6d55642fba50fdf.txt  \n",
            " extracting: valid/labels/IMG_1714_JPG.rf.6bd046dd8ef00df25f9bc0403a620852.txt  \n",
            " extracting: valid/labels/IMG_1729_JPG.rf.ff35401f449d5cbd16b9025c498ee895.txt  \n",
            " extracting: valid/labels/IMG_1733_JPG.rf.88e2d9175f7d4838e6e235205bbae965.txt  \n",
            " extracting: valid/labels/IMG_1738_JPG.rf.26c1e20db8e26e6fa5c865a6ba4d983f.txt  \n",
            " extracting: valid/labels/IMG_1750_JPG.rf.7fa43d5295dfc9d92c13307332979774.txt  \n",
            " extracting: valid/labels/IMG_1767_JPG.rf.ae8317b5a5fcd2a466753cace65627e5.txt  \n",
            " extracting: valid/labels/IMG_1771_JPG.rf.e5701e3a8d4cc5d16aa051ea72552866.txt  \n",
            " extracting: valid/labels/IMG_1773_JPG.rf.3adac17086e73accbe2119dd0ccfa1f7.txt  \n",
            " extracting: valid/labels/IMG_1781_JPG.rf.5494ab628dc34990b3a47949cbd7cf0f.txt  \n",
            " extracting: valid/labels/IMG_1792_JPG.rf.9f9acb9a6e1a42bb41659a57aad61fdf.txt  \n",
            " extracting: valid/labels/IMG_1795_JPG.rf.64eb89321b475779cffc42998ed86fcd.txt  \n",
            " extracting: valid/labels/IMG_1803_JPG.rf.aa86a2caea50cabc900eba761097affa.txt  \n",
            " extracting: valid/labels/IMG_1823_JPG.rf.eb3b635835ff324e2dfdefdeabb59770.txt  \n",
            " extracting: valid/labels/IMG_1827_JPG.rf.5046d5dd2eef80f80d3ee054332ddeb0.txt  \n",
            " extracting: valid/labels/IMG_1832_JPG.rf.8887e498257d7db3fe18963854266b71.txt  \n",
            " extracting: valid/labels/IMG_1836_JPG.rf.2edf5ab4d949a81a937fdb4703532fd9.txt  \n",
            " extracting: valid/labels/IMG_1850_JPG.rf.0039ee4fde6305aebbed04ef431760cf.txt  \n",
            " extracting: valid/labels/IMG_1854_JPG.rf.039bf47d9e2b03f30581b0a7282ae6f9.txt  \n",
            " extracting: valid/labels/IMG_1858_JPG.rf.0452bb8a5fff3c9db342d00a86b38b04.txt  \n",
            " extracting: valid/labels/IMG_1871_JPG.rf.0af7b40cc757340c94c472312ba6b67b.txt  \n",
            " extracting: valid/labels/IMG_1873_JPG.rf.3dd8b71c0645eb8476dd8212aa175801.txt  \n",
            " extracting: valid/labels/IMG_1874_JPG.rf.ecddbcb8e9c53ec63913c484b48426e4.txt  \n",
            " extracting: valid/labels/IMG_1902_JPG.rf.ca550fcd9a91b62c653437a937912698.txt  \n",
            " extracting: valid/labels/IMG_1903_JPG.rf.76ff1381a28f56bc87ab3485df735e15.txt  \n",
            " extracting: valid/labels/IMG_1908_JPG.rf.96befdd0e7df88f83b78bba23d38d70b.txt  \n",
            " extracting: valid/labels/IMG_1913_JPG.rf.19f735fd525efe3df8f9417f3d86c071.txt  \n",
            " extracting: valid/labels/IMG_1926_JPG.rf.b2f73bb9961b79c6ad7c7a25ce8b9868.txt  \n",
            " extracting: valid/labels/IMG_1938_JPG.rf.108329df485931f5c41af0c317f63cdf.txt  \n",
            " extracting: valid/labels/IMG_1946_JPG.rf.b6a849b2ae249ecda02c4eca0ce3221a.txt  \n",
            " extracting: valid/labels/IMG_1950_JPG.rf.c7938967780ba27a49662de3fa1e5e90.txt  \n",
            " extracting: valid/labels/IMG_1957_JPG.rf.18ce6f6fdba9136055a1e62957df8928.txt  \n",
            " extracting: valid/labels/IMG_1958_JPG.rf.d94314f222a3c78a0be6e172b1276142.txt  \n",
            " extracting: valid/labels/IMG_1962_JPG.rf.f7d354e71736b8ccc7428c237dac6027.txt  \n",
            " extracting: valid/labels/IMG_1968_JPG.rf.328024a5881fb1901c68b4c9e3ec0c61.txt  \n",
            " extracting: valid/labels/IMG_1969_JPG.rf.3292c6c7404343bccf8f6487c02a5f01.txt  \n",
            " extracting: valid/labels/IMG_1985_JPG.rf.f7ba9099f506c394e16edde1f0c7b754.txt  \n",
            " extracting: valid/labels/IMG_1998_JPG.rf.39b1b44ebfaafc7f8d33aeb2024fd3f0.txt  \n",
            " extracting: valid/labels/IMG_2031_JPG.rf.732303b4d69ca666b642dfe901cc4c5f.txt  \n",
            " extracting: valid/labels/IMG_2034_JPG.rf.9c0732528fbb54c84f7455333b6f400b.txt  \n",
            " extracting: valid/labels/IMG_2079_JPG.rf.40502de824a52d5f8e569c897dbf88bb.txt  \n",
            " extracting: valid/labels/IMG_2096_JPG.rf.1d6e01aefe76d864dac596dbd4749a67.txt  \n",
            " extracting: valid/labels/IMG_2099_JPG.rf.b1ddd43220ae73b7f92c8c850af8d379.txt  \n",
            " extracting: valid/labels/IMG_2101_JPG.rf.2058170ff9d41f94116ae0620eb28dcb.txt  \n",
            " extracting: valid/labels/IMG_2106_JPG.rf.bf9743808f77ac8473edd8682302953e.txt  \n",
            " extracting: valid/labels/IMG_2120_JPG.rf.8aa3ab9c5394fb351ca16c3bb59e36c3.txt  \n",
            " extracting: valid/labels/IMG_2126_JPG.rf.2452fd296ce6f0c58e546562e763de43.txt  \n",
            " extracting: valid/labels/IMG_2132_JPG.rf.92b02771024f0292bbda6e610b051502.txt  \n",
            " extracting: valid/labels/IMG_2140_JPG.rf.b3054254d9fa5558a53f947779a865f3.txt  \n",
            " extracting: valid/labels/IMG_2214_JPG.rf.8ad5678547fa1489b853a3e53ec33bf0.txt  \n",
            " extracting: valid/labels/IMG_2229_JPG.rf.b89980f810ec57f31aa805b83c1ccd03.txt  \n",
            " extracting: valid/labels/IMG_2231_JPG.rf.1c22a7b0bce58488d32039c298c36486.txt  \n",
            " extracting: valid/labels/IMG_2272_JPG.rf.9d04583adeaef849eece9dc31aa1c31a.txt  \n",
            " extracting: valid/labels/IMG_2276_JPG.rf.6fa6f9819fbc0719e0a309cb58a5a9fe.txt  \n",
            " extracting: valid/labels/IMG_2317_JPG.rf.428ad35e0ecbdbd458053225637edaaa.txt  \n",
            " extracting: valid/labels/IMG_2323_JPG.rf.38361580d48f33e01f19fbc0a98b5ec5.txt  \n",
            " extracting: valid/labels/IMG_2328_JPG.rf.b3caf840720e48c424d613d7fe6fd1a4.txt  \n",
            " extracting: valid/labels/IMG_2329_JPG.rf.fd0c0f4687dc4c39d79385abaac33ef3.txt  \n",
            " extracting: valid/labels/IMG_2335_JPG.rf.42fad15c6d841d9ddc42476e1ccbb1f2.txt  \n",
            " extracting: valid/labels/IMG_2379_JPG.rf.75e06a475d7a88360e1b8324912b1dec.txt  \n",
            " extracting: valid/labels/IMG_2382_JPG.rf.194c65433376f0f0acfef1c884018fc0.txt  \n",
            " extracting: valid/labels/IMG_2416_JPG.rf.a1a2860be01a31700a4ccfe210536f5b.txt  \n",
            " extracting: valid/labels/IMG_2419_JPG.rf.ac136982a2df0324d990830c12a5fc3d.txt  \n",
            " extracting: valid/labels/IMG_2423_JPG.rf.788ed7a98e03986bcc6947f629b9b21e.txt  \n",
            " extracting: valid/labels/IMG_2429_JPG.rf.4fcfa49cfa0a4016eeaec591b5a3ba0f.txt  \n",
            " extracting: valid/labels/IMG_2447_JPG.rf.773f89821f47868dbb74658ef6743252.txt  \n",
            " extracting: valid/labels/IMG_2482_JPG.rf.18eac76e640586c1252585970c04d880.txt  \n",
            " extracting: valid/labels/IMG_2484_JPG.rf.4ef9eb1f716ab3668374d9b2f77c3070.txt  \n",
            " extracting: valid/labels/IMG_2490_JPG.rf.495a64ff95bfcee1ba3424d4ea1cbe27.txt  \n",
            " extracting: valid/labels/IMG_2491_JPG.rf.2ea0a925c1c79f8e551860beb88b5069.txt  \n",
            " extracting: valid/labels/IMG_2500_JPG.rf.e43ff60a2368bd70103ad94e58e173dd.txt  \n",
            " extracting: valid/labels/IMG_2503_JPG.rf.3bee5c9ad4557a6d5b1a52671f6570cf.txt  \n",
            " extracting: valid/labels/IMG_2514_JPG.rf.708b29b7808514854b4b09a6aef95e61.txt  \n",
            " extracting: valid/labels/IMG_2537_JPG.rf.871d47da3b8c84aed93a3814d6bc0fd6.txt  \n",
            " extracting: valid/labels/IMG_2551_JPG.rf.859ca2dc68992548d7e2160d1b6d7a60.txt  \n",
            " extracting: valid/labels/IMG_2556_JPG.rf.f5f3e0e1e93952f8b4eb6d4990aa4b67.txt  \n",
            " extracting: valid/labels/IMG_2559_JPG.rf.080174796b9ab05c70eb78e5a0abcc51.txt  \n",
            " extracting: valid/labels/IMG_2567_JPG.rf.a4b33cba8c2ccf23024fb46494b0c3d1.txt  \n",
            " extracting: valid/labels/IMG_2568_JPG.rf.9b34f51197663961c0236aa4efc0c80f.txt  \n",
            " extracting: valid/labels/IMG_2571_JPG.rf.6f0549a7f2d2ab798d033ef99c7c04d4.txt  \n",
            " extracting: valid/labels/IMG_2578_JPG.rf.9c00afafd73c6bbd676e0c7f426d98d9.txt  \n",
            " extracting: valid/labels/IMG_2597_JPG.rf.e5adbd28a60073437793921a3031917e.txt  \n",
            " extracting: valid/labels/IMG_2615_JPG.rf.e5dcadf50d3c5d1775b7ecf6d9e75f94.txt  \n",
            " extracting: valid/labels/IMG_2626_JPG.rf.bdbd70931cacab7e47573194ddfdcf5f.txt  \n",
            " extracting: valid/labels/IMG_2627_JPG.rf.3e3aec51dc246524b99d7754f154983d.txt  \n",
            " extracting: valid/labels/IMG_2649_JPG.rf.72d87a6bb49eb1c7b701ab522e5ec723.txt  \n",
            " extracting: valid/labels/IMG_2656_JPG.rf.aa9acc8169d8ee7f7ed24728cbdf9607.txt  \n",
            " extracting: valid/labels/IMG_2657_JPG.rf.93ee5a93a847465ed2e2a466f7c43315.txt  \n",
            " extracting: valid/labels/IMG_2673_JPG.rf.e96baa97779c11a26abf68e403f55874.txt  \n",
            " extracting: valid/labels/IMG_2681_JPG.rf.4374a8f0112fb961ac4420da2b56ebe9.txt  \n",
            " extracting: valid/labels/IMG_2684_JPG.rf.cfcc38ed19b062f8035bc6241e41c5cf.txt  \n",
            " extracting: valid/labels/IMG_2703_JPG.rf.a4e1eddd917798486f10d2f275eb2574.txt  \n",
            " extracting: valid/labels/IMG_2710_JPG.rf.41d2129230e5fba14b2d51bdfe1ecdb6.txt  \n",
            " extracting: valid/labels/IMG_E2041_JPG.rf.b2bde189ee522a76b6407f0ee46185a9.txt  \n"
          ]
        }
      ]
    },
    {
      "cell_type": "code",
      "source": [
        "!pip install ultralytics"
      ],
      "metadata": {
        "colab": {
          "base_uri": "https://localhost:8080/"
        },
        "id": "-I_5wVIkpXeW",
        "outputId": "76732155-6126-4d40-9c34-f157d11cfdef"
      },
      "execution_count": null,
      "outputs": [
        {
          "output_type": "stream",
          "name": "stdout",
          "text": [
            "Collecting ultralytics\n",
            "  Downloading ultralytics-8.2.58-py3-none-any.whl (802 kB)\n",
            "\u001b[2K     \u001b[90m━━━━━━━━━━━━━━━━━━━━━━━━━━━━━━━━━━━━━━━━\u001b[0m \u001b[32m802.7/802.7 kB\u001b[0m \u001b[31m8.4 MB/s\u001b[0m eta \u001b[36m0:00:00\u001b[0m\n",
            "\u001b[?25hRequirement already satisfied: numpy<2.0.0,>=1.23.0 in /usr/local/lib/python3.10/dist-packages (from ultralytics) (1.25.2)\n",
            "Requirement already satisfied: matplotlib>=3.3.0 in /usr/local/lib/python3.10/dist-packages (from ultralytics) (3.7.1)\n",
            "Requirement already satisfied: opencv-python>=4.6.0 in /usr/local/lib/python3.10/dist-packages (from ultralytics) (4.8.0.76)\n",
            "Requirement already satisfied: pillow>=7.1.2 in /usr/local/lib/python3.10/dist-packages (from ultralytics) (9.4.0)\n",
            "Requirement already satisfied: pyyaml>=5.3.1 in /usr/local/lib/python3.10/dist-packages (from ultralytics) (6.0.1)\n",
            "Requirement already satisfied: requests>=2.23.0 in /usr/local/lib/python3.10/dist-packages (from ultralytics) (2.31.0)\n",
            "Requirement already satisfied: scipy>=1.4.1 in /usr/local/lib/python3.10/dist-packages (from ultralytics) (1.11.4)\n",
            "Requirement already satisfied: torch>=1.8.0 in /usr/local/lib/python3.10/dist-packages (from ultralytics) (2.3.0+cu121)\n",
            "Requirement already satisfied: torchvision>=0.9.0 in /usr/local/lib/python3.10/dist-packages (from ultralytics) (0.18.0+cu121)\n",
            "Requirement already satisfied: tqdm>=4.64.0 in /usr/local/lib/python3.10/dist-packages (from ultralytics) (4.66.4)\n",
            "Requirement already satisfied: psutil in /usr/local/lib/python3.10/dist-packages (from ultralytics) (5.9.5)\n",
            "Requirement already satisfied: py-cpuinfo in /usr/local/lib/python3.10/dist-packages (from ultralytics) (9.0.0)\n",
            "Requirement already satisfied: pandas>=1.1.4 in /usr/local/lib/python3.10/dist-packages (from ultralytics) (2.0.3)\n",
            "Requirement already satisfied: seaborn>=0.11.0 in /usr/local/lib/python3.10/dist-packages (from ultralytics) (0.13.1)\n",
            "Collecting ultralytics-thop>=2.0.0 (from ultralytics)\n",
            "  Downloading ultralytics_thop-2.0.0-py3-none-any.whl (25 kB)\n",
            "Requirement already satisfied: contourpy>=1.0.1 in /usr/local/lib/python3.10/dist-packages (from matplotlib>=3.3.0->ultralytics) (1.2.1)\n",
            "Requirement already satisfied: cycler>=0.10 in /usr/local/lib/python3.10/dist-packages (from matplotlib>=3.3.0->ultralytics) (0.12.1)\n",
            "Requirement already satisfied: fonttools>=4.22.0 in /usr/local/lib/python3.10/dist-packages (from matplotlib>=3.3.0->ultralytics) (4.53.1)\n",
            "Requirement already satisfied: kiwisolver>=1.0.1 in /usr/local/lib/python3.10/dist-packages (from matplotlib>=3.3.0->ultralytics) (1.4.5)\n",
            "Requirement already satisfied: packaging>=20.0 in /usr/local/lib/python3.10/dist-packages (from matplotlib>=3.3.0->ultralytics) (24.1)\n",
            "Requirement already satisfied: pyparsing>=2.3.1 in /usr/local/lib/python3.10/dist-packages (from matplotlib>=3.3.0->ultralytics) (3.1.2)\n",
            "Requirement already satisfied: python-dateutil>=2.7 in /usr/local/lib/python3.10/dist-packages (from matplotlib>=3.3.0->ultralytics) (2.8.2)\n",
            "Requirement already satisfied: pytz>=2020.1 in /usr/local/lib/python3.10/dist-packages (from pandas>=1.1.4->ultralytics) (2023.4)\n",
            "Requirement already satisfied: tzdata>=2022.1 in /usr/local/lib/python3.10/dist-packages (from pandas>=1.1.4->ultralytics) (2024.1)\n",
            "Requirement already satisfied: charset-normalizer<4,>=2 in /usr/local/lib/python3.10/dist-packages (from requests>=2.23.0->ultralytics) (3.3.2)\n",
            "Requirement already satisfied: idna<4,>=2.5 in /usr/local/lib/python3.10/dist-packages (from requests>=2.23.0->ultralytics) (3.7)\n",
            "Requirement already satisfied: urllib3<3,>=1.21.1 in /usr/local/lib/python3.10/dist-packages (from requests>=2.23.0->ultralytics) (2.0.7)\n",
            "Requirement already satisfied: certifi>=2017.4.17 in /usr/local/lib/python3.10/dist-packages (from requests>=2.23.0->ultralytics) (2024.7.4)\n",
            "Requirement already satisfied: filelock in /usr/local/lib/python3.10/dist-packages (from torch>=1.8.0->ultralytics) (3.15.4)\n",
            "Requirement already satisfied: typing-extensions>=4.8.0 in /usr/local/lib/python3.10/dist-packages (from torch>=1.8.0->ultralytics) (4.12.2)\n",
            "Requirement already satisfied: sympy in /usr/local/lib/python3.10/dist-packages (from torch>=1.8.0->ultralytics) (1.13.0)\n",
            "Requirement already satisfied: networkx in /usr/local/lib/python3.10/dist-packages (from torch>=1.8.0->ultralytics) (3.3)\n",
            "Requirement already satisfied: jinja2 in /usr/local/lib/python3.10/dist-packages (from torch>=1.8.0->ultralytics) (3.1.4)\n",
            "Requirement already satisfied: fsspec in /usr/local/lib/python3.10/dist-packages (from torch>=1.8.0->ultralytics) (2023.6.0)\n",
            "Collecting nvidia-cuda-nvrtc-cu12==12.1.105 (from torch>=1.8.0->ultralytics)\n",
            "  Using cached nvidia_cuda_nvrtc_cu12-12.1.105-py3-none-manylinux1_x86_64.whl (23.7 MB)\n",
            "Collecting nvidia-cuda-runtime-cu12==12.1.105 (from torch>=1.8.0->ultralytics)\n",
            "  Using cached nvidia_cuda_runtime_cu12-12.1.105-py3-none-manylinux1_x86_64.whl (823 kB)\n",
            "Collecting nvidia-cuda-cupti-cu12==12.1.105 (from torch>=1.8.0->ultralytics)\n",
            "  Using cached nvidia_cuda_cupti_cu12-12.1.105-py3-none-manylinux1_x86_64.whl (14.1 MB)\n",
            "Collecting nvidia-cudnn-cu12==8.9.2.26 (from torch>=1.8.0->ultralytics)\n",
            "  Using cached nvidia_cudnn_cu12-8.9.2.26-py3-none-manylinux1_x86_64.whl (731.7 MB)\n",
            "Collecting nvidia-cublas-cu12==12.1.3.1 (from torch>=1.8.0->ultralytics)\n",
            "  Using cached nvidia_cublas_cu12-12.1.3.1-py3-none-manylinux1_x86_64.whl (410.6 MB)\n",
            "Collecting nvidia-cufft-cu12==11.0.2.54 (from torch>=1.8.0->ultralytics)\n",
            "  Using cached nvidia_cufft_cu12-11.0.2.54-py3-none-manylinux1_x86_64.whl (121.6 MB)\n",
            "Collecting nvidia-curand-cu12==10.3.2.106 (from torch>=1.8.0->ultralytics)\n",
            "  Using cached nvidia_curand_cu12-10.3.2.106-py3-none-manylinux1_x86_64.whl (56.5 MB)\n",
            "Collecting nvidia-cusolver-cu12==11.4.5.107 (from torch>=1.8.0->ultralytics)\n",
            "  Using cached nvidia_cusolver_cu12-11.4.5.107-py3-none-manylinux1_x86_64.whl (124.2 MB)\n",
            "Collecting nvidia-cusparse-cu12==12.1.0.106 (from torch>=1.8.0->ultralytics)\n",
            "  Using cached nvidia_cusparse_cu12-12.1.0.106-py3-none-manylinux1_x86_64.whl (196.0 MB)\n",
            "Collecting nvidia-nccl-cu12==2.20.5 (from torch>=1.8.0->ultralytics)\n",
            "  Using cached nvidia_nccl_cu12-2.20.5-py3-none-manylinux2014_x86_64.whl (176.2 MB)\n",
            "Collecting nvidia-nvtx-cu12==12.1.105 (from torch>=1.8.0->ultralytics)\n",
            "  Using cached nvidia_nvtx_cu12-12.1.105-py3-none-manylinux1_x86_64.whl (99 kB)\n",
            "Requirement already satisfied: triton==2.3.0 in /usr/local/lib/python3.10/dist-packages (from torch>=1.8.0->ultralytics) (2.3.0)\n",
            "Collecting nvidia-nvjitlink-cu12 (from nvidia-cusolver-cu12==11.4.5.107->torch>=1.8.0->ultralytics)\n",
            "  Downloading nvidia_nvjitlink_cu12-12.5.82-py3-none-manylinux2014_x86_64.whl (21.3 MB)\n",
            "\u001b[2K     \u001b[90m━━━━━━━━━━━━━━━━━━━━━━━━━━━━━━━━━━━━━━━━\u001b[0m \u001b[32m21.3/21.3 MB\u001b[0m \u001b[31m42.9 MB/s\u001b[0m eta \u001b[36m0:00:00\u001b[0m\n",
            "\u001b[?25hRequirement already satisfied: six>=1.5 in /usr/local/lib/python3.10/dist-packages (from python-dateutil>=2.7->matplotlib>=3.3.0->ultralytics) (1.16.0)\n",
            "Requirement already satisfied: MarkupSafe>=2.0 in /usr/local/lib/python3.10/dist-packages (from jinja2->torch>=1.8.0->ultralytics) (2.1.5)\n",
            "Requirement already satisfied: mpmath<1.4,>=1.1.0 in /usr/local/lib/python3.10/dist-packages (from sympy->torch>=1.8.0->ultralytics) (1.3.0)\n",
            "Installing collected packages: nvidia-nvtx-cu12, nvidia-nvjitlink-cu12, nvidia-nccl-cu12, nvidia-curand-cu12, nvidia-cufft-cu12, nvidia-cuda-runtime-cu12, nvidia-cuda-nvrtc-cu12, nvidia-cuda-cupti-cu12, nvidia-cublas-cu12, nvidia-cusparse-cu12, nvidia-cudnn-cu12, nvidia-cusolver-cu12, ultralytics-thop, ultralytics\n",
            "Successfully installed nvidia-cublas-cu12-12.1.3.1 nvidia-cuda-cupti-cu12-12.1.105 nvidia-cuda-nvrtc-cu12-12.1.105 nvidia-cuda-runtime-cu12-12.1.105 nvidia-cudnn-cu12-8.9.2.26 nvidia-cufft-cu12-11.0.2.54 nvidia-curand-cu12-10.3.2.106 nvidia-cusolver-cu12-11.4.5.107 nvidia-cusparse-cu12-12.1.0.106 nvidia-nccl-cu12-2.20.5 nvidia-nvjitlink-cu12-12.5.82 nvidia-nvtx-cu12-12.1.105 ultralytics-8.2.58 ultralytics-thop-2.0.0\n"
          ]
        }
      ]
    },
    {
      "cell_type": "code",
      "source": [
        "from ultralytics import YOLO\n",
        "\n",
        "data_root = '/content/data.yaml'\n",
        "\n",
        "model =YOLO('yolov8s.pt')\n",
        "\n",
        "model.train(data=data_root, epochs=100, imgsz=640 )"
      ],
      "metadata": {
        "colab": {
          "base_uri": "https://localhost:8080/"
        },
        "id": "x1Sv3lTRpb-6",
        "outputId": "013a1c75-2090-438a-9972-9aa95841b5df"
      },
      "execution_count": null,
      "outputs": [
        {
          "output_type": "stream",
          "name": "stdout",
          "text": [
            "Ultralytics YOLOv8.2.58 🚀 Python-3.10.12 torch-2.3.0+cu121 CUDA:0 (Tesla T4, 15102MiB)\n",
            "\u001b[34m\u001b[1mengine/trainer: \u001b[0mtask=detect, mode=train, model=yolov8s.pt, data=/content/data.yaml, epochs=100, time=None, patience=100, batch=16, imgsz=640, save=True, save_period=-1, cache=False, device=None, workers=8, project=None, name=train2, exist_ok=False, pretrained=True, optimizer=auto, verbose=True, seed=0, deterministic=True, single_cls=False, rect=False, cos_lr=False, close_mosaic=10, resume=False, amp=True, fraction=1.0, profile=False, freeze=None, multi_scale=False, overlap_mask=True, mask_ratio=4, dropout=0.0, val=True, split=val, save_json=False, save_hybrid=False, conf=None, iou=0.7, max_det=300, half=False, dnn=False, plots=True, source=None, vid_stride=1, stream_buffer=False, visualize=False, augment=False, agnostic_nms=False, classes=None, retina_masks=False, embed=None, show=False, save_frames=False, save_txt=False, save_conf=False, save_crop=False, show_labels=True, show_conf=True, show_boxes=True, line_width=None, format=torchscript, keras=False, optimize=False, int8=False, dynamic=False, simplify=False, opset=None, workspace=4, nms=False, lr0=0.01, lrf=0.01, momentum=0.937, weight_decay=0.0005, warmup_epochs=3.0, warmup_momentum=0.8, warmup_bias_lr=0.1, box=7.5, cls=0.5, dfl=1.5, pose=12.0, kobj=1.0, label_smoothing=0.0, nbs=64, hsv_h=0.015, hsv_s=0.7, hsv_v=0.4, degrees=0.0, translate=0.1, scale=0.5, shear=0.0, perspective=0.0, flipud=0.0, fliplr=0.5, bgr=0.0, mosaic=1.0, mixup=0.0, copy_paste=0.0, auto_augment=randaugment, erasing=0.4, crop_fraction=1.0, cfg=None, tracker=botsort.yaml, save_dir=runs/detect/train2\n",
            "Downloading https://ultralytics.com/assets/Arial.ttf to '/root/.config/Ultralytics/Arial.ttf'...\n"
          ]
        },
        {
          "output_type": "stream",
          "name": "stderr",
          "text": [
            "100%|██████████| 755k/755k [00:00<00:00, 26.3MB/s]\n"
          ]
        },
        {
          "output_type": "stream",
          "name": "stdout",
          "text": [
            "Overriding model.yaml nc=80 with nc=22\n",
            "\n",
            "                   from  n    params  module                                       arguments                     \n",
            "  0                  -1  1       928  ultralytics.nn.modules.conv.Conv             [3, 32, 3, 2]                 \n",
            "  1                  -1  1     18560  ultralytics.nn.modules.conv.Conv             [32, 64, 3, 2]                \n",
            "  2                  -1  1     29056  ultralytics.nn.modules.block.C2f             [64, 64, 1, True]             \n",
            "  3                  -1  1     73984  ultralytics.nn.modules.conv.Conv             [64, 128, 3, 2]               \n",
            "  4                  -1  2    197632  ultralytics.nn.modules.block.C2f             [128, 128, 2, True]           \n",
            "  5                  -1  1    295424  ultralytics.nn.modules.conv.Conv             [128, 256, 3, 2]              \n",
            "  6                  -1  2    788480  ultralytics.nn.modules.block.C2f             [256, 256, 2, True]           \n",
            "  7                  -1  1   1180672  ultralytics.nn.modules.conv.Conv             [256, 512, 3, 2]              \n",
            "  8                  -1  1   1838080  ultralytics.nn.modules.block.C2f             [512, 512, 1, True]           \n",
            "  9                  -1  1    656896  ultralytics.nn.modules.block.SPPF            [512, 512, 5]                 \n",
            " 10                  -1  1         0  torch.nn.modules.upsampling.Upsample         [None, 2, 'nearest']          \n",
            " 11             [-1, 6]  1         0  ultralytics.nn.modules.conv.Concat           [1]                           \n",
            " 12                  -1  1    591360  ultralytics.nn.modules.block.C2f             [768, 256, 1]                 \n",
            " 13                  -1  1         0  torch.nn.modules.upsampling.Upsample         [None, 2, 'nearest']          \n",
            " 14             [-1, 4]  1         0  ultralytics.nn.modules.conv.Concat           [1]                           \n",
            " 15                  -1  1    148224  ultralytics.nn.modules.block.C2f             [384, 128, 1]                 \n",
            " 16                  -1  1    147712  ultralytics.nn.modules.conv.Conv             [128, 128, 3, 2]              \n",
            " 17            [-1, 12]  1         0  ultralytics.nn.modules.conv.Concat           [1]                           \n",
            " 18                  -1  1    493056  ultralytics.nn.modules.block.C2f             [384, 256, 1]                 \n",
            " 19                  -1  1    590336  ultralytics.nn.modules.conv.Conv             [256, 256, 3, 2]              \n",
            " 20             [-1, 9]  1         0  ultralytics.nn.modules.conv.Concat           [1]                           \n",
            " 21                  -1  1   1969152  ultralytics.nn.modules.block.C2f             [768, 512, 1]                 \n",
            " 22        [15, 18, 21]  1   2124562  ultralytics.nn.modules.head.Detect           [22, [128, 256, 512]]         \n",
            "Model summary: 225 layers, 11,144,114 parameters, 11,144,098 gradients, 28.7 GFLOPs\n",
            "\n",
            "Transferred 349/355 items from pretrained weights\n",
            "\u001b[34m\u001b[1mTensorBoard: \u001b[0mStart with 'tensorboard --logdir runs/detect/train2', view at http://localhost:6006/\n",
            "Freezing layer 'model.22.dfl.conv.weight'\n",
            "\u001b[34m\u001b[1mAMP: \u001b[0mrunning Automatic Mixed Precision (AMP) checks with YOLOv8n...\n",
            "Downloading https://github.com/ultralytics/assets/releases/download/v8.2.0/yolov8n.pt to 'yolov8n.pt'...\n"
          ]
        },
        {
          "output_type": "stream",
          "name": "stderr",
          "text": [
            "100%|██████████| 6.25M/6.25M [00:00<00:00, 117MB/s]\n",
            "/usr/local/lib/python3.10/dist-packages/torch/nn/modules/conv.py:456: UserWarning: Plan failed with a cudnnException: CUDNN_BACKEND_EXECUTION_PLAN_DESCRIPTOR: cudnnFinalize Descriptor Failed cudnn_status: CUDNN_STATUS_NOT_SUPPORTED (Triggered internally at ../aten/src/ATen/native/cudnn/Conv_v8.cpp:919.)\n",
            "  return F.conv2d(input, weight, bias, self.stride,\n"
          ]
        },
        {
          "output_type": "stream",
          "name": "stdout",
          "text": [
            "\u001b[34m\u001b[1mAMP: \u001b[0mchecks passed ✅\n"
          ]
        },
        {
          "output_type": "stream",
          "name": "stderr",
          "text": [
            "\u001b[34m\u001b[1mtrain: \u001b[0mScanning /content/train/labels... 1026 images, 1 backgrounds, 0 corrupt: 100%|██████████| 1026/1026 [00:01<00:00, 596.85it/s]"
          ]
        },
        {
          "output_type": "stream",
          "name": "stdout",
          "text": [
            "\u001b[34m\u001b[1mtrain: \u001b[0mWARNING ⚠️ /content/train/images/IMG_1711_JPG.rf.55751f3b6589869f814d869220859400.jpg: 1 duplicate labels removed\n",
            "\u001b[34m\u001b[1mtrain: \u001b[0mWARNING ⚠️ /content/train/images/IMG_2014_JPG.rf.5c8db3ad489d531afa3fed9bf697f4b6.jpg: 1 duplicate labels removed\n",
            "\u001b[34m\u001b[1mtrain: \u001b[0mWARNING ⚠️ /content/train/images/IMG_2372_JPG.rf.83a66e123f923a5787dedd8fad5fe913.jpg: 1 duplicate labels removed\n"
          ]
        },
        {
          "output_type": "stream",
          "name": "stderr",
          "text": [
            "\n"
          ]
        },
        {
          "output_type": "stream",
          "name": "stdout",
          "text": [
            "\u001b[34m\u001b[1mtrain: \u001b[0mNew cache created: /content/train/labels.cache\n",
            "WARNING ⚠️ Box and segment counts should be equal, but got len(segments) = 6992, len(boxes) = 7005. To resolve this only boxes will be used and all segments will be removed. To avoid this please supply either a detect or segment dataset, not a detect-segment mixed dataset.\n",
            "\u001b[34m\u001b[1malbumentations: \u001b[0mBlur(p=0.01, blur_limit=(3, 7)), MedianBlur(p=0.01, blur_limit=(3, 7)), ToGray(p=0.01), CLAHE(p=0.01, clip_limit=(1, 4.0), tile_grid_size=(8, 8))\n"
          ]
        },
        {
          "output_type": "stream",
          "name": "stderr",
          "text": [
            "/usr/lib/python3.10/multiprocessing/popen_fork.py:66: RuntimeWarning: os.fork() was called. os.fork() is incompatible with multithreaded code, and JAX is multithreaded, so this will likely lead to a deadlock.\n",
            "  self.pid = os.fork()\n",
            "\u001b[34m\u001b[1mval: \u001b[0mScanning /content/valid/labels... 122 images, 0 backgrounds, 0 corrupt: 100%|██████████| 122/122 [00:00<00:00, 393.36it/s]"
          ]
        },
        {
          "output_type": "stream",
          "name": "stdout",
          "text": [
            "\u001b[34m\u001b[1mval: \u001b[0mNew cache created: /content/valid/labels.cache\n",
            "WARNING ⚠️ Box and segment counts should be equal, but got len(segments) = 808, len(boxes) = 819. To resolve this only boxes will be used and all segments will be removed. To avoid this please supply either a detect or segment dataset, not a detect-segment mixed dataset.\n"
          ]
        },
        {
          "output_type": "stream",
          "name": "stderr",
          "text": [
            "\n"
          ]
        },
        {
          "output_type": "stream",
          "name": "stdout",
          "text": [
            "Plotting labels to runs/detect/train2/labels.jpg... \n",
            "\u001b[34m\u001b[1moptimizer:\u001b[0m 'optimizer=auto' found, ignoring 'lr0=0.01' and 'momentum=0.937' and determining best 'optimizer', 'lr0' and 'momentum' automatically... \n",
            "\u001b[34m\u001b[1moptimizer:\u001b[0m AdamW(lr=0.000385, momentum=0.9) with parameter groups 57 weight(decay=0.0), 64 weight(decay=0.0005), 63 bias(decay=0.0)\n",
            "\u001b[34m\u001b[1mTensorBoard: \u001b[0mmodel graph visualization added ✅\n",
            "Image sizes 640 train, 640 val\n",
            "Using 2 dataloader workers\n",
            "Logging results to \u001b[1mruns/detect/train2\u001b[0m\n",
            "Starting training for 100 epochs...\n",
            "\n",
            "      Epoch    GPU_mem   box_loss   cls_loss   dfl_loss  Instances       Size\n"
          ]
        },
        {
          "output_type": "stream",
          "name": "stderr",
          "text": [
            "      1/100      4.38G     0.7938      2.523      1.181         14        640: 100%|██████████| 65/65 [00:33<00:00,  1.96it/s]\n",
            "                 Class     Images  Instances      Box(P          R      mAP50  mAP50-95): 100%|██████████| 4/4 [00:04<00:00,  1.04s/it]"
          ]
        },
        {
          "output_type": "stream",
          "name": "stdout",
          "text": [
            "                   all        122        819      0.648      0.621      0.632      0.552\n"
          ]
        },
        {
          "output_type": "stream",
          "name": "stderr",
          "text": [
            "\n"
          ]
        },
        {
          "output_type": "stream",
          "name": "stdout",
          "text": [
            "\n",
            "      Epoch    GPU_mem   box_loss   cls_loss   dfl_loss  Instances       Size\n"
          ]
        },
        {
          "output_type": "stream",
          "name": "stderr",
          "text": [
            "      2/100      4.28G     0.6589      1.087      1.074         26        640: 100%|██████████| 65/65 [00:23<00:00,  2.72it/s]\n",
            "                 Class     Images  Instances      Box(P          R      mAP50  mAP50-95): 100%|██████████| 4/4 [00:01<00:00,  2.46it/s]"
          ]
        },
        {
          "output_type": "stream",
          "name": "stdout",
          "text": [
            "                   all        122        819      0.856      0.723      0.801      0.692\n"
          ]
        },
        {
          "output_type": "stream",
          "name": "stderr",
          "text": [
            "\n"
          ]
        },
        {
          "output_type": "stream",
          "name": "stdout",
          "text": [
            "\n",
            "      Epoch    GPU_mem   box_loss   cls_loss   dfl_loss  Instances       Size\n"
          ]
        },
        {
          "output_type": "stream",
          "name": "stderr",
          "text": [
            "      3/100      4.28G      0.639     0.8686      1.058         29        640: 100%|██████████| 65/65 [00:31<00:00,  2.07it/s]\n",
            "                 Class     Images  Instances      Box(P          R      mAP50  mAP50-95): 100%|██████████| 4/4 [00:01<00:00,  2.63it/s]"
          ]
        },
        {
          "output_type": "stream",
          "name": "stdout",
          "text": [
            "                   all        122        819      0.865       0.78      0.835      0.722\n"
          ]
        },
        {
          "output_type": "stream",
          "name": "stderr",
          "text": [
            "\n"
          ]
        },
        {
          "output_type": "stream",
          "name": "stdout",
          "text": [
            "\n",
            "      Epoch    GPU_mem   box_loss   cls_loss   dfl_loss  Instances       Size\n"
          ]
        },
        {
          "output_type": "stream",
          "name": "stderr",
          "text": [
            "      4/100      4.24G     0.6306     0.7828      1.056         11        640: 100%|██████████| 65/65 [00:24<00:00,  2.71it/s]\n",
            "                 Class     Images  Instances      Box(P          R      mAP50  mAP50-95): 100%|██████████| 4/4 [00:02<00:00,  1.43it/s]"
          ]
        },
        {
          "output_type": "stream",
          "name": "stdout",
          "text": [
            "                   all        122        819      0.868        0.8      0.838      0.735\n"
          ]
        },
        {
          "output_type": "stream",
          "name": "stderr",
          "text": [
            "\n"
          ]
        },
        {
          "output_type": "stream",
          "name": "stdout",
          "text": [
            "\n",
            "      Epoch    GPU_mem   box_loss   cls_loss   dfl_loss  Instances       Size\n"
          ]
        },
        {
          "output_type": "stream",
          "name": "stderr",
          "text": [
            "      5/100      4.29G     0.6141     0.7031      1.047         46        640: 100%|██████████| 65/65 [00:23<00:00,  2.80it/s]\n",
            "                 Class     Images  Instances      Box(P          R      mAP50  mAP50-95): 100%|██████████| 4/4 [00:01<00:00,  2.63it/s]"
          ]
        },
        {
          "output_type": "stream",
          "name": "stdout",
          "text": [
            "                   all        122        819      0.897        0.8      0.858      0.754\n"
          ]
        },
        {
          "output_type": "stream",
          "name": "stderr",
          "text": [
            "\n"
          ]
        },
        {
          "output_type": "stream",
          "name": "stdout",
          "text": [
            "\n",
            "      Epoch    GPU_mem   box_loss   cls_loss   dfl_loss  Instances       Size\n"
          ]
        },
        {
          "output_type": "stream",
          "name": "stderr",
          "text": [
            "      6/100      4.27G     0.6107      0.685      1.049         12        640: 100%|██████████| 65/65 [00:24<00:00,  2.62it/s]\n",
            "                 Class     Images  Instances      Box(P          R      mAP50  mAP50-95): 100%|██████████| 4/4 [00:03<00:00,  1.28it/s]"
          ]
        },
        {
          "output_type": "stream",
          "name": "stdout",
          "text": [
            "                   all        122        819      0.798      0.826      0.856      0.755\n"
          ]
        },
        {
          "output_type": "stream",
          "name": "stderr",
          "text": [
            "\n"
          ]
        },
        {
          "output_type": "stream",
          "name": "stdout",
          "text": [
            "\n",
            "      Epoch    GPU_mem   box_loss   cls_loss   dfl_loss  Instances       Size\n"
          ]
        },
        {
          "output_type": "stream",
          "name": "stderr",
          "text": [
            "      7/100       4.3G     0.5802     0.6363      1.025         25        640: 100%|██████████| 65/65 [00:24<00:00,  2.67it/s]\n",
            "                 Class     Images  Instances      Box(P          R      mAP50  mAP50-95): 100%|██████████| 4/4 [00:01<00:00,  2.80it/s]"
          ]
        },
        {
          "output_type": "stream",
          "name": "stdout",
          "text": [
            "                   all        122        819      0.907      0.824      0.867      0.766\n"
          ]
        },
        {
          "output_type": "stream",
          "name": "stderr",
          "text": [
            "\n"
          ]
        },
        {
          "output_type": "stream",
          "name": "stdout",
          "text": [
            "\n",
            "      Epoch    GPU_mem   box_loss   cls_loss   dfl_loss  Instances       Size\n"
          ]
        },
        {
          "output_type": "stream",
          "name": "stderr",
          "text": [
            "      8/100      4.26G     0.5694     0.6083       1.03         12        640: 100%|██████████| 65/65 [00:28<00:00,  2.30it/s]\n",
            "                 Class     Images  Instances      Box(P          R      mAP50  mAP50-95): 100%|██████████| 4/4 [00:03<00:00,  1.29it/s]"
          ]
        },
        {
          "output_type": "stream",
          "name": "stdout",
          "text": [
            "                   all        122        819       0.89      0.854      0.867      0.771\n"
          ]
        },
        {
          "output_type": "stream",
          "name": "stderr",
          "text": [
            "\n"
          ]
        },
        {
          "output_type": "stream",
          "name": "stdout",
          "text": [
            "\n",
            "      Epoch    GPU_mem   box_loss   cls_loss   dfl_loss  Instances       Size\n"
          ]
        },
        {
          "output_type": "stream",
          "name": "stderr",
          "text": [
            "      9/100      4.28G     0.5619     0.5906      1.016         27        640: 100%|██████████| 65/65 [00:23<00:00,  2.71it/s]\n",
            "                 Class     Images  Instances      Box(P          R      mAP50  mAP50-95): 100%|██████████| 4/4 [00:01<00:00,  2.61it/s]"
          ]
        },
        {
          "output_type": "stream",
          "name": "stdout",
          "text": [
            "                   all        122        819      0.877      0.852      0.858       0.76\n"
          ]
        },
        {
          "output_type": "stream",
          "name": "stderr",
          "text": [
            "\n"
          ]
        },
        {
          "output_type": "stream",
          "name": "stdout",
          "text": [
            "\n",
            "      Epoch    GPU_mem   box_loss   cls_loss   dfl_loss  Instances       Size\n"
          ]
        },
        {
          "output_type": "stream",
          "name": "stderr",
          "text": [
            "     10/100      4.29G     0.5639     0.5989      1.019         14        640: 100%|██████████| 65/65 [00:23<00:00,  2.71it/s]\n",
            "                 Class     Images  Instances      Box(P          R      mAP50  mAP50-95): 100%|██████████| 4/4 [00:03<00:00,  1.13it/s]"
          ]
        },
        {
          "output_type": "stream",
          "name": "stdout",
          "text": [
            "                   all        122        819      0.888      0.876      0.875      0.779\n"
          ]
        },
        {
          "output_type": "stream",
          "name": "stderr",
          "text": [
            "\n"
          ]
        },
        {
          "output_type": "stream",
          "name": "stdout",
          "text": [
            "\n",
            "      Epoch    GPU_mem   box_loss   cls_loss   dfl_loss  Instances       Size\n"
          ]
        },
        {
          "output_type": "stream",
          "name": "stderr",
          "text": [
            "     11/100      4.29G     0.5419     0.5649       1.01         27        640: 100%|██████████| 65/65 [00:26<00:00,  2.45it/s]\n",
            "                 Class     Images  Instances      Box(P          R      mAP50  mAP50-95): 100%|██████████| 4/4 [00:01<00:00,  2.70it/s]"
          ]
        },
        {
          "output_type": "stream",
          "name": "stdout",
          "text": [
            "                   all        122        819      0.895      0.851      0.869      0.782\n"
          ]
        },
        {
          "output_type": "stream",
          "name": "stderr",
          "text": [
            "\n"
          ]
        },
        {
          "output_type": "stream",
          "name": "stdout",
          "text": [
            "\n",
            "      Epoch    GPU_mem   box_loss   cls_loss   dfl_loss  Instances       Size\n"
          ]
        },
        {
          "output_type": "stream",
          "name": "stderr",
          "text": [
            "     12/100      4.23G     0.5545     0.5669       1.02         22        640: 100%|██████████| 65/65 [00:24<00:00,  2.69it/s]\n",
            "                 Class     Images  Instances      Box(P          R      mAP50  mAP50-95): 100%|██████████| 4/4 [00:03<00:00,  1.20it/s]"
          ]
        },
        {
          "output_type": "stream",
          "name": "stdout",
          "text": [
            "                   all        122        819      0.891      0.849      0.885      0.794\n"
          ]
        },
        {
          "output_type": "stream",
          "name": "stderr",
          "text": [
            "\n"
          ]
        },
        {
          "output_type": "stream",
          "name": "stdout",
          "text": [
            "\n",
            "      Epoch    GPU_mem   box_loss   cls_loss   dfl_loss  Instances       Size\n"
          ]
        },
        {
          "output_type": "stream",
          "name": "stderr",
          "text": [
            "     13/100      4.25G     0.5358     0.5385      1.011         35        640: 100%|██████████| 65/65 [00:24<00:00,  2.69it/s]\n",
            "                 Class     Images  Instances      Box(P          R      mAP50  mAP50-95): 100%|██████████| 4/4 [00:01<00:00,  2.64it/s]"
          ]
        },
        {
          "output_type": "stream",
          "name": "stdout",
          "text": [
            "                   all        122        819      0.929      0.848      0.882      0.785\n"
          ]
        },
        {
          "output_type": "stream",
          "name": "stderr",
          "text": [
            "\n"
          ]
        },
        {
          "output_type": "stream",
          "name": "stdout",
          "text": [
            "\n",
            "      Epoch    GPU_mem   box_loss   cls_loss   dfl_loss  Instances       Size\n"
          ]
        },
        {
          "output_type": "stream",
          "name": "stderr",
          "text": [
            "     14/100      4.24G     0.5475      0.548      1.015         37        640: 100%|██████████| 65/65 [00:24<00:00,  2.63it/s]\n",
            "                 Class     Images  Instances      Box(P          R      mAP50  mAP50-95): 100%|██████████| 4/4 [00:03<00:00,  1.26it/s]"
          ]
        },
        {
          "output_type": "stream",
          "name": "stdout",
          "text": [
            "                   all        122        819      0.923      0.852      0.876      0.787\n"
          ]
        },
        {
          "output_type": "stream",
          "name": "stderr",
          "text": [
            "\n"
          ]
        },
        {
          "output_type": "stream",
          "name": "stdout",
          "text": [
            "\n",
            "      Epoch    GPU_mem   box_loss   cls_loss   dfl_loss  Instances       Size\n"
          ]
        },
        {
          "output_type": "stream",
          "name": "stderr",
          "text": [
            "     15/100      4.31G     0.5317      0.532      1.006         22        640: 100%|██████████| 65/65 [00:22<00:00,  2.87it/s]\n",
            "                 Class     Images  Instances      Box(P          R      mAP50  mAP50-95): 100%|██████████| 4/4 [00:01<00:00,  2.78it/s]"
          ]
        },
        {
          "output_type": "stream",
          "name": "stdout",
          "text": [
            "                   all        122        819      0.894      0.855      0.869      0.784\n"
          ]
        },
        {
          "output_type": "stream",
          "name": "stderr",
          "text": [
            "\n"
          ]
        },
        {
          "output_type": "stream",
          "name": "stdout",
          "text": [
            "\n",
            "      Epoch    GPU_mem   box_loss   cls_loss   dfl_loss  Instances       Size\n"
          ]
        },
        {
          "output_type": "stream",
          "name": "stderr",
          "text": [
            "     16/100      4.19G     0.5294     0.5242      1.003         34        640: 100%|██████████| 65/65 [00:31<00:00,  2.07it/s]\n",
            "                 Class     Images  Instances      Box(P          R      mAP50  mAP50-95): 100%|██████████| 4/4 [00:01<00:00,  2.54it/s]"
          ]
        },
        {
          "output_type": "stream",
          "name": "stdout",
          "text": [
            "                   all        122        819      0.928      0.874      0.885      0.799\n"
          ]
        },
        {
          "output_type": "stream",
          "name": "stderr",
          "text": [
            "\n"
          ]
        },
        {
          "output_type": "stream",
          "name": "stdout",
          "text": [
            "\n",
            "      Epoch    GPU_mem   box_loss   cls_loss   dfl_loss  Instances       Size\n"
          ]
        },
        {
          "output_type": "stream",
          "name": "stderr",
          "text": [
            "     17/100       4.3G     0.5196     0.5166     0.9961         36        640: 100%|██████████| 65/65 [00:23<00:00,  2.75it/s]\n",
            "                 Class     Images  Instances      Box(P          R      mAP50  mAP50-95): 100%|██████████| 4/4 [00:01<00:00,  2.50it/s]"
          ]
        },
        {
          "output_type": "stream",
          "name": "stdout",
          "text": [
            "                   all        122        819      0.928      0.845      0.875      0.783\n"
          ]
        },
        {
          "output_type": "stream",
          "name": "stderr",
          "text": [
            "\n"
          ]
        },
        {
          "output_type": "stream",
          "name": "stdout",
          "text": [
            "\n",
            "      Epoch    GPU_mem   box_loss   cls_loss   dfl_loss  Instances       Size\n"
          ]
        },
        {
          "output_type": "stream",
          "name": "stderr",
          "text": [
            "     18/100      4.28G      0.514     0.4974     0.9938         33        640: 100%|██████████| 65/65 [00:27<00:00,  2.35it/s]\n",
            "                 Class     Images  Instances      Box(P          R      mAP50  mAP50-95): 100%|██████████| 4/4 [00:02<00:00,  1.74it/s]"
          ]
        },
        {
          "output_type": "stream",
          "name": "stdout",
          "text": [
            "                   all        122        819      0.923      0.877      0.887      0.806\n"
          ]
        },
        {
          "output_type": "stream",
          "name": "stderr",
          "text": [
            "\n"
          ]
        },
        {
          "output_type": "stream",
          "name": "stdout",
          "text": [
            "\n",
            "      Epoch    GPU_mem   box_loss   cls_loss   dfl_loss  Instances       Size\n"
          ]
        },
        {
          "output_type": "stream",
          "name": "stderr",
          "text": [
            "     19/100      4.25G     0.5101     0.4847     0.9927         13        640: 100%|██████████| 65/65 [00:23<00:00,  2.73it/s]\n",
            "                 Class     Images  Instances      Box(P          R      mAP50  mAP50-95): 100%|██████████| 4/4 [00:01<00:00,  2.52it/s]"
          ]
        },
        {
          "output_type": "stream",
          "name": "stdout",
          "text": [
            "                   all        122        819      0.936      0.867      0.883      0.805\n"
          ]
        },
        {
          "output_type": "stream",
          "name": "stderr",
          "text": [
            "\n"
          ]
        },
        {
          "output_type": "stream",
          "name": "stdout",
          "text": [
            "\n",
            "      Epoch    GPU_mem   box_loss   cls_loss   dfl_loss  Instances       Size\n"
          ]
        },
        {
          "output_type": "stream",
          "name": "stderr",
          "text": [
            "     20/100      4.23G     0.5142     0.4979      1.003         19        640: 100%|██████████| 65/65 [00:25<00:00,  2.53it/s]\n",
            "                 Class     Images  Instances      Box(P          R      mAP50  mAP50-95): 100%|██████████| 4/4 [00:01<00:00,  2.21it/s]"
          ]
        },
        {
          "output_type": "stream",
          "name": "stdout",
          "text": [
            "                   all        122        819      0.926       0.88      0.893      0.807\n"
          ]
        },
        {
          "output_type": "stream",
          "name": "stderr",
          "text": [
            "\n"
          ]
        },
        {
          "output_type": "stream",
          "name": "stdout",
          "text": [
            "\n",
            "      Epoch    GPU_mem   box_loss   cls_loss   dfl_loss  Instances       Size\n"
          ]
        },
        {
          "output_type": "stream",
          "name": "stderr",
          "text": [
            "     21/100      4.29G     0.5136     0.5061      1.002         11        640: 100%|██████████| 65/65 [00:23<00:00,  2.75it/s]\n",
            "                 Class     Images  Instances      Box(P          R      mAP50  mAP50-95): 100%|██████████| 4/4 [00:01<00:00,  2.58it/s]"
          ]
        },
        {
          "output_type": "stream",
          "name": "stdout",
          "text": [
            "                   all        122        819       0.91      0.868       0.89      0.811\n"
          ]
        },
        {
          "output_type": "stream",
          "name": "stderr",
          "text": [
            "\n"
          ]
        },
        {
          "output_type": "stream",
          "name": "stdout",
          "text": [
            "\n",
            "      Epoch    GPU_mem   box_loss   cls_loss   dfl_loss  Instances       Size\n"
          ]
        },
        {
          "output_type": "stream",
          "name": "stderr",
          "text": [
            "     22/100      4.26G     0.4901     0.4629     0.9845         20        640: 100%|██████████| 65/65 [00:25<00:00,  2.51it/s]\n",
            "                 Class     Images  Instances      Box(P          R      mAP50  mAP50-95): 100%|██████████| 4/4 [00:02<00:00,  1.89it/s]"
          ]
        },
        {
          "output_type": "stream",
          "name": "stdout",
          "text": [
            "                   all        122        819      0.917      0.873      0.885      0.808\n"
          ]
        },
        {
          "output_type": "stream",
          "name": "stderr",
          "text": [
            "\n"
          ]
        },
        {
          "output_type": "stream",
          "name": "stdout",
          "text": [
            "\n",
            "      Epoch    GPU_mem   box_loss   cls_loss   dfl_loss  Instances       Size\n"
          ]
        },
        {
          "output_type": "stream",
          "name": "stderr",
          "text": [
            "     23/100      4.28G     0.5034     0.4798     0.9972         18        640: 100%|██████████| 65/65 [00:23<00:00,  2.78it/s]\n",
            "                 Class     Images  Instances      Box(P          R      mAP50  mAP50-95): 100%|██████████| 4/4 [00:01<00:00,  2.55it/s]"
          ]
        },
        {
          "output_type": "stream",
          "name": "stdout",
          "text": [
            "                   all        122        819      0.909      0.878      0.894       0.81\n"
          ]
        },
        {
          "output_type": "stream",
          "name": "stderr",
          "text": [
            "\n"
          ]
        },
        {
          "output_type": "stream",
          "name": "stdout",
          "text": [
            "\n",
            "      Epoch    GPU_mem   box_loss   cls_loss   dfl_loss  Instances       Size\n"
          ]
        },
        {
          "output_type": "stream",
          "name": "stderr",
          "text": [
            "     24/100      4.23G     0.4909     0.4603     0.9858         12        640: 100%|██████████| 65/65 [00:27<00:00,  2.36it/s]\n",
            "                 Class     Images  Instances      Box(P          R      mAP50  mAP50-95): 100%|██████████| 4/4 [00:03<00:00,  1.23it/s]"
          ]
        },
        {
          "output_type": "stream",
          "name": "stdout",
          "text": [
            "                   all        122        819      0.924      0.872      0.906       0.83\n"
          ]
        },
        {
          "output_type": "stream",
          "name": "stderr",
          "text": [
            "\n"
          ]
        },
        {
          "output_type": "stream",
          "name": "stdout",
          "text": [
            "\n",
            "      Epoch    GPU_mem   box_loss   cls_loss   dfl_loss  Instances       Size\n"
          ]
        },
        {
          "output_type": "stream",
          "name": "stderr",
          "text": [
            "     25/100       4.3G      0.487     0.4592     0.9801         19        640: 100%|██████████| 65/65 [00:23<00:00,  2.72it/s]\n",
            "                 Class     Images  Instances      Box(P          R      mAP50  mAP50-95): 100%|██████████| 4/4 [00:01<00:00,  2.39it/s]"
          ]
        },
        {
          "output_type": "stream",
          "name": "stdout",
          "text": [
            "                   all        122        819       0.93      0.883      0.895      0.819\n"
          ]
        },
        {
          "output_type": "stream",
          "name": "stderr",
          "text": [
            "\n"
          ]
        },
        {
          "output_type": "stream",
          "name": "stdout",
          "text": [
            "\n",
            "      Epoch    GPU_mem   box_loss   cls_loss   dfl_loss  Instances       Size\n"
          ]
        },
        {
          "output_type": "stream",
          "name": "stderr",
          "text": [
            "     26/100       4.3G     0.4861     0.4455     0.9769         21        640: 100%|██████████| 65/65 [00:29<00:00,  2.21it/s]\n",
            "                 Class     Images  Instances      Box(P          R      mAP50  mAP50-95): 100%|██████████| 4/4 [00:02<00:00,  1.41it/s]"
          ]
        },
        {
          "output_type": "stream",
          "name": "stdout",
          "text": [
            "                   all        122        819      0.889      0.871      0.888      0.816\n"
          ]
        },
        {
          "output_type": "stream",
          "name": "stderr",
          "text": [
            "\n"
          ]
        },
        {
          "output_type": "stream",
          "name": "stdout",
          "text": [
            "\n",
            "      Epoch    GPU_mem   box_loss   cls_loss   dfl_loss  Instances       Size\n"
          ]
        },
        {
          "output_type": "stream",
          "name": "stderr",
          "text": [
            "     27/100       4.3G      0.486     0.4497     0.9795         23        640: 100%|██████████| 65/65 [00:24<00:00,  2.70it/s]\n",
            "                 Class     Images  Instances      Box(P          R      mAP50  mAP50-95): 100%|██████████| 4/4 [00:01<00:00,  2.32it/s]"
          ]
        },
        {
          "output_type": "stream",
          "name": "stdout",
          "text": [
            "                   all        122        819      0.937      0.869      0.891      0.819\n"
          ]
        },
        {
          "output_type": "stream",
          "name": "stderr",
          "text": [
            "\n"
          ]
        },
        {
          "output_type": "stream",
          "name": "stdout",
          "text": [
            "\n",
            "      Epoch    GPU_mem   box_loss   cls_loss   dfl_loss  Instances       Size\n"
          ]
        },
        {
          "output_type": "stream",
          "name": "stderr",
          "text": [
            "     28/100      4.24G     0.4734      0.442     0.9763         37        640: 100%|██████████| 65/65 [00:25<00:00,  2.55it/s]\n",
            "                 Class     Images  Instances      Box(P          R      mAP50  mAP50-95): 100%|██████████| 4/4 [00:02<00:00,  1.71it/s]"
          ]
        },
        {
          "output_type": "stream",
          "name": "stdout",
          "text": [
            "                   all        122        819      0.932      0.878       0.89      0.818\n"
          ]
        },
        {
          "output_type": "stream",
          "name": "stderr",
          "text": [
            "\n"
          ]
        },
        {
          "output_type": "stream",
          "name": "stdout",
          "text": [
            "\n",
            "      Epoch    GPU_mem   box_loss   cls_loss   dfl_loss  Instances       Size\n"
          ]
        },
        {
          "output_type": "stream",
          "name": "stderr",
          "text": [
            "     29/100       4.3G     0.4881     0.4492     0.9836         17        640: 100%|██████████| 65/65 [00:23<00:00,  2.73it/s]\n",
            "                 Class     Images  Instances      Box(P          R      mAP50  mAP50-95): 100%|██████████| 4/4 [00:01<00:00,  2.53it/s]"
          ]
        },
        {
          "output_type": "stream",
          "name": "stdout",
          "text": [
            "                   all        122        819      0.942      0.872      0.893      0.822\n"
          ]
        },
        {
          "output_type": "stream",
          "name": "stderr",
          "text": [
            "\n"
          ]
        },
        {
          "output_type": "stream",
          "name": "stdout",
          "text": [
            "\n",
            "      Epoch    GPU_mem   box_loss   cls_loss   dfl_loss  Instances       Size\n"
          ]
        },
        {
          "output_type": "stream",
          "name": "stderr",
          "text": [
            "     30/100      4.28G     0.4702     0.4394     0.9687         12        640: 100%|██████████| 65/65 [00:25<00:00,  2.58it/s]\n",
            "                 Class     Images  Instances      Box(P          R      mAP50  mAP50-95): 100%|██████████| 4/4 [00:03<00:00,  1.28it/s]"
          ]
        },
        {
          "output_type": "stream",
          "name": "stdout",
          "text": [
            "                   all        122        819      0.895       0.87      0.889      0.816\n"
          ]
        },
        {
          "output_type": "stream",
          "name": "stderr",
          "text": [
            "\n"
          ]
        },
        {
          "output_type": "stream",
          "name": "stdout",
          "text": [
            "\n",
            "      Epoch    GPU_mem   box_loss   cls_loss   dfl_loss  Instances       Size\n"
          ]
        },
        {
          "output_type": "stream",
          "name": "stderr",
          "text": [
            "     31/100      4.24G     0.4799     0.4407     0.9834         14        640: 100%|██████████| 65/65 [00:24<00:00,  2.64it/s]\n",
            "                 Class     Images  Instances      Box(P          R      mAP50  mAP50-95): 100%|██████████| 4/4 [00:03<00:00,  1.29it/s]"
          ]
        },
        {
          "output_type": "stream",
          "name": "stdout",
          "text": [
            "                   all        122        819      0.928      0.881      0.896      0.822\n"
          ]
        },
        {
          "output_type": "stream",
          "name": "stderr",
          "text": [
            "\n"
          ]
        },
        {
          "output_type": "stream",
          "name": "stdout",
          "text": [
            "\n",
            "      Epoch    GPU_mem   box_loss   cls_loss   dfl_loss  Instances       Size\n"
          ]
        },
        {
          "output_type": "stream",
          "name": "stderr",
          "text": [
            "     32/100      4.23G     0.4781     0.4361     0.9767         26        640: 100%|██████████| 65/65 [00:26<00:00,  2.43it/s]\n",
            "                 Class     Images  Instances      Box(P          R      mAP50  mAP50-95): 100%|██████████| 4/4 [00:01<00:00,  2.47it/s]"
          ]
        },
        {
          "output_type": "stream",
          "name": "stdout",
          "text": [
            "                   all        122        819       0.92      0.882       0.89      0.822\n"
          ]
        },
        {
          "output_type": "stream",
          "name": "stderr",
          "text": [
            "\n"
          ]
        },
        {
          "output_type": "stream",
          "name": "stdout",
          "text": [
            "\n",
            "      Epoch    GPU_mem   box_loss   cls_loss   dfl_loss  Instances       Size\n"
          ]
        },
        {
          "output_type": "stream",
          "name": "stderr",
          "text": [
            "     33/100      4.29G     0.4731     0.4443     0.9763         15        640: 100%|██████████| 65/65 [00:23<00:00,  2.77it/s]\n",
            "                 Class     Images  Instances      Box(P          R      mAP50  mAP50-95): 100%|██████████| 4/4 [00:01<00:00,  2.59it/s]"
          ]
        },
        {
          "output_type": "stream",
          "name": "stdout",
          "text": [
            "                   all        122        819      0.885      0.876      0.896      0.829\n"
          ]
        },
        {
          "output_type": "stream",
          "name": "stderr",
          "text": [
            "\n"
          ]
        },
        {
          "output_type": "stream",
          "name": "stdout",
          "text": [
            "\n",
            "      Epoch    GPU_mem   box_loss   cls_loss   dfl_loss  Instances       Size\n"
          ]
        },
        {
          "output_type": "stream",
          "name": "stderr",
          "text": [
            "     34/100       4.3G     0.4692     0.4227     0.9739         35        640: 100%|██████████| 65/65 [00:29<00:00,  2.18it/s]\n",
            "                 Class     Images  Instances      Box(P          R      mAP50  mAP50-95): 100%|██████████| 4/4 [00:01<00:00,  2.51it/s]"
          ]
        },
        {
          "output_type": "stream",
          "name": "stdout",
          "text": [
            "                   all        122        819      0.924      0.879      0.896      0.828\n"
          ]
        },
        {
          "output_type": "stream",
          "name": "stderr",
          "text": [
            "\n"
          ]
        },
        {
          "output_type": "stream",
          "name": "stdout",
          "text": [
            "\n",
            "      Epoch    GPU_mem   box_loss   cls_loss   dfl_loss  Instances       Size\n"
          ]
        },
        {
          "output_type": "stream",
          "name": "stderr",
          "text": [
            "     35/100      4.25G     0.4656     0.4189     0.9658         34        640: 100%|██████████| 65/65 [00:23<00:00,  2.76it/s]\n",
            "                 Class     Images  Instances      Box(P          R      mAP50  mAP50-95): 100%|██████████| 4/4 [00:01<00:00,  2.39it/s]"
          ]
        },
        {
          "output_type": "stream",
          "name": "stdout",
          "text": [
            "                   all        122        819      0.939      0.881      0.901       0.82\n"
          ]
        },
        {
          "output_type": "stream",
          "name": "stderr",
          "text": [
            "\n"
          ]
        },
        {
          "output_type": "stream",
          "name": "stdout",
          "text": [
            "\n",
            "      Epoch    GPU_mem   box_loss   cls_loss   dfl_loss  Instances       Size\n"
          ]
        },
        {
          "output_type": "stream",
          "name": "stderr",
          "text": [
            "     36/100      4.23G     0.4526     0.4146     0.9611         28        640: 100%|██████████| 65/65 [00:25<00:00,  2.53it/s]\n",
            "                 Class     Images  Instances      Box(P          R      mAP50  mAP50-95): 100%|██████████| 4/4 [00:01<00:00,  2.49it/s]"
          ]
        },
        {
          "output_type": "stream",
          "name": "stdout",
          "text": [
            "                   all        122        819      0.939      0.865      0.895      0.822\n"
          ]
        },
        {
          "output_type": "stream",
          "name": "stderr",
          "text": [
            "\n"
          ]
        },
        {
          "output_type": "stream",
          "name": "stdout",
          "text": [
            "\n",
            "      Epoch    GPU_mem   box_loss   cls_loss   dfl_loss  Instances       Size\n"
          ]
        },
        {
          "output_type": "stream",
          "name": "stderr",
          "text": [
            "     37/100       4.3G     0.4553       0.41      0.972         15        640: 100%|██████████| 65/65 [00:22<00:00,  2.86it/s]\n",
            "                 Class     Images  Instances      Box(P          R      mAP50  mAP50-95): 100%|██████████| 4/4 [00:01<00:00,  2.12it/s]"
          ]
        },
        {
          "output_type": "stream",
          "name": "stdout",
          "text": [
            "                   all        122        819      0.949      0.881        0.9      0.826\n"
          ]
        },
        {
          "output_type": "stream",
          "name": "stderr",
          "text": [
            "\n"
          ]
        },
        {
          "output_type": "stream",
          "name": "stdout",
          "text": [
            "\n",
            "      Epoch    GPU_mem   box_loss   cls_loss   dfl_loss  Instances       Size\n"
          ]
        },
        {
          "output_type": "stream",
          "name": "stderr",
          "text": [
            "     38/100      4.28G     0.4492     0.4041      0.965         48        640: 100%|██████████| 65/65 [00:25<00:00,  2.51it/s]\n",
            "                 Class     Images  Instances      Box(P          R      mAP50  mAP50-95): 100%|██████████| 4/4 [00:01<00:00,  2.34it/s]"
          ]
        },
        {
          "output_type": "stream",
          "name": "stdout",
          "text": [
            "                   all        122        819      0.944      0.885      0.897      0.824\n"
          ]
        },
        {
          "output_type": "stream",
          "name": "stderr",
          "text": [
            "\n"
          ]
        },
        {
          "output_type": "stream",
          "name": "stdout",
          "text": [
            "\n",
            "      Epoch    GPU_mem   box_loss   cls_loss   dfl_loss  Instances       Size\n"
          ]
        },
        {
          "output_type": "stream",
          "name": "stderr",
          "text": [
            "     39/100      4.31G     0.4546     0.4076     0.9628         16        640: 100%|██████████| 65/65 [00:28<00:00,  2.27it/s]\n",
            "                 Class     Images  Instances      Box(P          R      mAP50  mAP50-95): 100%|██████████| 4/4 [00:02<00:00,  1.41it/s]"
          ]
        },
        {
          "output_type": "stream",
          "name": "stdout",
          "text": [
            "                   all        122        819      0.947      0.875      0.893      0.822\n"
          ]
        },
        {
          "output_type": "stream",
          "name": "stderr",
          "text": [
            "\n"
          ]
        },
        {
          "output_type": "stream",
          "name": "stdout",
          "text": [
            "\n",
            "      Epoch    GPU_mem   box_loss   cls_loss   dfl_loss  Instances       Size\n"
          ]
        },
        {
          "output_type": "stream",
          "name": "stderr",
          "text": [
            "     40/100      4.26G       0.46     0.4087     0.9669         13        640: 100%|██████████| 65/65 [00:24<00:00,  2.71it/s]\n",
            "                 Class     Images  Instances      Box(P          R      mAP50  mAP50-95): 100%|██████████| 4/4 [00:01<00:00,  2.62it/s]"
          ]
        },
        {
          "output_type": "stream",
          "name": "stdout",
          "text": [
            "                   all        122        819      0.942      0.873      0.895      0.821\n"
          ]
        },
        {
          "output_type": "stream",
          "name": "stderr",
          "text": [
            "\n"
          ]
        },
        {
          "output_type": "stream",
          "name": "stdout",
          "text": [
            "\n",
            "      Epoch    GPU_mem   box_loss   cls_loss   dfl_loss  Instances       Size\n"
          ]
        },
        {
          "output_type": "stream",
          "name": "stderr",
          "text": [
            "     41/100      4.29G     0.4496     0.3993     0.9624         20        640: 100%|██████████| 65/65 [00:25<00:00,  2.54it/s]\n",
            "                 Class     Images  Instances      Box(P          R      mAP50  mAP50-95): 100%|██████████| 4/4 [00:02<00:00,  1.40it/s]"
          ]
        },
        {
          "output_type": "stream",
          "name": "stdout",
          "text": [
            "                   all        122        819      0.938      0.885      0.897      0.825\n"
          ]
        },
        {
          "output_type": "stream",
          "name": "stderr",
          "text": [
            "\n"
          ]
        },
        {
          "output_type": "stream",
          "name": "stdout",
          "text": [
            "\n",
            "      Epoch    GPU_mem   box_loss   cls_loss   dfl_loss  Instances       Size\n"
          ]
        },
        {
          "output_type": "stream",
          "name": "stderr",
          "text": [
            "     42/100      4.28G     0.4443     0.3929      0.959         23        640: 100%|██████████| 65/65 [00:26<00:00,  2.48it/s]\n",
            "                 Class     Images  Instances      Box(P          R      mAP50  mAP50-95): 100%|██████████| 4/4 [00:01<00:00,  2.69it/s]"
          ]
        },
        {
          "output_type": "stream",
          "name": "stdout",
          "text": [
            "                   all        122        819      0.948      0.884      0.901      0.829\n"
          ]
        },
        {
          "output_type": "stream",
          "name": "stderr",
          "text": [
            "\n"
          ]
        },
        {
          "output_type": "stream",
          "name": "stdout",
          "text": [
            "\n",
            "      Epoch    GPU_mem   box_loss   cls_loss   dfl_loss  Instances       Size\n"
          ]
        },
        {
          "output_type": "stream",
          "name": "stderr",
          "text": [
            "     43/100      4.28G     0.4407     0.3857     0.9574         49        640: 100%|██████████| 65/65 [00:23<00:00,  2.71it/s]\n",
            "                 Class     Images  Instances      Box(P          R      mAP50  mAP50-95): 100%|██████████| 4/4 [00:01<00:00,  2.61it/s]"
          ]
        },
        {
          "output_type": "stream",
          "name": "stdout",
          "text": [
            "                   all        122        819      0.941      0.873      0.896      0.827\n"
          ]
        },
        {
          "output_type": "stream",
          "name": "stderr",
          "text": [
            "\n"
          ]
        },
        {
          "output_type": "stream",
          "name": "stdout",
          "text": [
            "\n",
            "      Epoch    GPU_mem   box_loss   cls_loss   dfl_loss  Instances       Size\n"
          ]
        },
        {
          "output_type": "stream",
          "name": "stderr",
          "text": [
            "     44/100      4.25G     0.4366     0.3814     0.9524         37        640: 100%|██████████| 65/65 [00:26<00:00,  2.42it/s]\n",
            "                 Class     Images  Instances      Box(P          R      mAP50  mAP50-95): 100%|██████████| 4/4 [00:01<00:00,  2.29it/s]"
          ]
        },
        {
          "output_type": "stream",
          "name": "stdout",
          "text": [
            "                   all        122        819      0.951      0.882      0.901      0.828\n"
          ]
        },
        {
          "output_type": "stream",
          "name": "stderr",
          "text": [
            "\n"
          ]
        },
        {
          "output_type": "stream",
          "name": "stdout",
          "text": [
            "\n",
            "      Epoch    GPU_mem   box_loss   cls_loss   dfl_loss  Instances       Size\n"
          ]
        },
        {
          "output_type": "stream",
          "name": "stderr",
          "text": [
            "     45/100       4.3G     0.4365     0.3729     0.9501         25        640: 100%|██████████| 65/65 [00:23<00:00,  2.78it/s]\n",
            "                 Class     Images  Instances      Box(P          R      mAP50  mAP50-95): 100%|██████████| 4/4 [00:01<00:00,  2.76it/s]"
          ]
        },
        {
          "output_type": "stream",
          "name": "stdout",
          "text": [
            "                   all        122        819      0.947      0.885       0.89      0.823\n"
          ]
        },
        {
          "output_type": "stream",
          "name": "stderr",
          "text": [
            "\n"
          ]
        },
        {
          "output_type": "stream",
          "name": "stdout",
          "text": [
            "\n",
            "      Epoch    GPU_mem   box_loss   cls_loss   dfl_loss  Instances       Size\n"
          ]
        },
        {
          "output_type": "stream",
          "name": "stderr",
          "text": [
            "     46/100      4.28G     0.4385     0.3763     0.9497         33        640: 100%|██████████| 65/65 [00:26<00:00,  2.44it/s]\n",
            "                 Class     Images  Instances      Box(P          R      mAP50  mAP50-95): 100%|██████████| 4/4 [00:02<00:00,  1.92it/s]"
          ]
        },
        {
          "output_type": "stream",
          "name": "stdout",
          "text": [
            "                   all        122        819      0.954      0.888      0.903      0.834\n"
          ]
        },
        {
          "output_type": "stream",
          "name": "stderr",
          "text": [
            "\n"
          ]
        },
        {
          "output_type": "stream",
          "name": "stdout",
          "text": [
            "\n",
            "      Epoch    GPU_mem   box_loss   cls_loss   dfl_loss  Instances       Size\n"
          ]
        },
        {
          "output_type": "stream",
          "name": "stderr",
          "text": [
            "     47/100      4.28G     0.4376     0.3808     0.9555         22        640: 100%|██████████| 65/65 [00:26<00:00,  2.44it/s]\n",
            "                 Class     Images  Instances      Box(P          R      mAP50  mAP50-95): 100%|██████████| 4/4 [00:01<00:00,  2.76it/s]"
          ]
        },
        {
          "output_type": "stream",
          "name": "stdout",
          "text": [
            "                   all        122        819      0.949      0.887      0.906      0.828\n"
          ]
        },
        {
          "output_type": "stream",
          "name": "stderr",
          "text": [
            "\n"
          ]
        },
        {
          "output_type": "stream",
          "name": "stdout",
          "text": [
            "\n",
            "      Epoch    GPU_mem   box_loss   cls_loss   dfl_loss  Instances       Size\n"
          ]
        },
        {
          "output_type": "stream",
          "name": "stderr",
          "text": [
            "     48/100      4.23G     0.4428     0.3963     0.9668          8        640: 100%|██████████| 65/65 [00:24<00:00,  2.61it/s]\n",
            "                 Class     Images  Instances      Box(P          R      mAP50  mAP50-95): 100%|██████████| 4/4 [00:02<00:00,  1.40it/s]"
          ]
        },
        {
          "output_type": "stream",
          "name": "stdout",
          "text": [
            "                   all        122        819      0.881      0.887       0.89       0.82\n"
          ]
        },
        {
          "output_type": "stream",
          "name": "stderr",
          "text": [
            "\n"
          ]
        },
        {
          "output_type": "stream",
          "name": "stdout",
          "text": [
            "\n",
            "      Epoch    GPU_mem   box_loss   cls_loss   dfl_loss  Instances       Size\n"
          ]
        },
        {
          "output_type": "stream",
          "name": "stderr",
          "text": [
            "     49/100      4.28G     0.4334     0.3781     0.9499         19        640: 100%|██████████| 65/65 [00:27<00:00,  2.38it/s]\n",
            "                 Class     Images  Instances      Box(P          R      mAP50  mAP50-95): 100%|██████████| 4/4 [00:01<00:00,  2.36it/s]"
          ]
        },
        {
          "output_type": "stream",
          "name": "stdout",
          "text": [
            "                   all        122        819       0.95      0.889      0.901      0.834\n"
          ]
        },
        {
          "output_type": "stream",
          "name": "stderr",
          "text": [
            "\n"
          ]
        },
        {
          "output_type": "stream",
          "name": "stdout",
          "text": [
            "\n",
            "      Epoch    GPU_mem   box_loss   cls_loss   dfl_loss  Instances       Size\n"
          ]
        },
        {
          "output_type": "stream",
          "name": "stderr",
          "text": [
            "     50/100      4.28G     0.4284     0.3706     0.9506         49        640: 100%|██████████| 65/65 [00:25<00:00,  2.54it/s]\n",
            "                 Class     Images  Instances      Box(P          R      mAP50  mAP50-95): 100%|██████████| 4/4 [00:01<00:00,  2.59it/s]"
          ]
        },
        {
          "output_type": "stream",
          "name": "stdout",
          "text": [
            "                   all        122        819      0.953      0.879      0.898      0.835\n"
          ]
        },
        {
          "output_type": "stream",
          "name": "stderr",
          "text": [
            "\n"
          ]
        },
        {
          "output_type": "stream",
          "name": "stdout",
          "text": [
            "\n",
            "      Epoch    GPU_mem   box_loss   cls_loss   dfl_loss  Instances       Size\n"
          ]
        },
        {
          "output_type": "stream",
          "name": "stderr",
          "text": [
            "     51/100      4.28G      0.425     0.3741     0.9527         24        640: 100%|██████████| 65/65 [00:23<00:00,  2.82it/s]\n",
            "                 Class     Images  Instances      Box(P          R      mAP50  mAP50-95): 100%|██████████| 4/4 [00:02<00:00,  1.99it/s]"
          ]
        },
        {
          "output_type": "stream",
          "name": "stdout",
          "text": [
            "                   all        122        819      0.945      0.873      0.892      0.829\n"
          ]
        },
        {
          "output_type": "stream",
          "name": "stderr",
          "text": [
            "\n"
          ]
        },
        {
          "output_type": "stream",
          "name": "stdout",
          "text": [
            "\n",
            "      Epoch    GPU_mem   box_loss   cls_loss   dfl_loss  Instances       Size\n"
          ]
        },
        {
          "output_type": "stream",
          "name": "stderr",
          "text": [
            "     52/100      4.23G     0.4224      0.375     0.9519         26        640: 100%|██████████| 65/65 [00:25<00:00,  2.58it/s]\n",
            "                 Class     Images  Instances      Box(P          R      mAP50  mAP50-95): 100%|██████████| 4/4 [00:01<00:00,  2.73it/s]"
          ]
        },
        {
          "output_type": "stream",
          "name": "stdout",
          "text": [
            "                   all        122        819      0.938      0.878      0.885      0.819\n"
          ]
        },
        {
          "output_type": "stream",
          "name": "stderr",
          "text": [
            "\n"
          ]
        },
        {
          "output_type": "stream",
          "name": "stdout",
          "text": [
            "\n",
            "      Epoch    GPU_mem   box_loss   cls_loss   dfl_loss  Instances       Size\n"
          ]
        },
        {
          "output_type": "stream",
          "name": "stderr",
          "text": [
            "     53/100      4.31G     0.4233     0.3696     0.9496         28        640: 100%|██████████| 65/65 [00:23<00:00,  2.74it/s]\n",
            "                 Class     Images  Instances      Box(P          R      mAP50  mAP50-95): 100%|██████████| 4/4 [00:02<00:00,  1.95it/s]"
          ]
        },
        {
          "output_type": "stream",
          "name": "stdout",
          "text": [
            "                   all        122        819      0.924      0.895      0.903      0.837\n"
          ]
        },
        {
          "output_type": "stream",
          "name": "stderr",
          "text": [
            "\n"
          ]
        },
        {
          "output_type": "stream",
          "name": "stdout",
          "text": [
            "\n",
            "      Epoch    GPU_mem   box_loss   cls_loss   dfl_loss  Instances       Size\n"
          ]
        },
        {
          "output_type": "stream",
          "name": "stderr",
          "text": [
            "     54/100      4.27G     0.4182     0.3559     0.9508         30        640: 100%|██████████| 65/65 [00:25<00:00,  2.54it/s]\n",
            "                 Class     Images  Instances      Box(P          R      mAP50  mAP50-95): 100%|██████████| 4/4 [00:01<00:00,  2.53it/s]"
          ]
        },
        {
          "output_type": "stream",
          "name": "stdout",
          "text": [
            "                   all        122        819      0.953      0.871      0.897      0.837\n"
          ]
        },
        {
          "output_type": "stream",
          "name": "stderr",
          "text": [
            "\n"
          ]
        },
        {
          "output_type": "stream",
          "name": "stdout",
          "text": [
            "\n",
            "      Epoch    GPU_mem   box_loss   cls_loss   dfl_loss  Instances       Size\n"
          ]
        },
        {
          "output_type": "stream",
          "name": "stderr",
          "text": [
            "     55/100      4.27G     0.4123     0.3509     0.9406         36        640: 100%|██████████| 65/65 [00:26<00:00,  2.43it/s]\n",
            "                 Class     Images  Instances      Box(P          R      mAP50  mAP50-95): 100%|██████████| 4/4 [00:01<00:00,  2.55it/s]"
          ]
        },
        {
          "output_type": "stream",
          "name": "stdout",
          "text": [
            "                   all        122        819      0.952      0.886      0.904      0.842\n"
          ]
        },
        {
          "output_type": "stream",
          "name": "stderr",
          "text": [
            "\n"
          ]
        },
        {
          "output_type": "stream",
          "name": "stdout",
          "text": [
            "\n",
            "      Epoch    GPU_mem   box_loss   cls_loss   dfl_loss  Instances       Size\n"
          ]
        },
        {
          "output_type": "stream",
          "name": "stderr",
          "text": [
            "     56/100      4.26G     0.4149     0.3611     0.9462         20        640: 100%|██████████| 65/65 [00:25<00:00,  2.52it/s]\n",
            "                 Class     Images  Instances      Box(P          R      mAP50  mAP50-95): 100%|██████████| 4/4 [00:01<00:00,  2.52it/s]"
          ]
        },
        {
          "output_type": "stream",
          "name": "stdout",
          "text": [
            "                   all        122        819      0.943      0.866      0.898      0.839\n"
          ]
        },
        {
          "output_type": "stream",
          "name": "stderr",
          "text": [
            "\n"
          ]
        },
        {
          "output_type": "stream",
          "name": "stdout",
          "text": [
            "\n",
            "      Epoch    GPU_mem   box_loss   cls_loss   dfl_loss  Instances       Size\n"
          ]
        },
        {
          "output_type": "stream",
          "name": "stderr",
          "text": [
            "     57/100      4.29G     0.4191     0.3584     0.9454         25        640: 100%|██████████| 65/65 [00:27<00:00,  2.35it/s]\n",
            "                 Class     Images  Instances      Box(P          R      mAP50  mAP50-95): 100%|██████████| 4/4 [00:02<00:00,  1.53it/s]"
          ]
        },
        {
          "output_type": "stream",
          "name": "stdout",
          "text": [
            "                   all        122        819      0.894      0.886        0.9      0.833\n"
          ]
        },
        {
          "output_type": "stream",
          "name": "stderr",
          "text": [
            "\n"
          ]
        },
        {
          "output_type": "stream",
          "name": "stdout",
          "text": [
            "\n",
            "      Epoch    GPU_mem   box_loss   cls_loss   dfl_loss  Instances       Size\n"
          ]
        },
        {
          "output_type": "stream",
          "name": "stderr",
          "text": [
            "     58/100      4.29G     0.4093     0.3547     0.9453         22        640: 100%|██████████| 65/65 [00:24<00:00,  2.61it/s]\n",
            "                 Class     Images  Instances      Box(P          R      mAP50  mAP50-95): 100%|██████████| 4/4 [00:01<00:00,  2.80it/s]"
          ]
        },
        {
          "output_type": "stream",
          "name": "stdout",
          "text": [
            "                   all        122        819      0.948      0.886        0.9      0.836\n"
          ]
        },
        {
          "output_type": "stream",
          "name": "stderr",
          "text": [
            "\n"
          ]
        },
        {
          "output_type": "stream",
          "name": "stdout",
          "text": [
            "\n",
            "      Epoch    GPU_mem   box_loss   cls_loss   dfl_loss  Instances       Size\n"
          ]
        },
        {
          "output_type": "stream",
          "name": "stderr",
          "text": [
            "     59/100       4.3G     0.4007     0.3422     0.9371         18        640: 100%|██████████| 65/65 [00:23<00:00,  2.78it/s]\n",
            "                 Class     Images  Instances      Box(P          R      mAP50  mAP50-95): 100%|██████████| 4/4 [00:02<00:00,  1.64it/s]"
          ]
        },
        {
          "output_type": "stream",
          "name": "stdout",
          "text": [
            "                   all        122        819      0.945      0.894      0.902      0.837\n"
          ]
        },
        {
          "output_type": "stream",
          "name": "stderr",
          "text": [
            "\n"
          ]
        },
        {
          "output_type": "stream",
          "name": "stdout",
          "text": [
            "\n",
            "      Epoch    GPU_mem   box_loss   cls_loss   dfl_loss  Instances       Size\n"
          ]
        },
        {
          "output_type": "stream",
          "name": "stderr",
          "text": [
            "     60/100      4.26G     0.4095     0.3477     0.9369         19        640: 100%|██████████| 65/65 [00:25<00:00,  2.56it/s]\n",
            "                 Class     Images  Instances      Box(P          R      mAP50  mAP50-95): 100%|██████████| 4/4 [00:01<00:00,  2.56it/s]"
          ]
        },
        {
          "output_type": "stream",
          "name": "stdout",
          "text": [
            "                   all        122        819      0.895      0.897      0.901      0.838\n"
          ]
        },
        {
          "output_type": "stream",
          "name": "stderr",
          "text": [
            "\n"
          ]
        },
        {
          "output_type": "stream",
          "name": "stdout",
          "text": [
            "\n",
            "      Epoch    GPU_mem   box_loss   cls_loss   dfl_loss  Instances       Size\n"
          ]
        },
        {
          "output_type": "stream",
          "name": "stderr",
          "text": [
            "     61/100      4.31G     0.4085      0.343     0.9415         36        640: 100%|██████████| 65/65 [00:23<00:00,  2.77it/s]\n",
            "                 Class     Images  Instances      Box(P          R      mAP50  mAP50-95): 100%|██████████| 4/4 [00:02<00:00,  1.54it/s]"
          ]
        },
        {
          "output_type": "stream",
          "name": "stdout",
          "text": [
            "                   all        122        819      0.949      0.891      0.901      0.841\n"
          ]
        },
        {
          "output_type": "stream",
          "name": "stderr",
          "text": [
            "\n"
          ]
        },
        {
          "output_type": "stream",
          "name": "stdout",
          "text": [
            "\n",
            "      Epoch    GPU_mem   box_loss   cls_loss   dfl_loss  Instances       Size\n"
          ]
        },
        {
          "output_type": "stream",
          "name": "stderr",
          "text": [
            "     62/100       4.3G     0.4025      0.343     0.9426         10        640: 100%|██████████| 65/65 [00:25<00:00,  2.51it/s]\n",
            "                 Class     Images  Instances      Box(P          R      mAP50  mAP50-95): 100%|██████████| 4/4 [00:02<00:00,  1.66it/s]"
          ]
        },
        {
          "output_type": "stream",
          "name": "stdout",
          "text": [
            "                   all        122        819      0.954      0.891      0.898      0.837\n"
          ]
        },
        {
          "output_type": "stream",
          "name": "stderr",
          "text": [
            "\n"
          ]
        },
        {
          "output_type": "stream",
          "name": "stdout",
          "text": [
            "\n",
            "      Epoch    GPU_mem   box_loss   cls_loss   dfl_loss  Instances       Size\n"
          ]
        },
        {
          "output_type": "stream",
          "name": "stderr",
          "text": [
            "     63/100      4.29G     0.3918     0.3289     0.9329         23        640: 100%|██████████| 65/65 [00:26<00:00,  2.42it/s]\n",
            "                 Class     Images  Instances      Box(P          R      mAP50  mAP50-95): 100%|██████████| 4/4 [00:02<00:00,  1.35it/s]"
          ]
        },
        {
          "output_type": "stream",
          "name": "stdout",
          "text": [
            "                   all        122        819      0.947      0.889      0.895      0.833\n"
          ]
        },
        {
          "output_type": "stream",
          "name": "stderr",
          "text": [
            "\n"
          ]
        },
        {
          "output_type": "stream",
          "name": "stdout",
          "text": [
            "\n",
            "      Epoch    GPU_mem   box_loss   cls_loss   dfl_loss  Instances       Size\n"
          ]
        },
        {
          "output_type": "stream",
          "name": "stderr",
          "text": [
            "     64/100      4.26G     0.3936     0.3343      0.935         14        640: 100%|██████████| 65/65 [00:23<00:00,  2.81it/s]\n",
            "                 Class     Images  Instances      Box(P          R      mAP50  mAP50-95): 100%|██████████| 4/4 [00:01<00:00,  2.47it/s]"
          ]
        },
        {
          "output_type": "stream",
          "name": "stdout",
          "text": [
            "                   all        122        819      0.936      0.889      0.895      0.838\n"
          ]
        },
        {
          "output_type": "stream",
          "name": "stderr",
          "text": [
            "\n"
          ]
        },
        {
          "output_type": "stream",
          "name": "stdout",
          "text": [
            "\n",
            "      Epoch    GPU_mem   box_loss   cls_loss   dfl_loss  Instances       Size\n"
          ]
        },
        {
          "output_type": "stream",
          "name": "stderr",
          "text": [
            "     65/100       4.3G     0.3942     0.3319     0.9349         51        640: 100%|██████████| 65/65 [00:27<00:00,  2.36it/s]\n",
            "                 Class     Images  Instances      Box(P          R      mAP50  mAP50-95): 100%|██████████| 4/4 [00:03<00:00,  1.25it/s]"
          ]
        },
        {
          "output_type": "stream",
          "name": "stdout",
          "text": [
            "                   all        122        819      0.943      0.869      0.895      0.836\n"
          ]
        },
        {
          "output_type": "stream",
          "name": "stderr",
          "text": [
            "\n"
          ]
        },
        {
          "output_type": "stream",
          "name": "stdout",
          "text": [
            "\n",
            "      Epoch    GPU_mem   box_loss   cls_loss   dfl_loss  Instances       Size\n"
          ]
        },
        {
          "output_type": "stream",
          "name": "stderr",
          "text": [
            "     66/100      4.28G     0.3937     0.3325      0.937         15        640: 100%|██████████| 65/65 [00:23<00:00,  2.77it/s]\n",
            "                 Class     Images  Instances      Box(P          R      mAP50  mAP50-95): 100%|██████████| 4/4 [00:01<00:00,  2.48it/s]"
          ]
        },
        {
          "output_type": "stream",
          "name": "stdout",
          "text": [
            "                   all        122        819      0.954       0.88      0.896      0.838\n"
          ]
        },
        {
          "output_type": "stream",
          "name": "stderr",
          "text": [
            "\n"
          ]
        },
        {
          "output_type": "stream",
          "name": "stdout",
          "text": [
            "\n",
            "      Epoch    GPU_mem   box_loss   cls_loss   dfl_loss  Instances       Size\n"
          ]
        },
        {
          "output_type": "stream",
          "name": "stderr",
          "text": [
            "     67/100      4.29G     0.3914     0.3269     0.9288         20        640: 100%|██████████| 65/65 [00:25<00:00,  2.59it/s]\n",
            "                 Class     Images  Instances      Box(P          R      mAP50  mAP50-95): 100%|██████████| 4/4 [00:03<00:00,  1.30it/s]"
          ]
        },
        {
          "output_type": "stream",
          "name": "stdout",
          "text": [
            "                   all        122        819      0.946      0.887      0.895      0.838\n"
          ]
        },
        {
          "output_type": "stream",
          "name": "stderr",
          "text": [
            "\n"
          ]
        },
        {
          "output_type": "stream",
          "name": "stdout",
          "text": [
            "\n",
            "      Epoch    GPU_mem   box_loss   cls_loss   dfl_loss  Instances       Size\n"
          ]
        },
        {
          "output_type": "stream",
          "name": "stderr",
          "text": [
            "     68/100      4.26G     0.3953     0.3302     0.9393         36        640: 100%|██████████| 65/65 [00:23<00:00,  2.78it/s]\n",
            "                 Class     Images  Instances      Box(P          R      mAP50  mAP50-95): 100%|██████████| 4/4 [00:01<00:00,  2.69it/s]"
          ]
        },
        {
          "output_type": "stream",
          "name": "stdout",
          "text": [
            "                   all        122        819      0.951       0.88      0.898      0.845\n"
          ]
        },
        {
          "output_type": "stream",
          "name": "stderr",
          "text": [
            "\n"
          ]
        },
        {
          "output_type": "stream",
          "name": "stdout",
          "text": [
            "\n",
            "      Epoch    GPU_mem   box_loss   cls_loss   dfl_loss  Instances       Size\n"
          ]
        },
        {
          "output_type": "stream",
          "name": "stderr",
          "text": [
            "     69/100      4.28G     0.3891     0.3301     0.9349         25        640: 100%|██████████| 65/65 [00:24<00:00,  2.66it/s]\n",
            "                 Class     Images  Instances      Box(P          R      mAP50  mAP50-95): 100%|██████████| 4/4 [00:02<00:00,  1.48it/s]"
          ]
        },
        {
          "output_type": "stream",
          "name": "stdout",
          "text": [
            "                   all        122        819      0.952      0.885      0.901       0.84\n"
          ]
        },
        {
          "output_type": "stream",
          "name": "stderr",
          "text": [
            "\n"
          ]
        },
        {
          "output_type": "stream",
          "name": "stdout",
          "text": [
            "\n",
            "      Epoch    GPU_mem   box_loss   cls_loss   dfl_loss  Instances       Size\n"
          ]
        },
        {
          "output_type": "stream",
          "name": "stderr",
          "text": [
            "     70/100      4.29G     0.3825     0.3222     0.9289         27        640: 100%|██████████| 65/65 [00:26<00:00,  2.42it/s]\n",
            "                 Class     Images  Instances      Box(P          R      mAP50  mAP50-95): 100%|██████████| 4/4 [00:02<00:00,  1.87it/s]"
          ]
        },
        {
          "output_type": "stream",
          "name": "stdout",
          "text": [
            "                   all        122        819      0.944      0.883      0.892      0.839\n"
          ]
        },
        {
          "output_type": "stream",
          "name": "stderr",
          "text": [
            "\n"
          ]
        },
        {
          "output_type": "stream",
          "name": "stdout",
          "text": [
            "\n",
            "      Epoch    GPU_mem   box_loss   cls_loss   dfl_loss  Instances       Size\n"
          ]
        },
        {
          "output_type": "stream",
          "name": "stderr",
          "text": [
            "     71/100      4.29G     0.3893     0.3258     0.9287         16        640: 100%|██████████| 65/65 [00:25<00:00,  2.59it/s]\n",
            "                 Class     Images  Instances      Box(P          R      mAP50  mAP50-95): 100%|██████████| 4/4 [00:02<00:00,  1.55it/s]"
          ]
        },
        {
          "output_type": "stream",
          "name": "stdout",
          "text": [
            "                   all        122        819      0.955      0.878      0.892      0.833\n"
          ]
        },
        {
          "output_type": "stream",
          "name": "stderr",
          "text": [
            "\n"
          ]
        },
        {
          "output_type": "stream",
          "name": "stdout",
          "text": [
            "\n",
            "      Epoch    GPU_mem   box_loss   cls_loss   dfl_loss  Instances       Size\n"
          ]
        },
        {
          "output_type": "stream",
          "name": "stderr",
          "text": [
            "     72/100      4.25G     0.3855     0.3202     0.9339         10        640: 100%|██████████| 65/65 [00:23<00:00,  2.79it/s]\n",
            "                 Class     Images  Instances      Box(P          R      mAP50  mAP50-95): 100%|██████████| 4/4 [00:01<00:00,  2.51it/s]"
          ]
        },
        {
          "output_type": "stream",
          "name": "stdout",
          "text": [
            "                   all        122        819      0.937      0.887      0.892      0.833\n"
          ]
        },
        {
          "output_type": "stream",
          "name": "stderr",
          "text": [
            "\n"
          ]
        },
        {
          "output_type": "stream",
          "name": "stdout",
          "text": [
            "\n",
            "      Epoch    GPU_mem   box_loss   cls_loss   dfl_loss  Instances       Size\n"
          ]
        },
        {
          "output_type": "stream",
          "name": "stderr",
          "text": [
            "     73/100       4.3G     0.3808      0.318     0.9262         22        640: 100%|██████████| 65/65 [00:26<00:00,  2.45it/s]\n",
            "                 Class     Images  Instances      Box(P          R      mAP50  mAP50-95): 100%|██████████| 4/4 [00:03<00:00,  1.25it/s]"
          ]
        },
        {
          "output_type": "stream",
          "name": "stdout",
          "text": [
            "                   all        122        819      0.921      0.893      0.893      0.828\n"
          ]
        },
        {
          "output_type": "stream",
          "name": "stderr",
          "text": [
            "\n"
          ]
        },
        {
          "output_type": "stream",
          "name": "stdout",
          "text": [
            "\n",
            "      Epoch    GPU_mem   box_loss   cls_loss   dfl_loss  Instances       Size\n"
          ]
        },
        {
          "output_type": "stream",
          "name": "stderr",
          "text": [
            "     74/100      4.28G     0.3844     0.3245     0.9308         29        640: 100%|██████████| 65/65 [00:24<00:00,  2.69it/s]\n",
            "                 Class     Images  Instances      Box(P          R      mAP50  mAP50-95): 100%|██████████| 4/4 [00:01<00:00,  2.42it/s]"
          ]
        },
        {
          "output_type": "stream",
          "name": "stdout",
          "text": [
            "                   all        122        819      0.943      0.883      0.896      0.833\n"
          ]
        },
        {
          "output_type": "stream",
          "name": "stderr",
          "text": [
            "\n"
          ]
        },
        {
          "output_type": "stream",
          "name": "stdout",
          "text": [
            "\n",
            "      Epoch    GPU_mem   box_loss   cls_loss   dfl_loss  Instances       Size\n"
          ]
        },
        {
          "output_type": "stream",
          "name": "stderr",
          "text": [
            "     75/100       4.3G     0.3829     0.3165     0.9294         22        640: 100%|██████████| 65/65 [00:24<00:00,  2.70it/s]\n",
            "                 Class     Images  Instances      Box(P          R      mAP50  mAP50-95): 100%|██████████| 4/4 [00:03<00:00,  1.27it/s]"
          ]
        },
        {
          "output_type": "stream",
          "name": "stdout",
          "text": [
            "                   all        122        819      0.901      0.881      0.897      0.839\n"
          ]
        },
        {
          "output_type": "stream",
          "name": "stderr",
          "text": [
            "\n"
          ]
        },
        {
          "output_type": "stream",
          "name": "stdout",
          "text": [
            "\n",
            "      Epoch    GPU_mem   box_loss   cls_loss   dfl_loss  Instances       Size\n"
          ]
        },
        {
          "output_type": "stream",
          "name": "stderr",
          "text": [
            "     76/100      4.24G     0.3712     0.3044     0.9222         30        640: 100%|██████████| 65/65 [00:23<00:00,  2.74it/s]\n",
            "                 Class     Images  Instances      Box(P          R      mAP50  mAP50-95): 100%|██████████| 4/4 [00:01<00:00,  2.86it/s]"
          ]
        },
        {
          "output_type": "stream",
          "name": "stdout",
          "text": [
            "                   all        122        819      0.907      0.878      0.899       0.84\n"
          ]
        },
        {
          "output_type": "stream",
          "name": "stderr",
          "text": [
            "\n"
          ]
        },
        {
          "output_type": "stream",
          "name": "stdout",
          "text": [
            "\n",
            "      Epoch    GPU_mem   box_loss   cls_loss   dfl_loss  Instances       Size\n"
          ]
        },
        {
          "output_type": "stream",
          "name": "stderr",
          "text": [
            "     77/100      4.29G     0.3761     0.3044     0.9224         26        640: 100%|██████████| 65/65 [00:24<00:00,  2.68it/s]\n",
            "                 Class     Images  Instances      Box(P          R      mAP50  mAP50-95): 100%|██████████| 4/4 [00:03<00:00,  1.23it/s]"
          ]
        },
        {
          "output_type": "stream",
          "name": "stdout",
          "text": [
            "                   all        122        819      0.895      0.883      0.899       0.84\n"
          ]
        },
        {
          "output_type": "stream",
          "name": "stderr",
          "text": [
            "\n"
          ]
        },
        {
          "output_type": "stream",
          "name": "stdout",
          "text": [
            "\n",
            "      Epoch    GPU_mem   box_loss   cls_loss   dfl_loss  Instances       Size\n"
          ]
        },
        {
          "output_type": "stream",
          "name": "stderr",
          "text": [
            "     78/100      4.29G     0.3766     0.3074     0.9283         20        640: 100%|██████████| 65/65 [00:26<00:00,  2.41it/s]\n",
            "                 Class     Images  Instances      Box(P          R      mAP50  mAP50-95): 100%|██████████| 4/4 [00:01<00:00,  2.45it/s]"
          ]
        },
        {
          "output_type": "stream",
          "name": "stdout",
          "text": [
            "                   all        122        819      0.886      0.882      0.891       0.83\n"
          ]
        },
        {
          "output_type": "stream",
          "name": "stderr",
          "text": [
            "\n"
          ]
        },
        {
          "output_type": "stream",
          "name": "stdout",
          "text": [
            "\n",
            "      Epoch    GPU_mem   box_loss   cls_loss   dfl_loss  Instances       Size\n"
          ]
        },
        {
          "output_type": "stream",
          "name": "stderr",
          "text": [
            "     79/100      4.25G     0.3705      0.302     0.9215         33        640: 100%|██████████| 65/65 [00:23<00:00,  2.72it/s]\n",
            "                 Class     Images  Instances      Box(P          R      mAP50  mAP50-95): 100%|██████████| 4/4 [00:02<00:00,  1.96it/s]"
          ]
        },
        {
          "output_type": "stream",
          "name": "stdout",
          "text": [
            "                   all        122        819      0.947      0.889      0.893      0.833\n"
          ]
        },
        {
          "output_type": "stream",
          "name": "stderr",
          "text": [
            "\n"
          ]
        },
        {
          "output_type": "stream",
          "name": "stdout",
          "text": [
            "\n",
            "      Epoch    GPU_mem   box_loss   cls_loss   dfl_loss  Instances       Size\n"
          ]
        },
        {
          "output_type": "stream",
          "name": "stderr",
          "text": [
            "     80/100      4.41G     0.3696     0.3009     0.9228         23        640: 100%|██████████| 65/65 [00:26<00:00,  2.48it/s]\n",
            "                 Class     Images  Instances      Box(P          R      mAP50  mAP50-95): 100%|██████████| 4/4 [00:01<00:00,  2.01it/s]"
          ]
        },
        {
          "output_type": "stream",
          "name": "stdout",
          "text": [
            "                   all        122        819      0.938      0.895      0.898       0.84\n"
          ]
        },
        {
          "output_type": "stream",
          "name": "stderr",
          "text": [
            "\n"
          ]
        },
        {
          "output_type": "stream",
          "name": "stdout",
          "text": [
            "\n",
            "      Epoch    GPU_mem   box_loss   cls_loss   dfl_loss  Instances       Size\n"
          ]
        },
        {
          "output_type": "stream",
          "name": "stderr",
          "text": [
            "     81/100      4.31G     0.3606     0.2973     0.9193         21        640: 100%|██████████| 65/65 [00:26<00:00,  2.42it/s]\n",
            "                 Class     Images  Instances      Box(P          R      mAP50  mAP50-95): 100%|██████████| 4/4 [00:03<00:00,  1.26it/s]"
          ]
        },
        {
          "output_type": "stream",
          "name": "stdout",
          "text": [
            "                   all        122        819      0.942      0.891      0.896      0.837\n"
          ]
        },
        {
          "output_type": "stream",
          "name": "stderr",
          "text": [
            "\n"
          ]
        },
        {
          "output_type": "stream",
          "name": "stdout",
          "text": [
            "\n",
            "      Epoch    GPU_mem   box_loss   cls_loss   dfl_loss  Instances       Size\n"
          ]
        },
        {
          "output_type": "stream",
          "name": "stderr",
          "text": [
            "     82/100      4.28G     0.3681     0.3046     0.9246         15        640: 100%|██████████| 65/65 [00:24<00:00,  2.67it/s]\n",
            "                 Class     Images  Instances      Box(P          R      mAP50  mAP50-95): 100%|██████████| 4/4 [00:01<00:00,  2.50it/s]"
          ]
        },
        {
          "output_type": "stream",
          "name": "stdout",
          "text": [
            "                   all        122        819      0.941       0.89      0.895      0.837\n"
          ]
        },
        {
          "output_type": "stream",
          "name": "stderr",
          "text": [
            "\n"
          ]
        },
        {
          "output_type": "stream",
          "name": "stdout",
          "text": [
            "\n",
            "      Epoch    GPU_mem   box_loss   cls_loss   dfl_loss  Instances       Size\n"
          ]
        },
        {
          "output_type": "stream",
          "name": "stderr",
          "text": [
            "     83/100      4.29G      0.364     0.3004     0.9218         33        640: 100%|██████████| 65/65 [00:24<00:00,  2.68it/s]\n",
            "                 Class     Images  Instances      Box(P          R      mAP50  mAP50-95): 100%|██████████| 4/4 [00:02<00:00,  1.39it/s]"
          ]
        },
        {
          "output_type": "stream",
          "name": "stdout",
          "text": [
            "                   all        122        819      0.938      0.892      0.898      0.839\n"
          ]
        },
        {
          "output_type": "stream",
          "name": "stderr",
          "text": [
            "\n"
          ]
        },
        {
          "output_type": "stream",
          "name": "stdout",
          "text": [
            "\n",
            "      Epoch    GPU_mem   box_loss   cls_loss   dfl_loss  Instances       Size\n"
          ]
        },
        {
          "output_type": "stream",
          "name": "stderr",
          "text": [
            "     84/100      4.25G     0.3651     0.2988     0.9223         24        640: 100%|██████████| 65/65 [00:24<00:00,  2.68it/s]\n",
            "                 Class     Images  Instances      Box(P          R      mAP50  mAP50-95): 100%|██████████| 4/4 [00:01<00:00,  2.51it/s]"
          ]
        },
        {
          "output_type": "stream",
          "name": "stdout",
          "text": [
            "                   all        122        819      0.897      0.893      0.896      0.841\n"
          ]
        },
        {
          "output_type": "stream",
          "name": "stderr",
          "text": [
            "\n"
          ]
        },
        {
          "output_type": "stream",
          "name": "stdout",
          "text": [
            "\n",
            "      Epoch    GPU_mem   box_loss   cls_loss   dfl_loss  Instances       Size\n"
          ]
        },
        {
          "output_type": "stream",
          "name": "stderr",
          "text": [
            "     85/100      4.25G     0.3603     0.2949     0.9199         22        640: 100%|██████████| 65/65 [00:24<00:00,  2.64it/s]\n",
            "                 Class     Images  Instances      Box(P          R      mAP50  mAP50-95): 100%|██████████| 4/4 [00:03<00:00,  1.24it/s]"
          ]
        },
        {
          "output_type": "stream",
          "name": "stdout",
          "text": [
            "                   all        122        819      0.943      0.895      0.894      0.841\n"
          ]
        },
        {
          "output_type": "stream",
          "name": "stderr",
          "text": [
            "\n"
          ]
        },
        {
          "output_type": "stream",
          "name": "stdout",
          "text": [
            "\n",
            "      Epoch    GPU_mem   box_loss   cls_loss   dfl_loss  Instances       Size\n"
          ]
        },
        {
          "output_type": "stream",
          "name": "stderr",
          "text": [
            "     86/100       4.3G     0.3516     0.2866     0.9142         37        640: 100%|██████████| 65/65 [00:25<00:00,  2.56it/s]\n",
            "                 Class     Images  Instances      Box(P          R      mAP50  mAP50-95): 100%|██████████| 4/4 [00:01<00:00,  2.41it/s]"
          ]
        },
        {
          "output_type": "stream",
          "name": "stdout",
          "text": [
            "                   all        122        819      0.896      0.894      0.897      0.843\n"
          ]
        },
        {
          "output_type": "stream",
          "name": "stderr",
          "text": [
            "\n"
          ]
        },
        {
          "output_type": "stream",
          "name": "stdout",
          "text": [
            "\n",
            "      Epoch    GPU_mem   box_loss   cls_loss   dfl_loss  Instances       Size\n"
          ]
        },
        {
          "output_type": "stream",
          "name": "stderr",
          "text": [
            "     87/100      4.28G     0.3619     0.2956     0.9195         24        640: 100%|██████████| 65/65 [00:23<00:00,  2.72it/s]\n",
            "                 Class     Images  Instances      Box(P          R      mAP50  mAP50-95): 100%|██████████| 4/4 [00:02<00:00,  1.75it/s]"
          ]
        },
        {
          "output_type": "stream",
          "name": "stdout",
          "text": [
            "                   all        122        819      0.895      0.893      0.897      0.844\n"
          ]
        },
        {
          "output_type": "stream",
          "name": "stderr",
          "text": [
            "\n"
          ]
        },
        {
          "output_type": "stream",
          "name": "stdout",
          "text": [
            "\n",
            "      Epoch    GPU_mem   box_loss   cls_loss   dfl_loss  Instances       Size\n"
          ]
        },
        {
          "output_type": "stream",
          "name": "stderr",
          "text": [
            "     88/100      4.27G     0.3529     0.2868     0.9165         22        640: 100%|██████████| 65/65 [00:25<00:00,  2.52it/s]\n",
            "                 Class     Images  Instances      Box(P          R      mAP50  mAP50-95): 100%|██████████| 4/4 [00:02<00:00,  1.33it/s]"
          ]
        },
        {
          "output_type": "stream",
          "name": "stdout",
          "text": [
            "                   all        122        819      0.935      0.901      0.898      0.842\n"
          ]
        },
        {
          "output_type": "stream",
          "name": "stderr",
          "text": [
            "\n"
          ]
        },
        {
          "output_type": "stream",
          "name": "stdout",
          "text": [
            "\n",
            "      Epoch    GPU_mem   box_loss   cls_loss   dfl_loss  Instances       Size\n"
          ]
        },
        {
          "output_type": "stream",
          "name": "stderr",
          "text": [
            "     89/100       4.3G     0.3463     0.2885     0.9106         23        640: 100%|██████████| 65/65 [00:25<00:00,  2.53it/s]\n",
            "                 Class     Images  Instances      Box(P          R      mAP50  mAP50-95): 100%|██████████| 4/4 [00:02<00:00,  1.42it/s]"
          ]
        },
        {
          "output_type": "stream",
          "name": "stdout",
          "text": [
            "                   all        122        819      0.929      0.896        0.9      0.844\n"
          ]
        },
        {
          "output_type": "stream",
          "name": "stderr",
          "text": [
            "\n"
          ]
        },
        {
          "output_type": "stream",
          "name": "stdout",
          "text": [
            "\n",
            "      Epoch    GPU_mem   box_loss   cls_loss   dfl_loss  Instances       Size\n"
          ]
        },
        {
          "output_type": "stream",
          "name": "stderr",
          "text": [
            "     90/100      4.28G     0.3474     0.2817     0.9132         30        640: 100%|██████████| 65/65 [00:22<00:00,  2.87it/s]\n",
            "                 Class     Images  Instances      Box(P          R      mAP50  mAP50-95): 100%|██████████| 4/4 [00:01<00:00,  2.53it/s]"
          ]
        },
        {
          "output_type": "stream",
          "name": "stdout",
          "text": [
            "                   all        122        819      0.901      0.888      0.897      0.842\n"
          ]
        },
        {
          "output_type": "stream",
          "name": "stderr",
          "text": [
            "\n"
          ]
        },
        {
          "output_type": "stream",
          "name": "stdout",
          "text": [
            "Closing dataloader mosaic\n",
            "\u001b[34m\u001b[1malbumentations: \u001b[0mBlur(p=0.01, blur_limit=(3, 7)), MedianBlur(p=0.01, blur_limit=(3, 7)), ToGray(p=0.01), CLAHE(p=0.01, clip_limit=(1, 4.0), tile_grid_size=(8, 8))\n"
          ]
        },
        {
          "output_type": "stream",
          "name": "stderr",
          "text": [
            "/usr/lib/python3.10/multiprocessing/popen_fork.py:66: RuntimeWarning: os.fork() was called. os.fork() is incompatible with multithreaded code, and JAX is multithreaded, so this will likely lead to a deadlock.\n",
            "  self.pid = os.fork()\n"
          ]
        },
        {
          "output_type": "stream",
          "name": "stdout",
          "text": [
            "\n",
            "      Epoch    GPU_mem   box_loss   cls_loss   dfl_loss  Instances       Size\n"
          ]
        },
        {
          "output_type": "stream",
          "name": "stderr",
          "text": [
            "     91/100      4.26G      0.273     0.2209     0.8619          9        640: 100%|██████████| 65/65 [00:28<00:00,  2.28it/s]\n",
            "                 Class     Images  Instances      Box(P          R      mAP50  mAP50-95): 100%|██████████| 4/4 [00:01<00:00,  2.70it/s]"
          ]
        },
        {
          "output_type": "stream",
          "name": "stdout",
          "text": [
            "                   all        122        819      0.949      0.886      0.895      0.843\n"
          ]
        },
        {
          "output_type": "stream",
          "name": "stderr",
          "text": [
            "\n"
          ]
        },
        {
          "output_type": "stream",
          "name": "stdout",
          "text": [
            "\n",
            "      Epoch    GPU_mem   box_loss   cls_loss   dfl_loss  Instances       Size\n"
          ]
        },
        {
          "output_type": "stream",
          "name": "stderr",
          "text": [
            "     92/100      4.22G     0.2706      0.216     0.8622          8        640: 100%|██████████| 65/65 [00:22<00:00,  2.91it/s]\n",
            "                 Class     Images  Instances      Box(P          R      mAP50  mAP50-95): 100%|██████████| 4/4 [00:01<00:00,  2.69it/s]"
          ]
        },
        {
          "output_type": "stream",
          "name": "stdout",
          "text": [
            "                   all        122        819      0.945      0.887      0.898      0.845\n"
          ]
        },
        {
          "output_type": "stream",
          "name": "stderr",
          "text": [
            "\n"
          ]
        },
        {
          "output_type": "stream",
          "name": "stdout",
          "text": [
            "\n",
            "      Epoch    GPU_mem   box_loss   cls_loss   dfl_loss  Instances       Size\n"
          ]
        },
        {
          "output_type": "stream",
          "name": "stderr",
          "text": [
            "     93/100      4.27G     0.2642     0.2085     0.8554         14        640: 100%|██████████| 65/65 [00:24<00:00,  2.70it/s]\n",
            "                 Class     Images  Instances      Box(P          R      mAP50  mAP50-95): 100%|██████████| 4/4 [00:02<00:00,  1.39it/s]"
          ]
        },
        {
          "output_type": "stream",
          "name": "stdout",
          "text": [
            "                   all        122        819      0.903      0.883      0.898      0.846\n"
          ]
        },
        {
          "output_type": "stream",
          "name": "stderr",
          "text": [
            "\n"
          ]
        },
        {
          "output_type": "stream",
          "name": "stdout",
          "text": [
            "\n",
            "      Epoch    GPU_mem   box_loss   cls_loss   dfl_loss  Instances       Size\n"
          ]
        },
        {
          "output_type": "stream",
          "name": "stderr",
          "text": [
            "     94/100      4.26G     0.2655     0.2096     0.8559         16        640: 100%|██████████| 65/65 [00:24<00:00,  2.61it/s]\n",
            "                 Class     Images  Instances      Box(P          R      mAP50  mAP50-95): 100%|██████████| 4/4 [00:01<00:00,  2.62it/s]"
          ]
        },
        {
          "output_type": "stream",
          "name": "stdout",
          "text": [
            "                   all        122        819      0.895      0.885      0.898      0.842\n"
          ]
        },
        {
          "output_type": "stream",
          "name": "stderr",
          "text": [
            "\n"
          ]
        },
        {
          "output_type": "stream",
          "name": "stdout",
          "text": [
            "\n",
            "      Epoch    GPU_mem   box_loss   cls_loss   dfl_loss  Instances       Size\n"
          ]
        },
        {
          "output_type": "stream",
          "name": "stderr",
          "text": [
            "     95/100      4.26G     0.2574     0.2066     0.8499         12        640: 100%|██████████| 65/65 [00:21<00:00,  2.99it/s]\n",
            "                 Class     Images  Instances      Box(P          R      mAP50  mAP50-95): 100%|██████████| 4/4 [00:01<00:00,  2.51it/s]"
          ]
        },
        {
          "output_type": "stream",
          "name": "stdout",
          "text": [
            "                   all        122        819      0.945      0.893      0.902      0.845\n"
          ]
        },
        {
          "output_type": "stream",
          "name": "stderr",
          "text": [
            "\n"
          ]
        },
        {
          "output_type": "stream",
          "name": "stdout",
          "text": [
            "\n",
            "      Epoch    GPU_mem   box_loss   cls_loss   dfl_loss  Instances       Size\n"
          ]
        },
        {
          "output_type": "stream",
          "name": "stderr",
          "text": [
            "     96/100      4.23G     0.2595     0.2022     0.8506         15        640: 100%|██████████| 65/65 [00:24<00:00,  2.60it/s]\n",
            "                 Class     Images  Instances      Box(P          R      mAP50  mAP50-95): 100%|██████████| 4/4 [00:01<00:00,  2.17it/s]"
          ]
        },
        {
          "output_type": "stream",
          "name": "stdout",
          "text": [
            "                   all        122        819      0.901       0.89      0.898      0.846\n"
          ]
        },
        {
          "output_type": "stream",
          "name": "stderr",
          "text": [
            "\n"
          ]
        },
        {
          "output_type": "stream",
          "name": "stdout",
          "text": [
            "\n",
            "      Epoch    GPU_mem   box_loss   cls_loss   dfl_loss  Instances       Size\n"
          ]
        },
        {
          "output_type": "stream",
          "name": "stderr",
          "text": [
            "     97/100      4.27G     0.2527     0.2014     0.8478         11        640: 100%|██████████| 65/65 [00:25<00:00,  2.57it/s]\n",
            "                 Class     Images  Instances      Box(P          R      mAP50  mAP50-95): 100%|██████████| 4/4 [00:01<00:00,  2.37it/s]"
          ]
        },
        {
          "output_type": "stream",
          "name": "stdout",
          "text": [
            "                   all        122        819      0.902      0.892      0.897      0.848\n"
          ]
        },
        {
          "output_type": "stream",
          "name": "stderr",
          "text": [
            "\n"
          ]
        },
        {
          "output_type": "stream",
          "name": "stdout",
          "text": [
            "\n",
            "      Epoch    GPU_mem   box_loss   cls_loss   dfl_loss  Instances       Size\n"
          ]
        },
        {
          "output_type": "stream",
          "name": "stderr",
          "text": [
            "     98/100      4.27G     0.2559     0.2045     0.8521         17        640: 100%|██████████| 65/65 [00:24<00:00,  2.67it/s]\n",
            "                 Class     Images  Instances      Box(P          R      mAP50  mAP50-95): 100%|██████████| 4/4 [00:01<00:00,  2.54it/s]"
          ]
        },
        {
          "output_type": "stream",
          "name": "stdout",
          "text": [
            "                   all        122        819      0.903      0.891      0.899      0.849\n"
          ]
        },
        {
          "output_type": "stream",
          "name": "stderr",
          "text": [
            "\n"
          ]
        },
        {
          "output_type": "stream",
          "name": "stdout",
          "text": [
            "\n",
            "      Epoch    GPU_mem   box_loss   cls_loss   dfl_loss  Instances       Size\n"
          ]
        },
        {
          "output_type": "stream",
          "name": "stderr",
          "text": [
            "     99/100      4.26G     0.2531     0.2017     0.8474         13        640: 100%|██████████| 65/65 [00:22<00:00,  2.92it/s]\n",
            "                 Class     Images  Instances      Box(P          R      mAP50  mAP50-95): 100%|██████████| 4/4 [00:01<00:00,  2.50it/s]"
          ]
        },
        {
          "output_type": "stream",
          "name": "stdout",
          "text": [
            "                   all        122        819      0.894      0.892      0.899      0.851\n"
          ]
        },
        {
          "output_type": "stream",
          "name": "stderr",
          "text": [
            "\n"
          ]
        },
        {
          "output_type": "stream",
          "name": "stdout",
          "text": [
            "\n",
            "      Epoch    GPU_mem   box_loss   cls_loss   dfl_loss  Instances       Size\n"
          ]
        },
        {
          "output_type": "stream",
          "name": "stderr",
          "text": [
            "    100/100      4.22G     0.2501     0.1958      0.849         14        640: 100%|██████████| 65/65 [00:23<00:00,  2.78it/s]\n",
            "                 Class     Images  Instances      Box(P          R      mAP50  mAP50-95): 100%|██████████| 4/4 [00:02<00:00,  1.43it/s]"
          ]
        },
        {
          "output_type": "stream",
          "name": "stdout",
          "text": [
            "                   all        122        819      0.895      0.893      0.899      0.852\n"
          ]
        },
        {
          "output_type": "stream",
          "name": "stderr",
          "text": [
            "\n"
          ]
        },
        {
          "output_type": "stream",
          "name": "stdout",
          "text": [
            "\n",
            "100 epochs completed in 0.791 hours.\n",
            "Optimizer stripped from runs/detect/train2/weights/last.pt, 22.5MB\n",
            "Optimizer stripped from runs/detect/train2/weights/best.pt, 22.5MB\n",
            "\n",
            "Validating runs/detect/train2/weights/best.pt...\n",
            "Ultralytics YOLOv8.2.58 🚀 Python-3.10.12 torch-2.3.0+cu121 CUDA:0 (Tesla T4, 15102MiB)\n",
            "Model summary (fused): 168 layers, 11,134,098 parameters, 0 gradients, 28.5 GFLOPs\n"
          ]
        },
        {
          "output_type": "stream",
          "name": "stderr",
          "text": [
            "                 Class     Images  Instances      Box(P          R      mAP50  mAP50-95): 100%|██████████| 4/4 [00:07<00:00,  1.88s/it]\n"
          ]
        },
        {
          "output_type": "stream",
          "name": "stdout",
          "text": [
            "                   all        122        819      0.896      0.893      0.899      0.851\n",
            "          Apple-Pencil         29         30      0.916        0.9      0.901      0.841\n",
            "                   Bag         61         75      0.995          1      0.995       0.98\n",
            "            Calculator         59         72      0.959      0.971      0.972       0.97\n",
            "        Charging-cable         45         51      0.975          1      0.995      0.937\n",
            "             Earphones         54         58      0.968      0.897      0.954      0.882\n",
            "               Glasses         21         21      0.922      0.952       0.95       0.92\n",
            "              Keyboard         19         20      0.946      0.881      0.876      0.754\n",
            "                  Keys         26         26      0.992      0.962      0.994      0.897\n",
            "                Laptop          4          4      0.794          1      0.945      0.945\n",
            "         Lecture-notes         42         45      0.976      0.913      0.976      0.914\n",
            "               Markers         45         54      0.929      0.966      0.989      0.946\n",
            "          Mobile phone         37         40       0.99          1      0.995      0.985\n",
            "                 Mouse         21         22      0.986      0.955       0.96      0.876\n",
            "                    PC          9          9      0.666      0.667       0.62      0.517\n",
            "                   Pen         60         88      0.919       0.92      0.948      0.839\n",
            "                Screen         14         14      0.909      0.857      0.867      0.803\n",
            "        StudentID_card         32         32      0.969      0.968       0.97      0.956\n",
            "                Wallet         41         42      0.949      0.976      0.956      0.945\n",
            "                 Watch         41         42       0.99      0.929      0.974      0.933\n",
            "          Water bottle         29         32      0.986          1      0.995      0.987\n",
            "              iPad-Air         39         41      0.965      0.927       0.94      0.907\n",
            "              iPad-Pro          1          1          0          0          0          0\n",
            "Speed: 0.6ms preprocess, 6.0ms inference, 0.0ms loss, 5.3ms postprocess per image\n",
            "Results saved to \u001b[1mruns/detect/train2\u001b[0m\n"
          ]
        },
        {
          "output_type": "execute_result",
          "data": {
            "text/plain": [
              "ultralytics.utils.metrics.DetMetrics object with attributes:\n",
              "\n",
              "ap_class_index: array([ 0,  1,  2,  3,  4,  5,  6,  7,  8,  9, 10, 11, 12, 13, 14, 15, 16, 17, 18, 19, 20, 21])\n",
              "box: ultralytics.utils.metrics.Metric object\n",
              "confusion_matrix: <ultralytics.utils.metrics.ConfusionMatrix object at 0x790bd7b24b50>\n",
              "curves: ['Precision-Recall(B)', 'F1-Confidence(B)', 'Precision-Confidence(B)', 'Recall-Confidence(B)']\n",
              "curves_results: [[array([          0,    0.001001,    0.002002,    0.003003,    0.004004,    0.005005,    0.006006,    0.007007,    0.008008,    0.009009,     0.01001,    0.011011,    0.012012,    0.013013,    0.014014,    0.015015,    0.016016,    0.017017,    0.018018,    0.019019,     0.02002,    0.021021,    0.022022,    0.023023,\n",
              "          0.024024,    0.025025,    0.026026,    0.027027,    0.028028,    0.029029,     0.03003,    0.031031,    0.032032,    0.033033,    0.034034,    0.035035,    0.036036,    0.037037,    0.038038,    0.039039,     0.04004,    0.041041,    0.042042,    0.043043,    0.044044,    0.045045,    0.046046,    0.047047,\n",
              "          0.048048,    0.049049,     0.05005,    0.051051,    0.052052,    0.053053,    0.054054,    0.055055,    0.056056,    0.057057,    0.058058,    0.059059,     0.06006,    0.061061,    0.062062,    0.063063,    0.064064,    0.065065,    0.066066,    0.067067,    0.068068,    0.069069,     0.07007,    0.071071,\n",
              "          0.072072,    0.073073,    0.074074,    0.075075,    0.076076,    0.077077,    0.078078,    0.079079,     0.08008,    0.081081,    0.082082,    0.083083,    0.084084,    0.085085,    0.086086,    0.087087,    0.088088,    0.089089,     0.09009,    0.091091,    0.092092,    0.093093,    0.094094,    0.095095,\n",
              "          0.096096,    0.097097,    0.098098,    0.099099,      0.1001,      0.1011,      0.1021,      0.1031,      0.1041,     0.10511,     0.10611,     0.10711,     0.10811,     0.10911,     0.11011,     0.11111,     0.11211,     0.11311,     0.11411,     0.11512,     0.11612,     0.11712,     0.11812,     0.11912,\n",
              "           0.12012,     0.12112,     0.12212,     0.12312,     0.12412,     0.12513,     0.12613,     0.12713,     0.12813,     0.12913,     0.13013,     0.13113,     0.13213,     0.13313,     0.13413,     0.13514,     0.13614,     0.13714,     0.13814,     0.13914,     0.14014,     0.14114,     0.14214,     0.14314,\n",
              "           0.14414,     0.14515,     0.14615,     0.14715,     0.14815,     0.14915,     0.15015,     0.15115,     0.15215,     0.15315,     0.15415,     0.15516,     0.15616,     0.15716,     0.15816,     0.15916,     0.16016,     0.16116,     0.16216,     0.16316,     0.16416,     0.16517,     0.16617,     0.16717,\n",
              "           0.16817,     0.16917,     0.17017,     0.17117,     0.17217,     0.17317,     0.17417,     0.17518,     0.17618,     0.17718,     0.17818,     0.17918,     0.18018,     0.18118,     0.18218,     0.18318,     0.18418,     0.18519,     0.18619,     0.18719,     0.18819,     0.18919,     0.19019,     0.19119,\n",
              "           0.19219,     0.19319,     0.19419,      0.1952,      0.1962,      0.1972,      0.1982,      0.1992,      0.2002,      0.2012,      0.2022,      0.2032,      0.2042,     0.20521,     0.20621,     0.20721,     0.20821,     0.20921,     0.21021,     0.21121,     0.21221,     0.21321,     0.21421,     0.21522,\n",
              "           0.21622,     0.21722,     0.21822,     0.21922,     0.22022,     0.22122,     0.22222,     0.22322,     0.22422,     0.22523,     0.22623,     0.22723,     0.22823,     0.22923,     0.23023,     0.23123,     0.23223,     0.23323,     0.23423,     0.23524,     0.23624,     0.23724,     0.23824,     0.23924,\n",
              "           0.24024,     0.24124,     0.24224,     0.24324,     0.24424,     0.24525,     0.24625,     0.24725,     0.24825,     0.24925,     0.25025,     0.25125,     0.25225,     0.25325,     0.25425,     0.25526,     0.25626,     0.25726,     0.25826,     0.25926,     0.26026,     0.26126,     0.26226,     0.26326,\n",
              "           0.26426,     0.26527,     0.26627,     0.26727,     0.26827,     0.26927,     0.27027,     0.27127,     0.27227,     0.27327,     0.27427,     0.27528,     0.27628,     0.27728,     0.27828,     0.27928,     0.28028,     0.28128,     0.28228,     0.28328,     0.28428,     0.28529,     0.28629,     0.28729,\n",
              "           0.28829,     0.28929,     0.29029,     0.29129,     0.29229,     0.29329,     0.29429,      0.2953,      0.2963,      0.2973,      0.2983,      0.2993,      0.3003,      0.3013,      0.3023,      0.3033,      0.3043,     0.30531,     0.30631,     0.30731,     0.30831,     0.30931,     0.31031,     0.31131,\n",
              "           0.31231,     0.31331,     0.31431,     0.31532,     0.31632,     0.31732,     0.31832,     0.31932,     0.32032,     0.32132,     0.32232,     0.32332,     0.32432,     0.32533,     0.32633,     0.32733,     0.32833,     0.32933,     0.33033,     0.33133,     0.33233,     0.33333,     0.33433,     0.33534,\n",
              "           0.33634,     0.33734,     0.33834,     0.33934,     0.34034,     0.34134,     0.34234,     0.34334,     0.34434,     0.34535,     0.34635,     0.34735,     0.34835,     0.34935,     0.35035,     0.35135,     0.35235,     0.35335,     0.35435,     0.35536,     0.35636,     0.35736,     0.35836,     0.35936,\n",
              "           0.36036,     0.36136,     0.36236,     0.36336,     0.36436,     0.36537,     0.36637,     0.36737,     0.36837,     0.36937,     0.37037,     0.37137,     0.37237,     0.37337,     0.37437,     0.37538,     0.37638,     0.37738,     0.37838,     0.37938,     0.38038,     0.38138,     0.38238,     0.38338,\n",
              "           0.38438,     0.38539,     0.38639,     0.38739,     0.38839,     0.38939,     0.39039,     0.39139,     0.39239,     0.39339,     0.39439,      0.3954,      0.3964,      0.3974,      0.3984,      0.3994,      0.4004,      0.4014,      0.4024,      0.4034,      0.4044,     0.40541,     0.40641,     0.40741,\n",
              "           0.40841,     0.40941,     0.41041,     0.41141,     0.41241,     0.41341,     0.41441,     0.41542,     0.41642,     0.41742,     0.41842,     0.41942,     0.42042,     0.42142,     0.42242,     0.42342,     0.42442,     0.42543,     0.42643,     0.42743,     0.42843,     0.42943,     0.43043,     0.43143,\n",
              "           0.43243,     0.43343,     0.43443,     0.43544,     0.43644,     0.43744,     0.43844,     0.43944,     0.44044,     0.44144,     0.44244,     0.44344,     0.44444,     0.44545,     0.44645,     0.44745,     0.44845,     0.44945,     0.45045,     0.45145,     0.45245,     0.45345,     0.45445,     0.45546,\n",
              "           0.45646,     0.45746,     0.45846,     0.45946,     0.46046,     0.46146,     0.46246,     0.46346,     0.46446,     0.46547,     0.46647,     0.46747,     0.46847,     0.46947,     0.47047,     0.47147,     0.47247,     0.47347,     0.47447,     0.47548,     0.47648,     0.47748,     0.47848,     0.47948,\n",
              "           0.48048,     0.48148,     0.48248,     0.48348,     0.48448,     0.48549,     0.48649,     0.48749,     0.48849,     0.48949,     0.49049,     0.49149,     0.49249,     0.49349,     0.49449,      0.4955,      0.4965,      0.4975,      0.4985,      0.4995,      0.5005,      0.5015,      0.5025,      0.5035,\n",
              "            0.5045,     0.50551,     0.50651,     0.50751,     0.50851,     0.50951,     0.51051,     0.51151,     0.51251,     0.51351,     0.51451,     0.51552,     0.51652,     0.51752,     0.51852,     0.51952,     0.52052,     0.52152,     0.52252,     0.52352,     0.52452,     0.52553,     0.52653,     0.52753,\n",
              "           0.52853,     0.52953,     0.53053,     0.53153,     0.53253,     0.53353,     0.53453,     0.53554,     0.53654,     0.53754,     0.53854,     0.53954,     0.54054,     0.54154,     0.54254,     0.54354,     0.54454,     0.54555,     0.54655,     0.54755,     0.54855,     0.54955,     0.55055,     0.55155,\n",
              "           0.55255,     0.55355,     0.55455,     0.55556,     0.55656,     0.55756,     0.55856,     0.55956,     0.56056,     0.56156,     0.56256,     0.56356,     0.56456,     0.56557,     0.56657,     0.56757,     0.56857,     0.56957,     0.57057,     0.57157,     0.57257,     0.57357,     0.57457,     0.57558,\n",
              "           0.57658,     0.57758,     0.57858,     0.57958,     0.58058,     0.58158,     0.58258,     0.58358,     0.58458,     0.58559,     0.58659,     0.58759,     0.58859,     0.58959,     0.59059,     0.59159,     0.59259,     0.59359,     0.59459,      0.5956,      0.5966,      0.5976,      0.5986,      0.5996,\n",
              "            0.6006,      0.6016,      0.6026,      0.6036,      0.6046,     0.60561,     0.60661,     0.60761,     0.60861,     0.60961,     0.61061,     0.61161,     0.61261,     0.61361,     0.61461,     0.61562,     0.61662,     0.61762,     0.61862,     0.61962,     0.62062,     0.62162,     0.62262,     0.62362,\n",
              "           0.62462,     0.62563,     0.62663,     0.62763,     0.62863,     0.62963,     0.63063,     0.63163,     0.63263,     0.63363,     0.63463,     0.63564,     0.63664,     0.63764,     0.63864,     0.63964,     0.64064,     0.64164,     0.64264,     0.64364,     0.64464,     0.64565,     0.64665,     0.64765,\n",
              "           0.64865,     0.64965,     0.65065,     0.65165,     0.65265,     0.65365,     0.65465,     0.65566,     0.65666,     0.65766,     0.65866,     0.65966,     0.66066,     0.66166,     0.66266,     0.66366,     0.66466,     0.66567,     0.66667,     0.66767,     0.66867,     0.66967,     0.67067,     0.67167,\n",
              "           0.67267,     0.67367,     0.67467,     0.67568,     0.67668,     0.67768,     0.67868,     0.67968,     0.68068,     0.68168,     0.68268,     0.68368,     0.68468,     0.68569,     0.68669,     0.68769,     0.68869,     0.68969,     0.69069,     0.69169,     0.69269,     0.69369,     0.69469,      0.6957,\n",
              "            0.6967,      0.6977,      0.6987,      0.6997,      0.7007,      0.7017,      0.7027,      0.7037,      0.7047,     0.70571,     0.70671,     0.70771,     0.70871,     0.70971,     0.71071,     0.71171,     0.71271,     0.71371,     0.71471,     0.71572,     0.71672,     0.71772,     0.71872,     0.71972,\n",
              "           0.72072,     0.72172,     0.72272,     0.72372,     0.72472,     0.72573,     0.72673,     0.72773,     0.72873,     0.72973,     0.73073,     0.73173,     0.73273,     0.73373,     0.73473,     0.73574,     0.73674,     0.73774,     0.73874,     0.73974,     0.74074,     0.74174,     0.74274,     0.74374,\n",
              "           0.74474,     0.74575,     0.74675,     0.74775,     0.74875,     0.74975,     0.75075,     0.75175,     0.75275,     0.75375,     0.75475,     0.75576,     0.75676,     0.75776,     0.75876,     0.75976,     0.76076,     0.76176,     0.76276,     0.76376,     0.76476,     0.76577,     0.76677,     0.76777,\n",
              "           0.76877,     0.76977,     0.77077,     0.77177,     0.77277,     0.77377,     0.77477,     0.77578,     0.77678,     0.77778,     0.77878,     0.77978,     0.78078,     0.78178,     0.78278,     0.78378,     0.78478,     0.78579,     0.78679,     0.78779,     0.78879,     0.78979,     0.79079,     0.79179,\n",
              "           0.79279,     0.79379,     0.79479,      0.7958,      0.7968,      0.7978,      0.7988,      0.7998,      0.8008,      0.8018,      0.8028,      0.8038,      0.8048,     0.80581,     0.80681,     0.80781,     0.80881,     0.80981,     0.81081,     0.81181,     0.81281,     0.81381,     0.81481,     0.81582,\n",
              "           0.81682,     0.81782,     0.81882,     0.81982,     0.82082,     0.82182,     0.82282,     0.82382,     0.82482,     0.82583,     0.82683,     0.82783,     0.82883,     0.82983,     0.83083,     0.83183,     0.83283,     0.83383,     0.83483,     0.83584,     0.83684,     0.83784,     0.83884,     0.83984,\n",
              "           0.84084,     0.84184,     0.84284,     0.84384,     0.84484,     0.84585,     0.84685,     0.84785,     0.84885,     0.84985,     0.85085,     0.85185,     0.85285,     0.85385,     0.85485,     0.85586,     0.85686,     0.85786,     0.85886,     0.85986,     0.86086,     0.86186,     0.86286,     0.86386,\n",
              "           0.86486,     0.86587,     0.86687,     0.86787,     0.86887,     0.86987,     0.87087,     0.87187,     0.87287,     0.87387,     0.87487,     0.87588,     0.87688,     0.87788,     0.87888,     0.87988,     0.88088,     0.88188,     0.88288,     0.88388,     0.88488,     0.88589,     0.88689,     0.88789,\n",
              "           0.88889,     0.88989,     0.89089,     0.89189,     0.89289,     0.89389,     0.89489,      0.8959,      0.8969,      0.8979,      0.8989,      0.8999,      0.9009,      0.9019,      0.9029,      0.9039,      0.9049,     0.90591,     0.90691,     0.90791,     0.90891,     0.90991,     0.91091,     0.91191,\n",
              "           0.91291,     0.91391,     0.91491,     0.91592,     0.91692,     0.91792,     0.91892,     0.91992,     0.92092,     0.92192,     0.92292,     0.92392,     0.92492,     0.92593,     0.92693,     0.92793,     0.92893,     0.92993,     0.93093,     0.93193,     0.93293,     0.93393,     0.93493,     0.93594,\n",
              "           0.93694,     0.93794,     0.93894,     0.93994,     0.94094,     0.94194,     0.94294,     0.94394,     0.94494,     0.94595,     0.94695,     0.94795,     0.94895,     0.94995,     0.95095,     0.95195,     0.95295,     0.95395,     0.95495,     0.95596,     0.95696,     0.95796,     0.95896,     0.95996,\n",
              "           0.96096,     0.96196,     0.96296,     0.96396,     0.96496,     0.96597,     0.96697,     0.96797,     0.96897,     0.96997,     0.97097,     0.97197,     0.97297,     0.97397,     0.97497,     0.97598,     0.97698,     0.97798,     0.97898,     0.97998,     0.98098,     0.98198,     0.98298,     0.98398,\n",
              "           0.98498,     0.98599,     0.98699,     0.98799,     0.98899,     0.98999,     0.99099,     0.99199,     0.99299,     0.99399,     0.99499,       0.996,       0.997,       0.998,       0.999,           1]), array([[          1,           1,           1, ...,   0.0093427,   0.0046713,           0],\n",
              "       [          1,           1,           1, ...,           1,           1,           0],\n",
              "       [          1,           1,           1, ...,    0.093038,    0.046519,           0],\n",
              "       ...,\n",
              "       [          1,           1,           1, ...,    0.042561,    0.021281,           0],\n",
              "       [          1,           1,           1, ...,           1,           1,           0],\n",
              "       [          1,           1,           1, ...,    0.015848,   0.0079238,           0]]), 'Recall', 'Precision'], [array([          0,    0.001001,    0.002002,    0.003003,    0.004004,    0.005005,    0.006006,    0.007007,    0.008008,    0.009009,     0.01001,    0.011011,    0.012012,    0.013013,    0.014014,    0.015015,    0.016016,    0.017017,    0.018018,    0.019019,     0.02002,    0.021021,    0.022022,    0.023023,\n",
              "          0.024024,    0.025025,    0.026026,    0.027027,    0.028028,    0.029029,     0.03003,    0.031031,    0.032032,    0.033033,    0.034034,    0.035035,    0.036036,    0.037037,    0.038038,    0.039039,     0.04004,    0.041041,    0.042042,    0.043043,    0.044044,    0.045045,    0.046046,    0.047047,\n",
              "          0.048048,    0.049049,     0.05005,    0.051051,    0.052052,    0.053053,    0.054054,    0.055055,    0.056056,    0.057057,    0.058058,    0.059059,     0.06006,    0.061061,    0.062062,    0.063063,    0.064064,    0.065065,    0.066066,    0.067067,    0.068068,    0.069069,     0.07007,    0.071071,\n",
              "          0.072072,    0.073073,    0.074074,    0.075075,    0.076076,    0.077077,    0.078078,    0.079079,     0.08008,    0.081081,    0.082082,    0.083083,    0.084084,    0.085085,    0.086086,    0.087087,    0.088088,    0.089089,     0.09009,    0.091091,    0.092092,    0.093093,    0.094094,    0.095095,\n",
              "          0.096096,    0.097097,    0.098098,    0.099099,      0.1001,      0.1011,      0.1021,      0.1031,      0.1041,     0.10511,     0.10611,     0.10711,     0.10811,     0.10911,     0.11011,     0.11111,     0.11211,     0.11311,     0.11411,     0.11512,     0.11612,     0.11712,     0.11812,     0.11912,\n",
              "           0.12012,     0.12112,     0.12212,     0.12312,     0.12412,     0.12513,     0.12613,     0.12713,     0.12813,     0.12913,     0.13013,     0.13113,     0.13213,     0.13313,     0.13413,     0.13514,     0.13614,     0.13714,     0.13814,     0.13914,     0.14014,     0.14114,     0.14214,     0.14314,\n",
              "           0.14414,     0.14515,     0.14615,     0.14715,     0.14815,     0.14915,     0.15015,     0.15115,     0.15215,     0.15315,     0.15415,     0.15516,     0.15616,     0.15716,     0.15816,     0.15916,     0.16016,     0.16116,     0.16216,     0.16316,     0.16416,     0.16517,     0.16617,     0.16717,\n",
              "           0.16817,     0.16917,     0.17017,     0.17117,     0.17217,     0.17317,     0.17417,     0.17518,     0.17618,     0.17718,     0.17818,     0.17918,     0.18018,     0.18118,     0.18218,     0.18318,     0.18418,     0.18519,     0.18619,     0.18719,     0.18819,     0.18919,     0.19019,     0.19119,\n",
              "           0.19219,     0.19319,     0.19419,      0.1952,      0.1962,      0.1972,      0.1982,      0.1992,      0.2002,      0.2012,      0.2022,      0.2032,      0.2042,     0.20521,     0.20621,     0.20721,     0.20821,     0.20921,     0.21021,     0.21121,     0.21221,     0.21321,     0.21421,     0.21522,\n",
              "           0.21622,     0.21722,     0.21822,     0.21922,     0.22022,     0.22122,     0.22222,     0.22322,     0.22422,     0.22523,     0.22623,     0.22723,     0.22823,     0.22923,     0.23023,     0.23123,     0.23223,     0.23323,     0.23423,     0.23524,     0.23624,     0.23724,     0.23824,     0.23924,\n",
              "           0.24024,     0.24124,     0.24224,     0.24324,     0.24424,     0.24525,     0.24625,     0.24725,     0.24825,     0.24925,     0.25025,     0.25125,     0.25225,     0.25325,     0.25425,     0.25526,     0.25626,     0.25726,     0.25826,     0.25926,     0.26026,     0.26126,     0.26226,     0.26326,\n",
              "           0.26426,     0.26527,     0.26627,     0.26727,     0.26827,     0.26927,     0.27027,     0.27127,     0.27227,     0.27327,     0.27427,     0.27528,     0.27628,     0.27728,     0.27828,     0.27928,     0.28028,     0.28128,     0.28228,     0.28328,     0.28428,     0.28529,     0.28629,     0.28729,\n",
              "           0.28829,     0.28929,     0.29029,     0.29129,     0.29229,     0.29329,     0.29429,      0.2953,      0.2963,      0.2973,      0.2983,      0.2993,      0.3003,      0.3013,      0.3023,      0.3033,      0.3043,     0.30531,     0.30631,     0.30731,     0.30831,     0.30931,     0.31031,     0.31131,\n",
              "           0.31231,     0.31331,     0.31431,     0.31532,     0.31632,     0.31732,     0.31832,     0.31932,     0.32032,     0.32132,     0.32232,     0.32332,     0.32432,     0.32533,     0.32633,     0.32733,     0.32833,     0.32933,     0.33033,     0.33133,     0.33233,     0.33333,     0.33433,     0.33534,\n",
              "           0.33634,     0.33734,     0.33834,     0.33934,     0.34034,     0.34134,     0.34234,     0.34334,     0.34434,     0.34535,     0.34635,     0.34735,     0.34835,     0.34935,     0.35035,     0.35135,     0.35235,     0.35335,     0.35435,     0.35536,     0.35636,     0.35736,     0.35836,     0.35936,\n",
              "           0.36036,     0.36136,     0.36236,     0.36336,     0.36436,     0.36537,     0.36637,     0.36737,     0.36837,     0.36937,     0.37037,     0.37137,     0.37237,     0.37337,     0.37437,     0.37538,     0.37638,     0.37738,     0.37838,     0.37938,     0.38038,     0.38138,     0.38238,     0.38338,\n",
              "           0.38438,     0.38539,     0.38639,     0.38739,     0.38839,     0.38939,     0.39039,     0.39139,     0.39239,     0.39339,     0.39439,      0.3954,      0.3964,      0.3974,      0.3984,      0.3994,      0.4004,      0.4014,      0.4024,      0.4034,      0.4044,     0.40541,     0.40641,     0.40741,\n",
              "           0.40841,     0.40941,     0.41041,     0.41141,     0.41241,     0.41341,     0.41441,     0.41542,     0.41642,     0.41742,     0.41842,     0.41942,     0.42042,     0.42142,     0.42242,     0.42342,     0.42442,     0.42543,     0.42643,     0.42743,     0.42843,     0.42943,     0.43043,     0.43143,\n",
              "           0.43243,     0.43343,     0.43443,     0.43544,     0.43644,     0.43744,     0.43844,     0.43944,     0.44044,     0.44144,     0.44244,     0.44344,     0.44444,     0.44545,     0.44645,     0.44745,     0.44845,     0.44945,     0.45045,     0.45145,     0.45245,     0.45345,     0.45445,     0.45546,\n",
              "           0.45646,     0.45746,     0.45846,     0.45946,     0.46046,     0.46146,     0.46246,     0.46346,     0.46446,     0.46547,     0.46647,     0.46747,     0.46847,     0.46947,     0.47047,     0.47147,     0.47247,     0.47347,     0.47447,     0.47548,     0.47648,     0.47748,     0.47848,     0.47948,\n",
              "           0.48048,     0.48148,     0.48248,     0.48348,     0.48448,     0.48549,     0.48649,     0.48749,     0.48849,     0.48949,     0.49049,     0.49149,     0.49249,     0.49349,     0.49449,      0.4955,      0.4965,      0.4975,      0.4985,      0.4995,      0.5005,      0.5015,      0.5025,      0.5035,\n",
              "            0.5045,     0.50551,     0.50651,     0.50751,     0.50851,     0.50951,     0.51051,     0.51151,     0.51251,     0.51351,     0.51451,     0.51552,     0.51652,     0.51752,     0.51852,     0.51952,     0.52052,     0.52152,     0.52252,     0.52352,     0.52452,     0.52553,     0.52653,     0.52753,\n",
              "           0.52853,     0.52953,     0.53053,     0.53153,     0.53253,     0.53353,     0.53453,     0.53554,     0.53654,     0.53754,     0.53854,     0.53954,     0.54054,     0.54154,     0.54254,     0.54354,     0.54454,     0.54555,     0.54655,     0.54755,     0.54855,     0.54955,     0.55055,     0.55155,\n",
              "           0.55255,     0.55355,     0.55455,     0.55556,     0.55656,     0.55756,     0.55856,     0.55956,     0.56056,     0.56156,     0.56256,     0.56356,     0.56456,     0.56557,     0.56657,     0.56757,     0.56857,     0.56957,     0.57057,     0.57157,     0.57257,     0.57357,     0.57457,     0.57558,\n",
              "           0.57658,     0.57758,     0.57858,     0.57958,     0.58058,     0.58158,     0.58258,     0.58358,     0.58458,     0.58559,     0.58659,     0.58759,     0.58859,     0.58959,     0.59059,     0.59159,     0.59259,     0.59359,     0.59459,      0.5956,      0.5966,      0.5976,      0.5986,      0.5996,\n",
              "            0.6006,      0.6016,      0.6026,      0.6036,      0.6046,     0.60561,     0.60661,     0.60761,     0.60861,     0.60961,     0.61061,     0.61161,     0.61261,     0.61361,     0.61461,     0.61562,     0.61662,     0.61762,     0.61862,     0.61962,     0.62062,     0.62162,     0.62262,     0.62362,\n",
              "           0.62462,     0.62563,     0.62663,     0.62763,     0.62863,     0.62963,     0.63063,     0.63163,     0.63263,     0.63363,     0.63463,     0.63564,     0.63664,     0.63764,     0.63864,     0.63964,     0.64064,     0.64164,     0.64264,     0.64364,     0.64464,     0.64565,     0.64665,     0.64765,\n",
              "           0.64865,     0.64965,     0.65065,     0.65165,     0.65265,     0.65365,     0.65465,     0.65566,     0.65666,     0.65766,     0.65866,     0.65966,     0.66066,     0.66166,     0.66266,     0.66366,     0.66466,     0.66567,     0.66667,     0.66767,     0.66867,     0.66967,     0.67067,     0.67167,\n",
              "           0.67267,     0.67367,     0.67467,     0.67568,     0.67668,     0.67768,     0.67868,     0.67968,     0.68068,     0.68168,     0.68268,     0.68368,     0.68468,     0.68569,     0.68669,     0.68769,     0.68869,     0.68969,     0.69069,     0.69169,     0.69269,     0.69369,     0.69469,      0.6957,\n",
              "            0.6967,      0.6977,      0.6987,      0.6997,      0.7007,      0.7017,      0.7027,      0.7037,      0.7047,     0.70571,     0.70671,     0.70771,     0.70871,     0.70971,     0.71071,     0.71171,     0.71271,     0.71371,     0.71471,     0.71572,     0.71672,     0.71772,     0.71872,     0.71972,\n",
              "           0.72072,     0.72172,     0.72272,     0.72372,     0.72472,     0.72573,     0.72673,     0.72773,     0.72873,     0.72973,     0.73073,     0.73173,     0.73273,     0.73373,     0.73473,     0.73574,     0.73674,     0.73774,     0.73874,     0.73974,     0.74074,     0.74174,     0.74274,     0.74374,\n",
              "           0.74474,     0.74575,     0.74675,     0.74775,     0.74875,     0.74975,     0.75075,     0.75175,     0.75275,     0.75375,     0.75475,     0.75576,     0.75676,     0.75776,     0.75876,     0.75976,     0.76076,     0.76176,     0.76276,     0.76376,     0.76476,     0.76577,     0.76677,     0.76777,\n",
              "           0.76877,     0.76977,     0.77077,     0.77177,     0.77277,     0.77377,     0.77477,     0.77578,     0.77678,     0.77778,     0.77878,     0.77978,     0.78078,     0.78178,     0.78278,     0.78378,     0.78478,     0.78579,     0.78679,     0.78779,     0.78879,     0.78979,     0.79079,     0.79179,\n",
              "           0.79279,     0.79379,     0.79479,      0.7958,      0.7968,      0.7978,      0.7988,      0.7998,      0.8008,      0.8018,      0.8028,      0.8038,      0.8048,     0.80581,     0.80681,     0.80781,     0.80881,     0.80981,     0.81081,     0.81181,     0.81281,     0.81381,     0.81481,     0.81582,\n",
              "           0.81682,     0.81782,     0.81882,     0.81982,     0.82082,     0.82182,     0.82282,     0.82382,     0.82482,     0.82583,     0.82683,     0.82783,     0.82883,     0.82983,     0.83083,     0.83183,     0.83283,     0.83383,     0.83483,     0.83584,     0.83684,     0.83784,     0.83884,     0.83984,\n",
              "           0.84084,     0.84184,     0.84284,     0.84384,     0.84484,     0.84585,     0.84685,     0.84785,     0.84885,     0.84985,     0.85085,     0.85185,     0.85285,     0.85385,     0.85485,     0.85586,     0.85686,     0.85786,     0.85886,     0.85986,     0.86086,     0.86186,     0.86286,     0.86386,\n",
              "           0.86486,     0.86587,     0.86687,     0.86787,     0.86887,     0.86987,     0.87087,     0.87187,     0.87287,     0.87387,     0.87487,     0.87588,     0.87688,     0.87788,     0.87888,     0.87988,     0.88088,     0.88188,     0.88288,     0.88388,     0.88488,     0.88589,     0.88689,     0.88789,\n",
              "           0.88889,     0.88989,     0.89089,     0.89189,     0.89289,     0.89389,     0.89489,      0.8959,      0.8969,      0.8979,      0.8989,      0.8999,      0.9009,      0.9019,      0.9029,      0.9039,      0.9049,     0.90591,     0.90691,     0.90791,     0.90891,     0.90991,     0.91091,     0.91191,\n",
              "           0.91291,     0.91391,     0.91491,     0.91592,     0.91692,     0.91792,     0.91892,     0.91992,     0.92092,     0.92192,     0.92292,     0.92392,     0.92492,     0.92593,     0.92693,     0.92793,     0.92893,     0.92993,     0.93093,     0.93193,     0.93293,     0.93393,     0.93493,     0.93594,\n",
              "           0.93694,     0.93794,     0.93894,     0.93994,     0.94094,     0.94194,     0.94294,     0.94394,     0.94494,     0.94595,     0.94695,     0.94795,     0.94895,     0.94995,     0.95095,     0.95195,     0.95295,     0.95395,     0.95495,     0.95596,     0.95696,     0.95796,     0.95896,     0.95996,\n",
              "           0.96096,     0.96196,     0.96296,     0.96396,     0.96496,     0.96597,     0.96697,     0.96797,     0.96897,     0.96997,     0.97097,     0.97197,     0.97297,     0.97397,     0.97497,     0.97598,     0.97698,     0.97798,     0.97898,     0.97998,     0.98098,     0.98198,     0.98298,     0.98398,\n",
              "           0.98498,     0.98599,     0.98699,     0.98799,     0.98899,     0.98999,     0.99099,     0.99199,     0.99299,     0.99399,     0.99499,       0.996,       0.997,       0.998,       0.999,           1]), array([[    0.46667,     0.46667,     0.61061, ...,           0,           0,           0],\n",
              "       [      0.625,       0.625,     0.79782, ...,           0,           0,           0],\n",
              "       [    0.78022,     0.78022,      0.8769, ...,           0,           0,           0],\n",
              "       ...,\n",
              "       [    0.63366,     0.63366,     0.79373, ...,           0,           0,           0],\n",
              "       [     0.5493,      0.5493,     0.70785, ...,           0,           0,           0],\n",
              "       [          0,           0,           0, ...,           0,           0,           0]]), 'Confidence', 'F1'], [array([          0,    0.001001,    0.002002,    0.003003,    0.004004,    0.005005,    0.006006,    0.007007,    0.008008,    0.009009,     0.01001,    0.011011,    0.012012,    0.013013,    0.014014,    0.015015,    0.016016,    0.017017,    0.018018,    0.019019,     0.02002,    0.021021,    0.022022,    0.023023,\n",
              "          0.024024,    0.025025,    0.026026,    0.027027,    0.028028,    0.029029,     0.03003,    0.031031,    0.032032,    0.033033,    0.034034,    0.035035,    0.036036,    0.037037,    0.038038,    0.039039,     0.04004,    0.041041,    0.042042,    0.043043,    0.044044,    0.045045,    0.046046,    0.047047,\n",
              "          0.048048,    0.049049,     0.05005,    0.051051,    0.052052,    0.053053,    0.054054,    0.055055,    0.056056,    0.057057,    0.058058,    0.059059,     0.06006,    0.061061,    0.062062,    0.063063,    0.064064,    0.065065,    0.066066,    0.067067,    0.068068,    0.069069,     0.07007,    0.071071,\n",
              "          0.072072,    0.073073,    0.074074,    0.075075,    0.076076,    0.077077,    0.078078,    0.079079,     0.08008,    0.081081,    0.082082,    0.083083,    0.084084,    0.085085,    0.086086,    0.087087,    0.088088,    0.089089,     0.09009,    0.091091,    0.092092,    0.093093,    0.094094,    0.095095,\n",
              "          0.096096,    0.097097,    0.098098,    0.099099,      0.1001,      0.1011,      0.1021,      0.1031,      0.1041,     0.10511,     0.10611,     0.10711,     0.10811,     0.10911,     0.11011,     0.11111,     0.11211,     0.11311,     0.11411,     0.11512,     0.11612,     0.11712,     0.11812,     0.11912,\n",
              "           0.12012,     0.12112,     0.12212,     0.12312,     0.12412,     0.12513,     0.12613,     0.12713,     0.12813,     0.12913,     0.13013,     0.13113,     0.13213,     0.13313,     0.13413,     0.13514,     0.13614,     0.13714,     0.13814,     0.13914,     0.14014,     0.14114,     0.14214,     0.14314,\n",
              "           0.14414,     0.14515,     0.14615,     0.14715,     0.14815,     0.14915,     0.15015,     0.15115,     0.15215,     0.15315,     0.15415,     0.15516,     0.15616,     0.15716,     0.15816,     0.15916,     0.16016,     0.16116,     0.16216,     0.16316,     0.16416,     0.16517,     0.16617,     0.16717,\n",
              "           0.16817,     0.16917,     0.17017,     0.17117,     0.17217,     0.17317,     0.17417,     0.17518,     0.17618,     0.17718,     0.17818,     0.17918,     0.18018,     0.18118,     0.18218,     0.18318,     0.18418,     0.18519,     0.18619,     0.18719,     0.18819,     0.18919,     0.19019,     0.19119,\n",
              "           0.19219,     0.19319,     0.19419,      0.1952,      0.1962,      0.1972,      0.1982,      0.1992,      0.2002,      0.2012,      0.2022,      0.2032,      0.2042,     0.20521,     0.20621,     0.20721,     0.20821,     0.20921,     0.21021,     0.21121,     0.21221,     0.21321,     0.21421,     0.21522,\n",
              "           0.21622,     0.21722,     0.21822,     0.21922,     0.22022,     0.22122,     0.22222,     0.22322,     0.22422,     0.22523,     0.22623,     0.22723,     0.22823,     0.22923,     0.23023,     0.23123,     0.23223,     0.23323,     0.23423,     0.23524,     0.23624,     0.23724,     0.23824,     0.23924,\n",
              "           0.24024,     0.24124,     0.24224,     0.24324,     0.24424,     0.24525,     0.24625,     0.24725,     0.24825,     0.24925,     0.25025,     0.25125,     0.25225,     0.25325,     0.25425,     0.25526,     0.25626,     0.25726,     0.25826,     0.25926,     0.26026,     0.26126,     0.26226,     0.26326,\n",
              "           0.26426,     0.26527,     0.26627,     0.26727,     0.26827,     0.26927,     0.27027,     0.27127,     0.27227,     0.27327,     0.27427,     0.27528,     0.27628,     0.27728,     0.27828,     0.27928,     0.28028,     0.28128,     0.28228,     0.28328,     0.28428,     0.28529,     0.28629,     0.28729,\n",
              "           0.28829,     0.28929,     0.29029,     0.29129,     0.29229,     0.29329,     0.29429,      0.2953,      0.2963,      0.2973,      0.2983,      0.2993,      0.3003,      0.3013,      0.3023,      0.3033,      0.3043,     0.30531,     0.30631,     0.30731,     0.30831,     0.30931,     0.31031,     0.31131,\n",
              "           0.31231,     0.31331,     0.31431,     0.31532,     0.31632,     0.31732,     0.31832,     0.31932,     0.32032,     0.32132,     0.32232,     0.32332,     0.32432,     0.32533,     0.32633,     0.32733,     0.32833,     0.32933,     0.33033,     0.33133,     0.33233,     0.33333,     0.33433,     0.33534,\n",
              "           0.33634,     0.33734,     0.33834,     0.33934,     0.34034,     0.34134,     0.34234,     0.34334,     0.34434,     0.34535,     0.34635,     0.34735,     0.34835,     0.34935,     0.35035,     0.35135,     0.35235,     0.35335,     0.35435,     0.35536,     0.35636,     0.35736,     0.35836,     0.35936,\n",
              "           0.36036,     0.36136,     0.36236,     0.36336,     0.36436,     0.36537,     0.36637,     0.36737,     0.36837,     0.36937,     0.37037,     0.37137,     0.37237,     0.37337,     0.37437,     0.37538,     0.37638,     0.37738,     0.37838,     0.37938,     0.38038,     0.38138,     0.38238,     0.38338,\n",
              "           0.38438,     0.38539,     0.38639,     0.38739,     0.38839,     0.38939,     0.39039,     0.39139,     0.39239,     0.39339,     0.39439,      0.3954,      0.3964,      0.3974,      0.3984,      0.3994,      0.4004,      0.4014,      0.4024,      0.4034,      0.4044,     0.40541,     0.40641,     0.40741,\n",
              "           0.40841,     0.40941,     0.41041,     0.41141,     0.41241,     0.41341,     0.41441,     0.41542,     0.41642,     0.41742,     0.41842,     0.41942,     0.42042,     0.42142,     0.42242,     0.42342,     0.42442,     0.42543,     0.42643,     0.42743,     0.42843,     0.42943,     0.43043,     0.43143,\n",
              "           0.43243,     0.43343,     0.43443,     0.43544,     0.43644,     0.43744,     0.43844,     0.43944,     0.44044,     0.44144,     0.44244,     0.44344,     0.44444,     0.44545,     0.44645,     0.44745,     0.44845,     0.44945,     0.45045,     0.45145,     0.45245,     0.45345,     0.45445,     0.45546,\n",
              "           0.45646,     0.45746,     0.45846,     0.45946,     0.46046,     0.46146,     0.46246,     0.46346,     0.46446,     0.46547,     0.46647,     0.46747,     0.46847,     0.46947,     0.47047,     0.47147,     0.47247,     0.47347,     0.47447,     0.47548,     0.47648,     0.47748,     0.47848,     0.47948,\n",
              "           0.48048,     0.48148,     0.48248,     0.48348,     0.48448,     0.48549,     0.48649,     0.48749,     0.48849,     0.48949,     0.49049,     0.49149,     0.49249,     0.49349,     0.49449,      0.4955,      0.4965,      0.4975,      0.4985,      0.4995,      0.5005,      0.5015,      0.5025,      0.5035,\n",
              "            0.5045,     0.50551,     0.50651,     0.50751,     0.50851,     0.50951,     0.51051,     0.51151,     0.51251,     0.51351,     0.51451,     0.51552,     0.51652,     0.51752,     0.51852,     0.51952,     0.52052,     0.52152,     0.52252,     0.52352,     0.52452,     0.52553,     0.52653,     0.52753,\n",
              "           0.52853,     0.52953,     0.53053,     0.53153,     0.53253,     0.53353,     0.53453,     0.53554,     0.53654,     0.53754,     0.53854,     0.53954,     0.54054,     0.54154,     0.54254,     0.54354,     0.54454,     0.54555,     0.54655,     0.54755,     0.54855,     0.54955,     0.55055,     0.55155,\n",
              "           0.55255,     0.55355,     0.55455,     0.55556,     0.55656,     0.55756,     0.55856,     0.55956,     0.56056,     0.56156,     0.56256,     0.56356,     0.56456,     0.56557,     0.56657,     0.56757,     0.56857,     0.56957,     0.57057,     0.57157,     0.57257,     0.57357,     0.57457,     0.57558,\n",
              "           0.57658,     0.57758,     0.57858,     0.57958,     0.58058,     0.58158,     0.58258,     0.58358,     0.58458,     0.58559,     0.58659,     0.58759,     0.58859,     0.58959,     0.59059,     0.59159,     0.59259,     0.59359,     0.59459,      0.5956,      0.5966,      0.5976,      0.5986,      0.5996,\n",
              "            0.6006,      0.6016,      0.6026,      0.6036,      0.6046,     0.60561,     0.60661,     0.60761,     0.60861,     0.60961,     0.61061,     0.61161,     0.61261,     0.61361,     0.61461,     0.61562,     0.61662,     0.61762,     0.61862,     0.61962,     0.62062,     0.62162,     0.62262,     0.62362,\n",
              "           0.62462,     0.62563,     0.62663,     0.62763,     0.62863,     0.62963,     0.63063,     0.63163,     0.63263,     0.63363,     0.63463,     0.63564,     0.63664,     0.63764,     0.63864,     0.63964,     0.64064,     0.64164,     0.64264,     0.64364,     0.64464,     0.64565,     0.64665,     0.64765,\n",
              "           0.64865,     0.64965,     0.65065,     0.65165,     0.65265,     0.65365,     0.65465,     0.65566,     0.65666,     0.65766,     0.65866,     0.65966,     0.66066,     0.66166,     0.66266,     0.66366,     0.66466,     0.66567,     0.66667,     0.66767,     0.66867,     0.66967,     0.67067,     0.67167,\n",
              "           0.67267,     0.67367,     0.67467,     0.67568,     0.67668,     0.67768,     0.67868,     0.67968,     0.68068,     0.68168,     0.68268,     0.68368,     0.68468,     0.68569,     0.68669,     0.68769,     0.68869,     0.68969,     0.69069,     0.69169,     0.69269,     0.69369,     0.69469,      0.6957,\n",
              "            0.6967,      0.6977,      0.6987,      0.6997,      0.7007,      0.7017,      0.7027,      0.7037,      0.7047,     0.70571,     0.70671,     0.70771,     0.70871,     0.70971,     0.71071,     0.71171,     0.71271,     0.71371,     0.71471,     0.71572,     0.71672,     0.71772,     0.71872,     0.71972,\n",
              "           0.72072,     0.72172,     0.72272,     0.72372,     0.72472,     0.72573,     0.72673,     0.72773,     0.72873,     0.72973,     0.73073,     0.73173,     0.73273,     0.73373,     0.73473,     0.73574,     0.73674,     0.73774,     0.73874,     0.73974,     0.74074,     0.74174,     0.74274,     0.74374,\n",
              "           0.74474,     0.74575,     0.74675,     0.74775,     0.74875,     0.74975,     0.75075,     0.75175,     0.75275,     0.75375,     0.75475,     0.75576,     0.75676,     0.75776,     0.75876,     0.75976,     0.76076,     0.76176,     0.76276,     0.76376,     0.76476,     0.76577,     0.76677,     0.76777,\n",
              "           0.76877,     0.76977,     0.77077,     0.77177,     0.77277,     0.77377,     0.77477,     0.77578,     0.77678,     0.77778,     0.77878,     0.77978,     0.78078,     0.78178,     0.78278,     0.78378,     0.78478,     0.78579,     0.78679,     0.78779,     0.78879,     0.78979,     0.79079,     0.79179,\n",
              "           0.79279,     0.79379,     0.79479,      0.7958,      0.7968,      0.7978,      0.7988,      0.7998,      0.8008,      0.8018,      0.8028,      0.8038,      0.8048,     0.80581,     0.80681,     0.80781,     0.80881,     0.80981,     0.81081,     0.81181,     0.81281,     0.81381,     0.81481,     0.81582,\n",
              "           0.81682,     0.81782,     0.81882,     0.81982,     0.82082,     0.82182,     0.82282,     0.82382,     0.82482,     0.82583,     0.82683,     0.82783,     0.82883,     0.82983,     0.83083,     0.83183,     0.83283,     0.83383,     0.83483,     0.83584,     0.83684,     0.83784,     0.83884,     0.83984,\n",
              "           0.84084,     0.84184,     0.84284,     0.84384,     0.84484,     0.84585,     0.84685,     0.84785,     0.84885,     0.84985,     0.85085,     0.85185,     0.85285,     0.85385,     0.85485,     0.85586,     0.85686,     0.85786,     0.85886,     0.85986,     0.86086,     0.86186,     0.86286,     0.86386,\n",
              "           0.86486,     0.86587,     0.86687,     0.86787,     0.86887,     0.86987,     0.87087,     0.87187,     0.87287,     0.87387,     0.87487,     0.87588,     0.87688,     0.87788,     0.87888,     0.87988,     0.88088,     0.88188,     0.88288,     0.88388,     0.88488,     0.88589,     0.88689,     0.88789,\n",
              "           0.88889,     0.88989,     0.89089,     0.89189,     0.89289,     0.89389,     0.89489,      0.8959,      0.8969,      0.8979,      0.8989,      0.8999,      0.9009,      0.9019,      0.9029,      0.9039,      0.9049,     0.90591,     0.90691,     0.90791,     0.90891,     0.90991,     0.91091,     0.91191,\n",
              "           0.91291,     0.91391,     0.91491,     0.91592,     0.91692,     0.91792,     0.91892,     0.91992,     0.92092,     0.92192,     0.92292,     0.92392,     0.92492,     0.92593,     0.92693,     0.92793,     0.92893,     0.92993,     0.93093,     0.93193,     0.93293,     0.93393,     0.93493,     0.93594,\n",
              "           0.93694,     0.93794,     0.93894,     0.93994,     0.94094,     0.94194,     0.94294,     0.94394,     0.94494,     0.94595,     0.94695,     0.94795,     0.94895,     0.94995,     0.95095,     0.95195,     0.95295,     0.95395,     0.95495,     0.95596,     0.95696,     0.95796,     0.95896,     0.95996,\n",
              "           0.96096,     0.96196,     0.96296,     0.96396,     0.96496,     0.96597,     0.96697,     0.96797,     0.96897,     0.96997,     0.97097,     0.97197,     0.97297,     0.97397,     0.97497,     0.97598,     0.97698,     0.97798,     0.97898,     0.97998,     0.98098,     0.98198,     0.98298,     0.98398,\n",
              "           0.98498,     0.98599,     0.98699,     0.98799,     0.98899,     0.98999,     0.99099,     0.99199,     0.99299,     0.99399,     0.99499,       0.996,       0.997,       0.998,       0.999,           1]), array([[    0.31111,     0.31111,     0.45372, ...,           1,           1,           1],\n",
              "       [    0.45455,     0.45455,     0.66365, ...,           1,           1,           1],\n",
              "       [    0.64545,     0.64545,     0.78947, ...,           1,           1,           1],\n",
              "       ...,\n",
              "       [    0.46377,     0.46377,       0.658, ...,           1,           1,           1],\n",
              "       [    0.38614,     0.38614,     0.56364, ...,           1,           1,           1],\n",
              "       [          0,           0,           0, ...,           0,           0,           0]]), 'Confidence', 'Precision'], [array([          0,    0.001001,    0.002002,    0.003003,    0.004004,    0.005005,    0.006006,    0.007007,    0.008008,    0.009009,     0.01001,    0.011011,    0.012012,    0.013013,    0.014014,    0.015015,    0.016016,    0.017017,    0.018018,    0.019019,     0.02002,    0.021021,    0.022022,    0.023023,\n",
              "          0.024024,    0.025025,    0.026026,    0.027027,    0.028028,    0.029029,     0.03003,    0.031031,    0.032032,    0.033033,    0.034034,    0.035035,    0.036036,    0.037037,    0.038038,    0.039039,     0.04004,    0.041041,    0.042042,    0.043043,    0.044044,    0.045045,    0.046046,    0.047047,\n",
              "          0.048048,    0.049049,     0.05005,    0.051051,    0.052052,    0.053053,    0.054054,    0.055055,    0.056056,    0.057057,    0.058058,    0.059059,     0.06006,    0.061061,    0.062062,    0.063063,    0.064064,    0.065065,    0.066066,    0.067067,    0.068068,    0.069069,     0.07007,    0.071071,\n",
              "          0.072072,    0.073073,    0.074074,    0.075075,    0.076076,    0.077077,    0.078078,    0.079079,     0.08008,    0.081081,    0.082082,    0.083083,    0.084084,    0.085085,    0.086086,    0.087087,    0.088088,    0.089089,     0.09009,    0.091091,    0.092092,    0.093093,    0.094094,    0.095095,\n",
              "          0.096096,    0.097097,    0.098098,    0.099099,      0.1001,      0.1011,      0.1021,      0.1031,      0.1041,     0.10511,     0.10611,     0.10711,     0.10811,     0.10911,     0.11011,     0.11111,     0.11211,     0.11311,     0.11411,     0.11512,     0.11612,     0.11712,     0.11812,     0.11912,\n",
              "           0.12012,     0.12112,     0.12212,     0.12312,     0.12412,     0.12513,     0.12613,     0.12713,     0.12813,     0.12913,     0.13013,     0.13113,     0.13213,     0.13313,     0.13413,     0.13514,     0.13614,     0.13714,     0.13814,     0.13914,     0.14014,     0.14114,     0.14214,     0.14314,\n",
              "           0.14414,     0.14515,     0.14615,     0.14715,     0.14815,     0.14915,     0.15015,     0.15115,     0.15215,     0.15315,     0.15415,     0.15516,     0.15616,     0.15716,     0.15816,     0.15916,     0.16016,     0.16116,     0.16216,     0.16316,     0.16416,     0.16517,     0.16617,     0.16717,\n",
              "           0.16817,     0.16917,     0.17017,     0.17117,     0.17217,     0.17317,     0.17417,     0.17518,     0.17618,     0.17718,     0.17818,     0.17918,     0.18018,     0.18118,     0.18218,     0.18318,     0.18418,     0.18519,     0.18619,     0.18719,     0.18819,     0.18919,     0.19019,     0.19119,\n",
              "           0.19219,     0.19319,     0.19419,      0.1952,      0.1962,      0.1972,      0.1982,      0.1992,      0.2002,      0.2012,      0.2022,      0.2032,      0.2042,     0.20521,     0.20621,     0.20721,     0.20821,     0.20921,     0.21021,     0.21121,     0.21221,     0.21321,     0.21421,     0.21522,\n",
              "           0.21622,     0.21722,     0.21822,     0.21922,     0.22022,     0.22122,     0.22222,     0.22322,     0.22422,     0.22523,     0.22623,     0.22723,     0.22823,     0.22923,     0.23023,     0.23123,     0.23223,     0.23323,     0.23423,     0.23524,     0.23624,     0.23724,     0.23824,     0.23924,\n",
              "           0.24024,     0.24124,     0.24224,     0.24324,     0.24424,     0.24525,     0.24625,     0.24725,     0.24825,     0.24925,     0.25025,     0.25125,     0.25225,     0.25325,     0.25425,     0.25526,     0.25626,     0.25726,     0.25826,     0.25926,     0.26026,     0.26126,     0.26226,     0.26326,\n",
              "           0.26426,     0.26527,     0.26627,     0.26727,     0.26827,     0.26927,     0.27027,     0.27127,     0.27227,     0.27327,     0.27427,     0.27528,     0.27628,     0.27728,     0.27828,     0.27928,     0.28028,     0.28128,     0.28228,     0.28328,     0.28428,     0.28529,     0.28629,     0.28729,\n",
              "           0.28829,     0.28929,     0.29029,     0.29129,     0.29229,     0.29329,     0.29429,      0.2953,      0.2963,      0.2973,      0.2983,      0.2993,      0.3003,      0.3013,      0.3023,      0.3033,      0.3043,     0.30531,     0.30631,     0.30731,     0.30831,     0.30931,     0.31031,     0.31131,\n",
              "           0.31231,     0.31331,     0.31431,     0.31532,     0.31632,     0.31732,     0.31832,     0.31932,     0.32032,     0.32132,     0.32232,     0.32332,     0.32432,     0.32533,     0.32633,     0.32733,     0.32833,     0.32933,     0.33033,     0.33133,     0.33233,     0.33333,     0.33433,     0.33534,\n",
              "           0.33634,     0.33734,     0.33834,     0.33934,     0.34034,     0.34134,     0.34234,     0.34334,     0.34434,     0.34535,     0.34635,     0.34735,     0.34835,     0.34935,     0.35035,     0.35135,     0.35235,     0.35335,     0.35435,     0.35536,     0.35636,     0.35736,     0.35836,     0.35936,\n",
              "           0.36036,     0.36136,     0.36236,     0.36336,     0.36436,     0.36537,     0.36637,     0.36737,     0.36837,     0.36937,     0.37037,     0.37137,     0.37237,     0.37337,     0.37437,     0.37538,     0.37638,     0.37738,     0.37838,     0.37938,     0.38038,     0.38138,     0.38238,     0.38338,\n",
              "           0.38438,     0.38539,     0.38639,     0.38739,     0.38839,     0.38939,     0.39039,     0.39139,     0.39239,     0.39339,     0.39439,      0.3954,      0.3964,      0.3974,      0.3984,      0.3994,      0.4004,      0.4014,      0.4024,      0.4034,      0.4044,     0.40541,     0.40641,     0.40741,\n",
              "           0.40841,     0.40941,     0.41041,     0.41141,     0.41241,     0.41341,     0.41441,     0.41542,     0.41642,     0.41742,     0.41842,     0.41942,     0.42042,     0.42142,     0.42242,     0.42342,     0.42442,     0.42543,     0.42643,     0.42743,     0.42843,     0.42943,     0.43043,     0.43143,\n",
              "           0.43243,     0.43343,     0.43443,     0.43544,     0.43644,     0.43744,     0.43844,     0.43944,     0.44044,     0.44144,     0.44244,     0.44344,     0.44444,     0.44545,     0.44645,     0.44745,     0.44845,     0.44945,     0.45045,     0.45145,     0.45245,     0.45345,     0.45445,     0.45546,\n",
              "           0.45646,     0.45746,     0.45846,     0.45946,     0.46046,     0.46146,     0.46246,     0.46346,     0.46446,     0.46547,     0.46647,     0.46747,     0.46847,     0.46947,     0.47047,     0.47147,     0.47247,     0.47347,     0.47447,     0.47548,     0.47648,     0.47748,     0.47848,     0.47948,\n",
              "           0.48048,     0.48148,     0.48248,     0.48348,     0.48448,     0.48549,     0.48649,     0.48749,     0.48849,     0.48949,     0.49049,     0.49149,     0.49249,     0.49349,     0.49449,      0.4955,      0.4965,      0.4975,      0.4985,      0.4995,      0.5005,      0.5015,      0.5025,      0.5035,\n",
              "            0.5045,     0.50551,     0.50651,     0.50751,     0.50851,     0.50951,     0.51051,     0.51151,     0.51251,     0.51351,     0.51451,     0.51552,     0.51652,     0.51752,     0.51852,     0.51952,     0.52052,     0.52152,     0.52252,     0.52352,     0.52452,     0.52553,     0.52653,     0.52753,\n",
              "           0.52853,     0.52953,     0.53053,     0.53153,     0.53253,     0.53353,     0.53453,     0.53554,     0.53654,     0.53754,     0.53854,     0.53954,     0.54054,     0.54154,     0.54254,     0.54354,     0.54454,     0.54555,     0.54655,     0.54755,     0.54855,     0.54955,     0.55055,     0.55155,\n",
              "           0.55255,     0.55355,     0.55455,     0.55556,     0.55656,     0.55756,     0.55856,     0.55956,     0.56056,     0.56156,     0.56256,     0.56356,     0.56456,     0.56557,     0.56657,     0.56757,     0.56857,     0.56957,     0.57057,     0.57157,     0.57257,     0.57357,     0.57457,     0.57558,\n",
              "           0.57658,     0.57758,     0.57858,     0.57958,     0.58058,     0.58158,     0.58258,     0.58358,     0.58458,     0.58559,     0.58659,     0.58759,     0.58859,     0.58959,     0.59059,     0.59159,     0.59259,     0.59359,     0.59459,      0.5956,      0.5966,      0.5976,      0.5986,      0.5996,\n",
              "            0.6006,      0.6016,      0.6026,      0.6036,      0.6046,     0.60561,     0.60661,     0.60761,     0.60861,     0.60961,     0.61061,     0.61161,     0.61261,     0.61361,     0.61461,     0.61562,     0.61662,     0.61762,     0.61862,     0.61962,     0.62062,     0.62162,     0.62262,     0.62362,\n",
              "           0.62462,     0.62563,     0.62663,     0.62763,     0.62863,     0.62963,     0.63063,     0.63163,     0.63263,     0.63363,     0.63463,     0.63564,     0.63664,     0.63764,     0.63864,     0.63964,     0.64064,     0.64164,     0.64264,     0.64364,     0.64464,     0.64565,     0.64665,     0.64765,\n",
              "           0.64865,     0.64965,     0.65065,     0.65165,     0.65265,     0.65365,     0.65465,     0.65566,     0.65666,     0.65766,     0.65866,     0.65966,     0.66066,     0.66166,     0.66266,     0.66366,     0.66466,     0.66567,     0.66667,     0.66767,     0.66867,     0.66967,     0.67067,     0.67167,\n",
              "           0.67267,     0.67367,     0.67467,     0.67568,     0.67668,     0.67768,     0.67868,     0.67968,     0.68068,     0.68168,     0.68268,     0.68368,     0.68468,     0.68569,     0.68669,     0.68769,     0.68869,     0.68969,     0.69069,     0.69169,     0.69269,     0.69369,     0.69469,      0.6957,\n",
              "            0.6967,      0.6977,      0.6987,      0.6997,      0.7007,      0.7017,      0.7027,      0.7037,      0.7047,     0.70571,     0.70671,     0.70771,     0.70871,     0.70971,     0.71071,     0.71171,     0.71271,     0.71371,     0.71471,     0.71572,     0.71672,     0.71772,     0.71872,     0.71972,\n",
              "           0.72072,     0.72172,     0.72272,     0.72372,     0.72472,     0.72573,     0.72673,     0.72773,     0.72873,     0.72973,     0.73073,     0.73173,     0.73273,     0.73373,     0.73473,     0.73574,     0.73674,     0.73774,     0.73874,     0.73974,     0.74074,     0.74174,     0.74274,     0.74374,\n",
              "           0.74474,     0.74575,     0.74675,     0.74775,     0.74875,     0.74975,     0.75075,     0.75175,     0.75275,     0.75375,     0.75475,     0.75576,     0.75676,     0.75776,     0.75876,     0.75976,     0.76076,     0.76176,     0.76276,     0.76376,     0.76476,     0.76577,     0.76677,     0.76777,\n",
              "           0.76877,     0.76977,     0.77077,     0.77177,     0.77277,     0.77377,     0.77477,     0.77578,     0.77678,     0.77778,     0.77878,     0.77978,     0.78078,     0.78178,     0.78278,     0.78378,     0.78478,     0.78579,     0.78679,     0.78779,     0.78879,     0.78979,     0.79079,     0.79179,\n",
              "           0.79279,     0.79379,     0.79479,      0.7958,      0.7968,      0.7978,      0.7988,      0.7998,      0.8008,      0.8018,      0.8028,      0.8038,      0.8048,     0.80581,     0.80681,     0.80781,     0.80881,     0.80981,     0.81081,     0.81181,     0.81281,     0.81381,     0.81481,     0.81582,\n",
              "           0.81682,     0.81782,     0.81882,     0.81982,     0.82082,     0.82182,     0.82282,     0.82382,     0.82482,     0.82583,     0.82683,     0.82783,     0.82883,     0.82983,     0.83083,     0.83183,     0.83283,     0.83383,     0.83483,     0.83584,     0.83684,     0.83784,     0.83884,     0.83984,\n",
              "           0.84084,     0.84184,     0.84284,     0.84384,     0.84484,     0.84585,     0.84685,     0.84785,     0.84885,     0.84985,     0.85085,     0.85185,     0.85285,     0.85385,     0.85485,     0.85586,     0.85686,     0.85786,     0.85886,     0.85986,     0.86086,     0.86186,     0.86286,     0.86386,\n",
              "           0.86486,     0.86587,     0.86687,     0.86787,     0.86887,     0.86987,     0.87087,     0.87187,     0.87287,     0.87387,     0.87487,     0.87588,     0.87688,     0.87788,     0.87888,     0.87988,     0.88088,     0.88188,     0.88288,     0.88388,     0.88488,     0.88589,     0.88689,     0.88789,\n",
              "           0.88889,     0.88989,     0.89089,     0.89189,     0.89289,     0.89389,     0.89489,      0.8959,      0.8969,      0.8979,      0.8989,      0.8999,      0.9009,      0.9019,      0.9029,      0.9039,      0.9049,     0.90591,     0.90691,     0.90791,     0.90891,     0.90991,     0.91091,     0.91191,\n",
              "           0.91291,     0.91391,     0.91491,     0.91592,     0.91692,     0.91792,     0.91892,     0.91992,     0.92092,     0.92192,     0.92292,     0.92392,     0.92492,     0.92593,     0.92693,     0.92793,     0.92893,     0.92993,     0.93093,     0.93193,     0.93293,     0.93393,     0.93493,     0.93594,\n",
              "           0.93694,     0.93794,     0.93894,     0.93994,     0.94094,     0.94194,     0.94294,     0.94394,     0.94494,     0.94595,     0.94695,     0.94795,     0.94895,     0.94995,     0.95095,     0.95195,     0.95295,     0.95395,     0.95495,     0.95596,     0.95696,     0.95796,     0.95896,     0.95996,\n",
              "           0.96096,     0.96196,     0.96296,     0.96396,     0.96496,     0.96597,     0.96697,     0.96797,     0.96897,     0.96997,     0.97097,     0.97197,     0.97297,     0.97397,     0.97497,     0.97598,     0.97698,     0.97798,     0.97898,     0.97998,     0.98098,     0.98198,     0.98298,     0.98398,\n",
              "           0.98498,     0.98599,     0.98699,     0.98799,     0.98899,     0.98999,     0.99099,     0.99199,     0.99299,     0.99399,     0.99499,       0.996,       0.997,       0.998,       0.999,           1]), array([[    0.93333,     0.93333,     0.93333, ...,           0,           0,           0],\n",
              "       [          1,           1,           1, ...,           0,           0,           0],\n",
              "       [    0.98611,     0.98611,     0.98611, ...,           0,           0,           0],\n",
              "       ...,\n",
              "       [          1,           1,           1, ...,           0,           0,           0],\n",
              "       [    0.95122,     0.95122,     0.95122, ...,           0,           0,           0],\n",
              "       [          0,           0,           0, ...,           0,           0,           0]]), 'Confidence', 'Recall']]\n",
              "fitness: 0.8562147728501077\n",
              "keys: ['metrics/precision(B)', 'metrics/recall(B)', 'metrics/mAP50(B)', 'metrics/mAP50-95(B)']\n",
              "maps: array([    0.84073,     0.98035,     0.97012,     0.93679,      0.8821,     0.92007,     0.75377,     0.89745,       0.945,     0.91379,     0.94572,     0.98476,     0.87574,     0.51673,     0.83858,     0.80277,     0.95569,     0.94488,     0.93342,     0.98738,     0.90713,           0])\n",
              "names: {0: 'Apple-Pencil', 1: 'Bag', 2: 'Calculator', 3: 'Charging-cable', 4: 'Earphones', 5: 'Glasses', 6: 'Keyboard', 7: 'Keys', 8: 'Laptop', 9: 'Lecture-notes', 10: 'Markers', 11: 'Mobile phone', 12: 'Mouse', 13: 'PC', 14: 'Pen', 15: 'Screen', 16: 'StudentID_card', 17: 'Wallet', 18: 'Watch', 19: 'Water bottle', 20: 'iPad-Air', 21: 'iPad-Pro'}\n",
              "plot: True\n",
              "results_dict: {'metrics/precision(B)': 0.8955421458269857, 'metrics/recall(B)': 0.8926561038055959, 'metrics/mAP50(B)': 0.8986574578744194, 'metrics/mAP50-95(B)': 0.8514989189585175, 'fitness': 0.8562147728501077}\n",
              "save_dir: PosixPath('runs/detect/train2')\n",
              "speed: {'preprocess': 0.5537076074568952, 'inference': 6.031394004821777, 'loss': 0.000586275194512039, 'postprocess': 5.305665438292456}\n",
              "task: 'detect'"
            ]
          },
          "metadata": {},
          "execution_count": 8
        }
      ]
    },
    {
      "cell_type": "code",
      "source": [
        "# Save the trained model in TorchScript format\n",
        "model.export(format='torchscript')  # Export as a TorchScript model"
      ],
      "metadata": {
        "colab": {
          "base_uri": "https://localhost:8080/",
          "height": 261
        },
        "id": "zZE-tiTcso0k",
        "outputId": "27c1a4be-fd2e-4e85-e382-98f0b0e35561"
      },
      "execution_count": null,
      "outputs": [
        {
          "output_type": "stream",
          "name": "stdout",
          "text": [
            "Ultralytics YOLOv8.2.58 🚀 Python-3.10.12 torch-2.3.0+cu121 CPU (Intel Xeon 2.00GHz)\n",
            "Model summary (fused): 168 layers, 11,134,098 parameters, 0 gradients, 28.5 GFLOPs\n",
            "\n",
            "\u001b[34m\u001b[1mPyTorch:\u001b[0m starting from 'runs/detect/train2/weights/best.pt' with input shape (1, 3, 640, 640) BCHW and output shape(s) (1, 26, 8400) (21.5 MB)\n",
            "\n",
            "\u001b[34m\u001b[1mTorchScript:\u001b[0m starting export with torch 2.3.0+cu121...\n",
            "\u001b[34m\u001b[1mTorchScript:\u001b[0m export success ✅ 4.0s, saved as 'runs/detect/train2/weights/best.torchscript' (42.9 MB)\n",
            "\n",
            "Export complete (6.9s)\n",
            "Results saved to \u001b[1m/content/runs/detect/train2/weights\u001b[0m\n",
            "Predict:         yolo predict task=detect model=runs/detect/train2/weights/best.torchscript imgsz=640  \n",
            "Validate:        yolo val task=detect model=runs/detect/train2/weights/best.torchscript imgsz=640 data=/content/data.yaml  \n",
            "Visualize:       https://netron.app\n"
          ]
        },
        {
          "output_type": "execute_result",
          "data": {
            "text/plain": [
              "'runs/detect/train2/weights/best.torchscript'"
            ],
            "application/vnd.google.colaboratory.intrinsic+json": {
              "type": "string"
            }
          },
          "metadata": {},
          "execution_count": 9
        }
      ]
    },
    {
      "cell_type": "code",
      "source": [
        "results = model('/content/test/images/IMG_1506_JPG.rf.17a25fa07758d3cbee827d3155948554.jpg')\n",
        "results[0].plot()"
      ],
      "metadata": {
        "colab": {
          "base_uri": "https://localhost:8080/",
          "height": 753
        },
        "id": "yJUM048F4Nf7",
        "outputId": "86035185-de7e-4b77-8b1f-02d35eda345d"
      },
      "execution_count": null,
      "outputs": [
        {
          "output_type": "stream",
          "name": "stdout",
          "text": [
            "\n",
            "image 1/1 /content/test/images/IMG_1506_JPG.rf.17a25fa07758d3cbee827d3155948554.jpg: 640x640 1 Apple-Pencil, 1 Calculator, 1 StudentID_card, 1 Wallet, 1 Watch, 16.4ms\n",
            "Speed: 1.9ms preprocess, 16.4ms inference, 3.5ms postprocess per image at shape (1, 3, 640, 640)\n"
          ]
        },
        {
          "output_type": "execute_result",
          "data": {
            "text/plain": [
              "array([[[142, 176, 199],\n",
              "        [142, 176, 199],\n",
              "        [142, 176, 199],\n",
              "        ...,\n",
              "        [193, 222, 236],\n",
              "        [193, 222, 236],\n",
              "        [193, 222, 236]],\n",
              "\n",
              "       [[142, 176, 199],\n",
              "        [142, 176, 199],\n",
              "        [142, 176, 199],\n",
              "        ...,\n",
              "        [193, 222, 236],\n",
              "        [193, 222, 236],\n",
              "        [193, 222, 236]],\n",
              "\n",
              "       [[141, 175, 198],\n",
              "        [141, 175, 198],\n",
              "        [141, 175, 198],\n",
              "        ...,\n",
              "        [193, 222, 236],\n",
              "        [193, 222, 236],\n",
              "        [193, 222, 236]],\n",
              "\n",
              "       ...,\n",
              "\n",
              "       [[151, 176, 192],\n",
              "        [152, 177, 193],\n",
              "        [153, 178, 194],\n",
              "        ...,\n",
              "        [190, 221, 236],\n",
              "        [190, 221, 236],\n",
              "        [190, 221, 236]],\n",
              "\n",
              "       [[151, 176, 192],\n",
              "        [152, 177, 193],\n",
              "        [153, 178, 194],\n",
              "        ...,\n",
              "        [190, 221, 236],\n",
              "        [190, 221, 236],\n",
              "        [190, 221, 236]],\n",
              "\n",
              "       [[152, 177, 193],\n",
              "        [152, 177, 193],\n",
              "        [153, 178, 194],\n",
              "        ...,\n",
              "        [190, 221, 236],\n",
              "        [190, 221, 236],\n",
              "        [190, 221, 236]]], dtype=uint8)"
            ],
            "text/html": [
              "<style>\n",
              "      .ndarray_repr .ndarray_raw_data {\n",
              "        display: none;\n",
              "      }\n",
              "      .ndarray_repr.show_array .ndarray_raw_data {\n",
              "        display: block;\n",
              "      }\n",
              "      .ndarray_repr.show_array .ndarray_image_preview {\n",
              "        display: none;\n",
              "      }\n",
              "      </style>\n",
              "      <div id=\"id-62f00a4d-cd7a-4f6c-a2f8-a7a05ccea14b\" class=\"ndarray_repr\"><pre>ndarray (640, 640, 3) <button style=\"padding: 0 2px;\">show data</button></pre><img src=\"data:image/png;base64,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\" class=\"ndarray_image_preview\" /><pre class=\"ndarray_raw_data\">array([[[142, 176, 199],\n",
              "        [142, 176, 199],\n",
              "        [142, 176, 199],\n",
              "        ...,\n",
              "        [193, 222, 236],\n",
              "        [193, 222, 236],\n",
              "        [193, 222, 236]],\n",
              "\n",
              "       [[142, 176, 199],\n",
              "        [142, 176, 199],\n",
              "        [142, 176, 199],\n",
              "        ...,\n",
              "        [193, 222, 236],\n",
              "        [193, 222, 236],\n",
              "        [193, 222, 236]],\n",
              "\n",
              "       [[141, 175, 198],\n",
              "        [141, 175, 198],\n",
              "        [141, 175, 198],\n",
              "        ...,\n",
              "        [193, 222, 236],\n",
              "        [193, 222, 236],\n",
              "        [193, 222, 236]],\n",
              "\n",
              "       ...,\n",
              "\n",
              "       [[151, 176, 192],\n",
              "        [152, 177, 193],\n",
              "        [153, 178, 194],\n",
              "        ...,\n",
              "        [190, 221, 236],\n",
              "        [190, 221, 236],\n",
              "        [190, 221, 236]],\n",
              "\n",
              "       [[151, 176, 192],\n",
              "        [152, 177, 193],\n",
              "        [153, 178, 194],\n",
              "        ...,\n",
              "        [190, 221, 236],\n",
              "        [190, 221, 236],\n",
              "        [190, 221, 236]],\n",
              "\n",
              "       [[152, 177, 193],\n",
              "        [152, 177, 193],\n",
              "        [153, 178, 194],\n",
              "        ...,\n",
              "        [190, 221, 236],\n",
              "        [190, 221, 236],\n",
              "        [190, 221, 236]]], dtype=uint8)</pre></div><script>\n",
              "      (() => {\n",
              "      const titles = ['show data', 'hide data'];\n",
              "      let index = 0\n",
              "      document.querySelector('#id-62f00a4d-cd7a-4f6c-a2f8-a7a05ccea14b button').onclick = (e) => {\n",
              "        document.querySelector('#id-62f00a4d-cd7a-4f6c-a2f8-a7a05ccea14b').classList.toggle('show_array');\n",
              "        index = (++index) % 2;\n",
              "        document.querySelector('#id-62f00a4d-cd7a-4f6c-a2f8-a7a05ccea14b button').textContent = titles[index];\n",
              "        e.preventDefault();\n",
              "        e.stopPropagation();\n",
              "      }\n",
              "      })();\n",
              "    </script>"
            ]
          },
          "metadata": {},
          "execution_count": 10
        }
      ]
    },
    {
      "cell_type": "code",
      "source": [],
      "metadata": {
        "id": "-b9PNTYg4gNf"
      },
      "execution_count": null,
      "outputs": []
    }
  ]
}